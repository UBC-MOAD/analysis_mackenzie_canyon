{
 "cells": [
  {
   "cell_type": "code",
   "execution_count": 1,
   "metadata": {},
   "outputs": [
    {
     "name": "stderr",
     "output_type": "stream",
     "text": [
      "/home/imachuca/anaconda3/lib/python3.6/site-packages/cmocean/tools.py:76: MatplotlibDeprecationWarning: The is_string_like function was deprecated in version 2.1.\n",
      "  if not mpl.cbook.is_string_like(rgbin[0]):\n"
     ]
    }
   ],
   "source": [
    "import netCDF4 as nc\n",
    "from netCDF4 import Dataset\n",
    "import matplotlib.pyplot as plt\n",
    "import matplotlib.cm as cm\n",
    "import cmocean as cmo\n",
    "import os,sys,fnmatch,time\n",
    "import numpy as np\n",
    "from matplotlib import animation\n",
    "from salishsea_tools.nc_tools import scDataset\n",
    "from matplotlib import colors\n",
    "from matplotlib import ticker\n",
    "from matplotlib.colors import LinearSegmentedColormap\n",
    "from mpl_toolkits.axes_grid1.inset_locator import InsetPosition\n",
    "import matplotlib as mpl\n",
    "import numpy.ma as ma\n",
    "from scipy import interpolate\n",
    "import matplotlib.gridspec as gridspec\n",
    "#from matplotlib import gridspec\n",
    "import matplotlib.patches as patches\n",
    "import matplotlib.animation as animation\n",
    "import itertools\n",
    "\n",
    "%matplotlib inline\n",
    "\n",
    "import sys\n",
    "sys.path.append('/ocean/imachuca/Canyons/analysis_mackenzie_canyon/notebooks/upwelling_depth/')\n",
    "import upwelling_functions\n",
    "sys.path.append('/ocean/imachuca/Canyons/analysis_mackenzie_canyon/notebooks/general_circulation/')\n",
    "import general_functions\n",
    "import quicklook\n",
    "\n",
    "import warnings\n",
    "warnings.filterwarnings(\"ignore\")\n",
    "\n",
    "import time\n",
    "from datetime import datetime "
   ]
  },
  {
   "cell_type": "markdown",
   "metadata": {},
   "source": [
    "# Other files"
   ]
  },
  {
   "cell_type": "code",
   "execution_count": 2,
   "metadata": {},
   "outputs": [],
   "source": [
    "bathy_c = nc.Dataset('/ocean/imachuca/Canyons/results_mackenzie/extended_domain/ideal_base/1_ideal_bathy_for_agrif.nc')['Bathymetry'][:-3, 3:-3]\n",
    "bathy_p = nc.Dataset('/ocean/imachuca/Canyons/mackenzie_canyon/bathymetry/NEMO_files/idealized/ideal_bathy_for_agrif.nc')['Bathymetry'][:-2, :-2]\n",
    "vosaline_ref = nc.Dataset('/ocean/imachuca/Canyons/mackenzie_canyon/conditions/NEMO_files/salinity/salinity_for_agrif.nc')['vosaline'][:]\n",
    "vosaline_ref_profile = vosaline_ref[0, :, 0, 0]"
   ]
  },
  {
   "cell_type": "markdown",
   "metadata": {},
   "source": [
    "# Functions"
   ]
  },
  {
   "cell_type": "code",
   "execution_count": 3,
   "metadata": {},
   "outputs": [],
   "source": [
    "def get_varb_surf(vosaline_array, salt, varb):\n",
    "    \n",
    "    if len(vosaline_array.shape)==1:\n",
    "        f = interpolate.interp1d(vosaline_array, varb)\n",
    "        ynew = f(salt)\n",
    "        varb_array = ynew\n",
    "        \n",
    "    elif len(vosaline_array.shape)!=1:\n",
    "        varb_array = np.full([vosaline_array.shape[-2], vosaline_array.shape[-1]], np.nan)\n",
    "        for i in range(vosaline_array.shape[-1]):\n",
    "            for j in range(vosaline_array.shape[-2]):\n",
    "                vosaline_column = vosaline_array[:, j, i]\n",
    "                if len(varb.shape)==1:\n",
    "                    varb_column = varb\n",
    "                elif len(varb.shape)==3:\n",
    "                    varb_column = varb[:, j, i]\n",
    "\n",
    "                try:\n",
    "                    f = interpolate.interp1d(vosaline_column, varb_column)\n",
    "                    ynew = f(salt)\n",
    "                    varb_array[j, i] = ynew\n",
    "                except ValueError:\n",
    "                    varb_array[j, i] = np.nan  \n",
    "                \n",
    "    return varb_array"
   ]
  },
  {
   "cell_type": "code",
   "execution_count": 4,
   "metadata": {},
   "outputs": [],
   "source": [
    "def plot_winds_currents(ax, filename_winds, filename_currents, hour):\n",
    "    fs_numb, fs_str = 25, 30\n",
    "    axt = ax.twinx()\n",
    "\n",
    "    winds = np.loadtxt(filename_winds, delimiter=\",\")\n",
    "    currents = np.loadtxt(filename_currents, delimiter=\",\")\n",
    "\n",
    "    wind = winds[1]\n",
    "    current = general_functions.smooth(currents[1], 12)\n",
    "\n",
    "    c_wind = '#F95738'\n",
    "    c_current = '#38618C' #EE964B 7E5A9B EE6352\n",
    "    \n",
    "    lns1 = ax.plot(wind, c=c_wind, lw=1.5, ls='--', label='wind stress')\n",
    "    lns2 = axt.plot(current, c=c_current, lw=1.5, ls='-', label='alongshore velocity')\n",
    "    lns = lns1+lns2\n",
    "    labs = [l.get_label() for l in lns]\n",
    "    #ax.legend(lns, labs, loc=4, ncol=2, fontsize=fs_str)\n",
    "\n",
    "    ax.set_xlabel('Time [hours]', fontsize=fs_str)\n",
    "    ax.xaxis.set_ticks(np.arange(24, 6*24, 24))\n",
    "    ax.set_xlim([0, 6*24])\n",
    "    \n",
    "    ax.set_ylabel('Wind\\nstress\\n[Nm$^{-2}$]', fontsize=fs_str*0.6)\n",
    "    min_y = -1.2\n",
    "    ax.yaxis.set_ticks(np.linspace(0, min_y, 4))\n",
    "    ax.set_ylim([min_y, 0])\n",
    "    ax.spines['left'].set_color(c_wind)\n",
    "    ax.yaxis.label.set_color(c_wind)\n",
    "    ax.axvline(hour, c='k', linewidth=1.5)\n",
    "    \n",
    "    axt.set_ylabel('Alongshore\\nvelocity\\n[ms$^{-1}$]', rotation=270, fontsize=fs_str*0.6, labelpad=80)\n",
    "    axt.yaxis.set_ticks(np.arange(0, -0.4, -0.1))\n",
    "    axt.set_ylim([-0.3, 0])\n",
    "    axt.spines['left'].set_color(c_current)\n",
    "    axt.yaxis.label.set_color(c_current)\n",
    "    \n",
    "    ax.grid(which='major', axis='both', linestyle='-')\n",
    "    ax.tick_params(axis='both', which='both', length=0, labelsize=fs_numb)\n",
    "    axt.tick_params(axis='both', which='both', length=0, labelsize=fs_numb)\n",
    "    \n",
    "    for axis in ['top','bottom','left','right']:\n",
    "        ax.spines[axis].set_linewidth(2)\n",
    "    \n",
    "    return ax"
   ]
  },
  {
   "cell_type": "code",
   "execution_count": 5,
   "metadata": {},
   "outputs": [],
   "source": [
    "def get_varbs(kind, case, fname, meshmaskname, time_s):\n",
    "    \n",
    "    dirname = '/ocean/imachuca/Canyons/results_mackenzie/extended_domain/'+kind+'_'+case+'/'\n",
    "    \n",
    "    filesU = general_functions.get_files(dirname, fname, 'grid_U')        \n",
    "    filesV = general_functions.get_files(dirname, fname, 'grid_V')\n",
    "    filesT = general_functions.get_files(dirname, fname, 'grid_T')\n",
    "    \n",
    "    y,x = slice(1,-1,None), slice(1,-1,None)\n",
    "    \n",
    "    with scDataset(filesU) as dsU, scDataset(filesV) as dsV, scDataset(filesT) as dsT:\n",
    "        vozocrtx = dsU.variables['vozocrtx'][time_s,:,y,x]\n",
    "        vomecrty = dsV.variables['vomecrty'][time_s,:,y,x]\n",
    "        vosaline = dsT.variables['vosaline'][time_s, :, y, x]\n",
    "        deptht = dsT.variables['deptht'][:]\n",
    "        \n",
    "    with nc.Dataset(os.path.join(dirname, meshmaskname), 'r') as dsM:\n",
    "        e1t0 = np.nanmean(dsM.variables['e1t'][0, y, x], axis=0)\n",
    "        e2t0 = np.nanmean(dsM.variables['e2t'][0, y, x], axis=1)\n",
    "        e1t = np.cumsum(e1t0) / 1000 # km\n",
    "        e2t = np.cumsum(e2t0) / 1000 # km\n",
    "        \n",
    "    print(time_s)\n",
    "        \n",
    "    return vozocrtx, vomecrty, vosaline, e1t, e2t, deptht"
   ]
  },
  {
   "cell_type": "code",
   "execution_count": 6,
   "metadata": {},
   "outputs": [],
   "source": [
    "def full_surface(kind, case, fname, meshmaskname, time_all, salt):\n",
    "    for time_s, i in zip(time_all, np.arange(len(time_all))):    \n",
    "        vozocrtx, vomecrty, vosaline, e1t, e2t, deptht = get_varbs(kind, case, fname, meshmaskname, time_s)\n",
    "        if time_s == time_all[0]:\n",
    "            u_surface_full = np.full([len(time_all), vosaline.shape[-2], vosaline.shape[-1]], np.nan)\n",
    "            v_surface_full = np.full_like(u_surface_full, np.nan)\n",
    "        else: pass\n",
    "        u_surface_full[i] = get_varb_surf(vosaline, salt, vozocrtx)\n",
    "        v_surface_full[i] = get_varb_surf(vosaline, salt, vomecrty)\n",
    "    return u_surface_full, v_surface_full, e1t, e2t, deptht"
   ]
  },
  {
   "cell_type": "code",
   "execution_count": 7,
   "metadata": {},
   "outputs": [],
   "source": [
    "def formatting(ax, axlong, kind, e1t_c, e2t_c, e1t_p, e2t_p, bathy_p, depth_initial, hour):\n",
    "    if kind == 'ideal':\n",
    "        x_left, y_bottom = 205.822543591543,24.85159075988878\n",
    "        mid = 306\n",
    "        ind= [90, 180, 10, 90]\n",
    "    elif kind == 'real':\n",
    "        x_left, y_bottom = 296.29431501679437, 24.85159075988878\n",
    "        mid = 400\n",
    "        ind = [130, 220, 10, 90]\n",
    "\n",
    "    x_shift, y_shift = x_left+e1t_c, y_bottom+e2t_c\n",
    "    #min_x, max_x, min_y, max_y = mid-100, mid+100, 25, 200\n",
    "    min_x, max_x, min_y, max_y = mid-150, mid+150, 20, 210\n",
    "    ax.xaxis.set_ticks(np.arange(int(round(min_x/50)*50)+50, 600, 50))\n",
    "    ax.tick_params(axis='both', which='both', length=0, labelsize=fs_numb)\n",
    "    ax.set_aspect(aspect='equal')\n",
    "    ax.set_xlim([min_x, max_x])\n",
    "    ax.set_ylim([min_y, max_y])\n",
    "    for axis in ['top','bottom','left','right']:\n",
    "        ax.spines[axis].set_linewidth(2)\n",
    "    ax.set_xlabel('Alongshore (x) distance [km]', fontsize=fs_str, labelpad=15)\n",
    "    ax.set_ylabel('Cross-shore (y)\\ndistance [km]', fontsize=fs_str, labelpad=15)\n",
    "    \n",
    "    imin, imax, jmin, jmax = e1t_p[ind[0]], e1t_p[ind[1]+1], e2t_p[ind[2]], e2t_p[ind[3]+3]\n",
    "    ax.add_patch(patches.Rectangle((imin, jmin),(imax-imin),(jmax-jmin), fill=None, ec='k', lw=1.5, ls='-',zorder=5))\n",
    "    \n",
    "    ax.contour(e1t_p, e2t_p, bathy_p, levels=depth_initial, colors='#26211C', alpha=0.9, linewidths=2, zorder=5)\n",
    "    \n",
    "    if kind == 'ideal':\n",
    "        filename_currents = '../thesis/files/currents_ideal.out'\n",
    "        filename_winds = '../thesis/files/winds_ideal.out'\n",
    "    elif kind == 'real':\n",
    "        filename_currents = '../thesis/files/currents_real.out'\n",
    "        filename_winds = '../thesis/files/winds_real.out'\n",
    "    axlong = plot_winds_currents(axlong, filename_winds, filename_currents, hour)\n",
    "    \n",
    "    return x_shift, y_shift, filename_winds, filename_currents"
   ]
  },
  {
   "cell_type": "markdown",
   "metadata": {},
   "source": [
    "# Settings"
   ]
  },
  {
   "cell_type": "code",
   "execution_count": 8,
   "metadata": {},
   "outputs": [
    {
     "name": "stdout",
     "output_type": "stream",
     "text": [
      "[12 24 36]\n"
     ]
    }
   ],
   "source": [
    "fs_numb, fs_str = 25, 30\n",
    "case = 'base'\n",
    "kind = 'real'\n",
    "salt_UHW_SA, salt_ATW_SA = 33.26258156425155, 34.99102991139694\n",
    "arrow = 1\n",
    "\n",
    "salt = salt_UHW_SA\n",
    "time_all = np.arange(12,48,12); print(time_all)\n",
    "time_all_anim = list(itertools.chain.from_iterable(itertools.repeat(x, 3) for x in range(len(time_all))))"
   ]
  },
  {
   "cell_type": "markdown",
   "metadata": {},
   "source": [
    "# All surfaces"
   ]
  },
  {
   "cell_type": "code",
   "execution_count": 9,
   "metadata": {},
   "outputs": [
    {
     "name": "stdout",
     "output_type": "stream",
     "text": [
      "12\n",
      "24\n"
     ]
    },
    {
     "ename": "KeyboardInterrupt",
     "evalue": "",
     "output_type": "error",
     "traceback": [
      "\u001b[0;31m---------------------------------------------------------------------------\u001b[0m",
      "\u001b[0;31mKeyboardInterrupt\u001b[0m                         Traceback (most recent call last)",
      "\u001b[0;32m<ipython-input-9-1e7b1f61ba86>\u001b[0m in \u001b[0;36m<module>\u001b[0;34m()\u001b[0m\n\u001b[1;32m      1\u001b[0m \u001b[0mfname\u001b[0m \u001b[0;34m=\u001b[0m \u001b[0;34m'1_MCKNZ_1h*'\u001b[0m\u001b[0;34m\u001b[0m\u001b[0m\n\u001b[1;32m      2\u001b[0m \u001b[0mmeshmaskname\u001b[0m \u001b[0;34m=\u001b[0m \u001b[0;34m'1_mesh_mask.nc'\u001b[0m\u001b[0;34m\u001b[0m\u001b[0m\n\u001b[0;32m----> 3\u001b[0;31m \u001b[0mu_surface_full_c\u001b[0m\u001b[0;34m,\u001b[0m \u001b[0mv_surface_full_c\u001b[0m\u001b[0;34m,\u001b[0m \u001b[0me1t_c\u001b[0m\u001b[0;34m,\u001b[0m \u001b[0me2t_c\u001b[0m\u001b[0;34m,\u001b[0m \u001b[0mdeptht\u001b[0m \u001b[0;34m=\u001b[0m \u001b[0mfull_surface\u001b[0m\u001b[0;34m(\u001b[0m\u001b[0mkind\u001b[0m\u001b[0;34m,\u001b[0m \u001b[0mcase\u001b[0m\u001b[0;34m,\u001b[0m \u001b[0mfname\u001b[0m\u001b[0;34m,\u001b[0m \u001b[0mmeshmaskname\u001b[0m\u001b[0;34m,\u001b[0m \u001b[0mtime_all\u001b[0m\u001b[0;34m,\u001b[0m \u001b[0msalt\u001b[0m\u001b[0;34m)\u001b[0m\u001b[0;34m\u001b[0m\u001b[0m\n\u001b[0m\u001b[1;32m      4\u001b[0m \u001b[0;34m\u001b[0m\u001b[0m\n\u001b[1;32m      5\u001b[0m \u001b[0mfname\u001b[0m \u001b[0;34m=\u001b[0m \u001b[0;34m'MCKNZ_1h*'\u001b[0m\u001b[0;34m\u001b[0m\u001b[0m\n",
      "\u001b[0;32m<ipython-input-6-3611af7b8dd1>\u001b[0m in \u001b[0;36mfull_surface\u001b[0;34m(kind, case, fname, meshmaskname, time_all, salt)\u001b[0m\n\u001b[1;32m      7\u001b[0m         \u001b[0;32melse\u001b[0m\u001b[0;34m:\u001b[0m \u001b[0;32mpass\u001b[0m\u001b[0;34m\u001b[0m\u001b[0m\n\u001b[1;32m      8\u001b[0m         \u001b[0mu_surface_full\u001b[0m\u001b[0;34m[\u001b[0m\u001b[0mi\u001b[0m\u001b[0;34m]\u001b[0m \u001b[0;34m=\u001b[0m \u001b[0mget_varb_surf\u001b[0m\u001b[0;34m(\u001b[0m\u001b[0mvosaline\u001b[0m\u001b[0;34m,\u001b[0m \u001b[0msalt\u001b[0m\u001b[0;34m,\u001b[0m \u001b[0mvozocrtx\u001b[0m\u001b[0;34m)\u001b[0m\u001b[0;34m\u001b[0m\u001b[0m\n\u001b[0;32m----> 9\u001b[0;31m         \u001b[0mv_surface_full\u001b[0m\u001b[0;34m[\u001b[0m\u001b[0mi\u001b[0m\u001b[0;34m]\u001b[0m \u001b[0;34m=\u001b[0m \u001b[0mget_varb_surf\u001b[0m\u001b[0;34m(\u001b[0m\u001b[0mvosaline\u001b[0m\u001b[0;34m,\u001b[0m \u001b[0msalt\u001b[0m\u001b[0;34m,\u001b[0m \u001b[0mvomecrty\u001b[0m\u001b[0;34m)\u001b[0m\u001b[0;34m\u001b[0m\u001b[0m\n\u001b[0m\u001b[1;32m     10\u001b[0m     \u001b[0;32mreturn\u001b[0m \u001b[0mu_surface_full\u001b[0m\u001b[0;34m,\u001b[0m \u001b[0mv_surface_full\u001b[0m\u001b[0;34m,\u001b[0m \u001b[0me1t\u001b[0m\u001b[0;34m,\u001b[0m \u001b[0me2t\u001b[0m\u001b[0;34m,\u001b[0m \u001b[0mdeptht\u001b[0m\u001b[0;34m\u001b[0m\u001b[0m\n",
      "\u001b[0;32m<ipython-input-3-42085dbd2571>\u001b[0m in \u001b[0;36mget_varb_surf\u001b[0;34m(vosaline_array, salt, varb)\u001b[0m\n\u001b[1;32m     18\u001b[0m                 \u001b[0;32mtry\u001b[0m\u001b[0;34m:\u001b[0m\u001b[0;34m\u001b[0m\u001b[0m\n\u001b[1;32m     19\u001b[0m                     \u001b[0mf\u001b[0m \u001b[0;34m=\u001b[0m \u001b[0minterpolate\u001b[0m\u001b[0;34m.\u001b[0m\u001b[0minterp1d\u001b[0m\u001b[0;34m(\u001b[0m\u001b[0mvosaline_column\u001b[0m\u001b[0;34m,\u001b[0m \u001b[0mvarb_column\u001b[0m\u001b[0;34m)\u001b[0m\u001b[0;34m\u001b[0m\u001b[0m\n\u001b[0;32m---> 20\u001b[0;31m                     \u001b[0mynew\u001b[0m \u001b[0;34m=\u001b[0m \u001b[0mf\u001b[0m\u001b[0;34m(\u001b[0m\u001b[0msalt\u001b[0m\u001b[0;34m)\u001b[0m\u001b[0;34m\u001b[0m\u001b[0m\n\u001b[0m\u001b[1;32m     21\u001b[0m                     \u001b[0mvarb_array\u001b[0m\u001b[0;34m[\u001b[0m\u001b[0mj\u001b[0m\u001b[0;34m,\u001b[0m \u001b[0mi\u001b[0m\u001b[0;34m]\u001b[0m \u001b[0;34m=\u001b[0m \u001b[0mynew\u001b[0m\u001b[0;34m\u001b[0m\u001b[0m\n\u001b[1;32m     22\u001b[0m                 \u001b[0;32mexcept\u001b[0m \u001b[0mValueError\u001b[0m\u001b[0;34m:\u001b[0m\u001b[0;34m\u001b[0m\u001b[0m\n",
      "\u001b[0;32m~/anaconda3/lib/python3.6/site-packages/scipy/interpolate/polyint.py\u001b[0m in \u001b[0;36m__call__\u001b[0;34m(self, x)\u001b[0m\n\u001b[1;32m     76\u001b[0m \u001b[0;34m\u001b[0m\u001b[0m\n\u001b[1;32m     77\u001b[0m         \"\"\"\n\u001b[0;32m---> 78\u001b[0;31m         \u001b[0mx\u001b[0m\u001b[0;34m,\u001b[0m \u001b[0mx_shape\u001b[0m \u001b[0;34m=\u001b[0m \u001b[0mself\u001b[0m\u001b[0;34m.\u001b[0m\u001b[0m_prepare_x\u001b[0m\u001b[0;34m(\u001b[0m\u001b[0mx\u001b[0m\u001b[0;34m)\u001b[0m\u001b[0;34m\u001b[0m\u001b[0m\n\u001b[0m\u001b[1;32m     79\u001b[0m         \u001b[0my\u001b[0m \u001b[0;34m=\u001b[0m \u001b[0mself\u001b[0m\u001b[0;34m.\u001b[0m\u001b[0m_evaluate\u001b[0m\u001b[0;34m(\u001b[0m\u001b[0mx\u001b[0m\u001b[0;34m)\u001b[0m\u001b[0;34m\u001b[0m\u001b[0m\n\u001b[1;32m     80\u001b[0m         \u001b[0;32mreturn\u001b[0m \u001b[0mself\u001b[0m\u001b[0;34m.\u001b[0m\u001b[0m_finish_y\u001b[0m\u001b[0;34m(\u001b[0m\u001b[0my\u001b[0m\u001b[0;34m,\u001b[0m \u001b[0mx_shape\u001b[0m\u001b[0;34m)\u001b[0m\u001b[0;34m\u001b[0m\u001b[0m\n",
      "\u001b[0;32m~/anaconda3/lib/python3.6/site-packages/scipy/interpolate/polyint.py\u001b[0m in \u001b[0;36m_prepare_x\u001b[0;34m(self, x)\u001b[0m\n\u001b[1;32m     88\u001b[0m     \u001b[0;32mdef\u001b[0m \u001b[0m_prepare_x\u001b[0m\u001b[0;34m(\u001b[0m\u001b[0mself\u001b[0m\u001b[0;34m,\u001b[0m \u001b[0mx\u001b[0m\u001b[0;34m)\u001b[0m\u001b[0;34m:\u001b[0m\u001b[0;34m\u001b[0m\u001b[0m\n\u001b[1;32m     89\u001b[0m         \u001b[0;34m\"\"\"Reshape input x array to 1-D\"\"\"\u001b[0m\u001b[0;34m\u001b[0m\u001b[0m\n\u001b[0;32m---> 90\u001b[0;31m         \u001b[0mx\u001b[0m \u001b[0;34m=\u001b[0m \u001b[0m_asarray_validated\u001b[0m\u001b[0;34m(\u001b[0m\u001b[0mx\u001b[0m\u001b[0;34m,\u001b[0m \u001b[0mcheck_finite\u001b[0m\u001b[0;34m=\u001b[0m\u001b[0;32mFalse\u001b[0m\u001b[0;34m,\u001b[0m \u001b[0mas_inexact\u001b[0m\u001b[0;34m=\u001b[0m\u001b[0;32mTrue\u001b[0m\u001b[0;34m)\u001b[0m\u001b[0;34m\u001b[0m\u001b[0m\n\u001b[0m\u001b[1;32m     91\u001b[0m         \u001b[0mx_shape\u001b[0m \u001b[0;34m=\u001b[0m \u001b[0mx\u001b[0m\u001b[0;34m.\u001b[0m\u001b[0mshape\u001b[0m\u001b[0;34m\u001b[0m\u001b[0m\n\u001b[1;32m     92\u001b[0m         \u001b[0;32mreturn\u001b[0m \u001b[0mx\u001b[0m\u001b[0;34m.\u001b[0m\u001b[0mravel\u001b[0m\u001b[0;34m(\u001b[0m\u001b[0;34m)\u001b[0m\u001b[0;34m,\u001b[0m \u001b[0mx_shape\u001b[0m\u001b[0;34m\u001b[0m\u001b[0m\n",
      "\u001b[0;32m~/anaconda3/lib/python3.6/site-packages/scipy/_lib/_util.py\u001b[0m in \u001b[0;36m_asarray_validated\u001b[0;34m(a, check_finite, sparse_ok, objects_ok, mask_ok, as_inexact)\u001b[0m\n\u001b[1;32m    233\u001b[0m             \u001b[0;32mraise\u001b[0m \u001b[0mValueError\u001b[0m\u001b[0;34m(\u001b[0m\u001b[0mmsg\u001b[0m\u001b[0;34m)\u001b[0m\u001b[0;34m\u001b[0m\u001b[0m\n\u001b[1;32m    234\u001b[0m     \u001b[0;32mif\u001b[0m \u001b[0;32mnot\u001b[0m \u001b[0mmask_ok\u001b[0m\u001b[0;34m:\u001b[0m\u001b[0;34m\u001b[0m\u001b[0m\n\u001b[0;32m--> 235\u001b[0;31m         \u001b[0;32mif\u001b[0m \u001b[0mnp\u001b[0m\u001b[0;34m.\u001b[0m\u001b[0mma\u001b[0m\u001b[0;34m.\u001b[0m\u001b[0misMaskedArray\u001b[0m\u001b[0;34m(\u001b[0m\u001b[0ma\u001b[0m\u001b[0;34m)\u001b[0m\u001b[0;34m:\u001b[0m\u001b[0;34m\u001b[0m\u001b[0m\n\u001b[0m\u001b[1;32m    236\u001b[0m             \u001b[0;32mraise\u001b[0m \u001b[0mValueError\u001b[0m\u001b[0;34m(\u001b[0m\u001b[0;34m'masked arrays are not supported'\u001b[0m\u001b[0;34m)\u001b[0m\u001b[0;34m\u001b[0m\u001b[0m\n\u001b[1;32m    237\u001b[0m     \u001b[0mtoarray\u001b[0m \u001b[0;34m=\u001b[0m \u001b[0mnp\u001b[0m\u001b[0;34m.\u001b[0m\u001b[0masarray_chkfinite\u001b[0m \u001b[0;32mif\u001b[0m \u001b[0mcheck_finite\u001b[0m \u001b[0;32melse\u001b[0m \u001b[0mnp\u001b[0m\u001b[0;34m.\u001b[0m\u001b[0masarray\u001b[0m\u001b[0;34m\u001b[0m\u001b[0m\n",
      "\u001b[0;31mKeyboardInterrupt\u001b[0m: "
     ]
    }
   ],
   "source": [
    "fname = '1_MCKNZ_1h*'\n",
    "meshmaskname = '1_mesh_mask.nc'\n",
    "u_surface_full_c, v_surface_full_c, e1t_c, e2t_c, deptht = full_surface(kind, case, fname, meshmaskname, time_all, salt)\n",
    "\n",
    "fname = 'MCKNZ_1h*'\n",
    "meshmaskname = 'mesh_mask.nc'\n",
    "u_surface_full_p, v_surface_full_p, e1t_p, e2t_p, deptht = full_surface(kind, case, fname, meshmaskname, time_all, salt)\n",
    "\n",
    "depth_initial = get_varb_surf(vosaline_ref_profile, salt, deptht)"
   ]
  },
  {
   "cell_type": "markdown",
   "metadata": {},
   "source": [
    "# Animation "
   ]
  },
  {
   "cell_type": "code",
   "execution_count": null,
   "metadata": {},
   "outputs": [],
   "source": [
    "def animate(i):\n",
    "    \n",
    "    ax.cla()\n",
    "    axlong.cla()\n",
    "\n",
    "    vm0 = [0, 0.65]\n",
    "    cmap = cmo.cm.matter\n",
    "    cmap.set_bad('#8b7765')\n",
    "    x_shift, y_shift, filename_winds, filename_currents = formatting(ax, axlong, kind, e1t_c, e2t_c, e1t_p, e2t_p, bathy_p, depth_initial, time_all[i])\n",
    "\n",
    "    x_slice_c, y_slice_c, u_nstg_c, v_nstg_c, speeds_c = quicklook.get_speeds(u_surface_full_c[i], v_surface_full_c[i], arrow)\n",
    "    x_slice_p, y_slice_p, u_nstg_p, v_nstg_p, speeds_p = quicklook.get_speeds(u_surface_full_p[i], v_surface_full_p[i], arrow)\n",
    "    \n",
    "    x_points_c, y_points_c = x_shift[x_slice_c], y_shift[y_slice_c]\n",
    "    x_points_p, y_points_p = e1t_p[x_slice_p], e2t_p[y_slice_p]\n",
    "\n",
    "    ax.pcolormesh(x_points_p, y_points_p, speeds_p, cmap=cmap, vmin=vm0[0], vmax=vm0[1], zorder=1)\n",
    "    p = ax.pcolormesh(x_points_c, y_points_c, speeds_c, cmap=cmap, vmin=vm0[0], vmax=vm0[1], zorder=3)\n",
    "    \n",
    "    ax.streamplot(x_points_p, y_points_p, u_nstg_p, v_nstg_p, color='k', density=2, linewidth=1.5, zorder=2)\n",
    "    strm = ax.streamplot(x_points_c, y_points_c, u_nstg_c, v_nstg_c, color='k', density=2, linewidth=1.5, zorder=4)\n",
    "\n",
    "    ax.set_title('Hour '+str(time_all[i]), fontsize=fs_str*1.5)\n",
    "    fig.tight_layout(h_pad=0.0005)\n",
    "    fig.patch.set_facecolor('white')    \n",
    "\n",
    "    print(time_all[i])\n",
    "    return p,"
   ]
  },
  {
   "cell_type": "markdown",
   "metadata": {},
   "source": [
    "# Run"
   ]
  },
  {
   "cell_type": "code",
   "execution_count": null,
   "metadata": {
    "scrolled": false
   },
   "outputs": [],
   "source": [
    "# fig, ax = plt.subplots(1,1,figsize=(18, 11))\n",
    "fig = plt.figure(figsize=(20, 14))\n",
    "gs = gridspec.GridSpec(2, 1, width_ratios=[1], height_ratios=[1,0.13])\n",
    "ax = plt.subplot(gs[0,:])\n",
    "axlong = plt.subplot(gs[1,:])\n",
    "anim = animation.FuncAnimation(fig, animate, time_all_anim, blit=False, repeat=True)\n",
    "anim.save('testt.mp4', writer=animation.FFMpegWriter(), dpi=100)"
   ]
  },
  {
   "cell_type": "code",
   "execution_count": null,
   "metadata": {},
   "outputs": [],
   "source": []
  }
 ],
 "metadata": {
  "kernelspec": {
   "display_name": "Python 3",
   "language": "python",
   "name": "python3"
  },
  "language_info": {
   "codemirror_mode": {
    "name": "ipython",
    "version": 3
   },
   "file_extension": ".py",
   "mimetype": "text/x-python",
   "name": "python",
   "nbconvert_exporter": "python",
   "pygments_lexer": "ipython3",
   "version": "3.6.4"
  }
 },
 "nbformat": 4,
 "nbformat_minor": 2
}
