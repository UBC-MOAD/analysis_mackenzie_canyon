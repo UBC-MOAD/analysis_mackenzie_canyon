{
 "cells": [
  {
   "cell_type": "code",
   "execution_count": 14,
   "metadata": {
    "collapsed": true
   },
   "outputs": [],
   "source": [
    "import netCDF4 as nc\n",
    "import scipy.io as sio\n",
    "import os,sys,fnmatch,time\n",
    "from scipy import interpolate\n",
    "import numpy as np\n",
    "import numpy.ma as ma\n",
    "import math\n",
    "import matplotlib.pyplot as plt\n",
    "import matplotlib.gridspec as gridspec\n",
    "import matplotlib.cm as cm\n",
    "import cmocean as cmo\n",
    "\n",
    "from salishsea_tools.nc_tools import scDataset\n",
    "from salishsea_tools import geo_tools\n",
    "\n",
    "import sys\n",
    "sys.path.append('/ocean/imachuca/Canyons/mackenzie_canyon/tools/')\n",
    "import functions_plot\n",
    "\n",
    "sys.path.append('/ocean/imachuca/Canyons/analysis_mackenzie_canyon/notebooks/general_circulation/')\n",
    "import general_functions\n",
    "\n",
    "%matplotlib inline\n",
    "\n",
    "import warnings\n",
    "warnings.filterwarnings(\"ignore\")\n",
    "\n",
    "(cmapmc, norm) = functions_plot.Colormap()\n",
    "from matplotlib.colors import ListedColormap\n",
    "cmapmc_r = ListedColormap(cmapmc.colors[::-1])\n",
    "from matplotlib.colors import LinearSegmentedColormap\n",
    "colour_list = [\"#c8274c\",\"#f25546\",\"#F06543\",\"#e96e33\",\n",
    "               \"#f0b038\",\"#FFE74C\",\"#69b944\",\"#72b286\",\n",
    "               \"#69b0bc\",\"#619ee4\",\"#4b5bbb\"][::-1]\n",
    "cmapIAM = LinearSegmentedColormap.from_list('mycmap', colour_list, N=500, gamma=1)"
   ]
  },
  {
   "cell_type": "markdown",
   "metadata": {},
   "source": [
    "# Loading observations data"
   ]
  },
  {
   "cell_type": "code",
   "execution_count": 15,
   "metadata": {
    "collapsed": false
   },
   "outputs": [
    {
     "data": {
      "text/plain": [
       "[('ax', (1, 1), 'struct'),\n",
       " ('cs', (1, 1), 'struct'),\n",
       " ('stn', (1, 1), 'struct'),\n",
       " ('sts', (1, 1), 'struct')]"
      ]
     },
     "execution_count": 15,
     "metadata": {},
     "output_type": "execute_result"
    }
   ],
   "source": [
    "sio.whosmat('./MackenzieTransects.mat')"
   ]
  },
  {
   "cell_type": "code",
   "execution_count": 16,
   "metadata": {
    "collapsed": true
   },
   "outputs": [],
   "source": [
    "data = sio.loadmat('./MackenzieTransects.mat')"
   ]
  },
  {
   "cell_type": "code",
   "execution_count": 17,
   "metadata": {
    "collapsed": false
   },
   "outputs": [],
   "source": [
    "struct_axis = data['ax']\n",
    "struct_slope = data['cs']\n",
    "struct_north = data['stn']\n",
    "struct_south = data['sts']"
   ]
  },
  {
   "cell_type": "code",
   "execution_count": 18,
   "metadata": {
    "collapsed": false
   },
   "outputs": [],
   "source": [
    "dtype_axis = struct_axis.dtype\n",
    "dtype_slope = struct_slope.dtype\n",
    "dtype_north = struct_north.dtype\n",
    "dtype_south = struct_south.dtype"
   ]
  },
  {
   "cell_type": "code",
   "execution_count": 19,
   "metadata": {
    "collapsed": false
   },
   "outputs": [],
   "source": [
    "data_axis = {n: struct_axis[n][0, 0] for n in dtype_axis.names}\n",
    "data_slope = {n: struct_slope[n][0, 0] for n in dtype_slope.names}\n",
    "data_north = {n: struct_north[n][0, 0] for n in dtype_north.names}\n",
    "data_south = {n: struct_south[n][0, 0] for n in dtype_south.names}"
   ]
  },
  {
   "cell_type": "code",
   "execution_count": 20,
   "metadata": {
    "collapsed": false
   },
   "outputs": [
    {
     "data": {
      "text/plain": [
       "('u', 'v', 'lat_adcp', 'lon_adcp', 'datenum_adcp', 'z', 'tsgT', 'tsgS')"
      ]
     },
     "execution_count": 20,
     "metadata": {},
     "output_type": "execute_result"
    }
   ],
   "source": [
    "dtype_axis.names"
   ]
  },
  {
   "cell_type": "code",
   "execution_count": 21,
   "metadata": {
    "collapsed": false
   },
   "outputs": [
    {
     "data": {
      "text/plain": [
       "('num',\n",
       " 'numbMMP',\n",
       " 'numbCTD',\n",
       " 'typ',\n",
       " 'latx',\n",
       " 'lonx',\n",
       " 'dist',\n",
       " 'z',\n",
       " 'temp',\n",
       " 'sal',\n",
       " 'sigma',\n",
       " 'datenum',\n",
       " 'u',\n",
       " 'v',\n",
       " 'z_adcp',\n",
       " 'lat_adcp',\n",
       " 'lon_adcp',\n",
       " 'datenum_adcp',\n",
       " 'dist_adcp',\n",
       " 'tsgT',\n",
       " 'tsgS')"
      ]
     },
     "execution_count": 21,
     "metadata": {},
     "output_type": "execute_result"
    }
   ],
   "source": [
    "dtype_slope.names"
   ]
  },
  {
   "cell_type": "code",
   "execution_count": 22,
   "metadata": {
    "collapsed": false
   },
   "outputs": [
    {
     "data": {
      "text/plain": [
       "('num',\n",
       " 'numbMMP',\n",
       " 'numbCTD',\n",
       " 'typ',\n",
       " 'latx',\n",
       " 'lonx',\n",
       " 'dist',\n",
       " 'z',\n",
       " 'temp',\n",
       " 'sal',\n",
       " 'sigma',\n",
       " 'datenum',\n",
       " 'u',\n",
       " 'v',\n",
       " 'z_adcp',\n",
       " 'lat_adcp',\n",
       " 'lon_adcp',\n",
       " 'datenum_adcp',\n",
       " 'dist_adcp',\n",
       " 'tsgT',\n",
       " 'tsgS')"
      ]
     },
     "execution_count": 22,
     "metadata": {},
     "output_type": "execute_result"
    }
   ],
   "source": [
    "dtype_north.names"
   ]
  },
  {
   "cell_type": "code",
   "execution_count": 23,
   "metadata": {
    "collapsed": false
   },
   "outputs": [
    {
     "data": {
      "text/plain": [
       "('num',\n",
       " 'numbMMP',\n",
       " 'numbSWIMS',\n",
       " 'typ',\n",
       " 'latx',\n",
       " 'lonx',\n",
       " 'dist',\n",
       " 'z',\n",
       " 'temp',\n",
       " 'sal',\n",
       " 'sigma',\n",
       " 'datenum',\n",
       " 'u',\n",
       " 'v',\n",
       " 'z_adcp',\n",
       " 'lat_adcp',\n",
       " 'lon_adcp',\n",
       " 'datenum_adcp',\n",
       " 'dist_adcp',\n",
       " 'tsgT',\n",
       " 'tsgS')"
      ]
     },
     "execution_count": 23,
     "metadata": {},
     "output_type": "execute_result"
    }
   ],
   "source": [
    "dtype_south.names"
   ]
  },
  {
   "cell_type": "code",
   "execution_count": null,
   "metadata": {
    "collapsed": true
   },
   "outputs": [],
   "source": [
    "def get_coords(dirname):\n",
    "    y,x = slice(1,-1,None), slice(1,-1,None)\n",
    "    \n",
    "    nav_lat = nc.Dataset(dirname)['nav_lat'][y, x]\n",
    "    nav_lon = nc.Dataset(dirname)['nav_lon'][y, x]\n",
    "    real = nc.Dataset(dirname)['Bathymetry'][y, x]\n",
    "\n",
    "    return nav_lat, nav_lon, real"
   ]
  },
  {
   "cell_type": "code",
   "execution_count": 24,
   "metadata": {
    "collapsed": true
   },
   "outputs": [],
   "source": [
    "def plot_map(fig, ax, x, y, z, cmap, nav_lon, nav_lat, real):\n",
    "    p = ax.pcolormesh(x, y, z, cmap=cmapmc, vmin=-1600, vmax=1000)\n",
    "    CS = ax.contour(nav_lon, nav_lat, real, levels = np.arange(0, 500, 20), colors='k', linestyle='-', alpha=0.5)\n",
    "    for line in CS.collections:\n",
    "        if line.get_linestyle() == [(None, None)]:\n",
    "            pass\n",
    "        else:\n",
    "            line.set_linestyle([(None, None)])\n",
    "            line.set_color('k')\n",
    "    ax.clabel(CS, fmt='%1.1f')\n",
    "    ax.legend(loc=2, fontsize=20)\n",
    "    ax.set_xlim([-141, -136])\n",
    "    ax.set_ylim([69.5, 70.5])\n",
    "    w=1/math.cos(math.radians(70.0))\n",
    "    ax.set_aspect(w)\n",
    "    ax.set_ylabel('latitude [$^o$]', fontsize=20)\n",
    "    ax.set_xlabel('longitude [$^o$]', fontsize=20)\n",
    "    ax.tick_params(axis='both', which='major', labelsize=15)\n",
    "    ax.tick_params(axis='both', which='minor', labelsize=15)\n",
    "    fig.tight_layout()\n",
    "    return fig, ax"
   ]
  },
  {
   "cell_type": "code",
   "execution_count": 25,
   "metadata": {
    "collapsed": true
   },
   "outputs": [],
   "source": [
    "x, y, z = functions_plot.def_regionG(xl=-141, xr=-136, yb=69.5, yt=70.5)"
   ]
  },
  {
   "cell_type": "code",
   "execution_count": 26,
   "metadata": {
    "collapsed": false
   },
   "outputs": [
    {
     "ename": "NameError",
     "evalue": "name 'get_coords' is not defined",
     "output_type": "error",
     "traceback": [
      "\u001b[0;31m---------------------------------------------------------------------------\u001b[0m",
      "\u001b[0;31mNameError\u001b[0m                                 Traceback (most recent call last)",
      "\u001b[0;32m<ipython-input-26-801c4f7a5529>\u001b[0m in \u001b[0;36m<module>\u001b[0;34m()\u001b[0m\n\u001b[1;32m      1\u001b[0m \u001b[0mdirname\u001b[0m \u001b[0;34m=\u001b[0m \u001b[0;34m'/ocean/imachuca/Canyons/results_mackenzie/runs_with_ts/real_base/1_real_bathy_for_agrif_fix.nc'\u001b[0m\u001b[0;34m\u001b[0m\u001b[0m\n\u001b[0;32m----> 2\u001b[0;31m \u001b[0mnav_lat\u001b[0m\u001b[0;34m,\u001b[0m \u001b[0mnav_lon\u001b[0m\u001b[0;34m,\u001b[0m \u001b[0mreal\u001b[0m \u001b[0;34m=\u001b[0m \u001b[0mget_coords\u001b[0m\u001b[0;34m(\u001b[0m\u001b[0mdirname\u001b[0m\u001b[0;34m)\u001b[0m\u001b[0;34m\u001b[0m\u001b[0m\n\u001b[0m",
      "\u001b[0;31mNameError\u001b[0m: name 'get_coords' is not defined"
     ]
    }
   ],
   "source": [
    "dirname = '/ocean/imachuca/Canyons/results_mackenzie/runs_with_ts/real_base/1_real_bathy_for_agrif_fix.nc'\n",
    "nav_lat, nav_lon, real = get_coords(dirname)"
   ]
  },
  {
   "cell_type": "code",
   "execution_count": null,
   "metadata": {
    "collapsed": true
   },
   "outputs": [],
   "source": []
  }
 ],
 "metadata": {
  "kernelspec": {
   "display_name": "Python 3",
   "language": "python",
   "name": "python3"
  },
  "language_info": {
   "codemirror_mode": {
    "name": "ipython",
    "version": 3
   },
   "file_extension": ".py",
   "mimetype": "text/x-python",
   "name": "python",
   "nbconvert_exporter": "python",
   "pygments_lexer": "ipython3",
   "version": "3.5.0rc4"
  }
 },
 "nbformat": 4,
 "nbformat_minor": 2
}
