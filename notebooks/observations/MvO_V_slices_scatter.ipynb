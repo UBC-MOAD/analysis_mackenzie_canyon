{
 "cells": [
  {
   "cell_type": "code",
   "execution_count": 1,
   "metadata": {
    "collapsed": true
   },
   "outputs": [],
   "source": [
    "import netCDF4 as nc\n",
    "import scipy.io as sio\n",
    "import os,sys,fnmatch,time\n",
    "from scipy import interpolate\n",
    "import numpy as np\n",
    "import numpy.ma as ma\n",
    "import math\n",
    "import matplotlib.pyplot as plt\n",
    "import matplotlib.gridspec as gridspec\n",
    "import matplotlib.cm as cm\n",
    "import cmocean as cmo\n",
    "\n",
    "from salishsea_tools.nc_tools import scDataset\n",
    "from salishsea_tools import geo_tools\n",
    "\n",
    "import sys\n",
    "sys.path.append('/ocean/imachuca/Canyons/mackenzie_canyon/tools/')\n",
    "import functions_plot\n",
    "\n",
    "sys.path.append('/ocean/imachuca/Canyons/analysis_mackenzie_canyon/notebooks/general_circulation/')\n",
    "import general_functions\n",
    "\n",
    "%matplotlib inline\n",
    "\n",
    "import warnings\n",
    "warnings.filterwarnings(\"ignore\")\n",
    "\n",
    "(cmapmc, norm) = functions_plot.Colormap()\n",
    "from matplotlib.colors import ListedColormap\n",
    "cmapmc_r = ListedColormap(cmapmc.colors[::-1])\n",
    "from matplotlib.colors import LinearSegmentedColormap\n",
    "colour_list = [\"#c8274c\",\"#f25546\",\"#F06543\",\"#e96e33\",\n",
    "               \"#f0b038\",\"#FFE74C\",\"#69b944\",\"#72b286\",\n",
    "               \"#69b0bc\",\"#619ee4\",\"#4b5bbb\"][::-1]\n",
    "cmapIAM = LinearSegmentedColormap.from_list('mycmap', colour_list, N=500, gamma=1)"
   ]
  },
  {
   "cell_type": "markdown",
   "metadata": {},
   "source": [
    "## Functions for observations"
   ]
  },
  {
   "cell_type": "code",
   "execution_count": 27,
   "metadata": {
    "collapsed": false
   },
   "outputs": [],
   "source": [
    "data = sio.loadmat('./MackenzieTransects.mat')\n",
    "\n",
    "struct_north = data['stn']\n",
    "struct_south = data['sts']\n",
    "\n",
    "dtype_north = struct_north.dtype\n",
    "dtype_south = struct_south.dtype\n",
    "\n",
    "data_north = {n: struct_north[n][0, 0] for n in dtype_north.names}\n",
    "data_south = {n: struct_south[n][0, 0] for n in dtype_south.names}\n",
    "\n",
    "obs_lat_s = data_south['lat_adcp'][0,:]\n",
    "obs_lon_s = data_south['lon_adcp'][0,:]\n",
    "obs_dist_s = data_south['dist_adcp'][0,:]\n",
    "obs_z_s = data_south['z_adcp'][:, 0]\n",
    "obs_u_s = data_south['u'][:]\n",
    "obs_v_s = data_south['v'][:]\n",
    "\n",
    "\n",
    "obs_lat_n = data_north['lat_adcp'][0,:]\n",
    "obs_lon_n = data_north['lon_adcp'][0,:]\n",
    "obs_dist_n = data_north['dist_adcp'][0,:]\n",
    "obs_z_n = data_north['z_adcp'][:, 0]\n",
    "obs_u_n = data_north['u'][:]\n",
    "obs_v_n = data_north['v'][:]"
   ]
  },
  {
   "cell_type": "code",
   "execution_count": 37,
   "metadata": {
    "collapsed": true
   },
   "outputs": [],
   "source": [
    "def find_nearest(array,value):\n",
    "    idx = (np.abs(array-value)).argmin()\n",
    "    return idx\n",
    "\n",
    "def get_obs_mean(vel_s, vel_n, z, dep1, dep2):\n",
    "    \n",
    "    ind1 = find_nearest(z, dep1)\n",
    "    ind2 = find_nearest(z, dep2)\n",
    "    \n",
    "    vel_mean_s = np.mean(vel_s[ind1:ind2, :], axis=0)\n",
    "\n",
    "    vel_mean_n = np.mean(vel_n[ind1:ind2, :], axis=0)\n",
    "    \n",
    "    return vel_mean_s, vel_mean_n, z[ind1], z[ind2]"
   ]
  },
  {
   "cell_type": "markdown",
   "metadata": {},
   "source": [
    "## Functions for model results"
   ]
  },
  {
   "cell_type": "code",
   "execution_count": 49,
   "metadata": {
    "collapsed": true
   },
   "outputs": [],
   "source": [
    "def get_deps(dirname, velocity):\n",
    "    fname = \"1_MCKNZ_1h_20170101_201701*\"\n",
    "    \n",
    "    if velocity == 'U':\n",
    "        name_grid = 'grid_U'\n",
    "        name_depth = 'depthu'\n",
    "            \n",
    "    elif velocity == 'V':\n",
    "        name_grid = 'grid_V'\n",
    "        name_depth = 'depthv'\n",
    "        \n",
    "    files = general_functions.get_files(dirname, fname, name_grid)\n",
    "    with scDataset(files) as ds:\n",
    "        depth = ds.variables[name_depth][:]\n",
    "        \n",
    "    return depth"
   ]
  },
  {
   "cell_type": "code",
   "execution_count": 58,
   "metadata": {
    "collapsed": true
   },
   "outputs": [],
   "source": [
    "def get_vars_U(dirname, dep1, dep2, time_start, time_end, velocity):\n",
    "    fname = \"1_MCKNZ_1h_20170101_201701*\"\n",
    "    y,x = slice(1,-1,None), slice(1,-1,None)\n",
    "    \n",
    "    # --------------------------------------------------------\n",
    "    \n",
    "    depth = get_deps(dirname, velocity)\n",
    "    dep_start = find_nearest(depth, dep1)\n",
    "    dep_end = (find_nearest(depth, dep2)) + 1\n",
    "    \n",
    "    # --------------------------------------------------------\n",
    "    \n",
    "    if velocity == 'U':\n",
    "        name_grid = 'grid_U'\n",
    "        name_depth = 'depthu'\n",
    "        name_vel = 'vozocrtx'\n",
    "        name_mask = 'umask'\n",
    "        \n",
    "    elif velocity == 'V':\n",
    "        name_grid = 'grid_V'\n",
    "        name_depth = 'depthv'\n",
    "        name_vel = 'vomecrty'\n",
    "        name_mask = 'vmask'\n",
    "        \n",
    "    # --------------------------------------------------------\n",
    "        \n",
    "    files = general_functions.get_files(dirname, fname, name_grid)    \n",
    "    with scDataset(files) as ds:\n",
    "        depth = ds.variables[name_depth][dep_start:dep_end]\n",
    "        vel0 = ds.variables[name_vel][time_start:time_end, dep_start:dep_end, y, x]\n",
    "        nav_lat = ds.variables['nav_lat'][y, x]\n",
    "        nav_lon = ds.variables['nav_lon'][y, x]\n",
    "            \n",
    "    with nc.Dataset(os.path.join(dirname, '1_mesh_mask.nc'), 'r') as dsM:\n",
    "        mask0 = dsM.variables[name_mask][0, dep_start:dep_end, y, x]\n",
    "        \n",
    "    # --------------------------------------------------------\n",
    "        \n",
    "    mask = np.tile(mask0, (len(vel0), 1, 1, 1))\n",
    "    vel = np.ma.array(vel0, mask=1 - mask)\n",
    "    \n",
    "    return vel, depth, nav_lat, nav_lon"
   ]
  },
  {
   "cell_type": "code",
   "execution_count": 51,
   "metadata": {
    "collapsed": true
   },
   "outputs": [],
   "source": [
    "def get_vars_mean(dirname, dep_start, dep_end, time_start, time_end):\n",
    "    vozocrtx, vomecrty, depthu, depthv, nav_lat, nav_lon = get_vars(dirname, dep_start, dep_end, time_start, time_end)\n",
    "    vozocrtx_mean = np.mean(np.mean(vozocrtx, axis=0), axis=0)\n",
    "    vomecrty_mean = np.mean(np.mean(vomecrty, axis=0), axis=0)\n",
    "    return vozocrtx_mean, vomecrty_mean, depthu, depthv, nav_lat, nav_lon"
   ]
  },
  {
   "cell_type": "markdown",
   "metadata": {},
   "source": [
    "## Test"
   ]
  },
  {
   "cell_type": "code",
   "execution_count": 54,
   "metadata": {
    "collapsed": true
   },
   "outputs": [],
   "source": [
    "dep1, dep2 = 21, 39\n",
    "\n",
    "time_start = 10\n",
    "time_end = 12"
   ]
  },
  {
   "cell_type": "code",
   "execution_count": 53,
   "metadata": {
    "collapsed": false
   },
   "outputs": [
    {
     "data": {
      "text/plain": [
       "(20.651493617210576, 39.445346032928747)"
      ]
     },
     "execution_count": 53,
     "metadata": {},
     "output_type": "execute_result"
    }
   ],
   "source": [
    "vel_mean_s, vel_mean_n, obs_z_start, obs_z_end = get_obs_mean(obs_u_s, obs_u_n, obs_z_s, dep1, dep2)\n",
    "\n",
    "obs_z_start, obs_z_end"
   ]
  },
  {
   "cell_type": "code",
   "execution_count": 59,
   "metadata": {
    "collapsed": true
   },
   "outputs": [],
   "source": [
    "dirname = '/ocean/imachuca/Canyons/results_mackenzie/initial_collection/real_base/'\n",
    "\n",
    "vel, depth, nav_lat, nav_lon = get_vars_U(dirname, dep1, dep2, time_start, time_end, 'U')"
   ]
  },
  {
   "cell_type": "markdown",
   "metadata": {},
   "source": [
    "## Figures"
   ]
  },
  {
   "cell_type": "code",
   "execution_count": null,
   "metadata": {
    "collapsed": true
   },
   "outputs": [],
   "source": []
  }
 ],
 "metadata": {
  "kernelspec": {
   "display_name": "Python 3",
   "language": "python",
   "name": "python3"
  },
  "language_info": {
   "codemirror_mode": {
    "name": "ipython",
    "version": 3
   },
   "file_extension": ".py",
   "mimetype": "text/x-python",
   "name": "python",
   "nbconvert_exporter": "python",
   "pygments_lexer": "ipython3",
   "version": "3.5.0rc4"
  }
 },
 "nbformat": 4,
 "nbformat_minor": 2
}
