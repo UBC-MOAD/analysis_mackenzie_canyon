{
 "cells": [
  {
   "cell_type": "markdown",
   "metadata": {},
   "source": [
    "May: How Mackenzie Canyon fits into the established scaling for depth of upwelling and upwelling flux."
   ]
  },
  {
   "cell_type": "code",
   "execution_count": 1,
   "metadata": {
    "collapsed": true
   },
   "outputs": [],
   "source": [
    "import netCDF4 as nc\n",
    "import xarray as xr\n",
    "import numpy as np\n",
    "from scipy import interpolate\n",
    "from salishsea_tools import gsw_calls\n",
    "import matplotlib.pyplot as plt\n",
    "%matplotlib inline"
   ]
  },
  {
   "cell_type": "code",
   "execution_count": 2,
   "metadata": {
    "collapsed": false
   },
   "outputs": [],
   "source": [
    "path = '/ocean/imachuca/Canyons/results_mackenzie/idealized/upwelling_events/eventB_pulse10_bdy' \n",
    "gridT = xr.open_dataset(path+'/GYRE_1h_20170101_20170120_grid_T.nc')\n",
    "gridU = xr.open_dataset(path+'/GYRE_1h_20170101_20170120_grid_U.nc')\n",
    "gridV = xr.open_dataset(path+'/GYRE_1h_20170101_20170120_grid_V.nc')\n",
    "gridW = xr.open_dataset(path+'/GYRE_1h_20170101_20170120_grid_W.nc')"
   ]
  },
  {
   "cell_type": "code",
   "execution_count": 3,
   "metadata": {
    "collapsed": false
   },
   "outputs": [],
   "source": [
    "nav_lat = np.asfarray(gridT['nav_lat'])\n",
    "deptht = np.asfarray(gridT['deptht'])"
   ]
  },
  {
   "cell_type": "code",
   "execution_count": 4,
   "metadata": {
    "collapsed": false
   },
   "outputs": [],
   "source": [
    "initial_sal = nc.Dataset('../../mackenzie_canyon/conditions/NEMO_files/salinity/salinity_doubled_20.nc')['vosaline']\n",
    "initial_tem = nc.Dataset('../../mackenzie_canyon/conditions/NEMO_files/temperature/temperature_doubled_20.nc')['votemper']"
   ]
  },
  {
   "cell_type": "markdown",
   "metadata": {},
   "source": [
    "# Calculate N\n",
    "\n",
    "The mean latitude and all depth levels are used to find the pressure profile."
   ]
  },
  {
   "cell_type": "code",
   "execution_count": 5,
   "metadata": {
    "collapsed": false
   },
   "outputs": [
    {
     "name": "stdout",
     "output_type": "stream",
     "text": [
      "(20,) (1,) [ 70.71705431]\n"
     ]
    }
   ],
   "source": [
    "dep = -1 * deptht\n",
    "lat = np.ones(1) * np.mean(nav_lat)\n",
    "\n",
    "print(dep.shape, lat.shape, lat)\n",
    "\n",
    "p = gsw_calls.generic_gsw_caller('gsw_p_from_z.m', [dep, lat], matlab_gsw_dir='/ocean/rich/home/matlab/gsw3')"
   ]
  },
  {
   "cell_type": "code",
   "execution_count": 6,
   "metadata": {
    "collapsed": false
   },
   "outputs": [
    {
     "name": "stdout",
     "output_type": "stream",
     "text": [
      "(20,) (20,) (20,)\n"
     ]
    }
   ],
   "source": [
    "SA = initial_sal[0,:,0,0]\n",
    "CT = initial_tem[0,:,0,0]\n",
    "\n",
    "print(SA.shape, CT.shape, p.shape)\n",
    "\n",
    "rho = gsw_calls.generic_gsw_caller('gsw_rho_CT_exact.m', [SA, CT, p], matlab_gsw_dir='/ocean/rich/home/matlab/gsw3')"
   ]
  },
  {
   "cell_type": "code",
   "execution_count": 7,
   "metadata": {
    "collapsed": false
   },
   "outputs": [
    {
     "name": "stdout",
     "output_type": "stream",
     "text": [
      "0.0161591616779\n"
     ]
    }
   ],
   "source": [
    "d_rho0 = np.diff(rho)\n",
    "d_dep0 = np.diff(dep)\n",
    "\n",
    "# diff does n-1 minus n so we lose the last element, thus extrapolate\n",
    "f_rho = interpolate.interp1d(np.arange(len(d_rho0)), d_rho0, fill_value='extrapolate')\n",
    "f_dep = interpolate.interp1d(np.arange(len(d_dep0)), d_dep0, fill_value='extrapolate')\n",
    "\n",
    "d_rho = f_rho(np.arange(len(d_rho0)+1))\n",
    "d_dep = f_dep(np.arange(len(d_dep0)+1))\n",
    "\n",
    "N = np.sqrt((-9.81 / rho)*(d_rho / d_dep))\n",
    "\n",
    "print(np.mean(N))"
   ]
  },
  {
   "cell_type": "code",
   "execution_count": null,
   "metadata": {
    "collapsed": true
   },
   "outputs": [],
   "source": []
  }
 ],
 "metadata": {
  "kernelspec": {
   "display_name": "Python 3",
   "language": "python",
   "name": "python3"
  },
  "language_info": {
   "codemirror_mode": {
    "name": "ipython",
    "version": 3
   },
   "file_extension": ".py",
   "mimetype": "text/x-python",
   "name": "python",
   "nbconvert_exporter": "python",
   "pygments_lexer": "ipython3",
   "version": "3.5.0rc4"
  }
 },
 "nbformat": 4,
 "nbformat_minor": 0
}
