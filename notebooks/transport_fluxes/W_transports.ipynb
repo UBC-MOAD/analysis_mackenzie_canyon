{
 "cells": [
  {
   "cell_type": "code",
   "execution_count": 11,
   "metadata": {
    "collapsed": true
   },
   "outputs": [],
   "source": [
    "import numpy as np\n",
    "import matplotlib.pyplot as plt\n",
    "import matplotlib.cm as cm\n",
    "from salishsea_tools.nc_tools import scDataset\n",
    "%matplotlib inline\n",
    "\n",
    "import sys\n",
    "sys.path.append('/ocean/imachuca/Canyons/analysis_mackenzie_canyon/notebooks/transport_fluxes/')\n",
    "import functions_transport_W\n",
    "sys.path.append('/ocean/imachuca/Canyons/analysis_mackenzie_canyon/notebooks/general_circulation/')\n",
    "import general_functions"
   ]
  },
  {
   "cell_type": "raw",
   "metadata": {},
   "source": [
    "!ncdump -h /ocean/imachuca/Canyons/results_mackenzie/idealized/sbcana_forcings/agrif_wind_timestep/1_MCKNZ_1h_20170101_20170120_grid_W_20170101-20170101.nc"
   ]
  },
  {
   "cell_type": "code",
   "execution_count": 57,
   "metadata": {
    "collapsed": true
   },
   "outputs": [],
   "source": [
    "def get_variables_fluxes(dirname, filepattern, mbathy_diff):\n",
    "    files = general_functions.get_files(dirname, filepattern, 'grid_W')\n",
    "    #x, y =  slice(1,-1,None), slice(1,-1,None)\n",
    "    vovecrtz = np.zeros_like(mbathy_diff)\n",
    "    for y in range(mbathy_diff.shape[-2]):\n",
    "        for x in range(mbathy_diff.shape[-1]):\n",
    "            if mbathy_diff[y,x] > 0:\n",
    "                z = mbathy[y, x]\n",
    "                with scDataset(files) as ds:\n",
    "                    vovecrtz[y, x] = ds.variables['vovecrtz'][:, z, y+1, x+1]\n",
    "            else:\n",
    "                vovecrtz[y, x] = 0\n",
    "            if y*x > 5000:\n",
    "                print(y*x)\n",
    "                \n",
    "    #tmask0 = tmask[:, y, x]\n",
    "    #tmask = np.tile(tmask0, (vovecrtz0.shape[0], 1, 1, 1))  \n",
    "    #vovecrtz = np.ma.array(vovecrtz0, mask=1 - tmask)\n",
    "    return vovecrtz"
   ]
  },
  {
   "cell_type": "raw",
   "metadata": {},
   "source": [
    "filepattern = \"1_MCKNZ_1h_20170101_20170120_*\"\n",
    "vovecrtz = get_variables_fluxes(dirname, filepattern, mbathy_diff)"
   ]
  },
  {
   "cell_type": "code",
   "execution_count": 3,
   "metadata": {
    "collapsed": true
   },
   "outputs": [],
   "source": [
    "dirname = '/ocean/imachuca/Canyons/results_mackenzie/idealized/sbcana_forcings/agrif_wind_timestep/'\n",
    "filename = '1_mesh_mask.nc'\n",
    "gdepw, tmask, mbathy, e1t, e2t = functions_transport_W.get_variables_planes(dirname, filename)\n",
    "filename = '1_mesh_mask_nocanyon.nc'\n",
    "gdepw0, tmask0, mbathy0, e1t0, e2t0 = functions_transport_W.get_variables_planes(dirname, filename)"
   ]
  },
  {
   "cell_type": "code",
   "execution_count": null,
   "metadata": {
    "collapsed": true
   },
   "outputs": [],
   "source": [
    "mbathy_diff = mbathy - mbathy0\n",
    "xs = np.arange(mbathy_diff.shape[-1])\n",
    "ys = np.arange(mbathy_diff.shape[-2])\n",
    "area_k = e1t * e2t\n",
    "mbathy_mask = np.copy(mbathy_diff)\n",
    "mbathy_mask[mbathy_mask > 0] = 1\n",
    "area_k.shape"
   ]
  },
  {
   "cell_type": "code",
   "execution_count": null,
   "metadata": {
    "collapsed": true
   },
   "outputs": [],
   "source": [
    "fig, ([ax1, ax2], [ax3, ax4], [ax5, ax6]) = plt.subplots(3,2,figsize=(20,15))\n",
    "p1 = ax1.pcolormesh(xs, ys, mbathy, cmap=cm.Spectral_r, vmin=0, vmax=80)\n",
    "p2 = ax2.pcolormesh(xs, ys, mbathy0, cmap=cm.Spectral_r, vmin=0, vmax=80)\n",
    "p3 = ax3.pcolormesh(xs, ys, mbathy_diff, cmap=cm.Spectral_r, vmin=0, vmax=80)\n",
    "p4 = ax4.pcolormesh(xs, ys, mbathy_mask, cmap=cm.Spectral_r)\n",
    "p5 = ax5.pcolormesh(xs, ys, mbathy_mask * mbathy, cmap=cm.Spectral_r, vmin=0, vmax=80)\n",
    "\n",
    "for ax in [ax1, ax2, ax3, ax4, ax5]:\n",
    "    ax.set_xlim(0, xs[-1]); ax.set_ylim(0, ys[-1])\n",
    "\n",
    "ttls = ['mbathy', 'mbathy0', 'mbathy - mbathy0', 'mbathy_mask[mbathy_mask > 0] = 1', 'mbathy_mask * mbathy']\n",
    "for n, ax, p, ttl in zip(np.arange(5), [ax1, ax2, ax3, ax4, ax5], [p1,  p2, p3, p4, p5], ttls):\n",
    "    fig.colorbar(p, ax=ax)\n",
    "    ax.set_title(ttl, fontsize=16)"
   ]
  },
  {
   "cell_type": "code",
   "execution_count": null,
   "metadata": {
    "collapsed": true
   },
   "outputs": [],
   "source": []
  }
 ],
 "metadata": {
  "kernelspec": {
   "display_name": "Python 3",
   "language": "python",
   "name": "python3"
  },
  "language_info": {
   "codemirror_mode": {
    "name": "ipython",
    "version": 3
   },
   "file_extension": ".py",
   "mimetype": "text/x-python",
   "name": "python",
   "nbconvert_exporter": "python",
   "pygments_lexer": "ipython3",
   "version": "3.5.0rc4"
  }
 },
 "nbformat": 4,
 "nbformat_minor": 0
}
