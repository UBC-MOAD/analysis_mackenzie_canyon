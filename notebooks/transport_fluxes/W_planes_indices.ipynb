{
 "cells": [
  {
   "cell_type": "code",
   "execution_count": 3,
   "metadata": {
    "collapsed": true
   },
   "outputs": [],
   "source": [
    "import numpy as np\n",
    "import netCDF4 as nc\n",
    "import os\n",
    "import matplotlib\n",
    "import matplotlib.pyplot as plt\n",
    "import matplotlib.cm as cm\n",
    "%matplotlib inline\n",
    "\n",
    "import sys\n",
    "sys.path.append('/ocean/imachuca/Canyons/analysis_mackenzie_canyon/notebooks/transport_fluxes/')\n",
    "import functions_transport_V"
   ]
  },
  {
   "cell_type": "code",
   "execution_count": 55,
   "metadata": {
    "collapsed": false
   },
   "outputs": [
    {
     "name": "stdout",
     "output_type": "stream",
     "text": [
      "netcdf \\1_mesh_mask {\r\n",
      "dimensions:\r\n",
      "\tx = 244 ;\r\n",
      "\ty = 274 ;\r\n",
      "\tz = 80 ;\r\n",
      "\tt = UNLIMITED ; // (1 currently)\r\n",
      "variables:\r\n",
      "\tfloat nav_lon(y, x) ;\r\n",
      "\tfloat nav_lat(y, x) ;\r\n",
      "\tfloat nav_lev(z) ;\r\n",
      "\tdouble time_counter(t) ;\r\n",
      "\tbyte tmask(t, z, y, x) ;\r\n",
      "\tbyte umask(t, z, y, x) ;\r\n",
      "\tbyte vmask(t, z, y, x) ;\r\n",
      "\tbyte fmask(t, z, y, x) ;\r\n",
      "\tbyte tmaskutil(t, y, x) ;\r\n",
      "\tbyte umaskutil(t, y, x) ;\r\n",
      "\tbyte vmaskutil(t, y, x) ;\r\n",
      "\tbyte fmaskutil(t, y, x) ;\r\n",
      "\tfloat glamt(t, y, x) ;\r\n",
      "\tfloat glamu(t, y, x) ;\r\n",
      "\tfloat glamv(t, y, x) ;\r\n",
      "\tfloat glamf(t, y, x) ;\r\n",
      "\tfloat gphit(t, y, x) ;\r\n",
      "\tfloat gphiu(t, y, x) ;\r\n",
      "\tfloat gphiv(t, y, x) ;\r\n",
      "\tfloat gphif(t, y, x) ;\r\n",
      "\tdouble e1t(t, y, x) ;\r\n",
      "\tdouble e1u(t, y, x) ;\r\n",
      "\tdouble e1v(t, y, x) ;\r\n",
      "\tdouble e1f(t, y, x) ;\r\n",
      "\tdouble e2t(t, y, x) ;\r\n",
      "\tdouble e2u(t, y, x) ;\r\n",
      "\tdouble e2v(t, y, x) ;\r\n",
      "\tdouble e2f(t, y, x) ;\r\n",
      "\tdouble ff(t, y, x) ;\r\n",
      "\tshort mbathy(t, y, x) ;\r\n",
      "\tshort misf(t, y, x) ;\r\n",
      "\tfloat isfdraft(t, y, x) ;\r\n",
      "\tdouble e3t_0(t, z, y, x) ;\r\n",
      "\tdouble e3u_0(t, z, y, x) ;\r\n",
      "\tdouble e3v_0(t, z, y, x) ;\r\n",
      "\tdouble e3w_0(t, z, y, x) ;\r\n",
      "\tfloat gdept_0(t, z, y, x) ;\r\n",
      "\tfloat gdepu(t, z, y, x) ;\r\n",
      "\tfloat gdepv(t, z, y, x) ;\r\n",
      "\tfloat gdepw_0(t, z, y, x) ;\r\n",
      "\tdouble gdept_1d(t, z) ;\r\n",
      "\tdouble gdepw_1d(t, z) ;\r\n",
      "\tdouble e3t_1d(t, z) ;\r\n",
      "\tdouble e3w_1d(t, z) ;\r\n",
      "\r\n",
      "// global attributes:\r\n",
      "\t\t:file_name = \"1_mesh_mask.nc\" ;\r\n",
      "\t\t:TimeStamp = \"27/07/2017 17:57:43 -0700\" ;\r\n",
      "}\r\n"
     ]
    }
   ],
   "source": [
    "! ncdump -h /ocean/imachuca/Canyons/results_mackenzie/idealized/sbcana_forcings/agrif_wind_timestep/1_mesh_mask.nc"
   ]
  },
  {
   "cell_type": "code",
   "execution_count": 49,
   "metadata": {
    "collapsed": true
   },
   "outputs": [],
   "source": [
    "def get_variables_planes(dirname, filename):\n",
    "    with nc.Dataset(os.path.join(dirname, filename), 'r') as nbl:\n",
    "        x, y =  slice(1,-1,None), slice(1,-1,None)\n",
    "        gdepw = nbl.variables['gdepw_1d'][0, :]\n",
    "        tmask = nbl.variables['tmask'][0, :, y, x]\n",
    "        mbathy = nbl.variables['mbathy'][0, y, x]\n",
    "        e1t = nbl.variables['e1t'][0, y, x]\n",
    "        e2t = nbl.variables['e2t'][0, y, x]  \n",
    "        return gdepw, tmask, mbathy, e1t, e2t"
   ]
  },
  {
   "cell_type": "code",
   "execution_count": 50,
   "metadata": {
    "collapsed": false
   },
   "outputs": [],
   "source": [
    "dirname = '/ocean/imachuca/Canyons/results_mackenzie/idealized/sbcana_forcings/agrif_wind_timestep/'\n",
    "filename = '1_mesh_mask.nc'\n",
    "gdepw, tmask, mbathy, e1t, e2t = get_variables_planes(dirname, filename)\n",
    "filename = '1_mesh_mask_nocanyon.nc'\n",
    "gdepw0, tmask0, mbathy0, e1t0, e2t0 = get_variables_planes(dirname, filename)"
   ]
  },
  {
   "cell_type": "code",
   "execution_count": 51,
   "metadata": {
    "collapsed": false
   },
   "outputs": [
    {
     "data": {
      "text/plain": [
       "((272, 242), (272, 242), (272, 242))"
      ]
     },
     "execution_count": 51,
     "metadata": {},
     "output_type": "execute_result"
    }
   ],
   "source": [
    "mbathy.shape, e1t.shape, e2t.shape"
   ]
  },
  {
   "cell_type": "code",
   "execution_count": 62,
   "metadata": {
    "collapsed": false
   },
   "outputs": [],
   "source": [
    "xs = np.arange(mbathy.shape[-1])\n",
    "ys = np.arange(mbathy.shape[-2])\n",
    "mbathy_diff = mbathy - mbathy0"
   ]
  },
  {
   "cell_type": "code",
   "execution_count": 90,
   "metadata": {
    "collapsed": false
   },
   "outputs": [],
   "source": [
    "axis_thalweg = np.zeros(mbathy_diff.shape[-2])\n",
    "for y in range(len(axis_thalweg)):\n",
    "    mbathy_row = mbathy_diff[y, :]\n",
    "    max_mbathy_row = mbathy_row.max()\n",
    "    x_inds_max_mbathy_row = np.where(mbathy_row == max_mbathy_row)[0]\n",
    "    x_ind_thalweg = int(np.median(inds_max_mbathy_row))\n",
    "    axis_thalweg[y] = x_ind_thalweg"
   ]
  },
  {
   "cell_type": "code",
   "execution_count": 94,
   "metadata": {
    "collapsed": false
   },
   "outputs": [
    {
     "data": {
      "text/plain": [
       "[<matplotlib.lines.Line2D at 0x7f41728d9b38>]"
      ]
     },
     "execution_count": 94,
     "metadata": {},
     "output_type": "execute_result"
    },
    {
     "data": {
      "image/png": "[encoded data removed]",
      "text/plain": [
       "<matplotlib.figure.Figure at 0x7f415bf94860>"
      ]
     },
     "metadata": {},
     "output_type": "display_data"
    }
   ],
   "source": [
    "fig, ax = plt.subplots(1,1,figsize=(10,5))\n",
    "p = ax.pcolormesh(xs, ys, mbathy_diff, cmap=cm.Spectral_r)\n",
    "ax.set_xlim(0, xs[-1]); ax.set_ylim(0, ys[-1])\n",
    "fig.colorbar(p, ax=ax)\n",
    "\n",
    "ax.plot(axis_thalweg, ys, c='w', linewidth=2)"
   ]
  },
  {
   "cell_type": "code",
   "execution_count": null,
   "metadata": {
    "collapsed": true
   },
   "outputs": [],
   "source": []
  }
 ],
 "metadata": {
  "kernelspec": {
   "display_name": "Python 3",
   "language": "python",
   "name": "python3"
  },
  "language_info": {
   "codemirror_mode": {
    "name": "ipython",
    "version": 3
   },
   "file_extension": ".py",
   "mimetype": "text/x-python",
   "name": "python",
   "nbconvert_exporter": "python",
   "pygments_lexer": "ipython3",
   "version": "3.5.0rc4"
  }
 },
 "nbformat": 4,
 "nbformat_minor": 0
}
