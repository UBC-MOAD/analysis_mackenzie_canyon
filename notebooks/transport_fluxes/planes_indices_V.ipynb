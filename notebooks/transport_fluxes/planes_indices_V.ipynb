{
 "cells": [
  {
   "cell_type": "markdown",
   "metadata": {},
   "source": [
    "August: Defining transport sections on the plane that cuts vertically at the shelf break. This is specifically for V transport."
   ]
  },
  {
   "cell_type": "code",
   "execution_count": 1,
   "metadata": {
    "collapsed": true
   },
   "outputs": [],
   "source": [
    "import numpy as np\n",
    "import netCDF4 as nc\n",
    "import os\n",
    "import matplotlib\n",
    "import matplotlib.pyplot as plt\n",
    "import matplotlib.cm as cm\n",
    "%matplotlib inline\n",
    "\n",
    "import sys\n",
    "sys.path.append('/ocean/imachuca/Canyons/analysis_mackenzie_canyon/notebooks/general_circulation/')\n",
    "import general_functions"
   ]
  },
  {
   "cell_type": "markdown",
   "metadata": {},
   "source": [
    "## Key variables:\n",
    "* gdepv: depth of V-grid points\n",
    "* vmask: mask for V-grid\n",
    "* mbathy: fortran (1-based) index of deepest water cell, T-grid\n",
    "* e1v\n",
    "* e3v"
   ]
  },
  {
   "cell_type": "raw",
   "metadata": {},
   "source": [
    "! ncdump -h /ocean/imachuca/Canyons/results_mackenzie/idealized/sbcana_forcings/agrif_wind_timestep/1_mesh_mask.nc"
   ]
  },
  {
   "cell_type": "code",
   "execution_count": 8,
   "metadata": {
    "collapsed": true
   },
   "outputs": [],
   "source": [
    "path = '/ocean/imachuca/Canyons/results_mackenzie/idealized/sbcana_forcings/agrif_wind_timestep/'\n",
    "\n",
    "with nc.Dataset(os.path.join(path, '1_mesh_mask.nc'), 'r') as nbl:\n",
    "    gdepv = nbl.variables['gdepv'][0, :, 1, 1]\n",
    "    vmask = nbl.variables['umask'][0,...]\n",
    "    mbathy = nbl.variables['mbathy'][0,...]\n",
    "    e1v = nbl.variables['e1v'][0,...]\n",
    "    e3v_0 = nbl.variables['e3v_0'][0,...]    "
   ]
  },
  {
   "cell_type": "code",
   "execution_count": 18,
   "metadata": {
    "collapsed": false
   },
   "outputs": [
    {
     "name": "stdout",
     "output_type": "stream",
     "text": [
      "9\n",
      "179\n",
      "10 91.875\n",
      "60 534.672\n",
      "110\n",
      "49 171\n",
      "(80, 244)\n",
      "(80,)\n",
      "25 223.125\n"
     ]
    }
   ],
   "source": [
    "# z index of the shelf platform\n",
    "# 1. find where the depth of v point is closest to 80\n",
    "# 2. re-assess answer later\n",
    "ind_shelf = np.argmin(np.abs(gdepv - 80))\n",
    "\n",
    "print(ind_shelf)\n",
    "\n",
    "# y index of shelf break \n",
    "# 1. get top view of vmask at shelf depth\n",
    "# 2. extract wet/dry values along x=1 \n",
    "# 3. find the first wet cell\n",
    "ind_plane = np.where(vmask[ind_shelf, :, 1] == 1)[0][0]\n",
    "\n",
    "print(ind_plane)\n",
    "\n",
    "# z index of the shelf platform\n",
    "cells_shelf = vmask[ind_shelf, ind_plane, :]\n",
    "cells_shelf_W = np.count_nonzero(cells_shelf)\n",
    "cells_shelf_D = vmask.shape[-1] - cells_shelf_W\n",
    "while cells_shelf_D < 4:\n",
    "    ind_shelf += 1\n",
    "    cells_shelf = vmask[ind_shelf, ind_plane, :]\n",
    "    cells_shelf_W = np.count_nonzero(cells_shelf)\n",
    "    cells_shelf_D = vmask.shape[-1] - cells_shelf_W\n",
    "depth_shelf = gdepv[ind_shelf]\n",
    "\n",
    "print(ind_shelf, depth_shelf)\n",
    "\n",
    "# z index of canyon bottom\n",
    "# 1. mbathy gives maximum depth level everywhere\n",
    "# 2. this value is given in fortran indexing\n",
    "# 3. subtracting 1 gives the deepest level with wet cells\n",
    "ind_bottom = (mbathy[ind_plane,:].max())-1\n",
    "depth_bottom = gdepv[ind_bottom]\n",
    "\n",
    "print(ind_bottom, depth_bottom)\n",
    "\n",
    "# x index of canyon axis\n",
    "# 1. find all wet cells along canyon bottom\n",
    "# 2. find the middle wet cell for symmetric axis\n",
    "# 3. this could have a 0.5 so return integer\n",
    "\n",
    "ind_axis = int(np.median(np.where(vmask[ind_bottom, ind_plane, :]==1)))\n",
    "print(ind_axis)\n",
    "\n",
    "# x index of rims\n",
    "# 1. last land value on left\n",
    "# 2. first land value on right\n",
    "ind_rimL = np.where(vmask[ind_shelf, ind_plane, :ind_axis]==0)[0][-1]\n",
    "ind_rimR = np.where(vmask[ind_shelf, ind_plane, ind_axis:]==0)[0][0] + ind_axis - 1\n",
    "\n",
    "print(ind_rimL, ind_rimR)\n",
    "\n",
    "# area of wet cells\n",
    "vmask_plane = vmask[:,ind_plane,:]\n",
    "cell_x_j = e1v[ind_plane, :]\n",
    "cell_y_j = e3v_0[:,ind_plane,:]\n",
    "area_j = vmask_plane * cell_x_j * cell_y_j\n",
    "\n",
    "print(area_j.shape)\n",
    "\n",
    "# calculate the area of all cells along a single row\n",
    "area_all = np.zeros(area_j.shape[0])\n",
    "for depth_ind in range(area_j.shape[0]):\n",
    "    area_row =area_j[depth_ind,:].sum()\n",
    "    area_all[depth_ind] = area_row\n",
    "\n",
    "print(area_all.shape)\n",
    "\n",
    "# narrow down the areas of rows to only those inside canyon\n",
    "area_canyon = area_all[ind_shelf:ind_bottom]\n",
    "area_canyon_inds = np.arange(ind_shelf,ind_bottom)\n",
    "\n",
    "# find row (or depth) at which we have half the area in canyon\n",
    "total_area_canyon = np.sum(area_canyon)\n",
    "half_area_canyon = total_area_canyon / 2\n",
    "cumsum_area_canyon = np.cumsum(area_canyon)\n",
    "half_area_canyon_ind = (np.abs(cumsum_area_canyon-half_area_canyon)).argmin()\n",
    "\n",
    "ind_half = area_canyon_inds[half_area_canyon_ind]\n",
    "depth_half = gdepv[ind_half]\n",
    "\n",
    "print(ind_half, depth_half)"
   ]
  },
  {
   "cell_type": "code",
   "execution_count": 20,
   "metadata": {
    "collapsed": false
   },
   "outputs": [
    {
     "data": {
      "text/plain": [
       "<matplotlib.lines.Line2D at 0x7f8e6c64cd68>"
      ]
     },
     "execution_count": 20,
     "metadata": {},
     "output_type": "execute_result"
    },
    {
     "data": {
      "image/png": "[encoded data removed]",
      "text/plain": [
       "<matplotlib.figure.Figure at 0x7f8e770a1908>"
      ]
     },
     "metadata": {},
     "output_type": "display_data"
    }
   ],
   "source": [
    "fig, (ax1, ax2, ax3) = plt.subplots(1,3,figsize=(15,5))\n",
    "p1 = ax1.pcolor(vmask[ind_shelf, :, :])\n",
    "p2 = ax2.pcolor(vmask[:, ind_plane, :])\n",
    "p3 = ax3.pcolor(mbathy)\n",
    "fig.colorbar(p1, ax=ax1)\n",
    "fig.colorbar(p2, ax=ax2)\n",
    "fig.colorbar(p3, ax=ax3)\n",
    "ax2.invert_yaxis()\n",
    "\n",
    "ax1.axhline(ind_plane, c='white')\n",
    "ax2.axhline(ind_shelf, c='white')\n",
    "ax2.axhline(ind_bottom, c='white')\n",
    "ax2.axvline(ind_axis, c='white')\n",
    "ax3.axhline(ind_plane, c='white')\n",
    "ax2.axvline(ind_rimL, c='white')\n",
    "ax2.axvline(ind_rimR, c='white')\n",
    "ax2.axhline(ind_half, c='white')"
   ]
  },
  {
   "cell_type": "code",
   "execution_count": null,
   "metadata": {
    "collapsed": false
   },
   "outputs": [],
   "source": []
  },
  {
   "cell_type": "code",
   "execution_count": null,
   "metadata": {
    "collapsed": true
   },
   "outputs": [],
   "source": []
  }
 ],
 "metadata": {
  "kernelspec": {
   "display_name": "Python 3",
   "language": "python",
   "name": "python3"
  },
  "language_info": {
   "codemirror_mode": {
    "name": "ipython",
    "version": 3
   },
   "file_extension": ".py",
   "mimetype": "text/x-python",
   "name": "python",
   "nbconvert_exporter": "python",
   "pygments_lexer": "ipython3",
   "version": "3.5.0rc4"
  }
 },
 "nbformat": 4,
 "nbformat_minor": 0
}
