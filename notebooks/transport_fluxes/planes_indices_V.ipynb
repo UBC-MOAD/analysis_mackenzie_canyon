{
 "cells": [
  {
   "cell_type": "markdown",
   "metadata": {},
   "source": [
    "August: Defining transport sections on the plane that cuts vertically at the shelf break. This is specifically for V transport."
   ]
  },
  {
   "cell_type": "code",
   "execution_count": 1,
   "metadata": {
    "collapsed": true
   },
   "outputs": [],
   "source": [
    "import numpy as np\n",
    "import netCDF4 as nc\n",
    "import os\n",
    "import matplotlib\n",
    "import matplotlib.pyplot as plt\n",
    "import matplotlib.cm as cm\n",
    "%matplotlib inline"
   ]
  },
  {
   "cell_type": "markdown",
   "metadata": {},
   "source": [
    "## Key variables:\n",
    "* gdepv: depth of V-grid points\n",
    "* vmask: mask for V-grid\n",
    "* mbathy: fortran (1-based) index of deepest water cell, T-grid\n",
    "* e1v: \tgrid spacing on V-grid in u direction\n",
    "* e3v\n",
    "* note: the cross section at the shelf break plane is looking out of the canyon from the inside."
   ]
  },
  {
   "cell_type": "raw",
   "metadata": {},
   "source": [
    "! ncdump -h /ocean/imachuca/Canyons/results_mackenzie/idealized/sbcana_forcings/agrif_wind_timestep/1_mesh_mask.nc"
   ]
  },
  {
   "cell_type": "code",
   "execution_count": 2,
   "metadata": {
    "collapsed": true
   },
   "outputs": [],
   "source": [
    "def get_variables_V(dirname, filename):\n",
    "    with nc.Dataset(os.path.join(dirname, filename), 'r') as nbl:\n",
    "        x, y =  slice(1,-1,None), slice(1,-1,None)\n",
    "        gdepv = nbl.variables['gdepv'][0, :, 1, 1]\n",
    "        vmask = nbl.variables['vmask'][0, :, y, x]\n",
    "        mbathy = nbl.variables['mbathy'][0, y, x]\n",
    "        e1v = nbl.variables['e1v'][0, y, x]\n",
    "        e3v_0 = nbl.variables['e3v_0'][0, :, y, x]  \n",
    "        return gdepv, vmask, mbathy, e1v, e3v_0\n",
    "    \n",
    "# ------------------------------------------------------------------------------------------------\n",
    "    \n",
    "def get_indices_V(gdepv, vmask, mbathy, e1v, e3v_0):\n",
    "    \n",
    "    # z index of the shelf platform\n",
    "    # 1. find where the depth of v point is closest to 80\n",
    "    # 2. re-assess answer later\n",
    "    ind_shelf = np.argmin(np.abs(gdepv - 80))\n",
    "\n",
    "    # y index of shelf break \n",
    "    # 1. get top view of vmask at shelf depth\n",
    "    # 2. extract wet/dry values along x=1 \n",
    "    # 3. find the first wet cell\n",
    "    ind_plane = np.where(vmask[ind_shelf, :, 1] == 1)[0][0]\n",
    "\n",
    "    print('ind_plane', ind_plane)\n",
    "\n",
    "    # z index of the shelf platform\n",
    "    cells_shelf = vmask[ind_shelf, ind_plane, :]\n",
    "    cells_shelf_W = np.count_nonzero(cells_shelf)\n",
    "    cells_shelf_D = vmask.shape[-1] - cells_shelf_W\n",
    "    while cells_shelf_D < 4:\n",
    "        ind_shelf += 1\n",
    "        cells_shelf = vmask[ind_shelf, ind_plane, :]\n",
    "        cells_shelf_W = np.count_nonzero(cells_shelf)\n",
    "        cells_shelf_D = vmask.shape[-1] - cells_shelf_W\n",
    "    depth_shelf = gdepv[ind_shelf]\n",
    "\n",
    "    print('ind_shelf', ind_shelf)\n",
    "    print('depth_shelf', depth_shelf)\n",
    "\n",
    "    # z index of canyon bottom\n",
    "    # 1. mbathy gives maximum depth level everywhere\n",
    "    # 2. this value is given in fortran indexing\n",
    "    # 3. subtracting 1 gives the deepest level with wet cells\n",
    "    ind_bottom = (mbathy[ind_plane,:].max())-1\n",
    "    depth_bottom = gdepv[ind_bottom]\n",
    "\n",
    "    print('ind_bottom', ind_bottom)\n",
    "    print('depth_bottom', depth_bottom)\n",
    "\n",
    "    # x index of canyon axis\n",
    "    # 1. find all wet cells along canyon bottom\n",
    "    # 2. find the middle wet cell for symmetric axis\n",
    "    # 3. this could have a 0.5 so return integer\n",
    "\n",
    "    ind_axis = int(np.median(np.where(vmask[ind_bottom, ind_plane, :]==1)))\n",
    "    print('ind_axis', ind_axis)\n",
    "\n",
    "    # x index of rims\n",
    "    # 1. last land value on left\n",
    "    # 2. first land value on right\n",
    "    ind_rimL0 = np.where(vmask[ind_shelf, ind_plane, :ind_axis]==0)[0][-1]\n",
    "    ind_rimR0 = np.where(vmask[ind_shelf, ind_plane, ind_axis:]==0)[0][0] + ind_axis\n",
    "    axis_to_rim = min(ind_rimR0 - ind_axis, ind_axis - ind_rimL0)\n",
    "    ind_rimL = ind_axis - axis_to_rim\n",
    "    ind_rimR = ind_axis + axis_to_rim\n",
    "\n",
    "    print('ind_rimL', ind_rimL)\n",
    "    print('ind_rimR', ind_rimR)\n",
    "\n",
    "    # z index of half canyon\n",
    "    # 1. area of individual wet cells\n",
    "    cell_x_j = e1v[ind_plane, :]\n",
    "    cell_y_j = e3v_0[:, ind_plane, :]\n",
    "    area_j = vmask[:, ind_plane, :] * cell_x_j * cell_y_j\n",
    "\n",
    "    # 2. total area of every depth level\n",
    "    area_all = np.zeros(area_j.shape[0])\n",
    "    for depth_ind in range(area_j.shape[0]):\n",
    "        area_all[depth_ind] = area_j[depth_ind, :].sum()\n",
    "\n",
    "    # 3. areas and indices of only the depth levels inside the canyon\n",
    "    area_canyon = area_all[ind_shelf:ind_bottom]\n",
    "    area_canyon_inds = np.arange(ind_shelf,ind_bottom)\n",
    "\n",
    "    # 4. half the area of the canyon\n",
    "    total_area_canyon = np.sum(area_canyon)\n",
    "    half_area_canyon = total_area_canyon / 2\n",
    "\n",
    "    # 5. relative level where cumulative area is closest to the half area\n",
    "    cumsum_area_canyon = np.cumsum(area_canyon)\n",
    "    relative_ind_half = (np.abs(cumsum_area_canyon-half_area_canyon)).argmin()\n",
    "\n",
    "    # 6. the real depth level for half area\n",
    "    ind_half = area_canyon_inds[relative_ind_half]\n",
    "    depth_half = gdepv[ind_half]\n",
    "\n",
    "    print('ind_half', ind_half)\n",
    "    print('depth_half', depth_half)\n",
    "    \n",
    "    # x index of shelves\n",
    "    # 1. try to make shf same width as rim\n",
    "    # 2. \n",
    "    ind_shfL0 = ind_rimL - axis_to_rim\n",
    "    ind_shfR0 = ind_rimR + axis_to_rim\n",
    "    while ind_shfL0 <= 4:\n",
    "        ind_shfL0 += 1\n",
    "    while ind_shfR0 >= vmask.shape[-1]-4:\n",
    "        ind_shfR0 -= 1\n",
    "    axis_to_shf = min(ind_shfR0 - ind_axis, ind_axis - ind_shfL0)\n",
    "    ind_shfL = ind_axis - axis_to_shf\n",
    "    ind_shfR = ind_axis + axis_to_shf\n",
    "\n",
    "    print('ind_shfL', ind_shfL)\n",
    "    print('ind_shfR', ind_shfR)\n",
    "    \n",
    "    return ind_plane, ind_shelf, ind_bottom, ind_axis, ind_rimL, ind_rimR, ind_half, ind_shfL, ind_shfR,\\\n",
    "            depth_shelf, depth_bottom, depth_half, area_j"
   ]
  },
  {
   "cell_type": "code",
   "execution_count": 3,
   "metadata": {
    "collapsed": false
   },
   "outputs": [
    {
     "data": {
      "text/plain": [
       "((80,), (80, 272, 242), (272, 242), (272, 242), (80, 272, 242))"
      ]
     },
     "execution_count": 3,
     "metadata": {},
     "output_type": "execute_result"
    }
   ],
   "source": [
    "dirname = '/ocean/imachuca/Canyons/results_mackenzie/idealized/sbcana_forcings/agrif_wind_timestep/'\n",
    "filename = '1_mesh_mask.nc'\n",
    "\n",
    "gdepv, vmask, mbathy, e1v, e3v_0 = get_variables_V(dirname, filename)\n",
    "\n",
    "gdepv.shape, vmask.shape, mbathy.shape, e1v.shape, e3v_0.shape"
   ]
  },
  {
   "cell_type": "code",
   "execution_count": 4,
   "metadata": {
    "collapsed": false
   },
   "outputs": [
    {
     "name": "stdout",
     "output_type": "stream",
     "text": [
      "ind_plane 178\n",
      "ind_shelf 10\n",
      "depth_shelf 91.875\n",
      "ind_bottom 60\n",
      "depth_bottom 534.672\n",
      "ind_axis 110\n",
      "ind_rimL 48\n",
      "ind_rimR 172\n",
      "ind_half 25\n",
      "depth_half 223.125\n",
      "ind_shfL 5\n",
      "ind_shfR 215\n"
     ]
    }
   ],
   "source": [
    "ind_plane, ind_shelf, ind_bottom, ind_axis, ind_rimL, ind_rimR, ind_half, ind_shfL, ind_shfR,\\\n",
    "depth_shelf, depth_bottom, depth_half, area_j = get_indices_V(gdepv, vmask, mbathy, e1v, e3v_0)"
   ]
  },
  {
   "cell_type": "code",
   "execution_count": 5,
   "metadata": {
    "collapsed": false
   },
   "outputs": [
    {
     "data": {
      "text/plain": [
       "<matplotlib.text.Text at 0x7f9e1b9209e8>"
      ]
     },
     "execution_count": 5,
     "metadata": {},
     "output_type": "execute_result"
    },
    {
     "data": {
      "image/png": "[encoded data removed]",
      "text/plain": [
       "<matplotlib.figure.Figure at 0x7f9e1ba08b70>"
      ]
     },
     "metadata": {},
     "output_type": "display_data"
    }
   ],
   "source": [
    "xs = np.arange(vmask.shape[-1])\n",
    "ys = np.arange(vmask.shape[-2])\n",
    "zs = np.arange(vmask.shape[-3])\n",
    "\n",
    "fig, (ax1, ax2, ax3) = plt.subplots(1,3,figsize=(15,5))\n",
    "p1 = ax1.pcolor(xs, ys, vmask[ind_shelf, :, :])\n",
    "p2 = ax2.pcolor(xs, zs, vmask[:, ind_plane, :])\n",
    "p3 = ax3.pcolor(xs, ys, mbathy)\n",
    "fig.colorbar(p1, ax=ax1)\n",
    "fig.colorbar(p2, ax=ax2)\n",
    "fig.colorbar(p3, ax=ax3)\n",
    "ax2.invert_yaxis()\n",
    "\n",
    "ax1.axhline(ind_plane, c='white')\n",
    "ax2.axhline(ind_shelf, c='white')\n",
    "ax2.axhline(ind_bottom, c='white')\n",
    "ax2.axvline(ind_axis, c='white')\n",
    "ax3.axhline(ind_plane, c='white')\n",
    "ax2.axvline(ind_rimL, c='white')\n",
    "ax2.axvline(ind_rimR, c='white')\n",
    "ax2.axhline(ind_half, c='white')\n",
    "ax2.axvline(ind_shfL, c='white')\n",
    "ax2.axvline(ind_shfR, c='white')\n",
    "\n",
    "ax1.set_xlabel('x indices')\n",
    "ax1.set_ylabel('y indices')\n",
    "ax2.set_xlabel('x indices')\n",
    "ax2.set_ylabel('z indices')"
   ]
  },
  {
   "cell_type": "code",
   "execution_count": null,
   "metadata": {
    "collapsed": true
   },
   "outputs": [],
   "source": []
  }
 ],
 "metadata": {
  "kernelspec": {
   "display_name": "Python 3",
   "language": "python",
   "name": "python3"
  },
  "language_info": {
   "codemirror_mode": {
    "name": "ipython",
    "version": 3
   },
   "file_extension": ".py",
   "mimetype": "text/x-python",
   "name": "python",
   "nbconvert_exporter": "python",
   "pygments_lexer": "ipython3",
   "version": "3.5.0rc4"
  }
 },
 "nbformat": 4,
 "nbformat_minor": 0
}
