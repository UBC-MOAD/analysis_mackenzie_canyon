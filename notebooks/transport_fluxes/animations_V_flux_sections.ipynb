{
 "cells": [
  {
   "cell_type": "code",
   "execution_count": 1,
   "metadata": {
    "collapsed": true
   },
   "outputs": [],
   "source": [
    "import numpy as np\n",
    "import matplotlib.pyplot as plt\n",
    "import matplotlib.cm as cm\n",
    "%matplotlib inline\n",
    "\n",
    "import sys\n",
    "sys.path.append('/ocean/imachuca/Canyons/analysis_mackenzie_canyon/notebooks/transport_fluxes/')\n",
    "import functions_transport_V\n",
    "sys.path.append('/ocean/imachuca/Canyons/analysis_mackenzie_canyon/notebooks/general_circulation/')\n",
    "import general_functions"
   ]
  },
  {
   "cell_type": "code",
   "execution_count": 2,
   "metadata": {
    "collapsed": true
   },
   "outputs": [],
   "source": [
    "dirname = '/ocean/imachuca/Canyons/results_mackenzie/idealized/sbcana_forcings/agrif_wind_timestep/'\n",
    "filename = '1_mesh_mask.nc'\n",
    "gdepv, vmask, mbathy, e1v, e3v_0 = functions_transport_V.get_variables_planes(dirname, filename)"
   ]
  },
  {
   "cell_type": "code",
   "execution_count": 3,
   "metadata": {
    "collapsed": false
   },
   "outputs": [
    {
     "name": "stdout",
     "output_type": "stream",
     "text": [
      "ind_plane 178\n",
      "ind_shelf 10\n",
      "depth_shelf 91.875\n",
      "ind_bottom 60\n",
      "depth_bottom 534.672\n",
      "ind_axis 110\n",
      "ind_rimW 48\n",
      "ind_rimE 172\n",
      "ind_half 25\n",
      "depth_half 223.125\n",
      "ind_shfW 5\n",
      "ind_shfE 215\n"
     ]
    }
   ],
   "source": [
    "ind_plane, ind_shelf, ind_bottom, ind_axis, ind_rimW, ind_rimE, ind_half, ind_shfW, ind_shfE,\\\n",
    "depth_shelf, depth_bottom, depth_half, area_j = functions_transport_V.get_indices_V(gdepv, vmask, mbathy, e1v, e3v_0)"
   ]
  },
  {
   "cell_type": "code",
   "execution_count": 4,
   "metadata": {
    "collapsed": false
   },
   "outputs": [],
   "source": [
    "filepattern = \"1_MCKNZ_1h_20170101_20170120_*\"\n",
    "vomecrty = functions_transport_V.get_variables_fluxes(dirname, filepattern, ind_plane, vmask)"
   ]
  },
  {
   "cell_type": "code",
   "execution_count": 6,
   "metadata": {
    "collapsed": false
   },
   "outputs": [],
   "source": [
    "Q_j_all = functions_transport_V.calculate_flux_V_evolution(vomecrty, area_j)"
   ]
  },
  {
   "cell_type": "code",
   "execution_count": 7,
   "metadata": {
    "collapsed": true
   },
   "outputs": [],
   "source": [
    "Q_j_shfW, Q_j_rimW, Q_j_rimE, Q_j_shfE, Q_j_topW, Q_j_topE, Q_j_botW, Q_j_botE = functions_transport_V.extract_sections(\n",
    "    Q_j_all, ind_shelf, ind_bottom, ind_axis, ind_rimW, ind_rimE, ind_half, ind_shfW, ind_shfE)"
   ]
  },
  {
   "cell_type": "code",
   "execution_count": 8,
   "metadata": {
    "collapsed": true
   },
   "outputs": [],
   "source": [
    "axis = (1,2)\n",
    "tot_Q_j_shfW, tot_Q_j_rimW, tot_Q_j_rimE, tot_Q_j_shfE, tot_Q_j_topW, tot_Q_j_topE, tot_Q_j_botW, tot_Q_j_botE = functions_transport_V.total_sections(\n",
    "    axis, Q_j_shfW, Q_j_rimW, Q_j_rimE, Q_j_shfE, Q_j_topW, Q_j_topE, Q_j_botW, Q_j_botE)"
   ]
  },
  {
   "cell_type": "raw",
   "metadata": {},
   "source": [
    "fig, ax = plt.subplots(1, 1, figsize=(20, 5))\n",
    "fluxes = [tot_Q_j_shfW, tot_Q_j_rimW, tot_Q_j_rimE, tot_Q_j_shfE, tot_Q_j_topW, tot_Q_j_topE, tot_Q_j_botW, tot_Q_j_botE]\n",
    "labels = ['shfW', 'rimW', 'rimE', 'shfE', 'topW', 'topE', 'botW', 'botE']\n",
    "\n",
    "for flux, label in zip(fluxes, labels):\n",
    "    ax.plot(flux, label=label)\n",
    "ax.legend(ncol = 8, loc=4)\n",
    "ax.axhline(0, c='k')"
   ]
  },
  {
   "cell_type": "code",
   "execution_count": null,
   "metadata": {
    "collapsed": true
   },
   "outputs": [],
   "source": []
  }
 ],
 "metadata": {
  "kernelspec": {
   "display_name": "Python 3",
   "language": "python",
   "name": "python3"
  },
  "language_info": {
   "codemirror_mode": {
    "name": "ipython",
    "version": 3
   },
   "file_extension": ".py",
   "mimetype": "text/x-python",
   "name": "python",
   "nbconvert_exporter": "python",
   "pygments_lexer": "ipython3",
   "version": "3.5.0rc4"
  }
 },
 "nbformat": 4,
 "nbformat_minor": 0
}
