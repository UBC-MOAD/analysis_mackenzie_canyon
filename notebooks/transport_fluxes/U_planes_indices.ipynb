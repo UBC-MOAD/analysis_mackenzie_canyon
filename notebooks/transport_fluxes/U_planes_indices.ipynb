{
 "cells": [
  {
   "cell_type": "markdown",
   "metadata": {},
   "source": [
    "August: Defining transport sections on the plane that cuts vertically at the shelf break. This is specifically for U transport."
   ]
  },
  {
   "cell_type": "code",
   "execution_count": 136,
   "metadata": {
    "collapsed": true
   },
   "outputs": [],
   "source": [
    "import numpy as np\n",
    "import netCDF4 as nc\n",
    "import os\n",
    "import matplotlib\n",
    "import matplotlib.pyplot as plt\n",
    "import matplotlib.cm as cm\n",
    "%matplotlib inline\n",
    "\n",
    "from salishsea_tools.nc_tools import scDataset\n",
    "\n",
    "import sys\n",
    "sys.path.append('/ocean/imachuca/Canyons/analysis_mackenzie_canyon/notebooks/general_circulation/')\n",
    "import general_functions"
   ]
  },
  {
   "cell_type": "code",
   "execution_count": 1,
   "metadata": {
    "collapsed": false
   },
   "outputs": [
    {
     "name": "stdout",
     "output_type": "stream",
     "text": [
      "netcdf \\1_mesh_mask {\r\n",
      "dimensions:\r\n",
      "\tx = 244 ;\r\n",
      "\ty = 274 ;\r\n",
      "\tz = 80 ;\r\n",
      "\tt = UNLIMITED ; // (1 currently)\r\n",
      "variables:\r\n",
      "\tfloat nav_lon(y, x) ;\r\n",
      "\tfloat nav_lat(y, x) ;\r\n",
      "\tfloat nav_lev(z) ;\r\n",
      "\tdouble time_counter(t) ;\r\n",
      "\tbyte tmask(t, z, y, x) ;\r\n",
      "\tbyte umask(t, z, y, x) ;\r\n",
      "\tbyte vmask(t, z, y, x) ;\r\n",
      "\tbyte fmask(t, z, y, x) ;\r\n",
      "\tbyte tmaskutil(t, y, x) ;\r\n",
      "\tbyte umaskutil(t, y, x) ;\r\n",
      "\tbyte vmaskutil(t, y, x) ;\r\n",
      "\tbyte fmaskutil(t, y, x) ;\r\n",
      "\tfloat glamt(t, y, x) ;\r\n",
      "\tfloat glamu(t, y, x) ;\r\n",
      "\tfloat glamv(t, y, x) ;\r\n",
      "\tfloat glamf(t, y, x) ;\r\n",
      "\tfloat gphit(t, y, x) ;\r\n",
      "\tfloat gphiu(t, y, x) ;\r\n",
      "\tfloat gphiv(t, y, x) ;\r\n",
      "\tfloat gphif(t, y, x) ;\r\n",
      "\tdouble e1t(t, y, x) ;\r\n",
      "\tdouble e1u(t, y, x) ;\r\n",
      "\tdouble e1v(t, y, x) ;\r\n",
      "\tdouble e1f(t, y, x) ;\r\n",
      "\tdouble e2t(t, y, x) ;\r\n",
      "\tdouble e2u(t, y, x) ;\r\n",
      "\tdouble e2v(t, y, x) ;\r\n",
      "\tdouble e2f(t, y, x) ;\r\n",
      "\tdouble ff(t, y, x) ;\r\n",
      "\tshort mbathy(t, y, x) ;\r\n",
      "\tshort misf(t, y, x) ;\r\n",
      "\tfloat isfdraft(t, y, x) ;\r\n",
      "\tdouble e3t_0(t, z, y, x) ;\r\n",
      "\tdouble e3u_0(t, z, y, x) ;\r\n",
      "\tdouble e3v_0(t, z, y, x) ;\r\n",
      "\tdouble e3w_0(t, z, y, x) ;\r\n",
      "\tfloat gdept_0(t, z, y, x) ;\r\n",
      "\tfloat gdepu(t, z, y, x) ;\r\n",
      "\tfloat gdepv(t, z, y, x) ;\r\n",
      "\tfloat gdepw_0(t, z, y, x) ;\r\n",
      "\tdouble gdept_1d(t, z) ;\r\n",
      "\tdouble gdepw_1d(t, z) ;\r\n",
      "\tdouble e3t_1d(t, z) ;\r\n",
      "\tdouble e3w_1d(t, z) ;\r\n",
      "\r\n",
      "// global attributes:\r\n",
      "\t\t:file_name = \"1_mesh_mask.nc\" ;\r\n",
      "\t\t:TimeStamp = \"27/07/2017 17:57:43 -0700\" ;\r\n",
      "}\r\n"
     ]
    }
   ],
   "source": [
    "! ncdump -h /ocean/imachuca/Canyons/results_mackenzie/idealized/sbcana_forcings/agrif_wind_timestep/1_mesh_mask.nc"
   ]
  },
  {
   "cell_type": "code",
   "execution_count": 2,
   "metadata": {
    "collapsed": true
   },
   "outputs": [],
   "source": [
    "def get_variables_planes(dirname, filename):\n",
    "    with nc.Dataset(os.path.join(dirname, filename), 'r') as nbl:\n",
    "        x, y =  slice(1,-1,None), slice(1,-1,None)\n",
    "        gdepu = nbl.variables['gdepu'][0, :, 1, 1]\n",
    "        umask = nbl.variables['umask'][0, :, y, x]\n",
    "        mbathy = nbl.variables['mbathy'][0, y, x]\n",
    "        e2u = nbl.variables['e2u'][0, y, x]\n",
    "        e3u_0 = nbl.variables['e3u_0'][0, :, y, x]  \n",
    "        return gdepu, umask, mbathy, e2u, e3u_0"
   ]
  },
  {
   "cell_type": "code",
   "execution_count": 5,
   "metadata": {
    "collapsed": true
   },
   "outputs": [],
   "source": [
    "dirname = '/ocean/imachuca/Canyons/results_mackenzie/idealized/sbcana_forcings/agrif_wind_timestep/'\n",
    "filename = '1_mesh_mask.nc'"
   ]
  },
  {
   "cell_type": "code",
   "execution_count": 128,
   "metadata": {
    "collapsed": false
   },
   "outputs": [
    {
     "name": "stdout",
     "output_type": "stream",
     "text": [
      "ind_plane 178\n",
      "ind_shelf 10\n",
      "depth_shelf 91.875\n",
      "ind_bottom 60\n",
      "depth_bottom 534.672\n",
      "ind_axis 109\n",
      "ind_rimW 48\n",
      "ind_rimE 170\n",
      "ind_half 25\n",
      "depth_half 223.125\n",
      "ind_shfW 5\n",
      "ind_shfE 213\n"
     ]
    }
   ],
   "source": [
    "# z index of the shelf platform\n",
    "# 1. find where the depth of v point is closest to 80\n",
    "# 2. re-assess answer later\n",
    "ind_shelf = np.argmin(np.abs(gdepu - 80))\n",
    "\n",
    "# y index of shelf break \n",
    "# 1. get top view of umask at shelf depth\n",
    "# 2. extract wet/dry values along x=1 \n",
    "# 3. find the first wet cell\n",
    "ind_plane = np.where(umask[ind_shelf, :, 1] == 1)[0][0]\n",
    "\n",
    "print('ind_plane', ind_plane)\n",
    "\n",
    "# z index of the shelf platform\n",
    "cells_shelf = umask[ind_shelf, ind_plane, :]\n",
    "cells_shelf_W = np.count_nonzero(cells_shelf)\n",
    "cells_shelf_D = umask.shape[-1] - cells_shelf_W\n",
    "while cells_shelf_D < 4:\n",
    "    ind_shelf += 1\n",
    "    cells_shelf = umask[ind_shelf, ind_plane, :]\n",
    "    cells_shelf_W = np.count_nonzero(cells_shelf)\n",
    "    cells_shelf_D = umask.shape[-1] - cells_shelf_W\n",
    "depth_shelf = gdepu[ind_shelf]\n",
    "\n",
    "print('ind_shelf', ind_shelf)\n",
    "print('depth_shelf', depth_shelf)\n",
    "\n",
    "# z index of canyon bottom\n",
    "# 1. mbathy gives maximum depth level everywhere\n",
    "# 2. this value is given in fortran indexing\n",
    "# 3. subtracting 1 gives the deepest level with wet cells\n",
    "ind_bottom = (mbathy[ind_plane,:].max())-1\n",
    "depth_bottom = gdepu[ind_bottom]\n",
    "\n",
    "print('ind_bottom', ind_bottom)\n",
    "print('depth_bottom', depth_bottom)\n",
    "\n",
    "# x index of canyon axis\n",
    "# 1. find all wet cells along canyon bottom\n",
    "# 2. find the middle wet cell for symmetric axis\n",
    "# 3. this could have a 0.5 so return integer\n",
    "\n",
    "ind_axis = int(np.median(np.where(umask[ind_bottom, ind_plane, :]==1)))\n",
    "print('ind_axis', ind_axis)\n",
    "\n",
    "# x index of rims\n",
    "# 1. last land value on left\n",
    "# 2. first land value on right\n",
    "ind_rimW0 = np.where(umask[ind_shelf, ind_plane, :ind_axis]==0)[0][-1]\n",
    "ind_rimE0 = np.where(umask[ind_shelf, ind_plane, ind_axis:]==0)[0][0] + ind_axis\n",
    "axis_to_rim = min(ind_rimE0 - ind_axis, ind_axis - ind_rimW0)\n",
    "ind_rimW = ind_axis - axis_to_rim\n",
    "ind_rimE = ind_axis + axis_to_rim\n",
    "\n",
    "print('ind_rimW', ind_rimW)\n",
    "print('ind_rimE', ind_rimE)\n",
    "\n",
    "# z index of half canyon\n",
    "# 1. area of individual wet cells\n",
    "cell_x_i = e2u[ind_plane, :]\n",
    "cell_y_i = e3u_0[:, ind_plane, :]\n",
    "area_i = umask[:, ind_plane, :] * cell_x_i * cell_y_i\n",
    "\n",
    "# 2. total area of every depth level\n",
    "area_all = np.zeros(area_i.shape[0])\n",
    "for depth_ind in range(area_i.shape[0]):\n",
    "    area_all[depth_ind] = area_i[depth_ind, :].sum()\n",
    "\n",
    "# 3. areas and indices of only the depth levels inside the canyon\n",
    "area_canyon = area_all[ind_shelf:ind_bottom]\n",
    "area_canyon_inds = np.arange(ind_shelf,ind_bottom)\n",
    "\n",
    "# 4. half the area of the canyon\n",
    "total_area_canyon = np.sum(area_canyon)\n",
    "half_area_canyon = total_area_canyon / 2\n",
    "\n",
    "# 5. relative level where cumulative area is closest to the half area\n",
    "cumsum_area_canyon = np.cumsum(area_canyon)\n",
    "relative_ind_half = (np.abs(cumsum_area_canyon-half_area_canyon)).argmin()\n",
    "\n",
    "# 6. the real depth level for half area\n",
    "ind_half = area_canyon_inds[relative_ind_half]\n",
    "depth_half = gdepu[ind_half]\n",
    "\n",
    "print('ind_half', ind_half)\n",
    "print('depth_half', depth_half)\n",
    "\n",
    "# x index of shelves\n",
    "# 1. try to make shf sections same width as rim sections\n",
    "# 2. if 4 cells away from edge, bring closer to centre\n",
    "# 3. find smallest distance from centre and use as width\n",
    "ind_shfW0 = ind_rimW - axis_to_rim\n",
    "ind_shfE0 = ind_rimE + axis_to_rim\n",
    "while ind_shfW0 <= 4:\n",
    "    ind_shfW0 += 1\n",
    "while ind_shfE0 >= umask.shape[-1]-4:\n",
    "    ind_shfE0 -= 1\n",
    "axis_to_shf = min(ind_shfE0 - ind_axis, ind_axis - ind_shfW0)\n",
    "ind_shfW = ind_axis - axis_to_shf\n",
    "ind_shfE = ind_axis + axis_to_shf\n",
    "\n",
    "print('ind_shfW', ind_shfW)\n",
    "print('ind_shfE', ind_shfE)"
   ]
  },
  {
   "cell_type": "code",
   "execution_count": 125,
   "metadata": {
    "collapsed": false
   },
   "outputs": [],
   "source": [
    "inds = np.zeros([len(area_canyon_inds), 2])\n",
    "for dep_ind, canyon_ind in zip(np.arange(len(area_canyon_inds)), area_canyon_inds):\n",
    "    row_cells = umask[canyon_ind, ind_plane, :]\n",
    "    row_wet = np.where(row_cells == 1)[0]\n",
    "    if len(row_wet) > len(row_cells) - 2:\n",
    "        inds[dep_ind, 0] = np.nan\n",
    "        inds[dep_ind, 1] = np.nan\n",
    "    else:\n",
    "        inds[dep_ind, 0] = row_wet[0] + 5\n",
    "        inds[dep_ind, 1] = row_wet[-1] - 5"
   ]
  },
  {
   "cell_type": "code",
   "execution_count": 129,
   "metadata": {
    "collapsed": false
   },
   "outputs": [
    {
     "data": {
      "image/png": "[encoded data removed]",
      "text/plain": [
       "<matplotlib.figure.Figure at 0x7f8a94ec1e10>"
      ]
     },
     "metadata": {},
     "output_type": "display_data"
    }
   ],
   "source": [
    "xs = np.arange(umask.shape[-1])\n",
    "ys = np.arange(umask.shape[-2])\n",
    "zs = np.arange(umask.shape[-3])\n",
    "\n",
    "fig, ([ax1, ax2], [ax3, ax4]) = plt.subplots(2,2,figsize=(15,10))\n",
    "p1 = ax1.pcolormesh(xs, ys, umask[ind_shelf, :, :], cmap=cm.Spectral_r)\n",
    "p2 = ax2.pcolormesh(xs, zs, umask[:, ind_plane, :], cmap=cm.Spectral_r)\n",
    "p3 = ax3.pcolormesh(xs, ys, mbathy, cmap=cm.Spectral_r)\n",
    "p4 = ax4.pcolormesh(xs, zs, area_i, cmap=cm.Spectral_r)\n",
    "fig.colorbar(p1, ax=ax1)\n",
    "fig.colorbar(p2, ax=ax2)\n",
    "fig.colorbar(p3, ax=ax3)\n",
    "fig.colorbar(p4, ax=ax4)\n",
    "ax2.invert_yaxis()\n",
    "ax4.invert_yaxis()\n",
    "\n",
    "ax1.axhline(ind_plane, c='white')\n",
    "ax2.axhline(ind_shelf, c='white')\n",
    "ax2.axhline(ind_bottom, c='white')\n",
    "ax2.axvline(ind_axis, c='white')\n",
    "ax3.axhline(ind_plane, c='white')\n",
    "ax2.axvline(ind_rimW, c='white')\n",
    "ax2.axvline(ind_rimE, c='white')\n",
    "ax2.axhline(ind_half, c='white')\n",
    "ax2.axvline(ind_shfW, c='white')\n",
    "ax2.axvline(ind_shfE, c='white')\n",
    "\n",
    "for ax in ([ax2,  ax4]):\n",
    "    ax.plot(inds[:, 0], area_canyon_inds, c='white')\n",
    "    ax.plot(inds[:, 1], area_canyon_inds, c='white')"
   ]
  },
  {
   "cell_type": "markdown",
   "metadata": {},
   "source": [
    "# $Q_i = u \\times e2u \\times e3u = u \\times A_i$"
   ]
  },
  {
   "cell_type": "code",
   "execution_count": 143,
   "metadata": {
    "collapsed": true
   },
   "outputs": [],
   "source": [
    "def get_variables_fluxes(dirname, filepattern, ind_plane, umask):\n",
    "    files = general_functions.get_files(dirname, filepattern, 'grid_U')\n",
    "    x, y =  slice(1,-1,None), int(ind_plane)\n",
    "    with scDataset(files) as ds:\n",
    "        vozocrtx0 = ds.variables['vozocrtx'][:, :, y, x]\n",
    "    umask0 = umask[:, y, :]\n",
    "    umask = np.tile(umask0, (vozocrtx0.shape[0],1, 1))  \n",
    "    vozocrtx = np.ma.array(vozocrtx0, mask=1 - umask)\n",
    "    return vozocrtx\n",
    "\n",
    "# ------------------------------------------------------------------------------------------------\n",
    "\n",
    "def calculate_flux_U(time_ind, velocity_plane, area_plane):\n",
    "    '''Calculates flux at all cells at one time.\n",
    "    velocity_plane (t, z, x)\n",
    "    area_plane(z, x)\n",
    "    '''\n",
    "    Q_plane = velocity_plane[time_ind, :, :] * area_plane\n",
    "    return Q_plane\n",
    "\n",
    "# ------------------------------------------------------------------------------------------------\n",
    "\n",
    "def calculate_flux_U_evolution(velocity_plane, area_plane):\n",
    "    '''Calculates flux at all cells at all times.\n",
    "    velocity_plane (t, z, x)\n",
    "    area_plane(z, x)\n",
    "    '''\n",
    "    Q_plane_all = np.zeros_like(velocity_plane)\n",
    "    for time_ind in range(Q_plane_all.shape[0]):\n",
    "        Q_plane_all[time_ind, :, :] = calculate_flux_U(time_ind, velocity_plane, area_plane)\n",
    "    return Q_plane_all"
   ]
  },
  {
   "cell_type": "code",
   "execution_count": 137,
   "metadata": {
    "collapsed": false
   },
   "outputs": [],
   "source": [
    "filepattern = \"1_MCKNZ_1h_20170101_20170120_*\"\n",
    "vozocrtx = get_variables_fluxes(dirname, filepattern, ind_plane, umask)"
   ]
  },
  {
   "cell_type": "code",
   "execution_count": 145,
   "metadata": {
    "collapsed": false
   },
   "outputs": [],
   "source": [
    "Q_i_all = calculate_flux_U_evolution(vozocrtx, area_i)"
   ]
  },
  {
   "cell_type": "code",
   "execution_count": 146,
   "metadata": {
    "collapsed": false
   },
   "outputs": [
    {
     "data": {
      "text/plain": [
       "(480, 80, 242)"
      ]
     },
     "execution_count": 146,
     "metadata": {},
     "output_type": "execute_result"
    }
   ],
   "source": [
    "Q_i_all.shape"
   ]
  },
  {
   "cell_type": "code",
   "execution_count": null,
   "metadata": {
    "collapsed": true
   },
   "outputs": [],
   "source": []
  }
 ],
 "metadata": {
  "kernelspec": {
   "display_name": "Python 3",
   "language": "python",
   "name": "python3"
  },
  "language_info": {
   "codemirror_mode": {
    "name": "ipython",
    "version": 3
   },
   "file_extension": ".py",
   "mimetype": "text/x-python",
   "name": "python",
   "nbconvert_exporter": "python",
   "pygments_lexer": "ipython3",
   "version": "3.5.0rc4"
  }
 },
 "nbformat": 4,
 "nbformat_minor": 0
}
