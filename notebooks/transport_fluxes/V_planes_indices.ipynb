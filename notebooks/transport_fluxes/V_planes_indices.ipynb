{
 "cells": [
  {
   "cell_type": "markdown",
   "metadata": {},
   "source": [
    "**Part 1:** Defining transport sections on the plane that cuts vertically at the shelf break."
   ]
  },
  {
   "cell_type": "code",
   "execution_count": 1,
   "metadata": {
    "collapsed": true
   },
   "outputs": [],
   "source": [
    "import numpy as np\n",
    "import netCDF4 as nc\n",
    "import os\n",
    "import matplotlib\n",
    "import matplotlib.pyplot as plt\n",
    "import matplotlib.cm as cm\n",
    "%matplotlib inline\n",
    "\n",
    "import sys\n",
    "sys.path.append('/ocean/imachuca/Canyons/analysis_mackenzie_canyon/notebooks/transport_fluxes/')\n",
    "import functions_transport_V"
   ]
  },
  {
   "cell_type": "markdown",
   "metadata": {},
   "source": [
    "## Key variables:\n",
    "* gdepv: depth of V-grid points\n",
    "* vmask: mask for V-grid\n",
    "* mbathy: fortran (1-based) index of deepest water cell, T-grid\n",
    "* e1v: \tgrid spacing on V-grid in u direction\n",
    "* e3v\n",
    "* note: the cross section at the shelf break plane is looking out of the canyon from the inside."
   ]
  },
  {
   "cell_type": "raw",
   "metadata": {},
   "source": [
    "! ncdump -h /ocean/imachuca/Canyons/results_mackenzie/idealized/sbcana_forcings/agrif_wind_timestep/1_mesh_mask.nc"
   ]
  },
  {
   "cell_type": "code",
   "execution_count": 2,
   "metadata": {
    "collapsed": true
   },
   "outputs": [],
   "source": [
    "def get_variables_planes(dirname, filename):\n",
    "    with nc.Dataset(os.path.join(dirname, filename), 'r') as nbl:\n",
    "        x, y =  slice(1,-1,None), slice(1,-1,None)\n",
    "        gdepv = nbl.variables['gdepv'][0, :, 1, 1]\n",
    "        vmask = nbl.variables['vmask'][0, :, y, x]\n",
    "        mbathy = nbl.variables['mbathy'][0, y, x]\n",
    "        e1v = nbl.variables['e1v'][0, y, x]\n",
    "        e3v_0 = nbl.variables['e3v_0'][0, :, y, x]  \n",
    "        return gdepv, vmask, mbathy, e1v, e3v_0\n",
    "    \n",
    "# ------------------------------------------------------------------------------------------------\n",
    "    \n",
    "def get_indices_V(gdepv, vmask, mbathy, e1v, e3v_0):\n",
    "    \n",
    "    # z index of the shelf platform\n",
    "    # 1. find where the depth of v point is closest to 80\n",
    "    # 2. re-assess answer later\n",
    "    ind_shelf = np.argmin(np.abs(gdepv - 80))\n",
    "\n",
    "    # y index of shelf break \n",
    "    # 1. get top view of vmask at shelf depth\n",
    "    # 2. extract wet/dry values along x=1 \n",
    "    # 3. find the first wet cell\n",
    "    ind_plane = np.where(vmask[ind_shelf, :, 1] == 1)[0][0]\n",
    "\n",
    "    print('ind_plane', ind_plane)\n",
    "\n",
    "    # z index of the shelf platform\n",
    "    cells_shelf = vmask[ind_shelf, ind_plane, :]\n",
    "    cells_shelf_W = np.count_nonzero(cells_shelf)\n",
    "    cells_shelf_D = vmask.shape[-1] - cells_shelf_W\n",
    "    while cells_shelf_D < 4:\n",
    "        ind_shelf += 1\n",
    "        cells_shelf = vmask[ind_shelf, ind_plane, :]\n",
    "        cells_shelf_W = np.count_nonzero(cells_shelf)\n",
    "        cells_shelf_D = vmask.shape[-1] - cells_shelf_W\n",
    "    depth_shelf = gdepv[ind_shelf]\n",
    "\n",
    "    print('ind_shelf', ind_shelf)\n",
    "    print('depth_shelf', depth_shelf)\n",
    "\n",
    "    # z index of canyon bottom\n",
    "    # 1. mbathy gives maximum depth level everywhere\n",
    "    # 2. this value is given in fortran indexing\n",
    "    # 3. subtracting 1 gives the deepest level with wet cells\n",
    "    ind_bottom = (mbathy[ind_plane,:].max())-1\n",
    "    depth_bottom = gdepv[ind_bottom]\n",
    "\n",
    "    print('ind_bottom', ind_bottom)\n",
    "    print('depth_bottom', depth_bottom)\n",
    "\n",
    "    # x index of canyon axis\n",
    "    # 1. find all wet cells along canyon bottom\n",
    "    # 2. find the middle wet cell for symmetric axis\n",
    "    # 3. this could have a 0.5 so return integer\n",
    "\n",
    "    ind_axis = int(np.median(np.where(vmask[ind_bottom, ind_plane, :]==1)))\n",
    "    print('ind_axis', ind_axis)\n",
    "\n",
    "    # x index of rims\n",
    "    # 1. last land value on left\n",
    "    # 2. first land value on right\n",
    "    ind_rimW0 = np.where(vmask[ind_shelf, ind_plane, :ind_axis]==0)[0][-1]\n",
    "    ind_rimE0 = np.where(vmask[ind_shelf, ind_plane, ind_axis:]==0)[0][0] + ind_axis\n",
    "    axis_to_rim = min(ind_rimE0 - ind_axis, ind_axis - ind_rimW0)\n",
    "    ind_rimW = ind_axis - axis_to_rim\n",
    "    ind_rimE = ind_axis + axis_to_rim\n",
    "\n",
    "    print('ind_rimW', ind_rimW)\n",
    "    print('ind_rimE', ind_rimE)\n",
    "\n",
    "    # z index of half canyon\n",
    "    # 1. area of individual wet cells\n",
    "    cell_x_j = e1v[ind_plane, :]\n",
    "    cell_y_j = e3v_0[:, ind_plane, :]\n",
    "    area_j = vmask[:, ind_plane, :] * cell_x_j * cell_y_j\n",
    "\n",
    "    # 2. total area of every depth level\n",
    "    area_all = np.zeros(area_j.shape[0])\n",
    "    for depth_ind in range(area_j.shape[0]):\n",
    "        area_all[depth_ind] = area_j[depth_ind, :].sum()\n",
    "\n",
    "    # 3. areas and indices of only the depth levels inside the canyon\n",
    "    area_canyon = area_all[ind_shelf:ind_bottom]\n",
    "    area_canyon_inds = np.arange(ind_shelf,ind_bottom)\n",
    "\n",
    "    # 4. half the area of the canyon\n",
    "    total_area_canyon = np.sum(area_canyon)\n",
    "    half_area_canyon = total_area_canyon / 2\n",
    "\n",
    "    # 5. relative level where cumulative area is closest to the half area\n",
    "    cumsum_area_canyon = np.cumsum(area_canyon)\n",
    "    relative_ind_half = (np.abs(cumsum_area_canyon-half_area_canyon)).argmin()\n",
    "\n",
    "    # 6. the real depth level for half area\n",
    "    ind_half = area_canyon_inds[relative_ind_half]\n",
    "    depth_half = gdepv[ind_half]\n",
    "\n",
    "    print('ind_half', ind_half)\n",
    "    print('depth_half', depth_half)\n",
    "    \n",
    "    # x index of shelves\n",
    "    # 1. try to make shf sections same width as rim sections\n",
    "    # 2. if 4 cells away from edge, bring closer to centre\n",
    "    # 3. find smallest distance from centre and use as width\n",
    "    ind_shfW0 = ind_rimW - axis_to_rim\n",
    "    ind_shfE0 = ind_rimE + axis_to_rim\n",
    "    while ind_shfW0 <= 4:\n",
    "        ind_shfW0 += 1\n",
    "    while ind_shfE0 >= vmask.shape[-1]-4:\n",
    "        ind_shfE0 -= 1\n",
    "    axis_to_shf = min(ind_shfE0 - ind_axis, ind_axis - ind_shfW0)\n",
    "    ind_shfW = ind_axis - axis_to_shf\n",
    "    ind_shfE = ind_axis + axis_to_shf\n",
    "\n",
    "    print('ind_shfW', ind_shfW)\n",
    "    print('ind_shfE', ind_shfE)\n",
    "    \n",
    "    return ind_plane, ind_shelf, ind_bottom, ind_axis, ind_rimW, ind_rimE, ind_half, ind_shfW, ind_shfE,\\\n",
    "            depth_shelf, depth_bottom, depth_half, area_j\n",
    "    \n",
    "# ------------------------------------------------------------------------------------------------\n",
    "\n",
    "def extract_sections(variable, ind_shelf, ind_bottom, ind_axis, ind_rimW, ind_rimE, ind_half, ind_shfW, ind_shfE):\n",
    "    ''' Extracts the values of a given variable for\n",
    "    all the sections dividing the plane at the shelf break.\n",
    "    '''\n",
    "    var_shfW = variable[..., : ind_shelf, ind_shfW : ind_rimW]\n",
    "    var_rimW = variable[..., : ind_shelf, ind_rimW : ind_axis]\n",
    "    var_rimE = variable[..., : ind_shelf, ind_axis : ind_rimE]\n",
    "    var_shfE = variable[..., : ind_shelf, ind_rimE : ind_shfE]\n",
    "    \n",
    "    var_topW = variable[..., ind_shelf : ind_half + 1, ind_rimW : ind_axis]\n",
    "    var_topE = variable[..., ind_shelf : ind_half + 1, ind_axis : ind_rimE]\n",
    "    \n",
    "    var_botW = variable[..., ind_half + 1 : ind_bottom, ind_rimW : ind_axis]\n",
    "    var_botE = variable[..., ind_half + 1 : ind_bottom, ind_axis : ind_rimE]\n",
    "    \n",
    "    return var_shfW, var_rimW, var_rimE, var_shfE, var_topW, var_topE, var_botW, var_botE\n",
    "\n",
    "# ------------------------------------------------------------------------------------------------\n",
    "\n",
    "def total_sections(axis, var_shfW, var_rimW, var_rimE, var_shfE, var_topW, var_topE, var_botW, var_botE):\n",
    "    ''' Finds sum of all values in every section of the shelf break plane.\n",
    "    '''\n",
    "    tot_var_shfW = np.sum(var_shfW, axis=axis)\n",
    "    tot_var_rimW = np.sum(var_rimW, axis=axis)\n",
    "    tot_var_rimE = np.sum(var_rimE, axis=axis)\n",
    "    tot_var_shfE = np.sum(var_shfE, axis=axis)\n",
    "\n",
    "    tot_var_topW = np.sum(var_topW, axis=axis)\n",
    "    tot_var_topE = np.sum(var_topE, axis=axis)\n",
    "    tot_var_botW = np.sum(var_botW, axis=axis)\n",
    "    tot_var_botE = np.sum(var_botE, axis=axis)\n",
    "    \n",
    "    return tot_var_shfW, tot_var_rimW, tot_var_rimE, tot_var_shfE, tot_var_topW, tot_var_topE, tot_var_botW, tot_var_botE"
   ]
  },
  {
   "cell_type": "code",
   "execution_count": 3,
   "metadata": {
    "collapsed": false
   },
   "outputs": [
    {
     "data": {
      "text/plain": [
       "((80,), (80, 272, 242), (272, 242), (272, 242), (80, 272, 242))"
      ]
     },
     "execution_count": 3,
     "metadata": {},
     "output_type": "execute_result"
    }
   ],
   "source": [
    "dirname = '/ocean/imachuca/Canyons/results_mackenzie/idealized/sbcana_forcings/agrif_wind_timestep/'\n",
    "filename = '1_mesh_mask.nc'\n",
    "\n",
    "gdepv, vmask, mbathy, e1v, e3v_0 = get_variables_planes(dirname, filename)\n",
    "\n",
    "gdepv.shape, vmask.shape, mbathy.shape, e1v.shape, e3v_0.shape"
   ]
  },
  {
   "cell_type": "code",
   "execution_count": 4,
   "metadata": {
    "collapsed": false
   },
   "outputs": [
    {
     "name": "stdout",
     "output_type": "stream",
     "text": [
      "ind_plane 178\n",
      "ind_shelf 10\n",
      "depth_shelf 91.875\n",
      "ind_bottom 60\n",
      "depth_bottom 534.672\n",
      "ind_axis 110\n",
      "ind_rimW 48\n",
      "ind_rimE 172\n",
      "ind_half 25\n",
      "depth_half 223.125\n",
      "ind_shfW 5\n",
      "ind_shfE 215\n"
     ]
    }
   ],
   "source": [
    "ind_plane, ind_shelf, ind_bottom, ind_axis, ind_rimW, ind_rimE, ind_half, ind_shfW, ind_shfE,\\\n",
    "depth_shelf, depth_bottom, depth_half, area_j = functions_transport_V.get_indices_V(gdepv, vmask, mbathy, e1v, e3v_0)"
   ]
  },
  {
   "cell_type": "code",
   "execution_count": 5,
   "metadata": {
    "collapsed": true
   },
   "outputs": [],
   "source": [
    "area_j_shfW, area_j_rimW, area_j_rimE, area_j_shfE, area_j_topW, area_j_topE, area_j_botW, area_j_botE = functions_transport_V.extract_sections(\n",
    "    area_j, ind_shelf, ind_bottom, ind_axis, ind_rimW, ind_rimE, ind_half, ind_shfW, ind_shfE)"
   ]
  },
  {
   "cell_type": "code",
   "execution_count": 6,
   "metadata": {
    "collapsed": false
   },
   "outputs": [
    {
     "data": {
      "text/plain": [
       "((10, 43), (34, 62))"
      ]
     },
     "execution_count": 6,
     "metadata": {},
     "output_type": "execute_result"
    }
   ],
   "source": [
    "area_j_shfW.shape, area_j_botE.shape"
   ]
  },
  {
   "cell_type": "code",
   "execution_count": 7,
   "metadata": {
    "collapsed": false
   },
   "outputs": [],
   "source": [
    "axis = None\n",
    "\n",
    "tot_area_j_shfW, tot_area_j_rimW, tot_area_j_rimE, tot_area_j_shfE, tot_area_j_topW, tot_area_j_topE, tot_area_j_botW, tot_area_j_botE = functions_transport_V.total_sections(\n",
    "    axis, area_j_shfW, area_j_rimW, area_j_rimE, area_j_shfE, area_j_topW, area_j_topE, area_j_botW, area_j_botE)"
   ]
  },
  {
   "cell_type": "code",
   "execution_count": 8,
   "metadata": {
    "collapsed": false
   },
   "outputs": [
    {
     "name": "stdout",
     "output_type": "stream",
     "text": [
      "2380592.5277\n",
      "3639164.23756\n",
      "3639164.33009\n",
      "2384084.29181\n",
      "3910240.00033\n",
      "4004139.11848\n",
      "3839152.88523\n",
      "4039977.36966\n"
     ]
    }
   ],
   "source": [
    "for i in (tot_area_j_shfW, tot_area_j_rimW, tot_area_j_rimE, tot_area_j_shfE, tot_area_j_topW, tot_area_j_topE, tot_area_j_botW, tot_area_j_botE):\n",
    "    print(i)"
   ]
  },
  {
   "cell_type": "code",
   "execution_count": 9,
   "metadata": {
    "collapsed": false,
    "scrolled": false
   },
   "outputs": [
    {
     "data": {
      "image/png": "[encoded data removed]",
      "text/plain": [
       "<matplotlib.figure.Figure at 0x7f72a7450128>"
      ]
     },
     "metadata": {},
     "output_type": "display_data"
    }
   ],
   "source": [
    "xs = np.arange(vmask.shape[-1])\n",
    "ys = np.arange(vmask.shape[-2])\n",
    "zs = np.arange(vmask.shape[-3])\n",
    "\n",
    "fig, ([ax1, ax2], [ax3, ax4]) = plt.subplots(2,2,figsize=(15,10))\n",
    "p1 = ax1.pcolormesh(xs, ys, vmask[ind_shelf, :, :], cmap=cm.Spectral_r)\n",
    "p2 = ax2.pcolormesh(xs, zs, vmask[:, ind_plane, :], cmap=cm.Spectral_r)\n",
    "p3 = ax3.pcolormesh(xs, ys, mbathy, cmap=cm.Spectral_r)\n",
    "p4 = ax4.pcolormesh(xs, zs, area_j, cmap=cm.Spectral_r)\n",
    "fig.colorbar(p1, ax=ax1)\n",
    "fig.colorbar(p2, ax=ax2)\n",
    "fig.colorbar(p3, ax=ax3)\n",
    "fig.colorbar(p4, ax=ax4)\n",
    "ax2.invert_yaxis()\n",
    "ax4.invert_yaxis()\n",
    "\n",
    "ax1.axhline(ind_plane, c='white')\n",
    "ax2.axhline(ind_shelf, c='white')\n",
    "ax2.axhline(ind_bottom, c='white')\n",
    "ax2.axvline(ind_axis, c='white')\n",
    "ax3.axhline(ind_plane, c='white')\n",
    "ax2.axvline(ind_rimW, c='white')\n",
    "ax2.axvline(ind_rimE, c='white')\n",
    "ax2.axhline(ind_half, c='white')\n",
    "ax2.axvline(ind_shfW, c='white')\n",
    "ax2.axvline(ind_shfE, c='white')\n",
    "\n",
    "for ax in [ax1, ax3]:\n",
    "    ax.set_xlabel('x indices')\n",
    "    ax.set_ylabel('y indices')\n",
    "for ax in [ax2, ax4]:\n",
    "    ax.set_xlabel('x indices')\n",
    "    ax.set_ylabel('z indices')"
   ]
  }
 ],
 "metadata": {
  "kernelspec": {
   "display_name": "Python 3",
   "language": "python",
   "name": "python3"
  },
  "language_info": {
   "codemirror_mode": {
    "name": "ipython",
    "version": 3
   },
   "file_extension": ".py",
   "mimetype": "text/x-python",
   "name": "python",
   "nbconvert_exporter": "python",
   "pygments_lexer": "ipython3",
   "version": "3.5.0rc4"
  }
 },
 "nbformat": 4,
 "nbformat_minor": 0
}
