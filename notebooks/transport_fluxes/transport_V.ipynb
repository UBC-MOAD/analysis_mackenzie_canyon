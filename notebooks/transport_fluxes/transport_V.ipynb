{
 "cells": [
  {
   "cell_type": "markdown",
   "metadata": {},
   "source": [
    "August: Calculating the V transport across the sections on the shelf break plane."
   ]
  },
  {
   "cell_type": "code",
   "execution_count": 1,
   "metadata": {
    "collapsed": true
   },
   "outputs": [],
   "source": [
    "import numpy as np\n",
    "import matplotlib.pyplot as plt\n",
    "import matplotlib.cm as cm\n",
    "%matplotlib inline\n",
    "\n",
    "import sys\n",
    "sys.path.append('/ocean/imachuca/Canyons/analysis_mackenzie_canyon/notebooks/transport_fluxes/')\n",
    "import planes_functions\n",
    "sys.path.append('/ocean/imachuca/Canyons/analysis_mackenzie_canyon/notebooks/general_circulation/')\n",
    "import general_functions\n",
    "\n",
    "from salishsea_tools.nc_tools import scDataset"
   ]
  },
  {
   "cell_type": "markdown",
   "metadata": {},
   "source": [
    "# $Q_j = v \\times e1v \\times e3v = v \\times A_j$"
   ]
  },
  {
   "cell_type": "code",
   "execution_count": 2,
   "metadata": {
    "collapsed": false
   },
   "outputs": [
    {
     "data": {
      "text/plain": [
       "<module 'planes_functions' from '/ocean/imachuca/Canyons/analysis_mackenzie_canyon/notebooks/transport_fluxes/planes_functions.py'>"
      ]
     },
     "execution_count": 2,
     "metadata": {},
     "output_type": "execute_result"
    }
   ],
   "source": [
    "import importlib\n",
    "importlib.reload(planes_functions)"
   ]
  },
  {
   "cell_type": "code",
   "execution_count": 3,
   "metadata": {
    "collapsed": false
   },
   "outputs": [],
   "source": [
    "def get_vars_V(dirname, filepattern, ind_plane, vmask):\n",
    "    files = general_functions.get_files(dirname, filepattern, 'grid_V')\n",
    "    x, y =  slice(1,-1,None), int(ind_plane)\n",
    "    with scDataset(files) as ds:\n",
    "        vomecrty0 = ds.variables['vomecrty'][:, :, y, x]\n",
    "    vmask0 = vmask[:, y, :]\n",
    "    vmask = np.tile(vmask0, (vomecrty0.shape[0],1, 1))  \n",
    "    vomecrty = np.ma.array(vomecrty0, mask=1 - vmask)\n",
    "    return vomecrty\n",
    "# ------------------------------------------------------------------------------------------------\n",
    "\n",
    "def calculate_flux_V(time_ind, velocity_plane, area_plane):\n",
    "    '''Calculates flux at all cells at one time.\n",
    "    velocity_plane (t, z, x)\n",
    "    area_plane(z, x)\n",
    "    '''\n",
    "    Q_plane = velocity_plane[time_ind, :, :] * area_plane\n",
    "    return Q_plane"
   ]
  },
  {
   "cell_type": "code",
   "execution_count": 4,
   "metadata": {
    "collapsed": false
   },
   "outputs": [],
   "source": [
    "dirname = '/ocean/imachuca/Canyons/results_mackenzie/idealized/sbcana_forcings/agrif_wind_timestep/'\n",
    "filename = '1_mesh_mask.nc'\n",
    "\n",
    "gdepv, vmask, mbathy, e1v, e3v_0 = planes_functions.get_variables_V(dirname, filename)"
   ]
  },
  {
   "cell_type": "code",
   "execution_count": 5,
   "metadata": {
    "collapsed": false
   },
   "outputs": [
    {
     "name": "stdout",
     "output_type": "stream",
     "text": [
      "ind_plane 178\n",
      "ind_shelf 10\n",
      "depth_shelf 91.875\n",
      "ind_bottom 60\n",
      "depth_bottom 534.672\n",
      "ind_axis 110\n",
      "ind_rimW 48\n",
      "ind_rimE 172\n",
      "ind_half 25\n",
      "depth_half 223.125\n",
      "ind_shfW 5\n",
      "ind_shfE 215\n"
     ]
    }
   ],
   "source": [
    "ind_plane, ind_shelf, ind_bottom, ind_axis, ind_rimW, ind_rimE, ind_half, ind_shfW, ind_shfE,\\\n",
    "depth_shelf, depth_bottom, depth_half, area_j = planes_functions.get_indices_V(gdepv, vmask, mbathy, e1v, e3v_0)"
   ]
  },
  {
   "cell_type": "code",
   "execution_count": 6,
   "metadata": {
    "collapsed": false
   },
   "outputs": [],
   "source": [
    "filepattern = \"1_MCKNZ_1h_20170101_20170120_*\"\n",
    "vomecrty = get_vars_V(dirname, filepattern, ind_plane, vmask)"
   ]
  },
  {
   "cell_type": "code",
   "execution_count": 7,
   "metadata": {
    "collapsed": true
   },
   "outputs": [],
   "source": [
    "Q_j_all = np.zeros_like(vomecrty)\n",
    "\n",
    "for time_ind in range(Q_j_all.shape[0]):\n",
    "    Q_j_all[time_ind, :, :] = calculate_flux_V(time_ind, vomecrty, area_j)"
   ]
  },
  {
   "cell_type": "code",
   "execution_count": 8,
   "metadata": {
    "collapsed": false
   },
   "outputs": [
    {
     "data": {
      "text/plain": [
       "((480, 80, 242), (80, 242), (480, 80, 242))"
      ]
     },
     "execution_count": 8,
     "metadata": {},
     "output_type": "execute_result"
    }
   ],
   "source": [
    "vomecrty.shape, area_j.shape, Q_j_all.shape"
   ]
  },
  {
   "cell_type": "code",
   "execution_count": 9,
   "metadata": {
    "collapsed": true
   },
   "outputs": [],
   "source": [
    "Q_j_shfW, Q_j_rimW, Q_j_rimE, Q_j_shfE, Q_j_topW, Q_j_topE, Q_j_botW, Q_j_botE = planes_functions.extract_sections(\n",
    "    Q_j_all, ind_shelf, ind_bottom, ind_axis, ind_rimW, ind_rimE, ind_half, ind_shfW, ind_shfE)"
   ]
  },
  {
   "cell_type": "code",
   "execution_count": 11,
   "metadata": {
    "collapsed": false
   },
   "outputs": [
    {
     "data": {
      "text/plain": [
       "((480, 10, 43), (480, 34, 62))"
      ]
     },
     "execution_count": 11,
     "metadata": {},
     "output_type": "execute_result"
    }
   ],
   "source": [
    "Q_j_shfW.shape, Q_j_botE.shape"
   ]
  },
  {
   "cell_type": "code",
   "execution_count": null,
   "metadata": {
    "collapsed": true
   },
   "outputs": [],
   "source": []
  }
 ],
 "metadata": {
  "kernelspec": {
   "display_name": "Python 3",
   "language": "python",
   "name": "python3"
  },
  "language_info": {
   "codemirror_mode": {
    "name": "ipython",
    "version": 3
   },
   "file_extension": ".py",
   "mimetype": "text/x-python",
   "name": "python",
   "nbconvert_exporter": "python",
   "pygments_lexer": "ipython3",
   "version": "3.5.0rc4"
  }
 },
 "nbformat": 4,
 "nbformat_minor": 0
}
