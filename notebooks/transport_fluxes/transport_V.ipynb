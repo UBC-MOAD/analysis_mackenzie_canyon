{
 "cells": [
  {
   "cell_type": "markdown",
   "metadata": {},
   "source": [
    "August: Calculating the V transport across the sections on the shelf break plane."
   ]
  },
  {
   "cell_type": "code",
   "execution_count": 14,
   "metadata": {
    "collapsed": true
   },
   "outputs": [],
   "source": [
    "import numpy as np\n",
    "import matplotlib.pyplot as plt\n",
    "import matplotlib.cm as cm\n",
    "%matplotlib inline\n",
    "\n",
    "import sys\n",
    "sys.path.append('/ocean/imachuca/Canyons/analysis_mackenzie_canyon/notebooks/transport_fluxes/')\n",
    "import planes_functions\n",
    "sys.path.append('/ocean/imachuca/Canyons/analysis_mackenzie_canyon/notebooks/general_circulation/')\n",
    "import general_functions\n",
    "\n",
    "from salishsea_tools.nc_tools import scDataset"
   ]
  },
  {
   "cell_type": "markdown",
   "metadata": {},
   "source": [
    "# $Q_j = v \\times e1v \\times e3v = v \\times A_j$"
   ]
  },
  {
   "cell_type": "code",
   "execution_count": 15,
   "metadata": {
    "collapsed": false
   },
   "outputs": [
    {
     "data": {
      "text/plain": [
       "<module 'planes_functions' from '/ocean/imachuca/Canyons/analysis_mackenzie_canyon/notebooks/transport_fluxes/planes_functions.py'>"
      ]
     },
     "execution_count": 15,
     "metadata": {},
     "output_type": "execute_result"
    }
   ],
   "source": [
    "import importlib\n",
    "importlib.reload(planes_functions)"
   ]
  },
  {
   "cell_type": "code",
   "execution_count": 16,
   "metadata": {
    "collapsed": false
   },
   "outputs": [],
   "source": [
    "dirname = '/ocean/imachuca/Canyons/results_mackenzie/idealized/sbcana_forcings/agrif_wind_timestep/'\n",
    "filename = '1_mesh_mask.nc'\n",
    "\n",
    "gdepv, vmask, mbathy, e1v, e3v_0 = planes_functions.get_variables_V(dirname, filename)"
   ]
  },
  {
   "cell_type": "code",
   "execution_count": 18,
   "metadata": {
    "collapsed": false
   },
   "outputs": [
    {
     "name": "stdout",
     "output_type": "stream",
     "text": [
      "ind_plane 178\n",
      "ind_shelf 10\n",
      "depth_shelf 91.875\n",
      "ind_bottom 60\n",
      "depth_bottom 534.672\n",
      "ind_axis 110\n",
      "ind_rimL 48\n",
      "ind_rimR 172\n",
      "ind_half 25\n",
      "depth_half 223.125\n",
      "ind_shfL 10\n",
      "ind_shfR 210\n"
     ]
    }
   ],
   "source": [
    "ind_plane, ind_shelf, ind_bottom, ind_axis, ind_rimL, ind_rimR, ind_half, ind_shfL, ind_shfR,\\\n",
    "depth_shelf, depth_bottom, depth_half, area_j = planes_functions.get_indices_V(gdepv, vmask, mbathy, e1v, e3v_0)"
   ]
  },
  {
   "cell_type": "code",
   "execution_count": 19,
   "metadata": {
    "collapsed": false
   },
   "outputs": [],
   "source": [
    "def get_vars(dirname, filepattern, ind_plane, vmask):\n",
    "    files = general_functions.get_files(dirname, filepattern, 'grid_V')\n",
    "    x, y =  slice(1,-1,None), int(ind_plane)\n",
    "    with scDataset(files) as ds:\n",
    "        vomecrty0 = ds.variables['vomecrty'][:, :, y, x]\n",
    "    vmask0 = vmask[:, y, :]\n",
    "    vmask = np.tile(vmask0, (vomecrty0.shape[0],1, 1))  \n",
    "    vomecrty = np.ma.array(vomecrty0, mask=1 - vmask)\n",
    "    return vomecrty\n",
    "# ------------------------------------------------------------------------------------------------\n",
    "\n",
    "def calculate_flux_V(time_ind, velocity, mask, ind_plane, area):\n",
    "    '''Calculates the flux through all cells along the shelf break\n",
    "    cross-section for one instance in time.\n",
    "    -----------------------------\n",
    "    velocity (t, z, x)\n",
    "    mask(z, y, x)\n",
    "    area (z, x)\n",
    "    Q (z, x)\n",
    "    vel_masked (z, x)\n",
    "    '''\n",
    "    \n",
    "    vel_plane = velocity[time_ind, :, :]\n",
    "    vel_mask_plane = 1 - mask[:, ind_plane, :]\n",
    "    vel_masked = np.ma.array(vel_plane, mask=vel_mask_plane)\n",
    "    Q = vel_masked * area\n",
    "    return Q, vel_masked"
   ]
  },
  {
   "cell_type": "code",
   "execution_count": 20,
   "metadata": {
    "collapsed": false
   },
   "outputs": [],
   "source": [
    "filepattern = \"1_MCKNZ_1h_20170101_20170120_*\"\n",
    "vomecrty = get_vars(dirname, filepattern, ind_plane, vmask)"
   ]
  },
  {
   "cell_type": "code",
   "execution_count": 21,
   "metadata": {
    "collapsed": false
   },
   "outputs": [],
   "source": [
    "time_ind = 50\n",
    "Q, vel_masked = calculate_flux_V(time_ind, vomecrty, vmask, ind_plane, area_j)"
   ]
  },
  {
   "cell_type": "code",
   "execution_count": null,
   "metadata": {
    "collapsed": true
   },
   "outputs": [],
   "source": []
  }
 ],
 "metadata": {
  "kernelspec": {
   "display_name": "Python 3",
   "language": "python",
   "name": "python3"
  },
  "language_info": {
   "codemirror_mode": {
    "name": "ipython",
    "version": 3
   },
   "file_extension": ".py",
   "mimetype": "text/x-python",
   "name": "python",
   "nbconvert_exporter": "python",
   "pygments_lexer": "ipython3",
   "version": "3.5.0rc4"
  }
 },
 "nbformat": 4,
 "nbformat_minor": 0
}
