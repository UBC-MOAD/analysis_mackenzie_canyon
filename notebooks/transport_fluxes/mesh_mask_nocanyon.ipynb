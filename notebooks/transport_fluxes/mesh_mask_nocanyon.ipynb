{
 "cells": [
  {
   "cell_type": "markdown",
   "metadata": {},
   "source": [
    "August: Checking if the child mesh_mask for the no canyon bathymetry was created correctly."
   ]
  },
  {
   "cell_type": "code",
   "execution_count": 7,
   "metadata": {
    "collapsed": true
   },
   "outputs": [],
   "source": [
    "import numpy as np\n",
    "import netCDF4 as nc\n",
    "import os\n",
    "import scipy as sc, scipy.io\n",
    "import matplotlib\n",
    "import matplotlib.pyplot as plt\n",
    "import matplotlib.cm as cm\n",
    "%matplotlib inline\n",
    "\n",
    "from salishsea_tools.nc_tools import scDataset\n",
    "\n",
    "import sys\n",
    "sys.path.append('/ocean/imachuca/Canyons/mackenzie_canyon/tools/')\n",
    "import functions_idealized\n",
    "import functions_grid\n",
    "import functions_realistic\n",
    "import functions_plot\n",
    "\n"
   ]
  },
  {
   "cell_type": "code",
   "execution_count": 14,
   "metadata": {
    "collapsed": false
   },
   "outputs": [],
   "source": [
    "dirname = '/ocean/imachuca/Canyons/results_mackenzie/idealized/sbcana_forcings/agrif_wind_timestep/'\n",
    "filename = '1_mesh_mask.nc'\n",
    "with nc.Dataset(os.path.join(dirname, filename), 'r') as nbl:\n",
    "    x, y =  slice(1,-1,None), slice(1,-1,None)\n",
    "    mbathy = nbl.variables['mbathy'][0, y, x]"
   ]
  },
  {
   "cell_type": "code",
   "execution_count": 15,
   "metadata": {
    "collapsed": false
   },
   "outputs": [
    {
     "name": "stdout",
     "output_type": "stream",
     "text": [
      "netcdf \\1_mesh_mask_nocanyon {\r\n",
      "dimensions:\r\n",
      "\tx = 244 ;\r\n",
      "\ty = 274 ;\r\n",
      "variables:\r\n",
      "\tfloat nav_lon(y, x) ;\r\n",
      "\t\tnav_lon:valid_min = -141.9726f ;\r\n",
      "\t\tnav_lon:valid_max = -137.1077f ;\r\n",
      "\tfloat nav_lat(y, x) ;\r\n",
      "\t\tnav_lat:valid_min = 69.10634f ;\r\n",
      "\t\tnav_lat:valid_max = 70.92126f ;\r\n",
      "\tfloat mbathy(y, x) ;\r\n",
      "}\r\n"
     ]
    }
   ],
   "source": [
    "! ncdump -h /ocean/imachuca/Canyons/results_mackenzie/idealized/sbcana_forcings/agrif_wind_timestep/1_mesh_mask_nocanyon.nc"
   ]
  },
  {
   "cell_type": "code",
   "execution_count": 13,
   "metadata": {
    "collapsed": false
   },
   "outputs": [
    {
     "name": "stdout",
     "output_type": "stream",
     "text": [
      "netcdf \\1_mesh_mask {\r\n",
      "dimensions:\r\n",
      "\tx = 244 ;\r\n",
      "\ty = 274 ;\r\n",
      "\tz = 80 ;\r\n",
      "\tt = UNLIMITED ; // (1 currently)\r\n",
      "variables:\r\n",
      "\tfloat nav_lon(y, x) ;\r\n",
      "\tfloat nav_lat(y, x) ;\r\n",
      "\tfloat nav_lev(z) ;\r\n",
      "\tdouble time_counter(t) ;\r\n",
      "\tbyte tmask(t, z, y, x) ;\r\n",
      "\tbyte umask(t, z, y, x) ;\r\n",
      "\tbyte vmask(t, z, y, x) ;\r\n",
      "\tbyte fmask(t, z, y, x) ;\r\n",
      "\tbyte tmaskutil(t, y, x) ;\r\n",
      "\tbyte umaskutil(t, y, x) ;\r\n",
      "\tbyte vmaskutil(t, y, x) ;\r\n",
      "\tbyte fmaskutil(t, y, x) ;\r\n",
      "\tfloat glamt(t, y, x) ;\r\n",
      "\tfloat glamu(t, y, x) ;\r\n",
      "\tfloat glamv(t, y, x) ;\r\n",
      "\tfloat glamf(t, y, x) ;\r\n",
      "\tfloat gphit(t, y, x) ;\r\n",
      "\tfloat gphiu(t, y, x) ;\r\n",
      "\tfloat gphiv(t, y, x) ;\r\n",
      "\tfloat gphif(t, y, x) ;\r\n",
      "\tdouble e1t(t, y, x) ;\r\n",
      "\tdouble e1u(t, y, x) ;\r\n",
      "\tdouble e1v(t, y, x) ;\r\n",
      "\tdouble e1f(t, y, x) ;\r\n",
      "\tdouble e2t(t, y, x) ;\r\n",
      "\tdouble e2u(t, y, x) ;\r\n",
      "\tdouble e2v(t, y, x) ;\r\n",
      "\tdouble e2f(t, y, x) ;\r\n",
      "\tdouble ff(t, y, x) ;\r\n",
      "\tshort mbathy(t, y, x) ;\r\n",
      "\tshort misf(t, y, x) ;\r\n",
      "\tfloat isfdraft(t, y, x) ;\r\n",
      "\tdouble e3t_0(t, z, y, x) ;\r\n",
      "\tdouble e3u_0(t, z, y, x) ;\r\n",
      "\tdouble e3v_0(t, z, y, x) ;\r\n",
      "\tdouble e3w_0(t, z, y, x) ;\r\n",
      "\tfloat gdept_0(t, z, y, x) ;\r\n",
      "\tfloat gdepu(t, z, y, x) ;\r\n",
      "\tfloat gdepv(t, z, y, x) ;\r\n",
      "\tfloat gdepw_0(t, z, y, x) ;\r\n",
      "\tdouble gdept_1d(t, z) ;\r\n",
      "\tdouble gdepw_1d(t, z) ;\r\n",
      "\tdouble e3t_1d(t, z) ;\r\n",
      "\tdouble e3w_1d(t, z) ;\r\n",
      "\r\n",
      "// global attributes:\r\n",
      "\t\t:file_name = \"1_mesh_mask.nc\" ;\r\n",
      "\t\t:TimeStamp = \"27/07/2017 17:57:43 -0700\" ;\r\n",
      "}\r\n"
     ]
    }
   ],
   "source": [
    "! ncdump -h /ocean/imachuca/Canyons/results_mackenzie/idealized/sbcana_forcings/agrif_wind_timestep/1_mesh_mask.nc"
   ]
  },
  {
   "cell_type": "code",
   "execution_count": null,
   "metadata": {
    "collapsed": true
   },
   "outputs": [],
   "source": []
  }
 ],
 "metadata": {
  "kernelspec": {
   "display_name": "Python 3",
   "language": "python",
   "name": "python3"
  },
  "language_info": {
   "codemirror_mode": {
    "name": "ipython",
    "version": 3
   },
   "file_extension": ".py",
   "mimetype": "text/x-python",
   "name": "python",
   "nbconvert_exporter": "python",
   "pygments_lexer": "ipython3",
   "version": "3.5.0rc4"
  }
 },
 "nbformat": 4,
 "nbformat_minor": 0
}
