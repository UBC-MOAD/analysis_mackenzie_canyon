{
 "cells": [
  {
   "cell_type": "code",
   "execution_count": 1,
   "metadata": {
    "collapsed": true
   },
   "outputs": [],
   "source": [
    "import numpy as np"
   ]
  },
  {
   "cell_type": "code",
   "execution_count": 19,
   "metadata": {
    "collapsed": false
   },
   "outputs": [],
   "source": [
    "files = np.arange(1,11)"
   ]
  },
  {
   "cell_type": "code",
   "execution_count": 59,
   "metadata": {
    "collapsed": true
   },
   "outputs": [],
   "source": [
    "rdt=6"
   ]
  },
  {
   "cell_type": "code",
   "execution_count": 97,
   "metadata": {
    "collapsed": true
   },
   "outputs": [],
   "source": [
    "hours_per_file = 48\n",
    "days_per_file = int(hours_per_file/24)\n",
    "output_every_hours = 1"
   ]
  },
  {
   "cell_type": "markdown",
   "metadata": {},
   "source": [
    "# <font color='dodgerblue'>nn_it000</font>"
   ]
  },
  {
   "cell_type": "code",
   "execution_count": 108,
   "metadata": {
    "collapsed": false
   },
   "outputs": [
    {
     "name": "stdout",
     "output_type": "stream",
     "text": [
      "day 1 2 : it000= ~ 0 h ---- 1.0 timesteps \n",
      "\n",
      "day 3 4 : it000= ~ 48 h ---- 28801.0 timesteps \n",
      "\n",
      "day 5 6 : it000= ~ 96 h ---- 57601.0 timesteps \n",
      "\n",
      "day 7 8 : it000= ~ 144 h ---- 86401.0 timesteps \n",
      "\n",
      "day 9 10 : it000= ~ 192 h ---- 115201.0 timesteps \n",
      "\n",
      "day 11 12 : it000= ~ 240 h ---- 144001.0 timesteps \n",
      "\n",
      "day 13 14 : it000= ~ 288 h ---- 172801.0 timesteps \n",
      "\n",
      "day 15 16 : it000= ~ 336 h ---- 201601.0 timesteps \n",
      "\n",
      "day 17 18 : it000= ~ 384 h ---- 230401.0 timesteps \n",
      "\n",
      "day 19 20 : it000= ~ 432 h ---- 259201.0 timesteps \n",
      "\n"
     ]
    }
   ],
   "source": [
    "for i in files:\n",
    "    it000_hr = hours_per_file * (i-1) \n",
    "    it000_sc = it000_hr * 3600\n",
    "    it000_ts = it000_sc / rdt + 1\n",
    "    print('day', i*days_per_file-1, i*days_per_file, ': it000= ~', it000_hr, 'h ----', it000_ts, 'timesteps \\n')"
   ]
  },
  {
   "cell_type": "markdown",
   "metadata": {},
   "source": [
    "# <font color='dodgerblue'>nn_itend</font>"
   ]
  },
  {
   "cell_type": "code",
   "execution_count": 107,
   "metadata": {
    "collapsed": false
   },
   "outputs": [
    {
     "name": "stdout",
     "output_type": "stream",
     "text": [
      "day 1 2 : itend= 48 h ---- 28800.0 timesteps \n",
      "\n",
      "day 3 4 : itend= 96 h ---- 57600.0 timesteps \n",
      "\n",
      "day 5 6 : itend= 144 h ---- 86400.0 timesteps \n",
      "\n",
      "day 7 8 : itend= 192 h ---- 115200.0 timesteps \n",
      "\n",
      "day 9 10 : itend= 240 h ---- 144000.0 timesteps \n",
      "\n",
      "day 11 12 : itend= 288 h ---- 172800.0 timesteps \n",
      "\n",
      "day 13 14 : itend= 336 h ---- 201600.0 timesteps \n",
      "\n",
      "day 15 16 : itend= 384 h ---- 230400.0 timesteps \n",
      "\n",
      "day 17 18 : itend= 432 h ---- 259200.0 timesteps \n",
      "\n",
      "day 19 20 : itend= 480 h ---- 288000.0 timesteps \n",
      "\n"
     ]
    }
   ],
   "source": [
    "for i in files:\n",
    "    itend_hr = hours_per_file * i\n",
    "    itend_sc = itend_hr * 3600\n",
    "    itend_ts = itend_sc / rdt\n",
    "    \n",
    "    print('day', i*days_per_file-1, i*days_per_file, ': itend=', itend_hr, 'h ----', itend_ts, 'timesteps \\n')"
   ]
  },
  {
   "cell_type": "markdown",
   "metadata": {},
   "source": [
    "# <font color='dodgerblue'>nn_date</font>\n",
    "first value in filename\n",
    "\n",
    "# ln_rstart\n",
    "T except for first (F)\n",
    "\n",
    "# nn_rstctl\n",
    "2 except for first (0)"
   ]
  },
  {
   "cell_type": "markdown",
   "metadata": {},
   "source": [
    "# nn_stock"
   ]
  },
  {
   "cell_type": "code",
   "execution_count": 92,
   "metadata": {
    "collapsed": false
   },
   "outputs": [
    {
     "data": {
      "text/plain": [
       "28800.0"
      ]
     },
     "execution_count": 92,
     "metadata": {},
     "output_type": "execute_result"
    }
   ],
   "source": [
    "hours_per_file * 3600 / rdt"
   ]
  },
  {
   "cell_type": "markdown",
   "metadata": {},
   "source": [
    "# nn_write"
   ]
  },
  {
   "cell_type": "code",
   "execution_count": 98,
   "metadata": {
    "collapsed": false
   },
   "outputs": [
    {
     "data": {
      "text/plain": [
       "600.0"
      ]
     },
     "execution_count": 98,
     "metadata": {},
     "output_type": "execute_result"
    }
   ],
   "source": [
    "output_every_hours*3600/rdt"
   ]
  },
  {
   "cell_type": "markdown",
   "metadata": {
    "collapsed": true
   },
   "source": [
    "# <font color='dodgerblue'>namelist.time</font>\n",
    "\n",
    "1. run_id\n",
    "2. restart.nc\n",
    "3. namelist.time"
   ]
  },
  {
   "cell_type": "code",
   "execution_count": null,
   "metadata": {
    "collapsed": true
   },
   "outputs": [],
   "source": []
  }
 ],
 "metadata": {
  "kernelspec": {
   "display_name": "Python 3",
   "language": "python",
   "name": "python3"
  },
  "language_info": {
   "codemirror_mode": {
    "name": "ipython",
    "version": 3
   },
   "file_extension": ".py",
   "mimetype": "text/x-python",
   "name": "python",
   "nbconvert_exporter": "python",
   "pygments_lexer": "ipython3",
   "version": "3.5.0rc4"
  }
 },
 "nbformat": 4,
 "nbformat_minor": 0
}
