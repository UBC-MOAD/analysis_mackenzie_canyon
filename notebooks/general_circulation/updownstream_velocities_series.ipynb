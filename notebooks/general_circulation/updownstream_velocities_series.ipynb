{
 "cells": [
  {
   "cell_type": "markdown",
   "metadata": {},
   "source": [
    "April: **Research Questions 1.B.1** (Ideal and Real)"
   ]
  },
  {
   "cell_type": "markdown",
   "metadata": {},
   "source": [
    "# Provided with upwelling-favourable wind forcing at the surface, what are the circulation patterns during an upwelling event in Mackenzie Canyon?"
   ]
  },
  {
   "cell_type": "markdown",
   "metadata": {},
   "source": [
    "Circulation outside the canyon:\n",
    "\n",
    "How do the downstream horizontal velocities compare to those upstream? "
   ]
  },
  {
   "cell_type": "code",
   "execution_count": 1,
   "metadata": {
    "collapsed": false
   },
   "outputs": [],
   "source": [
    "import netCDF4 as nc\n",
    "import matplotlib.pyplot as plt\n",
    "import matplotlib.cm as cm\n",
    "import cmocean as cmo\n",
    "import os,sys,fnmatch,time\n",
    "import numpy as np\n",
    "import matplotlib.gridspec as gridspec\n",
    "import matplotlib.patches as patches\n",
    "from matplotlib.ticker import MultipleLocator\n",
    "from matplotlib.colors import LinearSegmentedColormap\n",
    "from matplotlib import animation\n",
    "from salishsea_tools.nc_tools import scDataset\n",
    "from matplotlib import ticker\n",
    "from matplotlib import colors\n",
    "import matplotlib as mpl\n",
    "from matplotlib.colors import LinearSegmentedColormap\n",
    "import math\n",
    "from mpl_toolkits.axes_grid1.inset_locator import inset_axes\n",
    "import matplotlib.patches as patches\n",
    "\n",
    "import sys\n",
    "sys.path.append('/ocean/imachuca/Canyons/analysis_mackenzie_canyon/notebooks/general_circulation/')\n",
    "import general_functions\n",
    "import quicklook\n",
    "import circulation_plots\n",
    "\n",
    "import warnings\n",
    "warnings.filterwarnings(\"ignore\")\n",
    "\n",
    "%matplotlib inline"
   ]
  },
  {
   "cell_type": "code",
   "execution_count": 2,
   "metadata": {
    "collapsed": false
   },
   "outputs": [],
   "source": [
    "def plot_velocity_boxes(dirname, dicts, case, kind, flag):\n",
    "\n",
    "    fname = \"1_MCKNZ_1h_20170101_201701*\"\n",
    "    meshmaskname = '1_mesh_mask.nc'\n",
    "    \n",
    "    fig, axes = plt.subplots(len(dicts)+2, 3, figsize=(21, 27),\n",
    "                             gridspec_kw={\"width_ratios\":[1.2, 1, 3.5],\n",
    "                                          \"height_ratios\":[0.5, 0.01, 1, 1, 1, 1, 1, 1, 1, 1]})\n",
    "    fig.tight_layout(w_pad=0.5, h_pad=0.2)\n",
    "\n",
    "    for n, ttl in zip(np.arange(3), ['Top view', 'Side view', flag+'-velocity component [$ms^{-1}$]']):\n",
    "        ax = axes[1, n]\n",
    "        ax.axis(\"off\")\n",
    "        ax.set_title(ttl, fontsize=20)\n",
    "        \n",
    "    # ---------------------------------------------------------------------\n",
    "        \n",
    "    axes[0, 0].remove()\n",
    "    axes[0, 1].remove()\n",
    "    sozotaux = quicklook.get_sozotaux(dirname, fname)\n",
    "    axw = axes[0, 2]\n",
    "    axw.plot(sozotaux, c='k', lw=2)\n",
    "    axw.set_ylim([-1.7, 0.1])\n",
    "    axw.set_xlim([0, 10*24])\n",
    "    axw.xaxis.set_ticks(np.arange(0, 10*24, 24))\n",
    "    axw.grid()\n",
    "    axw.set_title('Wind Stress [$Nm^{-2}$]', fontsize=20)\n",
    "    \n",
    "    # ---------------------------------------------------------------------\n",
    "    \n",
    "    for m, dict_plot in zip(np.arange(2, len(dicts)+2), dicts):\n",
    "        \n",
    "        x_starts = dict_plot['x_startsEW']\n",
    "        x_ends = dict_plot['x_endsEW']\n",
    "        y_start = dict_plot['y_start']\n",
    "        y_end = dict_plot['y_end']\n",
    "        dep_start = dict_plot['dep_start']\n",
    "        dep_end = dict_plot['dep_end']\n",
    "        \n",
    "        cs = ['mediumvioletred', 'steelblue']\n",
    "        labs = ['upstream', 'downstream']\n",
    "        \n",
    "        ax1 = axes[m, 0]; ax2 = axes[m, 1]; ax3 = axes[m, 2]\n",
    "\n",
    "        for x_start, x_end, c, lab in zip(x_starts, x_ends, cs, labs):\n",
    "            \n",
    "            vel, mask, mask_all, depth, e1, e2,\\\n",
    "                sozotaux = quicklook.get_vars_for_box(dirname, fname, meshmaskname, x_start, x_end, y_start, y_end, flag)\n",
    "                \n",
    "            avg_all_ys, avg_all_depths, avg_box_depths,\\\n",
    "                avg_absolute = quicklook.calculate_avg_vel(vel, dep_start, dep_end)\n",
    "\n",
    "            cmap = LinearSegmentedColormap.from_list('mycmap', ['wheat', 'white'])\n",
    "            xs = np.arange(mask_all.shape[-1])\n",
    "            ys = np.arange(mask_all.shape[-2])\n",
    "            zs = depth\n",
    "\n",
    "            # ---------------------------------------------------------------------\n",
    "\n",
    "            ax1.pcolormesh(xs, ys, mask_all[dep_end, :,:], cmap=cmap)\n",
    "            ax1.add_patch(patches.Rectangle((x_start, y_start), (x_end-x_start),(y_end-y_start),\n",
    "                                            ec=c, fill=False, lw=3))\n",
    "            ax1.set_aspect(aspect='equal')\n",
    "            ax1.set_xlim([0, xs[-1]])\n",
    "            ax1.set_ylim([0, ys[-1]])\n",
    "            labels_x = ax1.get_xticks().tolist()\n",
    "            labels_y = ax1.get_yticks().tolist()\n",
    "            ticks_x = [int(np.round(lab*np.mean(e1)/1000)) for lab in labels_x]\n",
    "            ticks_y = [int(np.round(lab*np.mean(e2)/1000)) for lab in labels_y]\n",
    "            ax1.set_xticklabels(ticks_x)\n",
    "            ax1.set_yticklabels(ticks_y)\n",
    "            ax1.yaxis.grid(True)\n",
    "            \n",
    "            # ---------------------------------------------------------------------\n",
    "\n",
    "            sc = ax2.pcolormesh(ys, zs, mask_all[:, :, int((x_starts[1]+x_ends[1])/2)], cmap=cmap)\n",
    "            ax2.add_patch(patches.Rectangle((y_start, depth[dep_start]),(y_end-y_start), depth[dep_end]-depth[dep_start],\n",
    "                                            ec=cs[1], fill=False, lw=2))\n",
    "            ax2.set_ylim([zs[-1], 0])\n",
    "            ax2.set_xlim([0, ys[-1]])\n",
    "            ax2.set_xticklabels(ticks_y)\n",
    "            ax2.grid()\n",
    "            \n",
    "            # ---------------------------------------------------------------------\n",
    "\n",
    "            avg_absolute_smoothed = general_functions.smooth(avg_absolute[:], 12)\n",
    "            ax3.plot(avg_absolute[:], c='dimgray', lw=2, alpha=0.8)\n",
    "            ax3.plot(avg_absolute_smoothed, c=c, lw=2.5, label=lab)\n",
    "            if flag == 'U':\n",
    "                ax3.set_ylim([-0.6, 0.1])\n",
    "            elif flag == 'V':\n",
    "                ax3.set_ylim([-0.2, 0.2])\n",
    "            elif flag == 'W':\n",
    "                ax3.set_ylim([-0.001, 0.001])\n",
    "            ax3.set_xlim([0, 10*24])\n",
    "            ax3.xaxis.set_ticks(np.arange(0, 10*24, 24))\n",
    "            ax3.legend(ncol=2, loc=4, fontsize=20)\n",
    "        ax3.grid()\n",
    "            \n",
    "    # ---------------------------------------------------------------------\n",
    "\n",
    "    plt.subplots_adjust(top=0.95)\n",
    "    fig.suptitle(case+' - '+kind+': '+flag+'-velocity at varios depths on up/downstream sides of canyon', fontsize=30)\n",
    "        \n",
    "    return fig"
   ]
  },
  {
   "cell_type": "code",
   "execution_count": 3,
   "metadata": {
    "collapsed": true
   },
   "outputs": [],
   "source": [
    "def execute(dicts, case, kind, flag):\n",
    "    dirname='/ocean/imachuca/Canyons/results_mackenzie/extended_domain/'+kind+'_'+case+'/'\n",
    "    fig = plot_velocity_boxes(dirname, dicts, case, kind, flag)\n",
    "    fig.savefig('../writing_images/updownstream_'+flag+'_'+kind+'_'+case+'.png', dpi=100, bbox_inches='tight')\n",
    "    plt.close(fig) \n",
    "    print('done')\n",
    "    return"
   ]
  },
  {
   "cell_type": "markdown",
   "metadata": {},
   "source": [
    "# Indices"
   ]
  },
  {
   "cell_type": "code",
   "execution_count": 4,
   "metadata": {
    "collapsed": true
   },
   "outputs": [],
   "source": [
    "x_startE, x_startW = 200, 30\n",
    "x_endsE, x_endsW = 230, 60 "
   ]
  },
  {
   "cell_type": "code",
   "execution_count": 5,
   "metadata": {
    "collapsed": false
   },
   "outputs": [],
   "source": [
    "dict_1 = {'x_startsEW':[x_startE, x_startW], 'x_endsEW':[x_endsE, x_endsW], 'y_start':45, 'y_end':190, 'dep_start':2, 'dep_end':6}\n",
    "\n",
    "dict_2 = {'x_startsEW':[x_startE, x_startW], 'x_endsEW':[x_endsE, x_endsW], 'y_start':45, 'y_end':190, 'dep_start':7, 'dep_end':11}\n",
    "\n",
    "dict_3 = {'x_startsEW':[x_startE, x_startW], 'x_endsEW':[x_endsE, x_endsW], 'y_start':45, 'y_end':190, 'dep_start':12, 'dep_end':16}\n",
    "\n",
    "dict_4 = {'x_startsEW':[x_startE, x_startW], 'x_endsEW':[x_endsE, x_endsW], 'y_start':45, 'y_end':190, 'dep_start':25, 'dep_end':30}\n",
    "\n",
    "dict_5 = {'x_startsEW':[x_startE, x_startW], 'x_endsEW':[x_endsE, x_endsW], 'y_start':45, 'y_end':190, 'dep_start':40, 'dep_end':45}\n",
    "\n",
    "dict_6 = {'x_startsEW':[x_startE, x_startW], 'x_endsEW':[x_endsE, x_endsW], 'y_start':45, 'y_end':190, 'dep_start':65, 'dep_end':68}\n",
    "\n",
    "dict_7 = {'x_startsEW':[x_startE, x_startW], 'x_endsEW':[x_endsE, x_endsW], 'y_start':45, 'y_end':195, 'dep_start':70, 'dep_end':73}\n",
    "\n",
    "dict_8 = {'x_startsEW':[x_startE, x_startW], 'x_endsEW':[x_endsE, x_endsW], 'y_start':45, 'y_end':200, 'dep_start':75, 'dep_end':78}\n",
    "\n",
    "dicts =  [dict_1, dict_2, dict_3, dict_4, dict_5, dict_6, dict_7, dict_8]"
   ]
  },
  {
   "cell_type": "markdown",
   "metadata": {},
   "source": [
    "# Ideal - U"
   ]
  },
  {
   "cell_type": "code",
   "execution_count": 6,
   "metadata": {
    "collapsed": true
   },
   "outputs": [],
   "source": [
    "kind = 'ideal'\n",
    "flag = 'U'"
   ]
  },
  {
   "cell_type": "code",
   "execution_count": 7,
   "metadata": {
    "collapsed": false,
    "scrolled": false
   },
   "outputs": [
    {
     "name": "stdout",
     "output_type": "stream",
     "text": [
      "done\n",
      "done\n",
      "done\n"
     ]
    }
   ],
   "source": [
    "case = 'base'\n",
    "execute(dicts, case, kind, flag)\n",
    "\n",
    "case = 'half'\n",
    "execute(dicts, case, kind, flag)\n",
    "\n",
    "case = 'double'\n",
    "execute(dicts, case, kind, flag)"
   ]
  },
  {
   "cell_type": "markdown",
   "metadata": {
    "collapsed": true
   },
   "source": [
    "#  Ideal - V"
   ]
  },
  {
   "cell_type": "code",
   "execution_count": 8,
   "metadata": {
    "collapsed": true
   },
   "outputs": [],
   "source": [
    "kind = 'ideal'\n",
    "flag = 'V'"
   ]
  },
  {
   "cell_type": "code",
   "execution_count": 9,
   "metadata": {
    "collapsed": false
   },
   "outputs": [
    {
     "name": "stdout",
     "output_type": "stream",
     "text": [
      "done\n",
      "done\n",
      "done\n"
     ]
    }
   ],
   "source": [
    "case = 'base'\n",
    "execute(dicts, case, kind, flag)\n",
    "\n",
    "case = 'half'\n",
    "execute(dicts, case, kind, flag)\n",
    "\n",
    "case = 'double'\n",
    "execute(dicts, case, kind, flag)"
   ]
  },
  {
   "cell_type": "markdown",
   "metadata": {},
   "source": [
    "# Ideal - W"
   ]
  },
  {
   "cell_type": "code",
   "execution_count": 10,
   "metadata": {
    "collapsed": true
   },
   "outputs": [],
   "source": [
    "kind = 'ideal'\n",
    "flag = 'W'"
   ]
  },
  {
   "cell_type": "code",
   "execution_count": 11,
   "metadata": {
    "collapsed": false
   },
   "outputs": [
    {
     "name": "stdout",
     "output_type": "stream",
     "text": [
      "done\n",
      "done\n",
      "done\n"
     ]
    }
   ],
   "source": [
    "case = 'base'\n",
    "execute(dicts, case, kind, flag)\n",
    "\n",
    "case = 'half'\n",
    "execute(dicts, case, kind, flag)\n",
    "\n",
    "case = 'double'\n",
    "execute(dicts, case, kind, flag)"
   ]
  },
  {
   "cell_type": "markdown",
   "metadata": {},
   "source": [
    "# Indices"
   ]
  },
  {
   "cell_type": "code",
   "execution_count": 12,
   "metadata": {
    "collapsed": true
   },
   "outputs": [],
   "source": [
    "dict_1 = {'x_startsEW':[x_startE, x_startW], 'x_endsEW':[x_endsE, x_endsW], 'y_start':45, 'y_end':190, 'dep_start':2, 'dep_end':6}\n",
    "\n",
    "dict_2 = {'x_startsEW':[x_startE, x_startW], 'x_endsEW':[x_endsE, x_endsW], 'y_start':45, 'y_end':190, 'dep_start':7, 'dep_end':11}\n",
    "\n",
    "dict_3 = {'x_startsEW':[x_startE, x_startW], 'x_endsEW':[x_endsE, x_endsW], 'y_start':45, 'y_end':190, 'dep_start':12, 'dep_end':16}\n",
    "\n",
    "dict_4 = {'x_startsEW':[x_startE, x_startW], 'x_endsEW':[x_endsE, x_endsW], 'y_start':45, 'y_end':190, 'dep_start':25, 'dep_end':30}\n",
    "\n",
    "dict_5 = {'x_startsEW':[x_startE, x_startW], 'x_endsEW':[x_endsE, x_endsW], 'y_start':45, 'y_end':190, 'dep_start':40, 'dep_end':45}\n",
    "\n",
    "dict_6 = {'x_startsEW':[x_startE, x_startW], 'x_endsEW':[x_endsE, x_endsW], 'y_start':45, 'y_end':225, 'dep_start':65, 'dep_end':68}\n",
    "\n",
    "dict_7 = {'x_startsEW':[x_startE, x_startW], 'x_endsEW':[x_endsE, x_endsW], 'y_start':45, 'y_end':225, 'dep_start':70, 'dep_end':73}\n",
    "\n",
    "dict_8 = {'x_startsEW':[x_startE, x_startW], 'x_endsEW':[x_endsE, x_endsW], 'y_start':45, 'y_end':225, 'dep_start':75, 'dep_end':78}\n",
    "\n",
    "dicts =  [dict_1, dict_2, dict_3, dict_4, dict_5, dict_6, dict_7, dict_8]"
   ]
  },
  {
   "cell_type": "markdown",
   "metadata": {
    "collapsed": true
   },
   "source": [
    "# Real - U"
   ]
  },
  {
   "cell_type": "code",
   "execution_count": 13,
   "metadata": {
    "collapsed": true
   },
   "outputs": [],
   "source": [
    "kind = 'real'\n",
    "flag = 'U'"
   ]
  },
  {
   "cell_type": "code",
   "execution_count": 14,
   "metadata": {
    "collapsed": false
   },
   "outputs": [
    {
     "name": "stdout",
     "output_type": "stream",
     "text": [
      "done\n",
      "done\n",
      "done\n"
     ]
    }
   ],
   "source": [
    "case = 'base'\n",
    "execute(dicts, case, kind, flag)\n",
    "\n",
    "case = 'half'\n",
    "execute(dicts, case, kind, flag)\n",
    "\n",
    "case = 'double'\n",
    "execute(dicts, case, kind, flag)"
   ]
  },
  {
   "cell_type": "markdown",
   "metadata": {},
   "source": [
    "# Real - V"
   ]
  },
  {
   "cell_type": "code",
   "execution_count": 15,
   "metadata": {
    "collapsed": true
   },
   "outputs": [],
   "source": [
    "kind = 'real'\n",
    "flag = 'V'"
   ]
  },
  {
   "cell_type": "code",
   "execution_count": 16,
   "metadata": {
    "collapsed": false
   },
   "outputs": [
    {
     "name": "stdout",
     "output_type": "stream",
     "text": [
      "done\n",
      "done\n",
      "done\n"
     ]
    }
   ],
   "source": [
    "case = 'base'\n",
    "execute(dicts, case, kind, flag)\n",
    "\n",
    "case = 'half'\n",
    "execute(dicts, case, kind, flag)\n",
    "\n",
    "case = 'double'\n",
    "execute(dicts, case, kind, flag)"
   ]
  },
  {
   "cell_type": "markdown",
   "metadata": {},
   "source": [
    "# Real - W"
   ]
  },
  {
   "cell_type": "code",
   "execution_count": 17,
   "metadata": {
    "collapsed": true
   },
   "outputs": [],
   "source": [
    "kind = 'real'\n",
    "flag = 'W'"
   ]
  },
  {
   "cell_type": "code",
   "execution_count": 18,
   "metadata": {
    "collapsed": false
   },
   "outputs": [
    {
     "name": "stdout",
     "output_type": "stream",
     "text": [
      "done\n",
      "done\n",
      "done\n"
     ]
    }
   ],
   "source": [
    "case = 'base'\n",
    "execute(dicts, case, kind, flag)\n",
    "\n",
    "case = 'half'\n",
    "execute(dicts, case, kind, flag)\n",
    "\n",
    "case = 'double'\n",
    "execute(dicts, case, kind, flag)"
   ]
  },
  {
   "cell_type": "code",
   "execution_count": null,
   "metadata": {
    "collapsed": true
   },
   "outputs": [],
   "source": []
  }
 ],
 "metadata": {
  "kernelspec": {
   "display_name": "Python 3",
   "language": "python",
   "name": "python3"
  },
  "language_info": {
   "codemirror_mode": {
    "name": "ipython",
    "version": 3
   },
   "file_extension": ".py",
   "mimetype": "text/x-python",
   "name": "python",
   "nbconvert_exporter": "python",
   "pygments_lexer": "ipython3",
   "version": "3.5.0rc4"
  }
 },
 "nbformat": 4,
 "nbformat_minor": 2
}
