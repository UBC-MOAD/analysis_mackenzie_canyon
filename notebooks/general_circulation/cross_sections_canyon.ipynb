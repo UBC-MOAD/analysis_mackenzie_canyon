{
 "cells": [
  {
   "cell_type": "markdown",
   "metadata": {},
   "source": [
    "April: **Research Questions 1.A.4** (Ideal)"
   ]
  },
  {
   "cell_type": "markdown",
   "metadata": {},
   "source": [
    "# Provided with upwelling-favourable wind forcing at the surface, what are the circulation patterns during an upwelling event in Mackenzie Canyon?"
   ]
  },
  {
   "cell_type": "markdown",
   "metadata": {},
   "source": [
    "Circulation inside the canyon:"
   ]
  },
  {
   "cell_type": "markdown",
   "metadata": {},
   "source": [
    "How does water flow around the canyon walls? Where in the canyon does water \"turn\" and what is the velocity of the flow."
   ]
  },
  {
   "cell_type": "code",
   "execution_count": 1,
   "metadata": {
    "collapsed": true
   },
   "outputs": [],
   "source": [
    "import netCDF4 as nc\n",
    "import matplotlib.pyplot as plt\n",
    "import matplotlib.cm as cm\n",
    "import cmocean as cmo\n",
    "import os,sys,fnmatch,time\n",
    "import numpy as np\n",
    "import matplotlib.gridspec as gridspec\n",
    "import matplotlib.patches as patches\n",
    "from matplotlib.ticker import MultipleLocator\n",
    "from matplotlib.colors import LinearSegmentedColormap\n",
    "from matplotlib import animation\n",
    "from salishsea_tools.nc_tools import scDataset\n",
    "from matplotlib import ticker\n",
    "from matplotlib import colors\n",
    "import matplotlib as mpl\n",
    "from matplotlib.colors import LinearSegmentedColormap\n",
    "import math\n",
    "from mpl_toolkits.axes_grid1.inset_locator import inset_axes\n",
    "import matplotlib.patches as patches\n",
    "\n",
    "import sys\n",
    "sys.path.append('/ocean/imachuca/Canyons/analysis_mackenzie_canyon/notebooks/general_circulation/')\n",
    "import general_functions\n",
    "import quicklook\n",
    "import circulation_plots\n",
    "\n",
    "import warnings\n",
    "warnings.filterwarnings(\"ignore\")\n",
    "\n",
    "%matplotlib inline"
   ]
  },
  {
   "cell_type": "code",
   "execution_count": 2,
   "metadata": {
    "collapsed": false
   },
   "outputs": [
    {
     "data": {
      "text/plain": [
       "<module 'quicklook' from '/ocean/imachuca/Canyons/analysis_mackenzie_canyon/notebooks/general_circulation/quicklook.py'>"
      ]
     },
     "execution_count": 2,
     "metadata": {},
     "output_type": "execute_result"
    }
   ],
   "source": [
    "import importlib\n",
    "importlib.reload(quicklook)"
   ]
  },
  {
   "cell_type": "code",
   "execution_count": 3,
   "metadata": {
    "collapsed": true
   },
   "outputs": [],
   "source": [
    "def get_uv_at_cross(dirname, fname, meshmaskname, x_ind):\n",
    "    \n",
    "    filesU = general_functions.get_files(dirname, fname, 'grid_U')        \n",
    "    filesV = general_functions.get_files(dirname, fname, 'grid_V')\n",
    "    \n",
    "    y = slice(1,-1,None)\n",
    "\n",
    "    with scDataset(filesU) as dsU, scDataset(filesV) as dsV:\n",
    "        vozocrtx0 = dsU.variables['vozocrtx'][:,:,y,x_ind]\n",
    "        vomecrty0 = dsV.variables['vomecrty'][:,:,y,x_ind]\n",
    "        sozotaux = dsU.variables['sozotaux'][:,0,0]\n",
    "        depthu = dsU.variables['depthu'][:]\n",
    "        depthv = dsV.variables['depthv'][:]\n",
    "\n",
    "    with nc.Dataset(os.path.join(dirname, meshmaskname), 'r') as dsM:\n",
    "        umask0 = dsM.variables['umask'][0,:,y,x_ind]\n",
    "        vmask0 = dsM.variables['vmask'][0,:,y,x_ind]\n",
    "        e1u = dsM.variables['e1u'][0, y, x_ind]\n",
    "\n",
    "    umask = np.tile(umask0, (len(sozotaux), 1, 1))\n",
    "    vmask = np.tile(vmask0, (len(sozotaux), 1, 1))\n",
    "\n",
    "    vozocrtx = np.ma.array(vozocrtx0, mask=1 - umask)\n",
    "    vomecrty = np.ma.array(vomecrty0, mask=1 - vmask)\n",
    "    \n",
    "    return vozocrtx, vomecrty, umask[0, ...], vmask[0, ...], e1u, depthu, depthv, sozotaux"
   ]
  },
  {
   "cell_type": "code",
   "execution_count": 4,
   "metadata": {
    "collapsed": false
   },
   "outputs": [],
   "source": [
    "def plot_turning_cross_section(vozocrtx0A, vomecrty0A,\n",
    "                               dep_ind0A, day0A,\n",
    "                               vozocrtx0B, vomecrty0B,\n",
    "                               dep_ind0B, day0B,\n",
    "                               vozocrtxA, vomecrtyA, \n",
    "                               vozocrtxB, vomecrtyB,\n",
    "                               vozocrtxC, vomecrtyC,\n",
    "                               vozocrtxD, vomecrtyD,\n",
    "                               umask, depthu, x_inds, vm, levels, kind, case, flag):\n",
    "    \n",
    "    days = 6\n",
    "    extra_rows=3\n",
    "    cols = 4\n",
    "    fig, axes = plt.subplots(days+extra_rows, cols, figsize=(20, 30), \n",
    "                             gridspec_kw={\"height_ratios\":[1.5,0.5,0.05,1,1,1,1,1,1]},sharey=True)\n",
    "    for ax in axes[0, :]:\n",
    "        ax.remove()\n",
    "    for ax in axes[1, :]:\n",
    "        ax.remove()\n",
    "        \n",
    "    cmap = cmo.cm.delta_r\n",
    "    cmap.set_bad('silver')\n",
    "    vmin, vmax = -1*vm, vm\n",
    "          \n",
    "        \n",
    "    # --------------------------------------------------------------\n",
    "    \n",
    "    \n",
    "    if flag == 'U':\n",
    "        velA = vozocrtx0A #\n",
    "        velB = vozocrtx0B\n",
    "    elif flag == 'V':\n",
    "        velA = vomecrty0A #\n",
    "        velB = vomecrty0B\n",
    "        \n",
    "    for i, side in zip([0, 2], ['A', 'B']):\n",
    "        if side == 'A':\n",
    "            vel, day0, dep_ind0 = velA, day0A, dep_ind0A\n",
    "            uvel, vvel = vozocrtx0A, vomecrty0A\n",
    "            \n",
    "        if side == 'B':\n",
    "            vel, day0, dep_ind0 = velB, day0B, dep_ind0B\n",
    "            uvel, vvel = vozocrtx0B, vomecrty0B\n",
    "        \n",
    "        x_slice, y_slice, u_nstg, v_nstg, speeds = quicklook.get_speeds(uvel, vvel, 5) #\n",
    "    \n",
    "        ax = plt.subplot2grid((days+extra_rows, cols), (0, i), colspan=2, rowspan=2) #\n",
    "        plot_vel = np.ma.array(vel, mask=1 - umask)\n",
    "        p = ax.pcolormesh(plot_vel, cmap=cmap, vmin=vmin, vmax=vmax)\n",
    "        ax.quiver(x_slice, y_slice, u_nstg, v_nstg, color='k',\n",
    "                  clim=[0,vm], pivot='mid', width=0.005, headwidth=2.5, alpha=0.8)\n",
    "        cs = ax.contour(plot_vel, levels = levels, alpha=0.8, linewidths=2)\n",
    "        ax.clabel(cs, inline=1, fontsize=10, fmt = '%.1f')\n",
    "        for line in cs.collections:\n",
    "            line.set_linestyle([(None, None)])\n",
    "            line.set_color('orangered')\n",
    "        for x_ind in (x_inds):\n",
    "            ax.axvline(x_ind, c='w', linewidth=2, alpha=0.8)\n",
    "        ax.set_aspect(aspect='equal')\n",
    "        #ax.xaxis.set_ticks(np.arange(0, x_slice[-1], 15))\n",
    "        #ax.yaxis.set_ticks(np.arange(0, y_slice[-1], 15))\n",
    "        ax.set_xlim([0, plot_vel.shape[-1]])\n",
    "        ax.set_ylim([0, plot_vel.shape[-2]])\n",
    "        ttls = 'Snapshot of average '+flag+' and flow\\nfor day '+str(day0)+' and dep '+str(int(depthu[dep_ind0]))+' m'\n",
    "        ax.set_title(ttls, fontsize=20)\n",
    "    \n",
    "    \n",
    "    # --------------------------------------------------------------\n",
    "    \n",
    "    \n",
    "    for x_ind, n in zip(x_inds, np.arange(axes.shape[1])):\n",
    "        ax = axes[2, n]\n",
    "        ax.axis(\"off\")\n",
    "        ax.set_title('x ind = '+str(x_ind), fontsize=30)\n",
    "        fig.colorbar(p, ax=ax, fraction=1.5, orientation='horizontal')\n",
    "    \n",
    "        \n",
    "    # --------------------------------------------------------------\n",
    "    \n",
    "    \n",
    "    if flag == 'U':\n",
    "        vels = [vozocrtxA, vozocrtxB, vozocrtxC, vozocrtxD]\n",
    "    elif flag == 'V':\n",
    "        vels = [vomecrtyA, vomecrtyB, vomecrtyC, vomecrtyD]\n",
    "        \n",
    "    for x_ind, vel, n in zip(x_inds, vels, np.arange(axes.shape[1])):\n",
    "        for d, m in zip(np.arange(days), np.arange(extra_rows, axes.shape[0])):\n",
    "            vel_daily = quicklook.get_1day_avg(vel, d, d+1) \n",
    "            ys = np.arange(vel_daily.shape[-1])\n",
    "            ax = axes[m, n]\n",
    "            p = ax.pcolormesh(ys, depthu, vel_daily, cmap=cmap, vmin=vmin, vmax=vmax)\n",
    "            cs = ax.contour(ys, depthu, vel_daily, levels = levels, alpha=0.8, linewidths=1.5)\n",
    "            ax.clabel(cs, inline=1, fontsize=10, fmt = '%.1f')\n",
    "            for line in cs.collections:\n",
    "                line.set_linestyle([(None, None)])\n",
    "                line.set_color('r')\n",
    "            if (d+1) == day0A:\n",
    "                ax.axhline(depthu[dep_ind0A], c='k', lw=2, alpha=0.8)\n",
    "            if (d+1) == day0B:\n",
    "                ax.axhline(depthu[dep_ind0B], c='k', lw=2, alpha=0.8)\n",
    "            ax.xaxis.set_ticks(np.arange(0, ys[-1], 15))\n",
    "            ax.grid()\n",
    "            ax.set_xlim([0, 200])\n",
    "            ax.set_ylim([600, 0])\n",
    "            ax.set_title('Day '+str(d+1), fontsize=20)\n",
    "            \n",
    "    \n",
    "    # --------------------------------------------------------------\n",
    "    \n",
    "    \n",
    "    fig.tight_layout(w_pad=0.3, h_pad=0.5)\n",
    "    plt.subplots_adjust(top=0.94)\n",
    "    fig.suptitle(kind+' - '+case+': Daily '+flag+' velocity average cross-sections', fontsize=30)\n",
    "            \n",
    "    return fig"
   ]
  },
  {
   "cell_type": "code",
   "execution_count": 5,
   "metadata": {
    "collapsed": false
   },
   "outputs": [],
   "source": [
    "def make_plots(dirname, fname, meshmaskname, kind, case, day0A, dep_ind0A, day0B, dep_ind0B, x_inds):\n",
    "\n",
    "    vozocrtx, vomecrty, vozocrtx0A, vomecrty0A, umask, vmask,\\\n",
    "        e1u, e2u, depthu, depthv, sozotaux = quicklook.get_uv_at_depth_day(dirname, fname, dep_ind0A, day0A)\n",
    "    vozocrtx, vomecrty, vozocrtx0B, vomecrty0B, umask, vmask,\\\n",
    "        e1u, e2u, depthu, depthv, sozotaux = quicklook.get_uv_at_depth_day(dirname, fname, dep_ind0B, day0B)\n",
    "\n",
    "    # ----------------------------------------------------------------------------------------------------\n",
    "\n",
    "    vozocrtxA, vomecrtyA, umaskA, vmaskA, e1u, depthu, depthv, sozotaux = get_uv_at_cross(dirname, fname, meshmaskname, x_inds[0])\n",
    "    vozocrtxB, vomecrtyB, umaskB, vmaskC, e1u, depthu, depthv, sozotaux = get_uv_at_cross(dirname, fname, meshmaskname, x_inds[1])\n",
    "    vozocrtxC, vomecrtyC, umaskC, vmaskC, e1u, depthu, depthv, sozotaux = get_uv_at_cross(dirname, fname, meshmaskname, x_inds[2])\n",
    "    vozocrtxD, vomecrtyD, umaskD, vmaskD, e1u, depthu, depthv, sozotaux = get_uv_at_cross(dirname, fname, meshmaskname, x_inds[3])\n",
    "\n",
    "    # ----------------------------------------------------------------------------------------------------\n",
    "\n",
    "    flag = 'U'\n",
    "    vm=0.5\n",
    "    levels = [-0.2, 0]\n",
    "\n",
    "    fig = plot_turning_cross_section(vozocrtx0A, vomecrty0A,\n",
    "                                   dep_ind0A, day0A,\n",
    "                                   vozocrtx0B, vomecrty0B,\n",
    "                                   dep_ind0B, day0B,\n",
    "                                   vozocrtxA, vomecrtyA, \n",
    "                                   vozocrtxB, vomecrtyB,\n",
    "                                   vozocrtxC, vomecrtyC,\n",
    "                                   vozocrtxD, vomecrtyD,\n",
    "                                   umask, depthu, x_inds, vm, levels, kind, case, flag)\n",
    "\n",
    "    fig.savefig('../writing_images/crosssections_mid_'+kind+'_'+case+'_'+flag+'_chd.png', dpi=100, bbox_inches='tight')\n",
    "    plt.close(fig) \n",
    "    print('done')\n",
    "\n",
    "    # ----------------------------------------------------------------------------------------------------\n",
    "\n",
    "    flag = 'V'\n",
    "    vm=0.5\n",
    "    levels = [-0.2, 0]\n",
    "\n",
    "    fig = plot_turning_cross_section(vozocrtx0A, vomecrty0A,\n",
    "                                   dep_ind0A, day0A,\n",
    "                                   vozocrtx0B, vomecrty0B,\n",
    "                                   dep_ind0B, day0B,\n",
    "                                   vozocrtxA, vomecrtyA, \n",
    "                                   vozocrtxB, vomecrtyB,\n",
    "                                   vozocrtxC, vomecrtyC,\n",
    "                                   vozocrtxD, vomecrtyD,\n",
    "                                   umask, depthu, x_inds, vm, levels, kind, case, flag)\n",
    "\n",
    "    fig.savefig('../writing_images/crosssections_mid_'+kind+'_'+case+'_'+flag+'_chd.png', dpi=100, bbox_inches='tight')\n",
    "    plt.close(fig) \n",
    "    print('done')\n",
    "    \n",
    "    return"
   ]
  },
  {
   "cell_type": "markdown",
   "metadata": {},
   "source": [
    "# Constants"
   ]
  },
  {
   "cell_type": "code",
   "execution_count": 6,
   "metadata": {
    "collapsed": true
   },
   "outputs": [],
   "source": [
    "fname = \"1_MCKNZ_1h_20170101_201701*\"\n",
    "meshmaskname = '1_mesh_mask.nc'"
   ]
  },
  {
   "cell_type": "markdown",
   "metadata": {},
   "source": [
    "# Ideal"
   ]
  },
  {
   "cell_type": "code",
   "execution_count": 7,
   "metadata": {
    "collapsed": true
   },
   "outputs": [],
   "source": [
    "kind = 'ideal'\n",
    "x_inds = [125, 130, 135, 140]\n",
    "day0A, dep_ind0A = 2, 17\n",
    "day0B, dep_ind0B = 3, 5"
   ]
  },
  {
   "cell_type": "code",
   "execution_count": 8,
   "metadata": {
    "collapsed": false
   },
   "outputs": [
    {
     "name": "stdout",
     "output_type": "stream",
     "text": [
      "done\n",
      "done\n"
     ]
    }
   ],
   "source": [
    "case = 'base'\n",
    "dirname = '/ocean/imachuca/Canyons/results_mackenzie/extended_domain/'+kind+'_'+case+'/'\n",
    "make_plots(dirname, fname, meshmaskname, kind, case, day0A, dep_ind0A, day0B, dep_ind0B, x_inds)"
   ]
  },
  {
   "cell_type": "code",
   "execution_count": 9,
   "metadata": {
    "collapsed": false
   },
   "outputs": [
    {
     "name": "stdout",
     "output_type": "stream",
     "text": [
      "done\n",
      "done\n"
     ]
    }
   ],
   "source": [
    "case = 'half'\n",
    "dirname = '/ocean/imachuca/Canyons/results_mackenzie/extended_domain/'+kind+'_'+case+'/'\n",
    "make_plots(dirname, fname, meshmaskname, kind, case, day0A, dep_ind0A, day0B, dep_ind0B, x_inds)"
   ]
  },
  {
   "cell_type": "code",
   "execution_count": 10,
   "metadata": {
    "collapsed": false
   },
   "outputs": [
    {
     "name": "stdout",
     "output_type": "stream",
     "text": [
      "done\n",
      "done\n"
     ]
    }
   ],
   "source": [
    "case = 'double'\n",
    "dirname = '/ocean/imachuca/Canyons/results_mackenzie/extended_domain/'+kind+'_'+case+'/'\n",
    "make_plots(dirname, fname, meshmaskname, kind, case, day0A, dep_ind0A, day0B, dep_ind0B, x_inds)"
   ]
  },
  {
   "cell_type": "markdown",
   "metadata": {},
   "source": [
    "# Real"
   ]
  },
  {
   "cell_type": "code",
   "execution_count": 11,
   "metadata": {
    "collapsed": true
   },
   "outputs": [],
   "source": [
    "kind = 'real'\n",
    "x_inds = [125, 135, 145, 155]\n",
    "day0A, dep_ind0A = 2, 5\n",
    "day0B, dep_ind0B = 5, 6"
   ]
  },
  {
   "cell_type": "code",
   "execution_count": 12,
   "metadata": {
    "collapsed": false
   },
   "outputs": [
    {
     "name": "stdout",
     "output_type": "stream",
     "text": [
      "done\n",
      "done\n"
     ]
    }
   ],
   "source": [
    "case = 'base'\n",
    "dirname = '/ocean/imachuca/Canyons/results_mackenzie/extended_domain/'+kind+'_'+case+'/'\n",
    "make_plots(dirname, fname, meshmaskname, kind, case, day0A, dep_ind0A, day0B, dep_ind0B, x_inds)"
   ]
  },
  {
   "cell_type": "code",
   "execution_count": 13,
   "metadata": {
    "collapsed": false
   },
   "outputs": [
    {
     "name": "stdout",
     "output_type": "stream",
     "text": [
      "done\n",
      "done\n"
     ]
    }
   ],
   "source": [
    "case = 'half'\n",
    "dirname = '/ocean/imachuca/Canyons/results_mackenzie/extended_domain/'+kind+'_'+case+'/'\n",
    "make_plots(dirname, fname, meshmaskname, kind, case, day0A, dep_ind0A, day0B, dep_ind0B, x_inds)"
   ]
  },
  {
   "cell_type": "code",
   "execution_count": 14,
   "metadata": {
    "collapsed": false
   },
   "outputs": [
    {
     "name": "stdout",
     "output_type": "stream",
     "text": [
      "done\n",
      "done\n"
     ]
    }
   ],
   "source": [
    "case = 'double'\n",
    "dirname = '/ocean/imachuca/Canyons/results_mackenzie/extended_domain/'+kind+'_'+case+'/'\n",
    "make_plots(dirname, fname, meshmaskname, kind, case, day0A, dep_ind0A, day0B, dep_ind0B, x_inds)"
   ]
  }
 ],
 "metadata": {
  "kernelspec": {
   "display_name": "Python 3",
   "language": "python",
   "name": "python3"
  },
  "language_info": {
   "codemirror_mode": {
    "name": "ipython",
    "version": 3
   },
   "file_extension": ".py",
   "mimetype": "text/x-python",
   "name": "python",
   "nbconvert_exporter": "python",
   "pygments_lexer": "ipython3",
   "version": "3.5.0rc4"
  }
 },
 "nbformat": 4,
 "nbformat_minor": 2
}
