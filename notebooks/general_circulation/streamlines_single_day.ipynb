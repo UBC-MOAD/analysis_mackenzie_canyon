{
 "cells": [
  {
   "cell_type": "code",
   "execution_count": 11,
   "metadata": {
    "collapsed": true
   },
   "outputs": [],
   "source": [
    "import netCDF4 as nc\n",
    "import matplotlib.pyplot as plt\n",
    "import matplotlib.cm as cm\n",
    "import cmocean as cmo\n",
    "import os,sys,fnmatch,time\n",
    "import numpy as np\n",
    "import matplotlib.gridspec as gridspec\n",
    "import matplotlib.patches as patches\n",
    "from matplotlib.ticker import MultipleLocator\n",
    "from matplotlib.colors import LinearSegmentedColormap\n",
    "from matplotlib import animation\n",
    "from salishsea_tools.nc_tools import scDataset\n",
    "from matplotlib import ticker\n",
    "from matplotlib import colors\n",
    "import matplotlib as mpl\n",
    "from matplotlib.colors import LinearSegmentedColormap\n",
    "import math\n",
    "from mpl_toolkits.axes_grid1.inset_locator import inset_axes\n",
    "import matplotlib.patches as patches\n",
    "\n",
    "import sys\n",
    "sys.path.append('/ocean/imachuca/Canyons/analysis_mackenzie_canyon/notebooks/general_circulation/')\n",
    "import general_functions\n",
    "import quicklook\n",
    "\n",
    "import warnings\n",
    "warnings.filterwarnings(\"ignore\")\n",
    "\n",
    "%matplotlib inline"
   ]
  },
  {
   "cell_type": "markdown",
   "metadata": {},
   "source": [
    "# Functions"
   ]
  },
  {
   "cell_type": "code",
   "execution_count": 12,
   "metadata": {
    "collapsed": false
   },
   "outputs": [],
   "source": [
    "def plot_streamlines_hourly(x_slice, y_slice, u_nstg, v_nstg, speeds, umask, vmask, depthu, actual_hours, day, kind, case):\n",
    "\n",
    "    #\n",
    "    umask_slice = umask[:-1, :-1]\n",
    "    vmask_slice = vmask[:-1, :-1]\n",
    "\n",
    "    vmin, vmax = 0, 0.7\n",
    "    cmap = cmo.cm.matter\n",
    "    cmap.set_bad('silver')\n",
    "    cmap_mask = LinearSegmentedColormap.from_list('mycmap', ['silver', 'white'])\n",
    "    norm = mpl.colors.Normalize(vmin=vmin,vmax=vmax)\n",
    "\n",
    "    fig, axes = plt.subplots(4, 3, figsize = (20, 28)) #\n",
    "    for ax, n in zip(axes.flatten(), np.arange(12)): #\n",
    "        plot_speeds = np.ma.array(speeds[n, ...], mask=1 - umask_slice) #\n",
    "        plot_u_nstg = np.ma.array(u_nstg[n, ...], mask=1 - umask_slice) #\n",
    "        plot_v_nstg = np.ma.array(v_nstg[n, ...], mask=1 - vmask_slice) #\n",
    "        strm = ax.streamplot(x_slice, y_slice, plot_u_nstg, plot_v_nstg, color=plot_speeds,\n",
    "                             cmap=cmap, norm=norm, linewidth=2, density=6, zorder=2) \n",
    "        ax.pcolormesh(umask_slice, cmap=cmap_mask, zorder=1)\n",
    "        plt.setp(ax.get_xticklabels(), visible=False)\n",
    "        plt.setp(ax.get_yticklabels(), visible=False)\n",
    "        ax.tick_params(axis='both', which='both', length=0)\n",
    "        ax.set_aspect(aspect='equal')\n",
    "        ax.set_xlim([0, x_slice[-1]])\n",
    "        ax.set_ylim([0, y_slice[-1]])\n",
    "        ax.set_title('Hour ' + str(actual_hours[n]), fontsize=20) #\n",
    "        cbar = fig.colorbar(strm.lines, ax=ax, fraction=0.05, orientation='horizontal', pad=0.009)\n",
    "        cbar.ax.tick_params(labelsize=13)\n",
    "        tick_locator = ticker.MaxNLocator(nbins=5)\n",
    "        cbar.locator = tick_locator\n",
    "        cbar.update_ticks()\n",
    "\n",
    "    fig.tight_layout(w_pad=1.2, h_pad=0.01)\n",
    "    fig.suptitle('Day ' + str(day) + ' - ' + kind + ' - ' + case +': Streamlines with speeds [m/s] at depth = '+str(int(depthu[dep_ind]))+' m', fontsize=25)\n",
    "    plt.subplots_adjust(top=0.96)\n",
    "    \n",
    "    return fig"
   ]
  },
  {
   "cell_type": "code",
   "execution_count": 13,
   "metadata": {
    "collapsed": false
   },
   "outputs": [],
   "source": [
    "def execute_functions(dirname, fname, dep_ind, day):\n",
    "    \n",
    "    time_s = (day-1)*24\n",
    "    hour_inds = np.arange(1, 24)[::2]\n",
    "    inds = np.arange(len(hour_inds))\n",
    "    actual_hours = hour_inds + time_s\n",
    "\n",
    "    print('day', day)\n",
    "    print('time_s', time_s)\n",
    "    print('hour_inds', hour_inds)\n",
    "    print('inds', inds)\n",
    "    print('actual_hours', actual_hours)\n",
    "    \n",
    "    arrow = 1\n",
    "\n",
    "    vozocrtx, vomecrty, vozocrtx_avg, vomecrty_avg, umask, vmask, e1u, e2u, depthu, depthv, sozotaux = quicklook.get_uv_at_depth_day(dirname, fname, dep_ind, day)\n",
    "    \n",
    "    x_slice, y_slice, u_nstg, v_nstg, speeds = quicklook.get_speeds(vozocrtx, vomecrty, arrow)\n",
    "    \n",
    "    speeds_hourly = np.full([len(hour_inds), speeds.shape[-2], speeds.shape[-1]], np.nan)\n",
    "    u_nstg_hourly = np.full_like(speeds_hourly, np.nan)\n",
    "    v_nstg_hourly = np.full_like(speeds_hourly, np.nan)\n",
    "    \n",
    "        \n",
    "    for i, hour_ind in zip(inds, hour_inds):\n",
    "        speeds_hourly[i, :, :] = speeds[hour_ind, :, :]\n",
    "        u_nstg_hourly[i, :, :] = u_nstg[hour_ind, :, :]\n",
    "        v_nstg_hourly[i, :, :] = v_nstg[hour_ind, :, :]\n",
    "        \n",
    "    fig = plot_streamlines_hourly(x_slice, y_slice, u_nstg, v_nstg, speeds, umask, vmask, depthu, actual_hours, day, kind, case)\n",
    "    \n",
    "    fig.savefig('../writing_images/streamlines_'+kind+'_'+case+'_'+str(dep_ind)+'_day'+str(day)+'.png', dpi=100, bbox_inches='tight')\n",
    "    plt.close(fig) \n",
    "    \n",
    "    return"
   ]
  },
  {
   "cell_type": "markdown",
   "metadata": {},
   "source": [
    "# Constants"
   ]
  },
  {
   "cell_type": "code",
   "execution_count": 14,
   "metadata": {
    "collapsed": false
   },
   "outputs": [],
   "source": [
    "fname = \"1_MCKNZ_1h_20170101_201701*\"\n",
    "dep_inds = [1, 9, 16]"
   ]
  },
  {
   "cell_type": "markdown",
   "metadata": {},
   "source": [
    "# Day 1"
   ]
  },
  {
   "cell_type": "code",
   "execution_count": 15,
   "metadata": {
    "collapsed": true
   },
   "outputs": [],
   "source": [
    "day = 1"
   ]
  },
  {
   "cell_type": "code",
   "execution_count": 16,
   "metadata": {
    "collapsed": false
   },
   "outputs": [
    {
     "name": "stdout",
     "output_type": "stream",
     "text": [
      "day 1\n",
      "time_s 0\n",
      "hour_inds [ 1  3  5  7  9 11 13 15 17 19 21 23]\n",
      "inds [ 0  1  2  3  4  5  6  7  8  9 10 11]\n",
      "actual_hours [ 1  3  5  7  9 11 13 15 17 19 21 23]\n",
      "day 1\n",
      "time_s 0\n",
      "hour_inds [ 1  3  5  7  9 11 13 15 17 19 21 23]\n",
      "inds [ 0  1  2  3  4  5  6  7  8  9 10 11]\n",
      "actual_hours [ 1  3  5  7  9 11 13 15 17 19 21 23]\n",
      "day 1\n",
      "time_s 0\n",
      "hour_inds [ 1  3  5  7  9 11 13 15 17 19 21 23]\n",
      "inds [ 0  1  2  3  4  5  6  7  8  9 10 11]\n",
      "actual_hours [ 1  3  5  7  9 11 13 15 17 19 21 23]\n"
     ]
    }
   ],
   "source": [
    "kind = 'ideal'\n",
    "case = 'base' \n",
    "\n",
    "for dep_ind, n in zip(dep_inds, np.arange(len(dep_inds))):\n",
    "    dirname = '/ocean/imachuca/Canyons/results_mackenzie/extended_domain/'+kind+'_'+case+'/'\n",
    "    execute_functions(dirname, fname, dep_ind, day)"
   ]
  },
  {
   "cell_type": "code",
   "execution_count": 17,
   "metadata": {
    "collapsed": false
   },
   "outputs": [
    {
     "name": "stdout",
     "output_type": "stream",
     "text": [
      "day 1\n",
      "time_s 0\n",
      "hour_inds [ 1  3  5  7  9 11 13 15 17 19 21 23]\n",
      "inds [ 0  1  2  3  4  5  6  7  8  9 10 11]\n",
      "actual_hours [ 1  3  5  7  9 11 13 15 17 19 21 23]\n",
      "day 1\n",
      "time_s 0\n",
      "hour_inds [ 1  3  5  7  9 11 13 15 17 19 21 23]\n",
      "inds [ 0  1  2  3  4  5  6  7  8  9 10 11]\n",
      "actual_hours [ 1  3  5  7  9 11 13 15 17 19 21 23]\n",
      "day 1\n",
      "time_s 0\n",
      "hour_inds [ 1  3  5  7  9 11 13 15 17 19 21 23]\n",
      "inds [ 0  1  2  3  4  5  6  7  8  9 10 11]\n",
      "actual_hours [ 1  3  5  7  9 11 13 15 17 19 21 23]\n"
     ]
    }
   ],
   "source": [
    "kind = 'real'\n",
    "case = 'base' \n",
    "\n",
    "for dep_ind, n in zip(dep_inds, np.arange(len(dep_inds))):\n",
    "    dirname = '/ocean/imachuca/Canyons/results_mackenzie/extended_domain/'+kind+'_'+case+'/'\n",
    "    execute_functions(dirname, fname, dep_ind, day)"
   ]
  },
  {
   "cell_type": "markdown",
   "metadata": {
    "collapsed": true
   },
   "source": [
    "# Day 2"
   ]
  },
  {
   "cell_type": "code",
   "execution_count": 18,
   "metadata": {
    "collapsed": true
   },
   "outputs": [],
   "source": [
    "day = 2"
   ]
  },
  {
   "cell_type": "code",
   "execution_count": 19,
   "metadata": {
    "collapsed": false
   },
   "outputs": [
    {
     "name": "stdout",
     "output_type": "stream",
     "text": [
      "day 2\n",
      "time_s 24\n",
      "hour_inds [ 1  3  5  7  9 11 13 15 17 19 21 23]\n",
      "inds [ 0  1  2  3  4  5  6  7  8  9 10 11]\n",
      "actual_hours [25 27 29 31 33 35 37 39 41 43 45 47]\n",
      "day 2\n",
      "time_s 24\n",
      "hour_inds [ 1  3  5  7  9 11 13 15 17 19 21 23]\n",
      "inds [ 0  1  2  3  4  5  6  7  8  9 10 11]\n",
      "actual_hours [25 27 29 31 33 35 37 39 41 43 45 47]\n",
      "day 2\n",
      "time_s 24\n",
      "hour_inds [ 1  3  5  7  9 11 13 15 17 19 21 23]\n",
      "inds [ 0  1  2  3  4  5  6  7  8  9 10 11]\n",
      "actual_hours [25 27 29 31 33 35 37 39 41 43 45 47]\n"
     ]
    }
   ],
   "source": [
    "kind = 'ideal'\n",
    "case = 'base' \n",
    "\n",
    "for dep_ind, n in zip(dep_inds, np.arange(len(dep_inds))):\n",
    "    dirname = '/ocean/imachuca/Canyons/results_mackenzie/extended_domain/'+kind+'_'+case+'/'\n",
    "    execute_functions(dirname, fname, dep_ind, day)"
   ]
  },
  {
   "cell_type": "code",
   "execution_count": 20,
   "metadata": {
    "collapsed": false
   },
   "outputs": [
    {
     "name": "stdout",
     "output_type": "stream",
     "text": [
      "day 2\n",
      "time_s 24\n",
      "hour_inds [ 1  3  5  7  9 11 13 15 17 19 21 23]\n",
      "inds [ 0  1  2  3  4  5  6  7  8  9 10 11]\n",
      "actual_hours [25 27 29 31 33 35 37 39 41 43 45 47]\n",
      "day 2\n",
      "time_s 24\n",
      "hour_inds [ 1  3  5  7  9 11 13 15 17 19 21 23]\n",
      "inds [ 0  1  2  3  4  5  6  7  8  9 10 11]\n",
      "actual_hours [25 27 29 31 33 35 37 39 41 43 45 47]\n",
      "day 2\n",
      "time_s 24\n",
      "hour_inds [ 1  3  5  7  9 11 13 15 17 19 21 23]\n",
      "inds [ 0  1  2  3  4  5  6  7  8  9 10 11]\n",
      "actual_hours [25 27 29 31 33 35 37 39 41 43 45 47]\n"
     ]
    }
   ],
   "source": [
    "kind = 'real'\n",
    "case = 'base' \n",
    "\n",
    "for dep_ind, n in zip(dep_inds, np.arange(len(dep_inds))):\n",
    "    dirname = '/ocean/imachuca/Canyons/results_mackenzie/extended_domain/'+kind+'_'+case+'/'\n",
    "    execute_functions(dirname, fname, dep_ind, day)"
   ]
  }
 ],
 "metadata": {
  "kernelspec": {
   "display_name": "Python 3",
   "language": "python",
   "name": "python3"
  },
  "language_info": {
   "codemirror_mode": {
    "name": "ipython",
    "version": 3
   },
   "file_extension": ".py",
   "mimetype": "text/x-python",
   "name": "python",
   "nbconvert_exporter": "python",
   "pygments_lexer": "ipython3",
   "version": "3.5.0rc4"
  }
 },
 "nbformat": 4,
 "nbformat_minor": 2
}
