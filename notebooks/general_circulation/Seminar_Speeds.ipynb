{
 "cells": [
  {
   "cell_type": "markdown",
   "metadata": {},
   "source": [
    "March: Images for PO Seminar presentation - speed slices animations."
   ]
  },
  {
   "cell_type": "code",
   "execution_count": 1,
   "metadata": {
    "collapsed": true
   },
   "outputs": [],
   "source": [
    "import netCDF4 as nc\n",
    "import matplotlib.pyplot as plt\n",
    "import matplotlib.cm as cm\n",
    "import cmocean as cmo\n",
    "import os,sys,fnmatch,time\n",
    "import numpy as np\n",
    "import matplotlib.gridspec as gridspec\n",
    "import matplotlib.patches as patches\n",
    "from matplotlib.ticker import MultipleLocator\n",
    "from matplotlib.colors import LinearSegmentedColormap\n",
    "from matplotlib import animation\n",
    "from salishsea_tools.nc_tools import scDataset\n",
    "from matplotlib import ticker\n",
    "from matplotlib import colors\n",
    "import matplotlib as mpl\n",
    "from matplotlib.colors import LinearSegmentedColormap\n",
    "import math\n",
    "from mpl_toolkits.axes_grid1.inset_locator import inset_axes\n",
    "import matplotlib.patches as patches\n",
    "\n",
    "import sys\n",
    "sys.path.append('/ocean/imachuca/Canyons/analysis_mackenzie_canyon/notebooks/general_circulation/')\n",
    "import general_functions\n",
    "import quicklook\n",
    "\n",
    "import warnings\n",
    "warnings.filterwarnings(\"ignore\")\n",
    "\n",
    "%matplotlib inline"
   ]
  },
  {
   "cell_type": "code",
   "execution_count": 2,
   "metadata": {
    "collapsed": true
   },
   "outputs": [],
   "source": [
    "def get_vars_at_depth_OSM(dirname, fname, maskname, dep_ind):\n",
    "    \n",
    "    filesU = general_functions.get_files(dirname, fname, 'grid_U')        \n",
    "    filesV = general_functions.get_files(dirname, fname, 'grid_V')\n",
    "    filesT = general_functions.get_files(dirname, fname, 'grid_T')\n",
    "    print('files')\n",
    "    \n",
    "    y,x = slice(1,-1,None), slice(1,-1,None)\n",
    "    time_ind = 5*24\n",
    "\n",
    "    with scDataset(filesU) as dsU, scDataset(filesV) as dsV, scDataset(filesT) as dsT:\n",
    "        vozocrtx0 = dsU.variables['vozocrtx'][:time_ind,dep_ind,y,x]\n",
    "        print('U')\n",
    "        vomecrty0 = dsV.variables['vomecrty'][:time_ind,dep_ind,y,x]\n",
    "        print('V')\n",
    "        sozotaux = dsU.variables['sozotaux'][:time_ind,0,0]\n",
    "        depthu = dsU.variables['depthu'][:]\n",
    "        nav_lat = dsT.variables['nav_lat'][y, x]\n",
    "        nav_lon = dsT.variables['nav_lon'][y, x]\n",
    "\n",
    "    with nc.Dataset(os.path.join(dirname, maskname), 'r') as dsM:\n",
    "        umask0 = dsM.variables['umask'][0,dep_ind,y,x]\n",
    "        vmask0 = dsM.variables['vmask'][0,dep_ind,y,x]\n",
    "\n",
    "    umask = np.tile(umask0, (len(sozotaux), 1, 1))\n",
    "    vmask = np.tile(vmask0, (len(sozotaux), 1, 1))\n",
    "\n",
    "    vozocrtx = np.ma.array(vozocrtx0, mask=1 - umask)\n",
    "    vomecrty = np.ma.array(vomecrty0, mask=1 - vmask)\n",
    "    \n",
    "    return vozocrtx, vomecrty, umask, vmask, depthu, sozotaux, nav_lat, nav_lon"
   ]
  },
  {
   "cell_type": "code",
   "execution_count": 3,
   "metadata": {
    "collapsed": true
   },
   "outputs": [],
   "source": [
    "def get_values(n, vozocrtx, vomecrty, nav_lon, nav_lat, umask):\n",
    "    U_vel = vozocrtx[n, ...]\n",
    "    V_vel = vomecrty[n, ...]\n",
    "    x_slice, y_slice, u_nstg, v_nstg, speeds = quicklook.get_speeds(U_vel, V_vel, 1)\n",
    "    xs, ys = nav_lon[:-1, :-1], nav_lat[:-1, :-1]\n",
    "    umask_fixed = umask[0,:-1,:-1]\n",
    "    return xs, ys, u_nstg, v_nstg, speeds, umask_fixed"
   ]
  },
  {
   "cell_type": "code",
   "execution_count": 4,
   "metadata": {
    "collapsed": true
   },
   "outputs": [],
   "source": [
    "wind = 'double'"
   ]
  },
  {
   "cell_type": "code",
   "execution_count": 5,
   "metadata": {
    "collapsed": true
   },
   "outputs": [],
   "source": [
    "dep_ind = 11"
   ]
  },
  {
   "cell_type": "code",
   "execution_count": 6,
   "metadata": {},
   "outputs": [
    {
     "name": "stdout",
     "output_type": "stream",
     "text": [
      "files\n",
      "U\n",
      "V\n"
     ]
    }
   ],
   "source": [
    "dirname='/ocean/imachuca/Canyons/results_mackenzie/initial_collection/ideal_' + wind + '/'\n",
    "fname = \"1_MCKNZ_1h_20170101_201701*\"\n",
    "maskname = '1_mesh_mask.nc'\n",
    "\n",
    "vozocrtx_i, vomecrty_i, umask_i, vmask_i, depthu_i, sozotaux_i, nav_lat_i, nav_lon_i = get_vars_at_depth_OSM(dirname, fname, maskname, dep_ind)"
   ]
  },
  {
   "cell_type": "code",
   "execution_count": 7,
   "metadata": {},
   "outputs": [
    {
     "name": "stdout",
     "output_type": "stream",
     "text": [
      "files\n",
      "U\n",
      "V\n"
     ]
    }
   ],
   "source": [
    "dirname='/ocean/imachuca/Canyons/results_mackenzie/initial_collection/ideal_' + wind + '/'\n",
    "fname = \"MCKNZ_1h_20170101_201701*\"\n",
    "maskname = 'mesh_mask.nc'\n",
    "\n",
    "vozocrtxp_i, vomecrtyp_i, umaskp_i, vmaskp_i, depthup_i, sozotauxp_i, nav_latp_i, nav_lonp_i = get_vars_at_depth_OSM(dirname, fname, maskname, dep_ind)"
   ]
  },
  {
   "cell_type": "code",
   "execution_count": 8,
   "metadata": {},
   "outputs": [
    {
     "ename": "FileNotFoundError",
     "evalue": "[Errno 2] No such file or directory: '/ocean/imachuca/Canyons/results_mackenzie/initial_collection/real_double/'",
     "output_type": "error",
     "traceback": [
      "\u001b[0;31m---------------------------------------------------------------------------\u001b[0m",
      "\u001b[0;31mFileNotFoundError\u001b[0m                         Traceback (most recent call last)",
      "\u001b[0;32m<ipython-input-8-7935030a5649>\u001b[0m in \u001b[0;36m<module>\u001b[0;34m()\u001b[0m\n\u001b[1;32m      3\u001b[0m \u001b[0mmaskname\u001b[0m \u001b[0;34m=\u001b[0m \u001b[0;34m'1_mesh_mask.nc'\u001b[0m\u001b[0;34m\u001b[0m\u001b[0m\n\u001b[1;32m      4\u001b[0m \u001b[0;34m\u001b[0m\u001b[0m\n\u001b[0;32m----> 5\u001b[0;31m \u001b[0mvozocrtx_r\u001b[0m\u001b[0;34m,\u001b[0m \u001b[0mvomecrty_r\u001b[0m\u001b[0;34m,\u001b[0m \u001b[0mumask_r\u001b[0m\u001b[0;34m,\u001b[0m \u001b[0mvmask_r\u001b[0m\u001b[0;34m,\u001b[0m \u001b[0mdepthu_r\u001b[0m\u001b[0;34m,\u001b[0m \u001b[0msozotaux_r\u001b[0m\u001b[0;34m,\u001b[0m \u001b[0mnav_lat_r\u001b[0m\u001b[0;34m,\u001b[0m \u001b[0mnav_lon_r\u001b[0m \u001b[0;34m=\u001b[0m \u001b[0mget_vars_at_depth_OSM\u001b[0m\u001b[0;34m(\u001b[0m\u001b[0mdirname\u001b[0m\u001b[0;34m,\u001b[0m \u001b[0mfname\u001b[0m\u001b[0;34m,\u001b[0m \u001b[0mmaskname\u001b[0m\u001b[0;34m,\u001b[0m \u001b[0mdep_ind\u001b[0m\u001b[0;34m)\u001b[0m\u001b[0;34m\u001b[0m\u001b[0m\n\u001b[0m",
      "\u001b[0;32m<ipython-input-2-36752f30873e>\u001b[0m in \u001b[0;36mget_vars_at_depth_OSM\u001b[0;34m(dirname, fname, maskname, dep_ind)\u001b[0m\n\u001b[1;32m      1\u001b[0m \u001b[0;32mdef\u001b[0m \u001b[0mget_vars_at_depth_OSM\u001b[0m\u001b[0;34m(\u001b[0m\u001b[0mdirname\u001b[0m\u001b[0;34m,\u001b[0m \u001b[0mfname\u001b[0m\u001b[0;34m,\u001b[0m \u001b[0mmaskname\u001b[0m\u001b[0;34m,\u001b[0m \u001b[0mdep_ind\u001b[0m\u001b[0;34m)\u001b[0m\u001b[0;34m:\u001b[0m\u001b[0;34m\u001b[0m\u001b[0m\n\u001b[1;32m      2\u001b[0m \u001b[0;34m\u001b[0m\u001b[0m\n\u001b[0;32m----> 3\u001b[0;31m     \u001b[0mfilesU\u001b[0m \u001b[0;34m=\u001b[0m \u001b[0mgeneral_functions\u001b[0m\u001b[0;34m.\u001b[0m\u001b[0mget_files\u001b[0m\u001b[0;34m(\u001b[0m\u001b[0mdirname\u001b[0m\u001b[0;34m,\u001b[0m \u001b[0mfname\u001b[0m\u001b[0;34m,\u001b[0m \u001b[0;34m'grid_U'\u001b[0m\u001b[0;34m)\u001b[0m\u001b[0;34m\u001b[0m\u001b[0m\n\u001b[0m\u001b[1;32m      4\u001b[0m     \u001b[0mfilesV\u001b[0m \u001b[0;34m=\u001b[0m \u001b[0mgeneral_functions\u001b[0m\u001b[0;34m.\u001b[0m\u001b[0mget_files\u001b[0m\u001b[0;34m(\u001b[0m\u001b[0mdirname\u001b[0m\u001b[0;34m,\u001b[0m \u001b[0mfname\u001b[0m\u001b[0;34m,\u001b[0m \u001b[0;34m'grid_V'\u001b[0m\u001b[0;34m)\u001b[0m\u001b[0;34m\u001b[0m\u001b[0m\n\u001b[1;32m      5\u001b[0m     \u001b[0mfilesT\u001b[0m \u001b[0;34m=\u001b[0m \u001b[0mgeneral_functions\u001b[0m\u001b[0;34m.\u001b[0m\u001b[0mget_files\u001b[0m\u001b[0;34m(\u001b[0m\u001b[0mdirname\u001b[0m\u001b[0;34m,\u001b[0m \u001b[0mfname\u001b[0m\u001b[0;34m,\u001b[0m \u001b[0;34m'grid_T'\u001b[0m\u001b[0;34m)\u001b[0m\u001b[0;34m\u001b[0m\u001b[0m\n",
      "\u001b[0;32m/ocean/imachuca/Canyons/analysis_mackenzie_canyon/notebooks/general_circulation/general_functions.py\u001b[0m in \u001b[0;36mget_files\u001b[0;34m(dirname, fname, grid)\u001b[0m\n\u001b[1;32m     10\u001b[0m     '''\n\u001b[1;32m     11\u001b[0m     \u001b[0mfiles\u001b[0m \u001b[0;34m=\u001b[0m \u001b[0;34m[\u001b[0m\u001b[0;34m]\u001b[0m\u001b[0;34m\u001b[0m\u001b[0m\n\u001b[0;32m---> 12\u001b[0;31m     \u001b[0;32mfor\u001b[0m \u001b[0mitem\u001b[0m \u001b[0;32min\u001b[0m \u001b[0mos\u001b[0m\u001b[0;34m.\u001b[0m\u001b[0mlistdir\u001b[0m\u001b[0;34m(\u001b[0m\u001b[0mdirname\u001b[0m\u001b[0;34m)\u001b[0m\u001b[0;34m:\u001b[0m\u001b[0;34m\u001b[0m\u001b[0m\n\u001b[0m\u001b[1;32m     13\u001b[0m         \u001b[0;32mif\u001b[0m \u001b[0mfnmatch\u001b[0m\u001b[0;34m.\u001b[0m\u001b[0mfnmatchcase\u001b[0m\u001b[0;34m(\u001b[0m\u001b[0mitem\u001b[0m\u001b[0;34m,\u001b[0m \u001b[0mfname\u001b[0m \u001b[0;34m+\u001b[0m \u001b[0mgrid\u001b[0m \u001b[0;34m+\u001b[0m \u001b[0;34m\"*.nc\"\u001b[0m\u001b[0;34m)\u001b[0m\u001b[0;34m:\u001b[0m\u001b[0;34m\u001b[0m\u001b[0m\n\u001b[1;32m     14\u001b[0m             \u001b[0mfiles\u001b[0m \u001b[0;34m+=\u001b[0m \u001b[0;34m[\u001b[0m\u001b[0mos\u001b[0m\u001b[0;34m.\u001b[0m\u001b[0mpath\u001b[0m\u001b[0;34m.\u001b[0m\u001b[0mjoin\u001b[0m\u001b[0;34m(\u001b[0m\u001b[0mdirname\u001b[0m\u001b[0;34m,\u001b[0m \u001b[0mitem\u001b[0m\u001b[0;34m)\u001b[0m\u001b[0;34m]\u001b[0m\u001b[0;34m\u001b[0m\u001b[0m\n",
      "\u001b[0;31mFileNotFoundError\u001b[0m: [Errno 2] No such file or directory: '/ocean/imachuca/Canyons/results_mackenzie/initial_collection/real_double/'"
     ]
    }
   ],
   "source": [
    "dirname='/ocean/imachuca/Canyons/results_mackenzie/initial_collection/real_' + wind + '/'\n",
    "fname = \"1_MCKNZ_1h_20170101_201701*\"\n",
    "maskname = '1_mesh_mask.nc'\n",
    "\n",
    "vozocrtx_r, vomecrty_r, umask_r, vmask_r, depthu_r, sozotaux_r, nav_lat_r, nav_lon_r = get_vars_at_depth_OSM(dirname, fname, maskname, dep_ind)"
   ]
  },
  {
   "cell_type": "code",
   "execution_count": null,
   "metadata": {},
   "outputs": [],
   "source": [
    "dirname='/ocean/imachuca/Canyons/results_mackenzie/initial_collection/real_' + wind + '/'\n",
    "fname = \"MCKNZ_1h_20170101_201701*\"\n",
    "maskname = 'mesh_mask.nc'\n",
    "\n",
    "vozocrtxp_r, vomecrtyp_r, umaskp_r, vmaskp_r, depthup_r, sozotauxp_r, nav_latp_r, nav_lonp_r = get_vars_at_depth_OSM(dirname, fname, maskname, dep_ind)"
   ]
  },
  {
   "cell_type": "code",
   "execution_count": null,
   "metadata": {},
   "outputs": [],
   "source": [
    "np.arange(0, 0.4, 0.05)"
   ]
  },
  {
   "cell_type": "code",
   "execution_count": null,
   "metadata": {
    "collapsed": true
   },
   "outputs": [],
   "source": [
    "def plot_streamline_day(fig, ax, vozocrtx, vomecrty, nav_lon, nav_lat, umask,\n",
    "                        vozocrtxp, vomecrtyp, nav_lonp, nav_latp, umaskp,\n",
    "                        depthu, dep_ind, n, kind):\n",
    "    \n",
    "    ax.cla()\n",
    "    vmin, vmax = 0, 0.4\n",
    "    norm = mpl.colors.Normalize(vmin, vmax)\n",
    "    levels = [0.05, 0.1, 0.2]#np.arange(0, 0.4, 0.05)\n",
    "    cmap=cmo.cm.matter\n",
    "    cmap.set_bad('silver')\n",
    "    \n",
    "    # child\n",
    "    xs, ys, u_nstg, v_nstg, speeds, umask_fixed = get_values(n, vozocrtx, vomecrty, nav_lon, nav_lat, umask)\n",
    "    #parent\n",
    "    xsp, ysp, u_nstgp, v_nstgp, speedsp, umask_fixedp = get_values(n, vozocrtxp, vomecrtyp, nav_lonp, nav_latp, umaskp)\n",
    "    \n",
    "    y_top = 145\n",
    "    x_top = 50\n",
    "    x_half= x_top/2\n",
    "    x_left = x_top + x_half\n",
    "    x_right = x_top - x_half\n",
    "    \n",
    "    if kind == 'ideal':\n",
    "        # parent        \n",
    "        pp = ax.pcolormesh(xsp[:y_top, x_top:-x_top], ysp[:y_top, x_top:-x_top], speedsp[:y_top, x_top:-x_top],\n",
    "                           cmap=cmap, vmin=vmin, vmax=vmax, norm=norm, zorder=1)\n",
    "        # parent\n",
    "        csp = ax.contour(xsp[:y_top, x_top:-x_top], ysp[:y_top, x_top:-x_top], speedsp[:y_top, x_top:-x_top],\n",
    "                         levels = levels, colors='k', alpha=1, zorder=3)\n",
    "        \n",
    "    elif kind == 'real':\n",
    "        # parent\n",
    "        pp = ax.pcolormesh(xsp[:y_top, x_left:-x_right], ysp[:y_top, x_left:-x_right], speedsp[:y_top, x_left:-x_right],\n",
    "                           cmap=cmap, vmin=vmin, vmax=vmax, norm=norm, zorder=1)\n",
    "        # parent\n",
    "        csp = ax.contour(xsp[:y_top, x_left:-x_right], ysp[:y_top, x_left:-x_right], speedsp[:y_top, x_left:-x_right],\n",
    "                         levels = levels, colors='k', alpha=1, zorder=3)\n",
    "    \n",
    "    # child\n",
    "    p = ax.pcolormesh(xs, ys, speeds, cmap=cmap, vmin=vmin, vmax=vmax, norm=norm, zorder=2)\n",
    "    \n",
    "    if n == 0:\n",
    "        axins = inset_axes(ax,\n",
    "                        width=\"40%\",  # width = 10% of parent_bbox width\n",
    "                        height=\"5%\",  # height : 50%\n",
    "                        loc=2)\n",
    "        axins.xaxis.set_ticks_position(\"bottom\")\n",
    "        cbar = fig.colorbar(p, cax=axins, orientation='horizontal')#, pad=cpad, fraction=cbarf)\n",
    "        cbar.set_label('speed [ms$^{-1}$]', fontsize=35, rotation=0, labelpad=3.0)\n",
    "        tick_locator = ticker.MaxNLocator(nbins=4)\n",
    "        cbar.locator = tick_locator\n",
    "        cbar.update_ticks()\n",
    "        cbar.ax.tick_params(labelsize=20)\n",
    "        \n",
    "    ax.tick_params(axis='both', which='both', labelsize=20)\n",
    "    ax.set_title(str(n), fontsize=35)\n",
    "    ax.set_ylabel('Latitude', fontsize=35)\n",
    "    ax.set_xlabel('Longitude', fontsize=35)\n",
    "    ax.clabel(csp, inline=1, fontsize=20, fmt='%1.2f')\n",
    "    w=1/math.cos(math.radians(70.0))\n",
    "    ax.set_aspect(w)\n",
    "    fig.tight_layout()\n",
    "    \n",
    "    return"
   ]
  },
  {
   "cell_type": "code",
   "execution_count": null,
   "metadata": {},
   "outputs": [],
   "source": [
    "n = 119\n",
    "fig, (ax1, ax2) = plt.subplots(1, 2, figsize = (20, 15))\n",
    "\n",
    "plot_streamline_day(fig, ax1, vozocrtx_i, vomecrty_i, nav_lon_i, nav_lat_i, umask_i, \n",
    "                    vozocrtxp_i, vomecrtyp_i, nav_lonp_i, nav_latp_i, umaskp_i, depthu_i, dep_ind, n, 'ideal')\n",
    "\n",
    "plot_streamline_day(fig, ax2, vozocrtx_r, vomecrty_r, nav_lon_r, nav_lat_r, umask_r,\n",
    "                    vozocrtxp_r, vomecrtyp_r, nav_lonp_r, nav_latp_r, umaskp_r, depthu_r, dep_ind, n, 'real')"
   ]
  },
  {
   "cell_type": "code",
   "execution_count": null,
   "metadata": {},
   "outputs": [],
   "source": [
    "fig, (ax1, ax2) = plt.subplots(1, 2, figsize = (20, 10))\n",
    "\n",
    "def init():\n",
    "    return\n",
    "\n",
    "def animate(n):\n",
    "    plot_streamline_day(fig, ax1, vozocrtx_i, vomecrty_i, nav_lon_i, nav_lat_i, umask_i, \n",
    "                        vozocrtxp_i, vomecrtyp_i, nav_lonp_i, nav_latp_i, umaskp_i, depthu_i, dep_ind, n, 'ideal')\n",
    "\n",
    "    plot_streamline_day(fig, ax2, vozocrtx_r, vomecrty_r, nav_lon_r, nav_lat_r, umask_r,\n",
    "                        vozocrtxp_r, vomecrtyp_r, nav_lonp_r, nav_latp_r, umaskp_r, depthu_r, dep_ind, n, 'real')\n",
    "    \n",
    "Writer = animation.writers['ffmpeg']\n",
    "writer = Writer(fps=3, bitrate=1000000, codec=\"libx264\")\n",
    "anim = animation.FuncAnimation(fig, animate, init_func=init, frames=119, repeat=False)\n",
    "anim.save('anim_'+wind+'_speeds.mp4', writer=writer)"
   ]
  }
 ],
 "metadata": {
  "kernelspec": {
   "display_name": "Python 3",
   "language": "python",
   "name": "python3"
  },
  "language_info": {
   "codemirror_mode": {
    "name": "ipython",
    "version": 3
   },
   "file_extension": ".py",
   "mimetype": "text/x-python",
   "name": "python",
   "nbconvert_exporter": "python",
   "pygments_lexer": "ipython3",
   "version": "3.6.4"
  }
 },
 "nbformat": 4,
 "nbformat_minor": 2
}
