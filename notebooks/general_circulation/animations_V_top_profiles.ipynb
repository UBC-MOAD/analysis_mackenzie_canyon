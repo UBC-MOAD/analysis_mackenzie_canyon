{
 "cells": [
  {
   "cell_type": "markdown",
   "metadata": {},
   "source": [
    "November: Animations of the horizontal velocity (V) profiles at different depths using pcolormesh and contour lines."
   ]
  },
  {
   "cell_type": "code",
   "execution_count": 1,
   "metadata": {
    "collapsed": true
   },
   "outputs": [],
   "source": [
    "import netCDF4 as nc\n",
    "import matplotlib.pyplot as plt\n",
    "import matplotlib.cm as cm\n",
    "import cmocean as cmo\n",
    "import os,sys,fnmatch,time\n",
    "import numpy as np\n",
    "import matplotlib.gridspec as gridspec\n",
    "from matplotlib import animation\n",
    "from salishsea_tools.nc_tools import scDataset\n",
    "from matplotlib.ticker import MultipleLocator\n",
    "\n",
    "%matplotlib inline\n",
    "\n",
    "import sys\n",
    "sys.path.append('/ocean/imachuca/Canyons/analysis_mackenzie_canyon/notebooks/general_circulation/')\n",
    "import general_functions\n",
    "\n",
    "import warnings\n",
    "warnings.filterwarnings(\"ignore\")"
   ]
  },
  {
   "cell_type": "code",
   "execution_count": null,
   "metadata": {
    "collapsed": true
   },
   "outputs": [],
   "source": [
    "def get_vars(dirname, depth_ind):\n",
    "    fname = \"1_MCKNZ_1h_20170101_20170120_*\"\n",
    "    y,x = slice(1,-1,None), slice(1,-1,None)\n",
    "    \n",
    "    filesU = general_functions.get_files(dirname, fname, 'grid_U')\n",
    "            \n",
    "    with scDataset(filesV) as dsV, scDataset(filesU) as dsU:\n",
    "        depthv = dsV.variables['depthv'][depth_ind]\n",
    "        sozotaux = dsU.variables['sozotaux'][:384,0,0]\n",
    "        vomecrty0 = dsV.variables['vomecrty'][:384,depth_ind,y,x]\n",
    "        \n",
    "    with nc.Dataset(os.path.join(dirname, '1_mesh_mask.nc'), 'r') as dsM:\n",
    "        vmask0 = dsM.variables['vmask'][0,depth_ind,y,x]\n",
    "        \n",
    "    vmask = np.tile(vmask0, (len(sozotaux),1, 1))  \n",
    "    vomecrty = np.ma.array(vomecrty0, mask=1 - vmask)\n",
    "    \n",
    "    return vomecrty, sozotaux, depthv"
   ]
  },
  {
   "cell_type": "code",
   "execution_count": null,
   "metadata": {
    "collapsed": false
   },
   "outputs": [],
   "source": [
    "dirname='/ocean/imachuca/Canyons/results_mackenzie/idealized/sbcana_forcings/agrif_wind_timestep/'\n",
    "\n",
    "dep_inds = [9, 12, 18]\n",
    "\n",
    "vomecrtyA, sozotaux, depthvA = get_vars(dirname, dep_inds[0]); print('A')\n",
    "vomecrtyB, sozotaux, depthvB = get_vars(dirname, dep_inds[1]); print('B')\n",
    "vomecrtyC, sozotaux, depthvC = get_vars(dirname, dep_inds[2]); print('C')\n",
    "\n",
    "print(depthvA, depthvB, depthvC)"
   ]
  },
  {
   "cell_type": "code",
   "execution_count": null,
   "metadata": {
    "collapsed": true
   },
   "outputs": [],
   "source": [
    "avgU_full = nc.Dataset('./U_incoming.nc')['U'][:]"
   ]
  },
  {
   "cell_type": "code",
   "execution_count": null,
   "metadata": {
    "collapsed": false
   },
   "outputs": [],
   "source": [
    "def init():\n",
    "    for var_array, ax in zip ([vomecrtyA, vomecrtyB, vomecrtyC], [ax1, ax2, ax3]):\n",
    "        vel = var_array[0,...]\n",
    "        ax, xs, ys = general_functions.set_xy(ax, var_array, 'childkm')\n",
    "        cs = ax.contour(xs, ys, vel, levels = levels, colors='k')\n",
    "    return cs,\n",
    "\n",
    "# ------------------------------------------------------------------------------------\n",
    "\n",
    "def animate(time_ind):\n",
    "    ax1.cla(); ax2.cla(); ax3.cla()\n",
    "    \n",
    "    for ax, var_array, depm in zip ([ax1, ax2, ax3], [vomecrtyA, vomecrtyB, vomecrtyC], [depthvA, depthvB, depthvC]):\n",
    "        \n",
    "        ax = general_functions.set_plots_after_clear(ax, depm, 'top')\n",
    "        vel = var_array[time_ind,...]\n",
    "        ax, xs, ys = general_functions.set_xy(ax, vel, 'childkm')   \n",
    "        \n",
    "        cs = ax.contour(xs, ys, vel, levels = levels, colors='k')\n",
    "        ax.clabel(cs, inline=1, fontsize=10)\n",
    "        \n",
    "        cmap = plt.get_cmap(cm.RdBu_r)\n",
    "        cmap.set_bad('wheat')\n",
    "        P = ax.pcolormesh(xs, ys, vel, vmin = levels[0], vmax = levels[-1], cmap = cmap)\n",
    "        ax.set_aspect(aspect='equal')\n",
    "        \n",
    "        if time_ind == 0:\n",
    "            cbar = plt.colorbar(P, ax=ax, pad=0.1, orientation='horizontal', extend='both')\n",
    "            cbar.ax.set_xticklabels(cbar.ax.get_xticklabels(), rotation=45)\n",
    "            cbar.set_label('[m s$^{-1}$]', fontsize=18, rotation=0, labelpad=2.5)\n",
    "        else:\n",
    "            pass\n",
    "        \n",
    "    axa.plot(sozotaux[:time_ind], c='#384e72', linewidth=2.5)\n",
    "    axb.plot(avgU_full[:time_ind], c='#384e72', linewidth=2.5)\n",
    "    axa.set_ylim([0, 0.15])\n",
    "    axb.set_ylim([0, 0.1])\n",
    "    \n",
    "    for ax in (axa, axb):\n",
    "        ax.set_xlim([0, 10*24])\n",
    "        ml = MultipleLocator(24)\n",
    "        ax.xaxis.set_minor_locator(ml)\n",
    "        ax.xaxis.grid(which='minor', color='gray', linestyle='-', linewidth=0.5)\n",
    "    return cs,"
   ]
  },
  {
   "cell_type": "code",
   "execution_count": null,
   "metadata": {
    "collapsed": false
   },
   "outputs": [],
   "source": [
    "fig = plt.figure(figsize=(20, 15))\n",
    "ax1 = plt.subplot2grid((7, 12), (0, 0), colspan=4, rowspan=5)\n",
    "ax2 = plt.subplot2grid((7, 12), (0, 4), colspan=4, rowspan=5, sharey=ax1)\n",
    "ax3 = plt.subplot2grid((7, 12), (0, 8), colspan=4, rowspan=5, sharey=ax1)\n",
    "axa = plt.subplot2grid((7, 12), (5, 1), colspan=10, rowspan=1)\n",
    "axb = plt.subplot2grid((7, 12), (6, 1), colspan=10, rowspan=1)\n",
    "\n",
    "axes = [ax1, ax2, ax3]\n",
    "fig, axes, axa, axb = general_functions.set_plots(fig, axes, axa, axb, 'Horizontal Velocity (v)')\n",
    "vm_min, vm_max, levels = general_functions.get_limits(vomecrtyA, vomecrtyB, vomecrtyC, 0.4, 6, 'vel')\n",
    "\n",
    "print(vm_min, vm_max, levels)\n",
    "\n",
    "Writer = animation.writers['ffmpeg']\n",
    "writer = Writer(fps=3, bitrate=1000000, codec=\"libx264\")\n",
    "anim = animation.FuncAnimation(fig, animate, init_func=init, frames=10*24)\n",
    "anim.save('vvel_panels.mp4', writer=writer)"
   ]
  }
 ],
 "metadata": {
  "kernelspec": {
   "display_name": "Python 3",
   "language": "python",
   "name": "python3"
  },
  "language_info": {
   "codemirror_mode": {
    "name": "ipython",
    "version": 3
   },
   "file_extension": ".py",
   "mimetype": "text/x-python",
   "name": "python",
   "nbconvert_exporter": "python",
   "pygments_lexer": "ipython3",
   "version": "3.5.0rc4"
  }
 },
 "nbformat": 4,
 "nbformat_minor": 0
}
