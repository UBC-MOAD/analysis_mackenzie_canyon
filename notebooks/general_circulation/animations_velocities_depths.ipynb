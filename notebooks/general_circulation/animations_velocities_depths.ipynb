{
 "cells": [
  {
   "cell_type": "markdown",
   "metadata": {},
   "source": [
    "Animations of daily averages U, V, and W velocities. Each animation has subplots representing various depths."
   ]
  },
  {
   "cell_type": "code",
   "execution_count": 1,
   "metadata": {
    "collapsed": true
   },
   "outputs": [],
   "source": [
    "import netCDF4 as nc\n",
    "import matplotlib.pyplot as plt\n",
    "import matplotlib.cm as cm\n",
    "import cmocean as cmo\n",
    "import os,sys,fnmatch,time\n",
    "import numpy as np\n",
    "import matplotlib.gridspec as gridspec\n",
    "import matplotlib.patches as patches\n",
    "from salishsea_tools.nc_tools import scDataset\n",
    "from matplotlib import animation\n",
    "\n",
    "import sys\n",
    "sys.path.append('/ocean/imachuca/Canyons/analysis_mackenzie_canyon/notebooks/general_circulation/')\n",
    "import general_functions\n",
    "\n",
    "%matplotlib inline"
   ]
  },
  {
   "cell_type": "code",
   "execution_count": 2,
   "metadata": {
    "collapsed": true
   },
   "outputs": [],
   "source": [
    "def get_files(dirname, fname, grid):\n",
    "    files = []    \n",
    "    for item in os.listdir(dirname):\n",
    "        if fnmatch.fnmatchcase(item, fname + grid + \"*.nc\"):\n",
    "            files += [os.path.join(dirname, item)]\n",
    "    files.sort(key=os.path.basename)\n",
    "    return files"
   ]
  },
  {
   "cell_type": "code",
   "execution_count": 3,
   "metadata": {
    "collapsed": true
   },
   "outputs": [],
   "source": [
    "def U_timeseries(dirname, fname, dep_ind):\n",
    "    \n",
    "    filesU = get_files(dirname, fname, 'grid_U')\n",
    "    y,x = slice(1,-1,None), slice(1,-1,None)\n",
    "\n",
    "    with scDataset(filesU) as dsU:\n",
    "        vozocrtx0 = dsU.variables['vozocrtx'][:,dep_ind,y,x]\n",
    "\n",
    "    with nc.Dataset(os.path.join(dirname, '1_mesh_mask.nc'), 'r') as dsM:\n",
    "        umask0 = dsM.variables['umask'][0,dep_ind,y,x]\n",
    "\n",
    "    umask = np.tile(umask0, (480, 1, 1))\n",
    "    vozocrtx = np.ma.array(vozocrtx0, mask=1 - umask)\n",
    "    print(dep_ind)\n",
    "    \n",
    "    return vozocrtx"
   ]
  },
  {
   "cell_type": "code",
   "execution_count": 4,
   "metadata": {
    "collapsed": true
   },
   "outputs": [],
   "source": [
    "def get_1day_avg(vel, day_start, day_end):\n",
    "    day = slice(day_start*24, day_end*24, None)\n",
    "    vel_day = np.mean(vel[day, ...], axis=0)\n",
    "    return vel_day"
   ]
  },
  {
   "cell_type": "code",
   "execution_count": 5,
   "metadata": {
    "collapsed": false
   },
   "outputs": [],
   "source": [
    "dirname='/ocean/imachuca/Canyons/results_mackenzie/idealized/sbcana_forcings/agrif_wind_timestep/'\n",
    "fname = \"1_MCKNZ_1h_20170101_20170120_*\"\n",
    "dep_inds = [5, 9, 10, 11, 12, 18, 22, 30, 40]"
   ]
  },
  {
   "cell_type": "code",
   "execution_count": 6,
   "metadata": {
    "collapsed": true
   },
   "outputs": [],
   "source": [
    "filesU = get_files(dirname, fname, 'grid_U')\n",
    "with scDataset(filesU) as dsU:\n",
    "    depthu = dsU.variables['depthu'][:]"
   ]
  },
  {
   "cell_type": "code",
   "execution_count": 7,
   "metadata": {
    "collapsed": false
   },
   "outputs": [
    {
     "name": "stdout",
     "output_type": "stream",
     "text": [
      "5\n",
      "9\n",
      "10\n",
      "11\n",
      "12\n",
      "18\n",
      "22\n",
      "30\n",
      "40\n"
     ]
    }
   ],
   "source": [
    "vozocrtxA = U_timeseries(dirname, fname, dep_inds[0])\n",
    "vozocrtxB = U_timeseries(dirname, fname, dep_inds[1])\n",
    "vozocrtxC = U_timeseries(dirname, fname, dep_inds[2])\n",
    "vozocrtxD = U_timeseries(dirname, fname, dep_inds[3])\n",
    "vozocrtxE = U_timeseries(dirname, fname, dep_inds[4])\n",
    "vozocrtxF = U_timeseries(dirname, fname, dep_inds[5])\n",
    "vozocrtxG = U_timeseries(dirname, fname, dep_inds[6])\n",
    "vozocrtxH = U_timeseries(dirname, fname, dep_inds[7])\n",
    "vozocrtxI = U_timeseries(dirname, fname, dep_inds[8])\n",
    "\n",
    "xs = np.arange(vozocrtxA.shape[-1])\n",
    "ys = np.arange(vozocrtxA.shape[-2])"
   ]
  },
  {
   "cell_type": "code",
   "execution_count": 8,
   "metadata": {
    "collapsed": false
   },
   "outputs": [],
   "source": [
    "def animate(time_ind):\n",
    "    for ax, n, vel_all in zip(axes.flatten(), np.arange(len(dep_inds)), vel_all_list):\n",
    "        ax.cla()\n",
    "        vel_dayn = get_1day_avg(vel_all, time_ind, time_ind+1)\n",
    "        p = ax.pcolormesh(xs, ys, vel_dayn, vmin=-0.1, vmax=0.1, cmap=cmap)\n",
    "        plt.setp(ax.get_xticklabels(), visible=False)\n",
    "        plt.setp(ax.get_yticklabels(), visible=False)\n",
    "        ax.tick_params(axis='both', which='both', length=0)\n",
    "        ax.set_xlim([0, xs[-1]])\n",
    "        ax.set_ylim([0, ys[-1]])\n",
    "        ax.set_title('Depth '+str(np.round(depthu[dep_inds[n]],1)), fontsize=16)\n",
    "    fig.tight_layout(w_pad=0.8, h_pad=0.5)\n",
    "    fig.suptitle(ttl + 'Profile on Day ' + str(time_ind+1), fontsize=20)\n",
    "    plt.subplots_adjust(top=0.92)\n",
    "    return p,"
   ]
  },
  {
   "cell_type": "code",
   "execution_count": null,
   "metadata": {
    "collapsed": true
   },
   "outputs": [],
   "source": [
    "ttl = 'Horizontal Velocity U '\n",
    "vel_all_list = [vozocrtxA, vozocrtxB, vozocrtxC, vozocrtxD, vozocrtxE, vozocrtxF, vozocrtxG, vozocrtxH, vozocrtxI]\n",
    "\n",
    "fig, axes = plt.subplots(3, 3, figsize=(20,15), sharey=True)\n",
    "cmap = plt.get_cmap(cmo.cm.balance)\n",
    "cmap.set_bad('wheat')\n",
    "\n",
    "Writer = animation.writers['ffmpeg']\n",
    "writer = Writer(fps=2, bitrate=1000000, codec=\"libx264\")\n",
    "anim = animation.FuncAnimation(fig, animate, frames=17)\n",
    "anim.save('uvel_depths.mp4', writer=writer)"
   ]
  },
  {
   "cell_type": "code",
   "execution_count": null,
   "metadata": {
    "collapsed": true
   },
   "outputs": [],
   "source": [
    "def V_timeseries(dirname, fname, dep_ind):\n",
    "    \n",
    "    filesU = get_files(dirname, fname, 'grid_V')\n",
    "    y,x = slice(1,-1,None), slice(1,-1,None)\n",
    "\n",
    "    with scDataset(filesV) as dsV:\n",
    "        vomecrty0 = dsV.variables['vomecrty'][:,dep_ind,y,x]\n",
    "\n",
    "    with nc.Dataset(os.path.join(dirname, '1_mesh_mask.nc'), 'r') as dsM:\n",
    "        vmask0 = dsM.variables['vmask'][0,dep_ind,y,x]\n",
    "\n",
    "    vmask = np.tile(vmask0, (480, 1, 1))\n",
    "    vomecrty = np.ma.array(vomecrty0, mask=1 - vmask)\n",
    "    print(dep_ind)\n",
    "    \n",
    "    return vomecrty"
   ]
  },
  {
   "cell_type": "code",
   "execution_count": null,
   "metadata": {
    "collapsed": false
   },
   "outputs": [],
   "source": [
    "filesV = get_files(dirname, fname, 'grid_V')\n",
    "with scDataset(filesV) as dsV:\n",
    "    depthv = dsV.variables['depthv'][:]"
   ]
  },
  {
   "cell_type": "code",
   "execution_count": null,
   "metadata": {
    "collapsed": false
   },
   "outputs": [],
   "source": [
    "vomecrtyA = V_timeseries(dirname, fname, dep_inds[0])\n",
    "vomecrtyB = V_timeseries(dirname, fname, dep_inds[1])\n",
    "vomecrtyC = V_timeseries(dirname, fname, dep_inds[2])\n",
    "vomecrtyD = V_timeseries(dirname, fname, dep_inds[3])\n",
    "vomecrtyE = V_timeseries(dirname, fname, dep_inds[4])\n",
    "vomecrtyF = V_timeseries(dirname, fname, dep_inds[5])\n",
    "vomecrtyG = V_timeseries(dirname, fname, dep_inds[6])\n",
    "vomecrtyH = V_timeseries(dirname, fname, dep_inds[7])\n",
    "vomecrtyI = V_timeseries(dirname, fname, dep_inds[8])\n",
    "\n",
    "xs = np.arange(vomecrtyA.shape[-1])\n",
    "ys = np.arange(vomecrtyA.shape[-2])"
   ]
  },
  {
   "cell_type": "code",
   "execution_count": null,
   "metadata": {
    "collapsed": false
   },
   "outputs": [],
   "source": [
    "ttl = 'Horizontal Velocity V '\n",
    "vel_all_list = [vomecrtyA, vomecrtyB, vomecrtyC, vomecrtyD, vomecrtyE, vomecrtyF, vomecrtyG, vomecrtyH, vomecrtyI]\n",
    "\n",
    "fig, axes = plt.subplots(3, 3, figsize=(20,15), sharey=True)\n",
    "cmap = plt.get_cmap(cmo.cm.balance)\n",
    "cmap.set_bad('wheat')\n",
    "\n",
    "Writer = animation.writers['ffmpeg']\n",
    "writer = Writer(fps=2, bitrate=1000000, codec=\"libx264\")\n",
    "anim = animation.FuncAnimation(fig, animate, frames=17)\n",
    "anim.save('vvel_depths.mp4', writer=writer)"
   ]
  },
  {
   "cell_type": "code",
   "execution_count": null,
   "metadata": {
    "collapsed": true
   },
   "outputs": [],
   "source": [
    "def W_timeseries(dirname, fname, dep_ind):\n",
    "    \n",
    "    filesW = get_files(dirname, fname, 'grid_W')\n",
    "    y,x = slice(1,-1,None), slice(1,-1,None)\n",
    "\n",
    "    with scDataset(filesW) as dsW:\n",
    "        vovecrtz0 = dsW.variables['vovecrtz'][:,dep_ind,y,x]\n",
    "\n",
    "    with nc.Dataset(os.path.join(dirname, '1_mesh_mask.nc'), 'r') as dsM:\n",
    "        tmask0 = dsM.variables['tmask'][0,dep_ind,y,x]\n",
    "\n",
    "    tmask = np.tile(tmask0, (480, 1, 1))\n",
    "    vovecrtz = np.ma.array(vovecrtz0, mask=1 - tmask)\n",
    "    print(dep_ind)\n",
    "    \n",
    "    return vovecrtz"
   ]
  },
  {
   "cell_type": "code",
   "execution_count": null,
   "metadata": {
    "collapsed": true
   },
   "outputs": [],
   "source": [
    "def animateW(time_ind):\n",
    "    for ax, n, vel_all in zip(axes.flatten(), np.arange(len(dep_inds)), vel_all_list):\n",
    "        ax.cla()\n",
    "        vel_dayn = get_1day_avg(vel_all, time_ind, time_ind+1)\n",
    "        p = ax.pcolormesh(xs, ys, vel_dayn, vmin=-0.0001, vmax=0.0001, cmap=cmap)\n",
    "        plt.setp(ax.get_xticklabels(), visible=False)\n",
    "        plt.setp(ax.get_yticklabels(), visible=False)\n",
    "        ax.tick_params(axis='both', which='both', length=0)\n",
    "        ax.set_xlim([0, xs[-1]])\n",
    "        ax.set_ylim([0, ys[-1]])\n",
    "        ax.set_title('Depth '+str(np.round(deptht[dep_inds[n]],1)), fontsize=16)\n",
    "    fig.tight_layout(w_pad=0.8, h_pad=0.5)\n",
    "    fig.suptitle(ttl + 'Profile on Day ' + str(time_ind+1), fontsize=20)\n",
    "    plt.subplots_adjust(top=0.92)\n",
    "    return p,"
   ]
  },
  {
   "cell_type": "code",
   "execution_count": null,
   "metadata": {
    "collapsed": true
   },
   "outputs": [],
   "source": [
    "filesT = get_files(dirname, fname, 'grid_T')\n",
    "with scDataset(filesT) as dsT:\n",
    "    deptht = dsT.variables['deptht'][:]"
   ]
  },
  {
   "cell_type": "code",
   "execution_count": null,
   "metadata": {
    "collapsed": false
   },
   "outputs": [],
   "source": [
    "vovecrtzA = W_timeseries(dirname, fname, dep_inds[0])\n",
    "vovecrtzB = W_timeseries(dirname, fname, dep_inds[1])\n",
    "vovecrtzC = W_timeseries(dirname, fname, dep_inds[2])\n",
    "vovecrtzD = W_timeseries(dirname, fname, dep_inds[3])\n",
    "vovecrtzE = W_timeseries(dirname, fname, dep_inds[4])\n",
    "vovecrtzF = W_timeseries(dirname, fname, dep_inds[5])\n",
    "vovecrtzG = W_timeseries(dirname, fname, dep_inds[6])\n",
    "vovecrtzH = W_timeseries(dirname, fname, dep_inds[7])\n",
    "vovecrtzI = W_timeseries(dirname, fname, dep_inds[8])\n",
    "\n",
    "xs = np.arange(vovecrtzA.shape[-1])\n",
    "ys = np.arange(vovecrtzA.shape[-2])"
   ]
  },
  {
   "cell_type": "code",
   "execution_count": null,
   "metadata": {
    "collapsed": false
   },
   "outputs": [],
   "source": [
    "ttl = 'Vertical Velocity W '\n",
    "vel_all_list = [vovecrtzA, vovecrtzB, vovecrtzC, vovecrtzD, vovecrtzE, vovecrtzF, vovecrtzG, vovecrtzH, vovecrtzI]\n",
    "\n",
    "fig, axes = plt.subplots(3, 3, figsize=(20,15), sharey=True)\n",
    "cmap = plt.get_cmap(cmo.cm.balance)\n",
    "cmap.set_bad('wheat')\n",
    "\n",
    "Writer = animation.writers['ffmpeg']\n",
    "writer = Writer(fps=2, bitrate=1000000, codec=\"libx264\")\n",
    "anim = animation.FuncAnimation(fig, animateW, frames=17)\n",
    "anim.save('wvel_depths.mp4', writer=writer)"
   ]
  },
  {
   "cell_type": "code",
   "execution_count": null,
   "metadata": {
    "collapsed": true
   },
   "outputs": [],
   "source": []
  }
 ],
 "metadata": {
  "kernelspec": {
   "display_name": "Python 3",
   "language": "python",
   "name": "python3"
  },
  "language_info": {
   "codemirror_mode": {
    "name": "ipython",
    "version": 3
   },
   "file_extension": ".py",
   "mimetype": "text/x-python",
   "name": "python",
   "nbconvert_exporter": "python",
   "pygments_lexer": "ipython3",
   "version": "3.5.0rc4"
  }
 },
 "nbformat": 4,
 "nbformat_minor": 0
}
