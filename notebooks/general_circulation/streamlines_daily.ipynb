{
 "cells": [
  {
   "cell_type": "code",
   "execution_count": 1,
   "metadata": {
    "collapsed": true
   },
   "outputs": [],
   "source": [
    "import netCDF4 as nc\n",
    "import matplotlib.pyplot as plt\n",
    "import matplotlib.cm as cm\n",
    "import cmocean as cmo\n",
    "import os,sys,fnmatch,time\n",
    "import numpy as np\n",
    "import matplotlib.gridspec as gridspec\n",
    "import matplotlib.patches as patches\n",
    "from matplotlib.ticker import MultipleLocator\n",
    "from matplotlib.colors import LinearSegmentedColormap\n",
    "from matplotlib import animation\n",
    "from salishsea_tools.nc_tools import scDataset\n",
    "from matplotlib import ticker\n",
    "from matplotlib import colors\n",
    "import matplotlib as mpl\n",
    "from matplotlib.colors import LinearSegmentedColormap\n",
    "import math\n",
    "from mpl_toolkits.axes_grid1.inset_locator import inset_axes\n",
    "import matplotlib.patches as patches\n",
    "\n",
    "import sys\n",
    "sys.path.append('/ocean/imachuca/Canyons/analysis_mackenzie_canyon/notebooks/general_circulation/')\n",
    "import general_functions\n",
    "import quicklook\n",
    "\n",
    "import warnings\n",
    "warnings.filterwarnings(\"ignore\")\n",
    "\n",
    "%matplotlib inline"
   ]
  },
  {
   "cell_type": "markdown",
   "metadata": {},
   "source": [
    "# Functions"
   ]
  },
  {
   "cell_type": "code",
   "execution_count": 8,
   "metadata": {
    "collapsed": false
   },
   "outputs": [],
   "source": [
    "def plot_streamlines(case, dirname, fname, dep_ind):\n",
    "\n",
    "    arrow = 1\n",
    "    days = 9\n",
    "\n",
    "    vozocrtx, vomecrty, umask, vmask, e1u, e2u, depthu, depthv, sozotaux = quicklook.get_uv_at_depth(dirname, fname, dep_ind)\n",
    "\n",
    "    x_slice, y_slice, u_nstg, v_nstg, speeds = quicklook.get_speeds(vozocrtx, vomecrty, arrow)\n",
    "    speeds_daily = quicklook.get_1day_avg_of_speeds(speeds, days)\n",
    "    u_nstg_daily = quicklook.get_1day_avg_of_speeds(u_nstg, days)\n",
    "    v_nstg_daily = quicklook.get_1day_avg_of_speeds(v_nstg, days)\n",
    "\n",
    "    # ----------------------------------------------------------------------------------------------------\n",
    "\n",
    "    umask_slice = umask[:-1, :-1]\n",
    "    vmask_slice = vmask[:-1, :-1]\n",
    "\n",
    "    vmin, vmax = 0, 0.7\n",
    "    cmap = cmo.cm.matter\n",
    "    cmap.set_bad('silver')\n",
    "    cmap_mask = LinearSegmentedColormap.from_list('mycmap', ['silver', 'white'])\n",
    "    norm = mpl.colors.Normalize(vmin=vmin,vmax=vmax)\n",
    "\n",
    "    fig, axes = plt.subplots(3, 3, figsize = (20, 21))\n",
    "    for ax, n in zip(axes.flatten(), np.arange(9)):\n",
    "        plot_speeds = np.ma.array(speeds_daily[n, ...], mask=1 - umask_slice)\n",
    "        plot_u_nstg = np.ma.array(u_nstg_daily[n, ...], mask=1 - umask_slice)\n",
    "        plot_v_nstg = np.ma.array(v_nstg_daily[n, ...], mask=1 - vmask_slice)\n",
    "        strm = ax.streamplot(x_slice, y_slice, plot_u_nstg, plot_v_nstg, color=plot_speeds,\n",
    "                             cmap=cmap, norm=norm, linewidth=2, density=6, zorder=2) #density different\n",
    "        ax.pcolormesh(umask_slice, cmap=cmap_mask, zorder=1)\n",
    "        plt.setp(ax.get_xticklabels(), visible=False)\n",
    "        plt.setp(ax.get_yticklabels(), visible=False)\n",
    "        ax.tick_params(axis='both', which='both', length=0)\n",
    "        ax.set_aspect(aspect='equal')\n",
    "        ax.set_xlim([0, x_slice[-1]])\n",
    "        ax.set_ylim([0, y_slice[-1]])\n",
    "        ax.set_title('Day ' + str(n+1), fontsize=20)\n",
    "        cbar = fig.colorbar(strm.lines, ax=ax, fraction=0.05, orientation='horizontal', pad=0.009)\n",
    "        cbar.ax.tick_params(labelsize=13)\n",
    "        tick_locator = ticker.MaxNLocator(nbins=5)\n",
    "        cbar.locator = tick_locator\n",
    "        cbar.update_ticks()\n",
    "\n",
    "    fig.tight_layout(w_pad=1.2, h_pad=0.01)\n",
    "    fig.suptitle(case+' - Streamlines with speeds [m/s] at depth = '+str(int(depthu[dep_ind]))+' m', fontsize=25)\n",
    "    plt.subplots_adjust(top=0.96)\n",
    "    \n",
    "    return fig"
   ]
  },
  {
   "cell_type": "markdown",
   "metadata": {},
   "source": [
    "# Constants"
   ]
  },
  {
   "cell_type": "code",
   "execution_count": 9,
   "metadata": {
    "collapsed": false
   },
   "outputs": [],
   "source": [
    "dep_inds = [1, 9, 16]"
   ]
  },
  {
   "cell_type": "code",
   "execution_count": 10,
   "metadata": {
    "collapsed": true
   },
   "outputs": [],
   "source": [
    "fname = \"1_MCKNZ_1h_20170101_201701*\""
   ]
  },
  {
   "cell_type": "markdown",
   "metadata": {},
   "source": [
    "# Ideal"
   ]
  },
  {
   "cell_type": "code",
   "execution_count": 11,
   "metadata": {
    "collapsed": false
   },
   "outputs": [],
   "source": [
    "kind = 'ideal'\n",
    "case = 'base' \n",
    "\n",
    "for dep_ind, n in zip(dep_inds, np.arange(3)):\n",
    "    dirname = '/ocean/imachuca/Canyons/results_mackenzie/extended_domain/'+kind+'_'+case+'/'\n",
    "    fig = plot_streamlines(case, dirname, fname, dep_ind)\n",
    "    fig.savefig('../writing_images/streamlines_'+kind+'_'+case+'_'+str(dep_ind)+'.png', dpi=100, bbox_inches='tight')\n",
    "    plt.close(fig) "
   ]
  },
  {
   "cell_type": "code",
   "execution_count": null,
   "metadata": {
    "collapsed": true
   },
   "outputs": [],
   "source": []
  }
 ],
 "metadata": {
  "kernelspec": {
   "display_name": "Python 3",
   "language": "python",
   "name": "python3"
  },
  "language_info": {
   "codemirror_mode": {
    "name": "ipython",
    "version": 3
   },
   "file_extension": ".py",
   "mimetype": "text/x-python",
   "name": "python",
   "nbconvert_exporter": "python",
   "pygments_lexer": "ipython3",
   "version": "3.5.0rc4"
  }
 },
 "nbformat": 4,
 "nbformat_minor": 2
}
