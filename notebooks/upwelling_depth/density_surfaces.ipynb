{
 "cells": [
  {
   "cell_type": "code",
   "execution_count": 1,
   "metadata": {},
   "outputs": [
    {
     "name": "stderr",
     "output_type": "stream",
     "text": [
      "/home/imachuca/anaconda3/envs/gsw/lib/python3.6/site-packages/cmocean/tools.py:76: MatplotlibDeprecationWarning: The is_string_like function was deprecated in version 2.1.\n",
      "  if not mpl.cbook.is_string_like(rgbin[0]):\n"
     ]
    }
   ],
   "source": [
    "import netCDF4 as nc\n",
    "import matplotlib as mpl\n",
    "import matplotlib.pyplot as plt\n",
    "import matplotlib.cm as cm\n",
    "import cmocean as cmo\n",
    "import os,sys,fnmatch,time\n",
    "import numpy as np\n",
    "import matplotlib.gridspec as gridspec\n",
    "from matplotlib import animation\n",
    "from salishsea_tools.nc_tools import scDataset\n",
    "from salishsea_tools import (psu_tools, teos_tools)\n",
    "from matplotlib import colors\n",
    "from matplotlib import ticker\n",
    "from matplotlib.colors import LinearSegmentedColormap\n",
    "from mpl_toolkits.mplot3d import Axes3D\n",
    "from matplotlib.colors import LightSource\n",
    "import time\n",
    "from datetime import datetime \n",
    "import gsw\n",
    "from mpl_toolkits.axes_grid1 import make_axes_locatable\n",
    "\n",
    "%matplotlib inline\n",
    "\n",
    "import sys\n",
    "sys.path.append('/ocean/imachuca/Canyons/analysis_mackenzie_canyon/notebooks/general_circulation')\n",
    "import general_functions\n",
    "import quicklook\n",
    "sys.path.append('/ocean/imachuca/Canyons/analysis_mackenzie_canyon/notebooks/upwelling_depth/')\n",
    "import upwelling_functions\n",
    "\n",
    "import warnings\n",
    "warnings.filterwarnings(\"ignore\")"
   ]
  },
  {
   "cell_type": "markdown",
   "metadata": {},
   "source": [
    "# Functions"
   ]
  },
  {
   "cell_type": "code",
   "execution_count": 2,
   "metadata": {},
   "outputs": [],
   "source": [
    "def get_vars_surf(dirname, fname, meshmaskname, time_ind):\n",
    "    \n",
    "    y,x = slice(1,-1,None), slice(1,-1,None)\n",
    "    \n",
    "    filesT = general_functions.get_files(dirname, fname, 'grid_T')\n",
    "    filesU = general_functions.get_files(dirname, fname, 'grid_U') \n",
    "    filesV = general_functions.get_files(dirname, fname, 'grid_V')\n",
    "    filesW = general_functions.get_files(dirname, fname, 'grid_W')\n",
    "            \n",
    "    with scDataset(filesT) as dsT, scDataset(filesU) as dsU, scDataset(filesV) as dsV, scDataset(filesW) as dsW:\n",
    "        vosaline0 = dsT.variables['vosaline'][time_ind, :, y, x]\n",
    "        votemper0 = dsT.variables['votemper'][time_ind, :, y, x]\n",
    "        vozocrtx0 = dsU.variables['vozocrtx'][time_ind, :, y, x]\n",
    "        vomecrty0 = dsV.variables['vomecrty'][time_ind, :, y, x]\n",
    "        vovecrtz0 = dsW.variables['vovecrtz'][time_ind, :, y, x]\n",
    "        deptht = dsT.variables['deptht'][:]\n",
    "        \n",
    "    with nc.Dataset(os.path.join(dirname, meshmaskname), 'r') as dsM:\n",
    "        tmask = dsM.variables['tmask'][0, :, y, x]\n",
    "        mbathy = dsM.variables['mbathy'][0, y, x]\n",
    "\n",
    "    vosaline = np.ma.array(vosaline0, mask=1 - tmask)\n",
    "    votemper = np.ma.array(votemper0, mask=1 - tmask)\n",
    "    vozocrtx = np.ma.array(vozocrtx0, mask=1 - tmask)\n",
    "    vomecrty = np.ma.array(vomecrty0, mask=1 - tmask)\n",
    "    vovecrtz = np.ma.array(vovecrtz0, mask=1 - tmask)\n",
    "    \n",
    "    ideal_file = nc.Dataset(dirname+'1_ideal_bathy_for_agrif.nc')\n",
    "    ideal = ideal_file['Bathymetry'][y, x]\n",
    "    \n",
    "    return vosaline, votemper, vozocrtx, vomecrty, vovecrtz, tmask, mbathy, deptht, ideal"
   ]
  },
  {
   "cell_type": "code",
   "execution_count": 3,
   "metadata": {},
   "outputs": [],
   "source": [
    "def calculate_density(vosaline, votemper):\n",
    "    sigma = np.full([vosaline.shape[-3], vosaline.shape[-2], vosaline.shape[-1]], np.nan)\n",
    "    for k in range(vosaline.shape[-3]):\n",
    "        gsw_vosaline = vosaline[k, :, :]\n",
    "        gsw_votemper = votemper[k, :, :]\n",
    "        sigma[k, :, :] = gsw.rho(gsw_vosaline, gsw_votemper, 0) - 1000\n",
    "    return sigma"
   ]
  },
  {
   "cell_type": "code",
   "execution_count": 4,
   "metadata": {},
   "outputs": [],
   "source": [
    "def make_density_surface(sigma_value, sigma, mbathy, var):\n",
    "\n",
    "    xs = np.arange(sigma.shape[-1])\n",
    "    ys = np.arange(sigma.shape[-2])\n",
    "\n",
    "    surf_depth = np.zeros([len(ys), len(xs)])\n",
    "    surf_var = np.zeros_like(surf_depth)\n",
    "\n",
    "    for j in range(len(ys)):\n",
    "        for i in range(len(xs)):\n",
    "            if mbathy[j, i] > 0:\n",
    "                column_sigma = sigma[:mbathy[j, i], j, i]\n",
    "                column_var = var[:mbathy[j, i], j, i]\n",
    "                column_depth = deptht[:mbathy[j, i]]\n",
    "\n",
    "                surf_depth[j, i] = np.interp(sigma_value, column_sigma, column_depth)\n",
    "                surf_var[j, i] = np.interp(surf_depth[j, i], column_depth, column_var)\n",
    "                \n",
    "    return surf_depth, surf_var"
   ]
  },
  {
   "cell_type": "code",
   "execution_count": 5,
   "metadata": {},
   "outputs": [],
   "source": [
    "def plot_density_surface(surf_depth, surf_var, ideal, sigma_value, elev, azim, cmap, vmin, vmax, ttl):\n",
    "\n",
    "    fig = plt.figure(figsize=(15, 10))\n",
    "    ax = fig.gca(projection='3d')\n",
    "    \n",
    "    xs = np.arange(surf_depth.shape[-1])\n",
    "    ys = np.arange(surf_depth.shape[-2])\n",
    "    X, Y = np.meshgrid(xs, ys)\n",
    "\n",
    "    cmap_mask = LinearSegmentedColormap.from_list('mycmap', ['#F0F0F0', '#909090'])\n",
    "\n",
    "    cany = ax.plot_surface(X, Y, ideal, cmap=cmap_mask, rstride=1, cstride=1, linewidth=0.5)\n",
    "\n",
    "    ls = LightSource(90, 45)\n",
    "    illuminated_surface = ls.shade(surf_var, cmap=cmap, blend_mode='overlay', vmin=vmin, vmax=vmax)\n",
    "    surf = ax.plot_surface(X, Y, surf_depth, facecolors=illuminated_surface,\n",
    "                           rstride=1, cstride=1, linewidth=0.2, antialiased=True)\n",
    "\n",
    "    ax.view_init(elev=elev, azim=azim)\n",
    "    ax.set_xlim([0, xs[-1]])\n",
    "    ax.set_ylim([0, ys[-1]])\n",
    "    ax.set_zlim([1300, 0])\n",
    "    ax.set_xlabel('x indices')\n",
    "    ax.set_ylabel('y indices')\n",
    "    ax.set_zlabel('depth [m]')\n",
    "    ax.set_title(ttl+' on density surface $\\sigma=$'+str(sigma_value), fontsize=20)\n",
    "    \n",
    "    sm = plt.cm.ScalarMappable(cmap=cmap, norm=plt.Normalize(vmin=vmin, vmax=vmax))\n",
    "    sm._A = []\n",
    "    plt.colorbar(sm, orientation='vertical', fraction=0.02, pad=0.1)\n",
    "    \n",
    "    return fig"
   ]
  },
  {
   "cell_type": "markdown",
   "metadata": {},
   "source": [
    "# Constants"
   ]
  },
  {
   "cell_type": "code",
   "execution_count": 6,
   "metadata": {},
   "outputs": [],
   "source": [
    "fname = '1_MCKNZ_1h_20170101_201701*'\n",
    "meshmaskname = '1_mesh_mask.nc'"
   ]
  },
  {
   "cell_type": "code",
   "execution_count": 7,
   "metadata": {},
   "outputs": [],
   "source": [
    "sigma_values = np.arange(28, 28.5, 0.1) # i want to do this np.arange(25.5, 28.5, 0.1)\n",
    "\n",
    "time_ind = 48"
   ]
  },
  {
   "cell_type": "markdown",
   "metadata": {},
   "source": [
    "# Ideal"
   ]
  },
  {
   "cell_type": "code",
   "execution_count": 8,
   "metadata": {},
   "outputs": [],
   "source": [
    "kind = 'ideal'\n",
    "case = 'base'\n",
    "dirname = '/ocean/imachuca/Canyons/results_mackenzie/extended_domain/'+kind+'_'+case+'/'"
   ]
  },
  {
   "cell_type": "code",
   "execution_count": 9,
   "metadata": {
    "scrolled": false
   },
   "outputs": [
    {
     "name": "stdout",
     "output_type": "stream",
     "text": [
      "28.0\n",
      "28.1\n",
      "28.200000000000003\n",
      "28.300000000000004\n",
      "28.400000000000006\n"
     ]
    }
   ],
   "source": [
    "for sigma_value0 in sigma_values:\n",
    "    print(sigma_value0)\n",
    "    sigma_value = np.round(sigma_value0, 2)\n",
    "\n",
    "    vosaline, votemper, vozocrtx, vomecrty, vovecrtz, tmask, mbathy, deptht, ideal = get_vars_surf(dirname, fname, meshmaskname, time_ind)\n",
    "    sigma = calculate_density(vosaline, votemper)\n",
    "\n",
    "    varb = vovecrtz\n",
    "\n",
    "    surf_depth, surf_var = make_density_surface(sigma_value, sigma, mbathy, varb)\n",
    "\n",
    "    # ---------------------------\n",
    "\n",
    "    ttl = 'w-velocity'\n",
    "    flag = 'wvel'\n",
    "\n",
    "    elev, azim = 35, 110\n",
    "    #vm = max([abs(np.nanmin(surf_var)), abs(np.nanmax(surf_var))])\n",
    "    vm = 0.0035\n",
    "    vmin, vmax = -vm, vm\n",
    "    #vmin, vmax = np.nanmin(surf_var), np.nanmax(surf_var)\n",
    "    cmap = cmo.cm.balance\n",
    "    fig = plot_density_surface(surf_depth, surf_var, ideal, sigma_value, elev, azim, cmap, vmin, vmax, ttl)\n",
    "    fig.savefig('../writing_images/density_surface_'+flag+'_sigma'+str(sigma_value)+'.png', dpi=100, bbox_inches='tight')\n",
    "    plt.close(fig)"
   ]
  },
  {
   "cell_type": "code",
   "execution_count": null,
   "metadata": {},
   "outputs": [],
   "source": []
  }
 ],
 "metadata": {
  "kernelspec": {
   "display_name": "Python 3",
   "language": "python",
   "name": "python3"
  },
  "language_info": {
   "codemirror_mode": {
    "name": "ipython",
    "version": 3
   },
   "file_extension": ".py",
   "mimetype": "text/x-python",
   "name": "python",
   "nbconvert_exporter": "python",
   "pygments_lexer": "ipython3",
   "version": "3.6.4"
  }
 },
 "nbformat": 4,
 "nbformat_minor": 2
}
