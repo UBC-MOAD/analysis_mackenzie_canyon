{
 "cells": [
  {
   "cell_type": "code",
   "execution_count": 1,
   "metadata": {},
   "outputs": [
    {
     "name": "stderr",
     "output_type": "stream",
     "text": [
      "/home/imachuca/anaconda3/envs/gsw/lib/python3.6/site-packages/cmocean/tools.py:76: MatplotlibDeprecationWarning: The is_string_like function was deprecated in version 2.1.\n",
      "  if not mpl.cbook.is_string_like(rgbin[0]):\n"
     ]
    }
   ],
   "source": [
    "import netCDF4 as nc\n",
    "import matplotlib.pyplot as plt\n",
    "import matplotlib.cm as cm\n",
    "import cmocean as cmo\n",
    "import os,sys,fnmatch,time\n",
    "import numpy as np\n",
    "import matplotlib.gridspec as gridspec\n",
    "from matplotlib import animation\n",
    "from salishsea_tools.nc_tools import scDataset\n",
    "from salishsea_tools import (psu_tools, teos_tools)\n",
    "\n",
    "from matplotlib import colors\n",
    "from matplotlib import ticker\n",
    "from matplotlib.colors import LinearSegmentedColormap\n",
    "import gsw\n",
    "\n",
    "%matplotlib inline\n",
    "\n",
    "import sys\n",
    "sys.path.append('/ocean/imachuca/Canyons/analysis_mackenzie_canyon/notebooks/general_circulation')\n",
    "import general_functions\n",
    "\n",
    "import warnings\n",
    "warnings.filterwarnings(\"ignore\")\n",
    "\n",
    "import time\n",
    "from datetime import datetime "
   ]
  },
  {
   "cell_type": "markdown",
   "metadata": {},
   "source": [
    "# Functions\n",
    "\n",
    "5 days Time elapsed (hh:mm:ss.ms) 0:03:34.994670"
   ]
  },
  {
   "cell_type": "code",
   "execution_count": 2,
   "metadata": {},
   "outputs": [],
   "source": [
    "def get_vars_pressure(dirname, fname, meshmaskname, time_ind):\n",
    "    \n",
    "    filesU = general_functions.get_files(dirname, fname, 'grid_U') \n",
    "    filesT = general_functions.get_files(dirname, fname, 'grid_T')\n",
    "    \n",
    "    y,x = slice(1,-1,None), slice(1,-1,None)\n",
    "\n",
    "    with scDataset(filesU) as dsU, scDataset(filesT) as dsT:\n",
    "        vosaline0 = dsT.variables['vosaline'][:time_ind, :, y, x]\n",
    "        votemper0 = dsT.variables['votemper'][:time_ind, :, y, x]\n",
    "        sossheig0 = dsT.variables['sossheig'][:time_ind, y, x]\n",
    "        sozotaux = dsU.variables['sozotaux'][:time_ind, 0, 0]\n",
    "\n",
    "    with nc.Dataset(os.path.join(dirname, meshmaskname), 'r') as dsM:\n",
    "        tmask0 = dsM.variables['tmask'][0, :, y, x]\n",
    "        tmask_ssh0 = dsM.variables['tmask'][0, 0, y, x]\n",
    "        gdept = dsM.variables['gdept_1d'][0, :]\n",
    "        e3t = dsM.variables['e3t_0'][0, :, 0, 0]\n",
    "        nav_lat = dsM.variables['nav_lat'][y, x]\n",
    "    \n",
    "    tmask = np.tile(tmask0, (len(sozotaux), 1, 1, 1)) \n",
    "    tmask_ssh = np.tile(tmask_ssh0, (len(sozotaux), 1, 1)) \n",
    "\n",
    "    vosaline = np.ma.array(vosaline0, mask=1 - tmask)\n",
    "    votemper = np.ma.array(votemper0, mask=1 - tmask)\n",
    "    sossheig = np.ma.array(sossheig0, mask=1 - tmask_ssh)\n",
    "    \n",
    "    return vosaline0, votemper0, sossheig0, gdept, e3t, nav_lat"
   ]
  },
  {
   "cell_type": "code",
   "execution_count": 3,
   "metadata": {},
   "outputs": [],
   "source": [
    "def calculate_pressure(vosaline, votemper, sossheig, e3t):\n",
    "    g = 9.81\n",
    "\n",
    "    rho = np.full([vosaline.shape[-4], vosaline.shape[-3], vosaline.shape[-2], vosaline.shape[-1]], np.nan)\n",
    "    p_hydro = np.full_like(rho, np.nan)\n",
    "    p_surf = np.full([vosaline.shape[-4], vosaline.shape[-2], vosaline.shape[-1]], np.nan)\n",
    "    pressure = np.full_like(rho, np.nan)\n",
    "\n",
    "    for t in range(vosaline.shape[-4]):\n",
    "        for k in range(vosaline.shape[-3]):\n",
    "            gsw_vosaline = vosaline[t, k, :, :]\n",
    "            gsw_votemper = votemper[t, k, :, :]\n",
    "            rho[t, k, :, :] = gsw.rho(gsw_vosaline, gsw_votemper, 0)\n",
    "            p_hydro[t, k, :, :] = rho[t, k, :, :] * g * np.sum(e3t[:k])\n",
    "\n",
    "        p_surf[t, :, :] = rho[t, 0, :, :] * g * sossheig[t, :, :]\n",
    "        \n",
    "        pressure[t, :, :, :] = p_hydro[t, :, :, :] + p_surf[t, :, :]\n",
    "        \n",
    "    return rho, pressure"
   ]
  },
  {
   "cell_type": "markdown",
   "metadata": {},
   "source": [
    "# Ideal"
   ]
  },
  {
   "cell_type": "code",
   "execution_count": 4,
   "metadata": {},
   "outputs": [],
   "source": [
    "kind = 'ideal'\n",
    "case = 'base' \n",
    "dirname = '/ocean/imachuca/Canyons/results_mackenzie/extended_domain/'+kind+'_'+case+'/'\n",
    "fname = '1_MCKNZ_1h_20170101_201701*'\n",
    "meshmaskname = '1_mesh_mask.nc'"
   ]
  },
  {
   "cell_type": "code",
   "execution_count": 5,
   "metadata": {},
   "outputs": [
    {
     "ename": "MemoryError",
     "evalue": "",
     "output_type": "error",
     "traceback": [
      "\u001b[0;31m---------------------------------------------------------------------------\u001b[0m",
      "\u001b[0;31mMemoryError\u001b[0m                               Traceback (most recent call last)",
      "\u001b[0;32m<ipython-input-5-5e998b5c4767>\u001b[0m in \u001b[0;36m<module>\u001b[0;34m()\u001b[0m\n\u001b[1;32m      5\u001b[0m \u001b[0mvosaline\u001b[0m\u001b[0;34m,\u001b[0m \u001b[0mvotemper\u001b[0m\u001b[0;34m,\u001b[0m \u001b[0msossheig\u001b[0m\u001b[0;34m,\u001b[0m \u001b[0mgdept\u001b[0m\u001b[0;34m,\u001b[0m \u001b[0me3t\u001b[0m\u001b[0;34m,\u001b[0m \u001b[0mnav_lat\u001b[0m \u001b[0;34m=\u001b[0m \u001b[0mget_vars_pressure\u001b[0m\u001b[0;34m(\u001b[0m\u001b[0mdirname\u001b[0m\u001b[0;34m,\u001b[0m \u001b[0mfname\u001b[0m\u001b[0;34m,\u001b[0m \u001b[0mmeshmaskname\u001b[0m\u001b[0;34m,\u001b[0m \u001b[0mtime_ind\u001b[0m\u001b[0;34m)\u001b[0m\u001b[0;34m\u001b[0m\u001b[0m\n\u001b[1;32m      6\u001b[0m \u001b[0;34m\u001b[0m\u001b[0m\n\u001b[0;32m----> 7\u001b[0;31m \u001b[0mrho\u001b[0m\u001b[0;34m,\u001b[0m \u001b[0mpressure\u001b[0m \u001b[0;34m=\u001b[0m \u001b[0mcalculate_pressure\u001b[0m\u001b[0;34m(\u001b[0m\u001b[0mvosaline\u001b[0m\u001b[0;34m,\u001b[0m \u001b[0mvotemper\u001b[0m\u001b[0;34m,\u001b[0m \u001b[0msossheig\u001b[0m\u001b[0;34m,\u001b[0m \u001b[0me3t\u001b[0m\u001b[0;34m)\u001b[0m\u001b[0;34m\u001b[0m\u001b[0m\n\u001b[0m\u001b[1;32m      8\u001b[0m \u001b[0;34m\u001b[0m\u001b[0m\n\u001b[1;32m      9\u001b[0m \u001b[0mtime_elapsed\u001b[0m \u001b[0;34m=\u001b[0m \u001b[0mdatetime\u001b[0m\u001b[0;34m.\u001b[0m\u001b[0mnow\u001b[0m\u001b[0;34m(\u001b[0m\u001b[0;34m)\u001b[0m \u001b[0;34m-\u001b[0m \u001b[0mstart_time\u001b[0m\u001b[0;34m\u001b[0m\u001b[0m\n",
      "\u001b[0;32m<ipython-input-3-7e47b1a7436a>\u001b[0m in \u001b[0;36mcalculate_pressure\u001b[0;34m(vosaline, votemper, sossheig, e3t)\u001b[0m\n\u001b[1;32m      5\u001b[0m     \u001b[0mp_hydro\u001b[0m \u001b[0;34m=\u001b[0m \u001b[0mnp\u001b[0m\u001b[0;34m.\u001b[0m\u001b[0mfull_like\u001b[0m\u001b[0;34m(\u001b[0m\u001b[0mrho\u001b[0m\u001b[0;34m,\u001b[0m \u001b[0mnp\u001b[0m\u001b[0;34m.\u001b[0m\u001b[0mnan\u001b[0m\u001b[0;34m)\u001b[0m\u001b[0;34m\u001b[0m\u001b[0m\n\u001b[1;32m      6\u001b[0m     \u001b[0mp_surf\u001b[0m \u001b[0;34m=\u001b[0m \u001b[0mnp\u001b[0m\u001b[0;34m.\u001b[0m\u001b[0mfull\u001b[0m\u001b[0;34m(\u001b[0m\u001b[0;34m[\u001b[0m\u001b[0mvosaline\u001b[0m\u001b[0;34m.\u001b[0m\u001b[0mshape\u001b[0m\u001b[0;34m[\u001b[0m\u001b[0;34m-\u001b[0m\u001b[0;36m4\u001b[0m\u001b[0;34m]\u001b[0m\u001b[0;34m,\u001b[0m \u001b[0mvosaline\u001b[0m\u001b[0;34m.\u001b[0m\u001b[0mshape\u001b[0m\u001b[0;34m[\u001b[0m\u001b[0;34m-\u001b[0m\u001b[0;36m2\u001b[0m\u001b[0;34m]\u001b[0m\u001b[0;34m,\u001b[0m \u001b[0mvosaline\u001b[0m\u001b[0;34m.\u001b[0m\u001b[0mshape\u001b[0m\u001b[0;34m[\u001b[0m\u001b[0;34m-\u001b[0m\u001b[0;36m1\u001b[0m\u001b[0;34m]\u001b[0m\u001b[0;34m]\u001b[0m\u001b[0;34m,\u001b[0m \u001b[0mnp\u001b[0m\u001b[0;34m.\u001b[0m\u001b[0mnan\u001b[0m\u001b[0;34m)\u001b[0m\u001b[0;34m\u001b[0m\u001b[0m\n\u001b[0;32m----> 7\u001b[0;31m     \u001b[0mpressure\u001b[0m \u001b[0;34m=\u001b[0m \u001b[0mnp\u001b[0m\u001b[0;34m.\u001b[0m\u001b[0mfull_like\u001b[0m\u001b[0;34m(\u001b[0m\u001b[0mrho\u001b[0m\u001b[0;34m,\u001b[0m \u001b[0mnp\u001b[0m\u001b[0;34m.\u001b[0m\u001b[0mnan\u001b[0m\u001b[0;34m)\u001b[0m\u001b[0;34m\u001b[0m\u001b[0m\n\u001b[0m\u001b[1;32m      8\u001b[0m \u001b[0;34m\u001b[0m\u001b[0m\n\u001b[1;32m      9\u001b[0m     \u001b[0;32mfor\u001b[0m \u001b[0mt\u001b[0m \u001b[0;32min\u001b[0m \u001b[0mrange\u001b[0m\u001b[0;34m(\u001b[0m\u001b[0mvosaline\u001b[0m\u001b[0;34m.\u001b[0m\u001b[0mshape\u001b[0m\u001b[0;34m[\u001b[0m\u001b[0;34m-\u001b[0m\u001b[0;36m4\u001b[0m\u001b[0;34m]\u001b[0m\u001b[0;34m)\u001b[0m\u001b[0;34m:\u001b[0m\u001b[0;34m\u001b[0m\u001b[0m\n",
      "\u001b[0;32m~/anaconda3/envs/gsw/lib/python3.6/site-packages/numpy/core/numeric.py\u001b[0m in \u001b[0;36mfull_like\u001b[0;34m(a, fill_value, dtype, order, subok)\u001b[0m\n\u001b[1;32m    356\u001b[0m \u001b[0;34m\u001b[0m\u001b[0m\n\u001b[1;32m    357\u001b[0m     \"\"\"\n\u001b[0;32m--> 358\u001b[0;31m     \u001b[0mres\u001b[0m \u001b[0;34m=\u001b[0m \u001b[0mempty_like\u001b[0m\u001b[0;34m(\u001b[0m\u001b[0ma\u001b[0m\u001b[0;34m,\u001b[0m \u001b[0mdtype\u001b[0m\u001b[0;34m=\u001b[0m\u001b[0mdtype\u001b[0m\u001b[0;34m,\u001b[0m \u001b[0morder\u001b[0m\u001b[0;34m=\u001b[0m\u001b[0morder\u001b[0m\u001b[0;34m,\u001b[0m \u001b[0msubok\u001b[0m\u001b[0;34m=\u001b[0m\u001b[0msubok\u001b[0m\u001b[0;34m)\u001b[0m\u001b[0;34m\u001b[0m\u001b[0m\n\u001b[0m\u001b[1;32m    359\u001b[0m     \u001b[0mmultiarray\u001b[0m\u001b[0;34m.\u001b[0m\u001b[0mcopyto\u001b[0m\u001b[0;34m(\u001b[0m\u001b[0mres\u001b[0m\u001b[0;34m,\u001b[0m \u001b[0mfill_value\u001b[0m\u001b[0;34m,\u001b[0m \u001b[0mcasting\u001b[0m\u001b[0;34m=\u001b[0m\u001b[0;34m'unsafe'\u001b[0m\u001b[0;34m)\u001b[0m\u001b[0;34m\u001b[0m\u001b[0m\n\u001b[1;32m    360\u001b[0m     \u001b[0;32mreturn\u001b[0m \u001b[0mres\u001b[0m\u001b[0;34m\u001b[0m\u001b[0m\n",
      "\u001b[0;31mMemoryError\u001b[0m: "
     ]
    }
   ],
   "source": [
    "start_time = datetime.now() \n",
    "\n",
    "time_ind = 9*24\n",
    "\n",
    "vosaline, votemper, sossheig, gdept, e3t, nav_lat = get_vars_pressure(dirname, fname, meshmaskname, time_ind)\n",
    "\n",
    "rho, pressure = calculate_pressure(vosaline, votemper, sossheig, e3t)\n",
    "\n",
    "time_elapsed = datetime.now() - start_time \n",
    "print('Time elapsed (hh:mm:ss.ms) {}'.format(time_elapsed))"
   ]
  },
  {
   "cell_type": "code",
   "execution_count": null,
   "metadata": {},
   "outputs": [],
   "source": []
  },
  {
   "cell_type": "code",
   "execution_count": null,
   "metadata": {},
   "outputs": [],
   "source": []
  }
 ],
 "metadata": {
  "kernelspec": {
   "display_name": "Python 3",
   "language": "python",
   "name": "python3"
  },
  "language_info": {
   "codemirror_mode": {
    "name": "ipython",
    "version": 3
   },
   "file_extension": ".py",
   "mimetype": "text/x-python",
   "name": "python",
   "nbconvert_exporter": "python",
   "pygments_lexer": "ipython3",
   "version": "3.6.5"
  }
 },
 "nbformat": 4,
 "nbformat_minor": 2
}
