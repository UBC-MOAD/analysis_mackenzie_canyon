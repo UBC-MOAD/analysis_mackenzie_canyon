{
 "cells": [
  {
   "cell_type": "code",
   "execution_count": 1,
   "metadata": {},
   "outputs": [
    {
     "name": "stderr",
     "output_type": "stream",
     "text": [
      "/home/imachuca/anaconda3/envs/gsw/lib/python3.6/site-packages/cmocean/tools.py:76: MatplotlibDeprecationWarning: The is_string_like function was deprecated in version 2.1.\n",
      "  if not mpl.cbook.is_string_like(rgbin[0]):\n"
     ]
    }
   ],
   "source": [
    "import netCDF4 as nc\n",
    "import matplotlib.pyplot as plt\n",
    "import matplotlib.cm as cm\n",
    "import cmocean as cmo\n",
    "import os,sys,fnmatch,time\n",
    "import numpy as np\n",
    "import matplotlib.gridspec as gridspec\n",
    "from matplotlib import animation\n",
    "from salishsea_tools.nc_tools import scDataset\n",
    "from salishsea_tools import (psu_tools, teos_tools)\n",
    "\n",
    "from matplotlib import colors\n",
    "from matplotlib import ticker\n",
    "from matplotlib.colors import LinearSegmentedColormap\n",
    "import gsw\n",
    "\n",
    "%matplotlib inline\n",
    "\n",
    "import sys\n",
    "sys.path.append('/ocean/imachuca/Canyons/analysis_mackenzie_canyon/notebooks/general_circulation')\n",
    "import general_functions\n",
    "import quicklook\n",
    "\n",
    "import warnings\n",
    "warnings.filterwarnings(\"ignore\")\n",
    "\n",
    "import time\n",
    "from datetime import datetime "
   ]
  },
  {
   "cell_type": "markdown",
   "metadata": {},
   "source": [
    "# Functions\n",
    "\n",
    "Time elapsed (hh:mm:ss.ms) 0:05:25.748113\n",
    "\n",
    "Okay, so let's look at level=0. At $e3t_0$, there are 8.75 m over it, and the density is $\\rho_0$. \n",
    "\n",
    "At level=1, at $e3t_1$ there is an additional 8.75 m over it for a total of 17.5 m and the density is $\\rho_1$.\n",
    "\n",
    "At level=bottom, at $e3t_{bottom}$ there is a total of 1342.56 m over it and the density is $\\rho_{bottom}$.\n",
    "\n",
    "density ~ 1017 - 1028\n",
    "\n",
    "http://www.oc.nps.edu/nom/day1/parta.html\n",
    "\n",
    "http://www.ccpo.odu.edu/~atkinson/OEAS405/Chapter2_Stratified_Ocean/Lec_04_DensityEOS.pdf"
   ]
  },
  {
   "cell_type": "code",
   "execution_count": 2,
   "metadata": {},
   "outputs": [],
   "source": [
    "def get_vars_pressure(dirname, fname, meshmaskname, time_ind):\n",
    "    \n",
    "    filesU = general_functions.get_files(dirname, fname, 'grid_U') \n",
    "    filesT = general_functions.get_files(dirname, fname, 'grid_T')\n",
    "    \n",
    "    y,x = slice(1,-1,None), slice(1,-1,None)\n",
    "\n",
    "    dep_end=20 # to make it faster for now\n",
    "    \n",
    "    with scDataset(filesU) as dsU, scDataset(filesT) as dsT:\n",
    "        vosaline0 = dsT.variables['vosaline'][:time_ind, :dep_end, y, x]#\n",
    "        votemper0 = dsT.variables['votemper'][:time_ind, :dep_end, y, x]#\n",
    "        sossheig0 = dsT.variables['sossheig'][:time_ind, y, x]\n",
    "        deptht = dsT.variables['deptht'][:]\n",
    "        sozotaux = dsU.variables['sozotaux'][:time_ind, 0, 0]\n",
    "\n",
    "    with nc.Dataset(os.path.join(dirname, meshmaskname), 'r') as dsM:\n",
    "        tmask0 = dsM.variables['tmask'][0, :dep_end, y, x]#\n",
    "        tmask_ss0 = dsM.variables['tmask'][0, 0, y, x]\n",
    "        e3t = dsM.variables['e3t_0'][0, :dep_end, 0, 0]#\n",
    "    \n",
    "    tmask = np.tile(tmask0, (len(sozotaux), 1, 1, 1)) \n",
    "    tmask_ss = np.tile(tmask_ss0, (len(sozotaux), 1, 1)) \n",
    "\n",
    "    vosaline = np.ma.array(vosaline0, mask=1 - tmask)\n",
    "    votemper = np.ma.array(votemper0, mask=1 - tmask)\n",
    "    sossheig = np.ma.array(sossheig0, mask=1 - tmask_ss)\n",
    "    \n",
    "    return vosaline, votemper, sossheig, tmask, e3t, deptht"
   ]
  },
  {
   "cell_type": "code",
   "execution_count": 3,
   "metadata": {},
   "outputs": [],
   "source": [
    "def calculate_pressure(vosaline, votemper, sossheig, e3t):\n",
    "    ''' returns pressure in decibars\n",
    "    '''\n",
    "    g = 9.81\n",
    "\n",
    "    rho = np.full([vosaline.shape[-4], vosaline.shape[-3], vosaline.shape[-2], vosaline.shape[-1]], np.nan)\n",
    "    p_stat0 = np.full_like(rho, np.nan)\n",
    "    p_stat = np.full_like(rho, np.nan)\n",
    "    p_surf = np.full([vosaline.shape[-4], vosaline.shape[-2], vosaline.shape[-1]], np.nan)\n",
    "    pressure = np.full_like(rho, np.nan)\n",
    "\n",
    "    for t in range(vosaline.shape[-4]):\n",
    "        if t % 24 == 0:\n",
    "            print(t)\n",
    "        \n",
    "        for k in range(vosaline.shape[-3]):\n",
    "            gsw_vosaline = vosaline[t, k, :, :]\n",
    "            gsw_votemper = votemper[t, k, :, :]\n",
    "            rho[t, k, :, :] = gsw.rho(gsw_vosaline, gsw_votemper, 0)\n",
    "            p_stat0[t, k, :, :] = rho[t, k, :, :] * e3t[k]\n",
    "            \n",
    "        for k in range(1, len(e3t)+1): \n",
    "            p_stat[t, k-1, :, :] = g * np.sum(p_stat0[t, :k, :, :], axis=0)\n",
    "            \n",
    "        p_surf[t, :, :] = rho[t, 0, :, :] * g * sossheig[t, :, :]\n",
    "        \n",
    "        for k in range(vosaline.shape[-3]):\n",
    "            pressure[t, k, :, :] = p_stat[t, k, :, :] + p_surf[t, :, :]\n",
    "            \n",
    "    pressure_db = pressure * 0.0001\n",
    "        \n",
    "    return rho, pressure_db"
   ]
  },
  {
   "cell_type": "code",
   "execution_count": 4,
   "metadata": {},
   "outputs": [],
   "source": [
    "def plot_pressure_daily(pressure_db, tmask, deptht, dep_ind_slice, kind, case):\n",
    "    cmap = cmo.cm.speed\n",
    "    cmap.set_bad('silver')\n",
    "\n",
    "    pressure_dep = pressure_db[:, dep_ind_slice, :, :]\n",
    "    \n",
    "    xs = np.arange(pressure_dep.shape[-1])\n",
    "    ys = np.arange(pressure_dep.shape[-2])\n",
    "    #vmin, vmax = int(np.nanmin(pressure_dep)), int(np.nanmax(pressure_dep))\n",
    "    #levels=np.linspace(vmin, vmax, 10)\n",
    "\n",
    "    fig, axes = plt.subplots(3, 3, figsize = (20, 21))\n",
    "    for ax, n in zip(axes.flatten(), np.arange(9)):\n",
    "        pressure_day = quicklook.get_1day_avg(pressure_dep, n, n+1)\n",
    "        p = ax.pcolormesh(xs, ys, pressure_day, cmap=cmap)#, vmin=vmin, vmax=vmax)\n",
    "        #cs = ax.contour(xs, ys, pressure_day, levels=levels, colors='k', alpha=0.8)\n",
    "        #ax.clabel(cs, inline=1, fontsize=10, fmt ='%r', colors='k')\n",
    "        plt.setp(ax.get_xticklabels(), visible=False)\n",
    "        plt.setp(ax.get_yticklabels(), visible=False)\n",
    "        ax.tick_params(axis='both', which='both', length=0)\n",
    "        ax.set_aspect(aspect='equal')\n",
    "        ax.set_xlim([0, xs[-1]])\n",
    "        ax.set_ylim([0, ys[-1]])\n",
    "        ax.set_title('Day ' + str(n+1), fontsize=20)\n",
    "        cbar = fig.colorbar(p, ax=ax, fraction=0.05, orientation='horizontal', pad=0.009)\n",
    "        cbar.ax.tick_params(labelsize=13)\n",
    "        tick_locator = ticker.MaxNLocator(nbins=8)\n",
    "        cbar.locator = tick_locator\n",
    "        cbar.update_ticks()\n",
    "\n",
    "    fig.tight_layout(w_pad=1.2, h_pad=0.01)\n",
    "    fig.suptitle(kind + ' - ' + case +': ' + 'daily pressure [dbar] at depth = '+\n",
    "                str(int(deptht[dep_ind_slice]))+' m', fontsize=25)\n",
    "    plt.subplots_adjust(top=0.96)\n",
    "\n",
    "    return fig"
   ]
  },
  {
   "cell_type": "markdown",
   "metadata": {},
   "source": [
    "$$sum(\\rho * e3t) * g = [\\frac{kg}{m^3} * \\frac{m}{1} * \\frac{m}{s^2}] > [\\frac{kg}{m^3} * \\frac{m^2}{s^2}] > [\\frac{kg}{m} * \\frac{1}{s^2}] > [\\frac{kg}{ms^2}] $$ \n",
    "\n",
    "$$ 1 Pa = 1 \\frac{kg}{ms^2}$$\n",
    "\n",
    "$$1 pascal [Pa] = 0.0001 decibar [dbar]$$"
   ]
  },
  {
   "cell_type": "markdown",
   "metadata": {},
   "source": [
    "# Constants"
   ]
  },
  {
   "cell_type": "code",
   "execution_count": 5,
   "metadata": {},
   "outputs": [],
   "source": [
    "dep_ind_slices = [1, 9, 16]\n",
    "fname = '1_MCKNZ_1h_20170101_201701*'\n",
    "meshmaskname = '1_mesh_mask.nc'\n",
    "time_ind = 24 * 10"
   ]
  },
  {
   "cell_type": "markdown",
   "metadata": {},
   "source": [
    "# Ideal"
   ]
  },
  {
   "cell_type": "code",
   "execution_count": 6,
   "metadata": {},
   "outputs": [],
   "source": [
    "kind = 'ideal'\n",
    "case = 'base' \n",
    "dirname = '/ocean/imachuca/Canyons/results_mackenzie/extended_domain/'+kind+'_'+case+'/'"
   ]
  },
  {
   "cell_type": "code",
   "execution_count": 7,
   "metadata": {
    "scrolled": false
   },
   "outputs": [
    {
     "name": "stdout",
     "output_type": "stream",
     "text": [
      "0\n",
      "24\n",
      "48\n",
      "72\n",
      "96\n",
      "120\n",
      "144\n",
      "168\n",
      "192\n",
      "216\n",
      "1017.6764579222775 1027.892093421783\n",
      "0\n",
      "24\n",
      "48\n",
      "72\n",
      "96\n",
      "120\n",
      "144\n",
      "168\n",
      "192\n",
      "216\n",
      "1017.6764579222775 1027.892093421783\n",
      "0\n",
      "24\n",
      "48\n",
      "72\n",
      "96\n",
      "120\n",
      "144\n",
      "168\n",
      "192\n",
      "216\n",
      "1017.6764579222775 1027.892093421783\n"
     ]
    }
   ],
   "source": [
    "for dep_ind_slice in dep_ind_slices:\n",
    "    vosaline, votemper, sossheig, tmask, e3t, deptht = get_vars_pressure(dirname, fname, meshmaskname, time_ind)\n",
    "\n",
    "    rho, pressure_db = calculate_pressure(vosaline, votemper, sossheig, e3t)\n",
    "\n",
    "    print(np.nanmin(rho), np.nanmax(rho))\n",
    "\n",
    "    fig = plot_pressure_daily(pressure_db, tmask, deptht, dep_ind_slice, kind, case)\n",
    "    \n",
    "    fig.savefig('../writing_images/pressure_'+kind+'_'+case+'_'+str(dep_ind_slice)+'_daily.png', dpi=100, bbox_inches='tight')\n",
    "    plt.close(fig) "
   ]
  },
  {
   "cell_type": "markdown",
   "metadata": {},
   "source": [
    "# Real"
   ]
  },
  {
   "cell_type": "code",
   "execution_count": 8,
   "metadata": {},
   "outputs": [],
   "source": [
    "kind = 'real'\n",
    "case = 'base' \n",
    "dirname = '/ocean/imachuca/Canyons/results_mackenzie/extended_domain/'+kind+'_'+case+'/'"
   ]
  },
  {
   "cell_type": "code",
   "execution_count": 9,
   "metadata": {},
   "outputs": [
    {
     "name": "stdout",
     "output_type": "stream",
     "text": [
      "0\n",
      "24\n",
      "48\n",
      "72\n",
      "96\n",
      "120\n",
      "144\n",
      "168\n",
      "192\n",
      "216\n",
      "1017.6764473312587 1027.8962550728056\n",
      "0\n",
      "24\n",
      "48\n",
      "72\n",
      "96\n",
      "120\n",
      "144\n",
      "168\n",
      "192\n",
      "216\n",
      "1017.6764473312587 1027.8962550728056\n",
      "0\n",
      "24\n",
      "48\n",
      "72\n",
      "96\n",
      "120\n",
      "144\n",
      "168\n",
      "192\n",
      "216\n",
      "1017.6764473312587 1027.8962550728056\n"
     ]
    }
   ],
   "source": [
    "for dep_ind_slice in dep_ind_slices:\n",
    "    vosaline, votemper, sossheig, tmask, e3t, deptht = get_vars_pressure(dirname, fname, meshmaskname, time_ind)\n",
    "\n",
    "    rho, pressure_db = calculate_pressure(vosaline, votemper, sossheig, e3t)\n",
    "\n",
    "    print(np.nanmin(rho), np.nanmax(rho))\n",
    "\n",
    "    fig = plot_pressure_daily(pressure_db, tmask, deptht, dep_ind_slice, kind, case)\n",
    "    \n",
    "    fig.savefig('../writing_images/pressure_'+kind+'_'+case+'_'+str(dep_ind_slice)+'_daily.png', dpi=100, bbox_inches='tight')\n",
    "    plt.close(fig) "
   ]
  },
  {
   "cell_type": "code",
   "execution_count": null,
   "metadata": {},
   "outputs": [],
   "source": []
  }
 ],
 "metadata": {
  "kernelspec": {
   "display_name": "Python 3",
   "language": "python",
   "name": "python3"
  },
  "language_info": {
   "codemirror_mode": {
    "name": "ipython",
    "version": 3
   },
   "file_extension": ".py",
   "mimetype": "text/x-python",
   "name": "python",
   "nbconvert_exporter": "python",
   "pygments_lexer": "ipython3",
   "version": "3.6.5"
  }
 },
 "nbformat": 4,
 "nbformat_minor": 2
}
