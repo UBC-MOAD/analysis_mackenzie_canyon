{
 "cells": [
  {
   "cell_type": "markdown",
   "metadata": {},
   "source": [
    "May: **Research Questions 2.1** (Ideal and Real)"
   ]
  },
  {
   "cell_type": "markdown",
   "metadata": {},
   "source": [
    "# Which of the three upwelling mechanisms (time dependence, advection, convergence of isobaths, coastal trapped wave) provides the strongest contribution to upwelling in Mackenzie Canyon?\n",
    "\n",
    "Where does upwelling occur?"
   ]
  },
  {
   "cell_type": "code",
   "execution_count": 1,
   "metadata": {
    "collapsed": true
   },
   "outputs": [],
   "source": [
    "import netCDF4 as nc\n",
    "import matplotlib.pyplot as plt\n",
    "import matplotlib.cm as cm\n",
    "import cmocean as cmo\n",
    "import os,sys,fnmatch,time\n",
    "import numpy as np\n",
    "import matplotlib.gridspec as gridspec\n",
    "from matplotlib import animation\n",
    "from salishsea_tools.nc_tools import scDataset\n",
    "from matplotlib import colors\n",
    "from matplotlib import ticker\n",
    "from matplotlib.colors import LinearSegmentedColormap\n",
    "\n",
    "%matplotlib inline\n",
    "\n",
    "import sys\n",
    "sys.path.append('/ocean/imachuca/Canyons/analysis_mackenzie_canyon/notebooks/upwelling_depth/')\n",
    "import upwelling_functions\n",
    "\n",
    "import warnings\n",
    "warnings.filterwarnings(\"ignore\")"
   ]
  },
  {
   "cell_type": "markdown",
   "metadata": {},
   "source": [
    "# Functions"
   ]
  },
  {
   "cell_type": "code",
   "execution_count": 2,
   "metadata": {},
   "outputs": [],
   "source": [
    "def plot_original_depth_hourly(depth_upwelled, tmask, deptht, dep_ind_slice, actual_hours, day, levels, kind, case):\n",
    "    cmap, norm = cmo.cm.delta, upwelling_functions.MidpointNormalize(midpoint=0)\n",
    "    cmap.set_bad('silver')\n",
    "\n",
    "    vmin, vmax = int(np.min(depth_upwelled)), int(np.max(depth_upwelled))\n",
    "    xs = np.arange(tmask.shape[-1])\n",
    "    ys = np.arange(tmask.shape[-2])\n",
    "\n",
    "    fig, axes = plt.subplots(4, 3, figsize = (20, 28)) #\n",
    "    for ax, n in zip(axes.flatten(), np.arange(12)): #\n",
    "        p = ax.pcolormesh(xs, ys, depth_upwelled[n, :, :], cmap=cmap, vmin=vmin, vmax=vmax, norm=norm)\n",
    "        cs = ax.contour(xs, ys, depth_upwelled[n, :, :], levels = levels, colors='k', alpha=0.8)\n",
    "        ax.clabel(cs, inline=1, fontsize=10, fmt ='%r', colors='k')\n",
    "        plt.setp(ax.get_xticklabels(), visible=False)\n",
    "        plt.setp(ax.get_yticklabels(), visible=False)\n",
    "        ax.tick_params(axis='both', which='both', length=0)\n",
    "        ax.set_aspect(aspect='equal')\n",
    "        ax.set_xlim([0, xs[-1]])\n",
    "        ax.set_ylim([0, ys[-1]])\n",
    "        ax.set_title('Hour ' + str(actual_hours[n]), fontsize=20) #\n",
    "        cbar = fig.colorbar(p, ax=ax, fraction=0.05, orientation='horizontal', pad=0.009)\n",
    "        cbar.ax.tick_params(labelsize=13)\n",
    "        tick_locator = ticker.MaxNLocator(nbins=15)\n",
    "        cbar.locator = tick_locator\n",
    "        cbar.update_ticks()\n",
    "\n",
    "    fig.tight_layout(w_pad=1.2, h_pad=0.01)\n",
    "    fig.suptitle('Day ' + str(day) + ' - ' + kind + ' - ' + case +': ' + 'displacement depth [m] at depth = '+\n",
    "                 str(int(deptht[dep_ind_slice]))+' m', fontsize=25)\n",
    "    plt.subplots_adjust(top=0.96)\n",
    "\n",
    "    return fig"
   ]
  },
  {
   "cell_type": "code",
   "execution_count": 3,
   "metadata": {},
   "outputs": [],
   "source": [
    "def execute_functions(dirname, fname, meshmaskname, vosaline_ref_profile, dep_ind_slices, time_s, time_f, levels):\n",
    "    \n",
    "    hour_inds = np.arange(1, 24)[::2]\n",
    "    inds = np.arange(len(hour_inds))\n",
    "    actual_hours = hour_inds + time_s\n",
    "    day = int(round(actual_hours[-1]/24))\n",
    "    \n",
    "    print('hour_inds', hour_inds)\n",
    "    print('inds', inds)\n",
    "    print('actual_hours', actual_hours)\n",
    "    print('day', day)\n",
    "\n",
    "    for dep_ind_slice in dep_ind_slices:\n",
    "        vosaline0, sozotaux, deptht, tmask = upwelling_functions.get_vars_salt(dirname, fname, meshmaskname, dep_ind_slice, time_s, time_f, None)\n",
    "\n",
    "        vosaline = np.full([len(hour_inds), vosaline0.shape[-2], vosaline0.shape[-1]], np.nan)\n",
    "        \n",
    "        for i, hour_ind in zip(inds, hour_inds):\n",
    "            vosaline[i, :, :] = vosaline0[hour_ind, :, :]\n",
    "\n",
    "        depth_ind_hourly = upwelling_functions.get_daily_depth_ind(vosaline, vosaline_ref_profile)\n",
    "        depth_m_hourly, depth_upwelled = upwelling_functions.get_daily_depth_m(deptht, dep_ind_slice, depth_ind_hourly, tmask)\n",
    "\n",
    "        fig = plot_original_depth_hourly(depth_upwelled, tmask, deptht, dep_ind_slice, actual_hours, day, levels, kind, case)\n",
    "        fig.savefig('../writing_images/displaced_dep_'+kind+'_'+case+'_'+str(dep_ind_slice)+'_day'+str(day)+'.png', dpi=100, bbox_inches='tight')\n",
    "        plt.close(fig) \n",
    "        \n",
    "    return"
   ]
  },
  {
   "cell_type": "markdown",
   "metadata": {},
   "source": [
    "# Constants"
   ]
  },
  {
   "cell_type": "code",
   "execution_count": 4,
   "metadata": {
    "collapsed": true
   },
   "outputs": [],
   "source": [
    "vosaline_ref = nc.Dataset('/ocean/imachuca/Canyons/mackenzie_canyon/conditions/NEMO_files/salinity/salinity_for_agrif.nc')['vosaline'][:]\n",
    "vosaline_ref_profile = vosaline_ref[0, :, 0, 0]\n",
    "\n",
    "fname = '1_MCKNZ_1h_20170101_201701*'\n",
    "meshmaskname = '1_mesh_mask.nc'\n",
    "\n",
    "levels = [10, 20, 40, 60, 80, 100, 120]\n",
    "dep_ind_slices = [1, 9, 16]"
   ]
  },
  {
   "cell_type": "markdown",
   "metadata": {},
   "source": [
    "# Day 1"
   ]
  },
  {
   "cell_type": "code",
   "execution_count": 5,
   "metadata": {
    "collapsed": true
   },
   "outputs": [],
   "source": [
    "time_s = 0\n",
    "time_f = time_s+24"
   ]
  },
  {
   "cell_type": "code",
   "execution_count": 6,
   "metadata": {},
   "outputs": [
    {
     "name": "stdout",
     "output_type": "stream",
     "text": [
      "hour_inds [ 1  3  5  7  9 11 13 15 17 19 21 23]\n",
      "inds [ 0  1  2  3  4  5  6  7  8  9 10 11]\n",
      "actual_hours [ 1  3  5  7  9 11 13 15 17 19 21 23]\n",
      "day 1\n",
      "0\n",
      "1\n",
      "2\n",
      "3\n",
      "4\n",
      "5\n",
      "6\n",
      "7\n",
      "8\n",
      "9\n",
      "10\n",
      "11\n",
      "0\n",
      "1\n",
      "2\n",
      "3\n",
      "4\n",
      "5\n",
      "6\n",
      "7\n",
      "8\n",
      "9\n",
      "10\n",
      "11\n",
      "0\n",
      "1\n",
      "2\n",
      "3\n",
      "4\n",
      "5\n",
      "6\n",
      "7\n",
      "8\n",
      "9\n",
      "10\n",
      "11\n"
     ]
    }
   ],
   "source": [
    "kind = 'ideal'\n",
    "case = 'base'\n",
    "dirname = '/ocean/imachuca/Canyons/results_mackenzie/extended_domain/'+kind+'_'+case+'/'\n",
    "\n",
    "execute_functions(dirname, fname, meshmaskname, vosaline_ref_profile, dep_ind_slices, time_s, time_f, levels)"
   ]
  },
  {
   "cell_type": "code",
   "execution_count": 7,
   "metadata": {},
   "outputs": [
    {
     "name": "stdout",
     "output_type": "stream",
     "text": [
      "hour_inds [ 1  3  5  7  9 11 13 15 17 19 21 23]\n",
      "inds [ 0  1  2  3  4  5  6  7  8  9 10 11]\n",
      "actual_hours [ 1  3  5  7  9 11 13 15 17 19 21 23]\n",
      "day 1\n",
      "0\n",
      "1\n",
      "2\n",
      "3\n",
      "4\n",
      "5\n",
      "6\n",
      "7\n",
      "8\n",
      "9\n",
      "10\n",
      "11\n",
      "0\n",
      "1\n",
      "2\n",
      "3\n",
      "4\n",
      "5\n",
      "6\n",
      "7\n",
      "8\n",
      "9\n",
      "10\n",
      "11\n",
      "0\n",
      "1\n",
      "2\n",
      "3\n",
      "4\n",
      "5\n",
      "6\n",
      "7\n",
      "8\n",
      "9\n",
      "10\n",
      "11\n"
     ]
    }
   ],
   "source": [
    "kind = 'real'\n",
    "case = 'base'\n",
    "dirname = '/ocean/imachuca/Canyons/results_mackenzie/extended_domain/'+kind+'_'+case+'/'\n",
    "\n",
    "execute_functions(dirname, fname, meshmaskname, vosaline_ref_profile, dep_ind_slices, time_s, time_f, levels)"
   ]
  },
  {
   "cell_type": "markdown",
   "metadata": {},
   "source": [
    "# Day 2"
   ]
  },
  {
   "cell_type": "code",
   "execution_count": 8,
   "metadata": {},
   "outputs": [],
   "source": [
    "time_s = 24\n",
    "time_f = time_s+24"
   ]
  },
  {
   "cell_type": "code",
   "execution_count": 9,
   "metadata": {},
   "outputs": [
    {
     "name": "stdout",
     "output_type": "stream",
     "text": [
      "hour_inds [ 1  3  5  7  9 11 13 15 17 19 21 23]\n",
      "inds [ 0  1  2  3  4  5  6  7  8  9 10 11]\n",
      "actual_hours [25 27 29 31 33 35 37 39 41 43 45 47]\n",
      "day 2\n",
      "0\n",
      "1\n",
      "2\n",
      "3\n",
      "4\n",
      "5\n",
      "6\n",
      "7\n",
      "8\n",
      "9\n",
      "10\n",
      "11\n",
      "0\n",
      "1\n",
      "2\n",
      "3\n",
      "4\n",
      "5\n",
      "6\n",
      "7\n",
      "8\n",
      "9\n",
      "10\n",
      "11\n",
      "0\n",
      "1\n",
      "2\n",
      "3\n",
      "4\n",
      "5\n",
      "6\n",
      "7\n",
      "8\n",
      "9\n",
      "10\n",
      "11\n"
     ]
    }
   ],
   "source": [
    "kind = 'ideal'\n",
    "case = 'base'\n",
    "dirname = '/ocean/imachuca/Canyons/results_mackenzie/extended_domain/'+kind+'_'+case+'/'\n",
    "\n",
    "execute_functions(dirname, fname, meshmaskname, vosaline_ref_profile, dep_ind_slices, time_s, time_f, levels)"
   ]
  },
  {
   "cell_type": "code",
   "execution_count": 10,
   "metadata": {},
   "outputs": [
    {
     "name": "stdout",
     "output_type": "stream",
     "text": [
      "hour_inds [ 1  3  5  7  9 11 13 15 17 19 21 23]\n",
      "inds [ 0  1  2  3  4  5  6  7  8  9 10 11]\n",
      "actual_hours [25 27 29 31 33 35 37 39 41 43 45 47]\n",
      "day 2\n",
      "0\n",
      "1\n",
      "2\n",
      "3\n",
      "4\n",
      "5\n",
      "6\n",
      "7\n",
      "8\n",
      "9\n",
      "10\n",
      "11\n",
      "0\n",
      "1\n",
      "2\n",
      "3\n",
      "4\n",
      "5\n",
      "6\n",
      "7\n",
      "8\n",
      "9\n",
      "10\n",
      "11\n",
      "0\n",
      "1\n",
      "2\n",
      "3\n",
      "4\n",
      "5\n",
      "6\n",
      "7\n",
      "8\n",
      "9\n",
      "10\n",
      "11\n"
     ]
    }
   ],
   "source": [
    "kind = 'real'\n",
    "case = 'base'\n",
    "dirname = '/ocean/imachuca/Canyons/results_mackenzie/extended_domain/'+kind+'_'+case+'/'\n",
    "\n",
    "execute_functions(dirname, fname, meshmaskname, vosaline_ref_profile, dep_ind_slices, time_s, time_f, levels)"
   ]
  }
 ],
 "metadata": {
  "kernelspec": {
   "display_name": "Python 3",
   "language": "python",
   "name": "python3"
  },
  "language_info": {
   "codemirror_mode": {
    "name": "ipython",
    "version": 3
   },
   "file_extension": ".py",
   "mimetype": "text/x-python",
   "name": "python",
   "nbconvert_exporter": "python",
   "pygments_lexer": "ipython3",
   "version": "3.6.4"
  }
 },
 "nbformat": 4,
 "nbformat_minor": 2
}
