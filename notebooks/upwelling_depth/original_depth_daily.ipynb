{
 "cells": [
  {
   "cell_type": "markdown",
   "metadata": {},
   "source": [
    "May: **Research Questions 2.1** (Ideal and Real)"
   ]
  },
  {
   "cell_type": "markdown",
   "metadata": {},
   "source": [
    "# Which of the three upwelling mechanisms (time dependence, advection, convergence of isobaths, coastal trapped wave) provides the strongest contribution to upwelling in Mackenzie Canyon?\n",
    "\n",
    "Where does upwelling occur?"
   ]
  },
  {
   "cell_type": "code",
   "execution_count": 1,
   "metadata": {
    "collapsed": true
   },
   "outputs": [],
   "source": [
    "import netCDF4 as nc\n",
    "import matplotlib.pyplot as plt\n",
    "import matplotlib.cm as cm\n",
    "import cmocean as cmo\n",
    "import os,sys,fnmatch,time\n",
    "import numpy as np\n",
    "import matplotlib.gridspec as gridspec\n",
    "from matplotlib import animation\n",
    "from salishsea_tools.nc_tools import scDataset\n",
    "from matplotlib import colors\n",
    "from matplotlib import ticker\n",
    "from matplotlib.colors import LinearSegmentedColormap\n",
    "\n",
    "%matplotlib inline\n",
    "\n",
    "import sys\n",
    "sys.path.append('/ocean/imachuca/Canyons/analysis_mackenzie_canyon/notebooks/upwelling_depth/')\n",
    "import upwelling_functions\n",
    "\n",
    "import warnings\n",
    "warnings.filterwarnings(\"ignore\")"
   ]
  },
  {
   "cell_type": "markdown",
   "metadata": {},
   "source": [
    "# Functions"
   ]
  },
  {
   "cell_type": "code",
   "execution_count": 2,
   "metadata": {
    "collapsed": false
   },
   "outputs": [],
   "source": [
    "def plot_original_depth(depth_upwelled, tmask, deptht, dep_ind_slice, levels, kind, case):\n",
    "    cmap, norm = cmo.cm.delta, upwelling_functions.MidpointNormalize(midpoint=0)\n",
    "    cmap.set_bad('silver')\n",
    "\n",
    "    vmin, vmax = int(np.min(depth_upwelled)), int(np.max(depth_upwelled))\n",
    "    xs = np.arange(tmask.shape[-1])\n",
    "    ys = np.arange(tmask.shape[-2])\n",
    "\n",
    "    fig, axes = plt.subplots(3, 3, figsize = (20, 21))\n",
    "    for ax, n in zip(axes.flatten(), np.arange(9)):\n",
    "        p = ax.pcolormesh(xs, ys, depth_upwelled[n, :, :], cmap=cmap, vmin=vmin, vmax=vmax, norm=norm)\n",
    "        cs = ax.contour(xs, ys, depth_upwelled[n, :, :], levels = levels, colors='k', alpha=0.8)\n",
    "        ax.clabel(cs, inline=1, fontsize=10, fmt ='%r', colors='k')\n",
    "        plt.setp(ax.get_xticklabels(), visible=False)\n",
    "        plt.setp(ax.get_yticklabels(), visible=False)\n",
    "        ax.tick_params(axis='both', which='both', length=0)\n",
    "        ax.set_aspect(aspect='equal')\n",
    "        ax.set_xlim([0, xs[-1]])\n",
    "        ax.set_ylim([0, ys[-1]])\n",
    "        ax.set_title('Day ' + str(n+1), fontsize=20)\n",
    "        cbar = fig.colorbar(p, ax=ax, fraction=0.05, orientation='horizontal', pad=0.009)\n",
    "        cbar.ax.tick_params(labelsize=13)\n",
    "        tick_locator = ticker.MaxNLocator(nbins=15)\n",
    "        cbar.locator = tick_locator\n",
    "        cbar.update_ticks()\n",
    "\n",
    "    fig.tight_layout(w_pad=1.2, h_pad=0.01)\n",
    "    fig.suptitle(kind + ' - ' + case +': ' + 'displacement depth [m] at depth = '+\n",
    "                 str(int(deptht[dep_ind_slice]))+' m', fontsize=25)\n",
    "    plt.subplots_adjust(top=0.96)\n",
    "\n",
    "    return fig"
   ]
  },
  {
   "cell_type": "markdown",
   "metadata": {},
   "source": [
    "# Constants"
   ]
  },
  {
   "cell_type": "code",
   "execution_count": 3,
   "metadata": {
    "collapsed": true
   },
   "outputs": [],
   "source": [
    "vosaline_ref = nc.Dataset('/ocean/imachuca/Canyons/mackenzie_canyon/conditions/NEMO_files/salinity/salinity_for_agrif.nc')['vosaline'][:]\n",
    "vosaline_ref_profile = vosaline_ref[0, :, 0, 0]\n",
    "\n",
    "fname = '1_MCKNZ_1h_20170101_201701*'\n",
    "meshmaskname = '1_mesh_mask.nc'\n",
    "\n",
    "days = 9 \n",
    "time_ind = 24*days\n",
    "levels = [20, 50, 80, 100, 120]\n",
    "dep_ind_slices = [1, 9, 16]"
   ]
  },
  {
   "cell_type": "markdown",
   "metadata": {},
   "source": [
    "# Ideal"
   ]
  },
  {
   "cell_type": "code",
   "execution_count": 4,
   "metadata": {
    "collapsed": true
   },
   "outputs": [],
   "source": [
    "kind = 'ideal'\n",
    "case = 'base'\n",
    "\n",
    "dirname = '/ocean/imachuca/Canyons/results_mackenzie/extended_domain/'+kind+'_'+case+'/'"
   ]
  },
  {
   "cell_type": "code",
   "execution_count": 5,
   "metadata": {
    "collapsed": false
   },
   "outputs": [
    {
     "name": "stdout",
     "output_type": "stream",
     "text": [
      "0\n",
      "1\n",
      "2\n",
      "3\n",
      "4\n",
      "5\n",
      "6\n",
      "7\n",
      "8\n",
      "0\n",
      "1\n",
      "2\n",
      "3\n",
      "4\n",
      "5\n",
      "6\n",
      "7\n",
      "8\n",
      "0\n",
      "1\n",
      "2\n",
      "3\n",
      "4\n",
      "5\n",
      "6\n",
      "7\n",
      "8\n"
     ]
    }
   ],
   "source": [
    "for dep_ind_slice, n in zip(dep_ind_slices, np.arange(len(dep_ind_slices))):\n",
    "    vosaline, sozotaux, deptht, tmask = upwelling_functions.get_vars_salt(dirname, fname, meshmaskname, dep_ind_slice, time_ind, None)\n",
    "\n",
    "    vosaline_daily = upwelling_functions.get_daily_vosaline(vosaline, tmask, days)\n",
    "\n",
    "    depth_ind_daily = upwelling_functions.get_daily_depth_ind(vosaline_daily, vosaline_ref_profile)\n",
    "    depth_m_daily, depth_upwelled = upwelling_functions.get_daily_depth_m(deptht, dep_ind_slice, depth_ind_daily, tmask)\n",
    "    \n",
    "    fig = plot_original_depth(depth_upwelled, tmask, deptht, dep_ind_slice, levels, kind, case)\n",
    "    fig.savefig('../writing_images/displaced_dep_'+kind+'_'+case+'_'+str(dep_ind_slice)+'_daily.png', dpi=100, bbox_inches='tight')\n",
    "    plt.close(fig) "
   ]
  },
  {
   "cell_type": "markdown",
   "metadata": {},
   "source": [
    "# Real"
   ]
  },
  {
   "cell_type": "code",
   "execution_count": 4,
   "metadata": {
    "collapsed": true
   },
   "outputs": [],
   "source": [
    "kind = 'real'\n",
    "case = 'base'\n",
    "\n",
    "dirname = '/ocean/imachuca/Canyons/results_mackenzie/extended_domain/'+kind+'_'+case+'/'"
   ]
  },
  {
   "cell_type": "code",
   "execution_count": 5,
   "metadata": {
    "collapsed": false
   },
   "outputs": [
    {
     "name": "stdout",
     "output_type": "stream",
     "text": [
      "0\n",
      "1\n",
      "2\n",
      "3\n",
      "4\n",
      "5\n",
      "6\n",
      "7\n",
      "8\n",
      "0\n",
      "1\n",
      "2\n",
      "3\n",
      "4\n",
      "5\n",
      "6\n",
      "7\n",
      "8\n",
      "0\n",
      "1\n",
      "2\n",
      "3\n",
      "4\n",
      "5\n",
      "6\n",
      "7\n",
      "8\n"
     ]
    }
   ],
   "source": [
    "for dep_ind_slice, n in zip(dep_ind_slices, np.arange(len(dep_ind_slices))):\n",
    "    vosaline, sozotaux, deptht, tmask = upwelling_functions.get_vars_salt(dirname, fname, meshmaskname, dep_ind_slice, time_ind, None)\n",
    "\n",
    "    vosaline_daily = upwelling_functions.get_daily_vosaline(vosaline, tmask, days)\n",
    "\n",
    "    depth_ind_daily = upwelling_functions.get_daily_depth_ind(vosaline_daily, vosaline_ref_profile)\n",
    "    depth_m_daily, depth_upwelled = upwelling_functions.get_daily_depth_m(deptht, dep_ind_slice, depth_ind_daily, tmask)\n",
    "    \n",
    "    fig = plot_original_depth(depth_upwelled, tmask, deptht, dep_ind_slice, levels, kind, case)\n",
    "    fig.savefig('../writing_images/displaced_dep_'+kind+'_'+case+'_'+str(dep_ind_slice)+'_daily.png', dpi=100, bbox_inches='tight')\n",
    "    plt.close(fig) "
   ]
  },
  {
   "cell_type": "code",
   "execution_count": null,
   "metadata": {
    "collapsed": true
   },
   "outputs": [],
   "source": []
  }
 ],
 "metadata": {
  "kernelspec": {
   "display_name": "Python 3",
   "language": "python",
   "name": "python3"
  },
  "language_info": {
   "codemirror_mode": {
    "name": "ipython",
    "version": 3
   },
   "file_extension": ".py",
   "mimetype": "text/x-python",
   "name": "python",
   "nbconvert_exporter": "python",
   "pygments_lexer": "ipython3",
   "version": "3.5.0rc4"
  }
 },
 "nbformat": 4,
 "nbformat_minor": 2
}
