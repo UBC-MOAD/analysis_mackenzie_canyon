{
 "cells": [
  {
   "cell_type": "markdown",
   "metadata": {},
   "source": [
    "May: **Research Questions 2.1** (Ideal and Real)"
   ]
  },
  {
   "cell_type": "markdown",
   "metadata": {},
   "source": [
    "# Which of the three upwelling mechanisms (time dependence, advection, convergence of isobaths, coastal trapped wave) provides the strongest contribution to upwelling in Mackenzie Canyon?\n",
    "\n",
    "Where does upwelling occur?"
   ]
  },
  {
   "cell_type": "code",
   "execution_count": 1,
   "metadata": {
    "collapsed": true
   },
   "outputs": [],
   "source": [
    "import netCDF4 as nc\n",
    "import matplotlib.pyplot as plt\n",
    "import matplotlib.cm as cm\n",
    "import cmocean as cmo\n",
    "import os,sys,fnmatch,time\n",
    "import numpy as np\n",
    "import matplotlib.gridspec as gridspec\n",
    "from matplotlib import animation\n",
    "from salishsea_tools.nc_tools import scDataset\n",
    "from matplotlib import colors\n",
    "from matplotlib import ticker\n",
    "\n",
    "%matplotlib inline\n",
    "\n",
    "import sys\n",
    "sys.path.append('/ocean/imachuca/Canyons/analysis_mackenzie_canyon/notebooks/general_circulation/')\n",
    "import general_functions\n",
    "import quicklook\n",
    "\n",
    "import warnings\n",
    "warnings.filterwarnings(\"ignore\")"
   ]
  },
  {
   "cell_type": "markdown",
   "metadata": {},
   "source": [
    "# Functions"
   ]
  },
  {
   "cell_type": "code",
   "execution_count": 2,
   "metadata": {
    "collapsed": false
   },
   "outputs": [],
   "source": [
    "class MidpointNormalize(colors.Normalize):\n",
    "    def __init__(self, vmin=None, vmax=None, midpoint=None, clip=False):\n",
    "        self.midpoint = midpoint\n",
    "        colors.Normalize.__init__(self, vmin, vmax, clip)\n",
    "\n",
    "    def __call__(self, value, clip=None):\n",
    "        result, is_scalar = self.process_value(value)\n",
    "        (vmin,), _ = self.process_value(self.vmin)\n",
    "        (vmax,), _ = self.process_value(self.vmax)\n",
    "        resdat = np.asarray(result.data)\n",
    "        result = np.ma.array(resdat, mask=result.mask, copy=False)\n",
    "        x, y = [self.vmin, self.midpoint, self.vmax], [0, 0.5, 1]\n",
    "        res = np.interp(result, x, y)\n",
    "        result = np.ma.array(res, mask=result.mask, copy=False)\n",
    "        if is_scalar:\n",
    "            result = result[0]\n",
    "        return result"
   ]
  },
  {
   "cell_type": "code",
   "execution_count": 3,
   "metadata": {
    "collapsed": true
   },
   "outputs": [],
   "source": [
    "def get_salt_ud(dirname, fname, meshmaskname, dep_ind):\n",
    "    \n",
    "    y,x = slice(1,-1,None), slice(1,-1,None)\n",
    "    time_ind = 24*9\n",
    "    \n",
    "    filesT = general_functions.get_files(dirname, fname, 'grid_T')\n",
    "    filesU = general_functions.get_files(dirname, fname, 'grid_U')\n",
    "            \n",
    "    with scDataset(filesT) as dsT, scDataset(filesU) as dsU:\n",
    "        deptht = dsT.variables['deptht'][:]\n",
    "        vosaline0 = dsT.variables['vosaline'][:time_ind, dep_ind, y, x]\n",
    "        sozotaux = dsU.variables['sozotaux'][:time_ind, 0, 0] \n",
    "        \n",
    "    with nc.Dataset(os.path.join(dirname, meshmaskname), 'r') as dsM:\n",
    "        tmask0 = dsM.variables['tmask'][0, dep_ind, y, x]\n",
    "        \n",
    "    tmask = np.tile(tmask0, (len(sozotaux), 1, 1, 1))  \n",
    "    vosaline = np.ma.array(vosaline0, mask=1 - tmask)\n",
    "    \n",
    "    return vosaline, sozotaux, deptht, tmask[0, 0, ...]"
   ]
  },
  {
   "cell_type": "code",
   "execution_count": 4,
   "metadata": {
    "collapsed": true
   },
   "outputs": [],
   "source": [
    "def get_daily_vosaline(vosaline, tmask, days):\n",
    "    \n",
    "    # get daily salinity averages from hourly results\n",
    "    vosaline_daily0 = quicklook.get_1day_avg_of_speeds(vosaline, days)\n",
    "    tmask_new = np.tile(tmask, (vosaline_daily0.shape[0], 1, 1))\n",
    "    vosaline_daily = np.ma.array(vosaline_daily0, mask=1 - tmask_new)\n",
    "    \n",
    "    return vosaline_daily"
   ]
  },
  {
   "cell_type": "code",
   "execution_count": 25,
   "metadata": {
    "collapsed": false
   },
   "outputs": [],
   "source": [
    "def get_daily_depth_ind(vosaline_daily, vosaline_ref_profile):\n",
    "    \n",
    "    depth_ind_daily = np.full_like(vosaline_daily, np.nan, dtype=np.int)\n",
    "    \n",
    "    # trace back the deptht_ind where this_vosaline occured the vosaline_ref     \n",
    "    for d in range(depth_ind_daily.shape[-3]):\n",
    "        for y in range(depth_ind_daily.shape[-2]):\n",
    "            for x in range(depth_ind_daily.shape[-1]):\n",
    "                this_vosaline = vosaline_daily[d, y, x]\n",
    "                depth_ind_daily[d, y, x] = min(range(len(vosaline_ref_profile)), key=lambda i: abs(vosaline_ref_profile[i]-this_vosaline))\n",
    "        print(d)\n",
    "\n",
    "    return depth_ind_daily"
   ]
  },
  {
   "cell_type": "code",
   "execution_count": 26,
   "metadata": {
    "collapsed": true
   },
   "outputs": [],
   "source": [
    "def get_daily_depth_m(deptht, depth_ind_daily, tmask):\n",
    "\n",
    "    # get deptht for deptht_ind of origin\n",
    "    depth_m_daily0 = deptht[depth_ind_daily]\n",
    "    depth_m_daily = np.ma.array(depth_m_daily0, mask=1 - tmask)\n",
    "    \n",
    "    return depth_m_daily"
   ]
  },
  {
   "cell_type": "markdown",
   "metadata": {},
   "source": [
    "# Constants"
   ]
  },
  {
   "cell_type": "code",
   "execution_count": 6,
   "metadata": {
    "collapsed": true
   },
   "outputs": [],
   "source": [
    "vosaline_ref = nc.Dataset('/ocean/imachuca/Canyons/mackenzie_canyon/conditions/NEMO_files/salinity/salinity_for_agrif.nc')['vosaline'][:]\n",
    "vosaline_ref_profile = vosaline_ref[0, :, 0, 0]\n",
    "\n",
    "fname = '1_MCKNZ_1h_20170101_201701*'\n",
    "meshmaskname = '1_mesh_mask.nc'\n",
    "\n",
    "dep_ind = 11\n",
    "days = 9 "
   ]
  },
  {
   "cell_type": "markdown",
   "metadata": {},
   "source": [
    "# Ideal"
   ]
  },
  {
   "cell_type": "code",
   "execution_count": 7,
   "metadata": {
    "collapsed": true
   },
   "outputs": [],
   "source": [
    "kind = 'ideal'\n",
    "case = 'base'\n",
    "dirname = '/ocean/imachuca/Canyons/results_mackenzie/extended_domain/'+kind+'_'+case+'/'"
   ]
  },
  {
   "cell_type": "code",
   "execution_count": 27,
   "metadata": {
    "collapsed": false
   },
   "outputs": [],
   "source": [
    "vosaline, sozotaux, deptht, tmask = get_salt_ud(dirname, fname, meshmaskname, dep_ind)"
   ]
  },
  {
   "cell_type": "code",
   "execution_count": 28,
   "metadata": {
    "collapsed": false
   },
   "outputs": [],
   "source": [
    "vosaline_daily = get_daily_vosaline(vosaline, tmask, days)"
   ]
  },
  {
   "cell_type": "code",
   "execution_count": 29,
   "metadata": {
    "collapsed": false
   },
   "outputs": [
    {
     "data": {
      "text/plain": [
       "((216, 242, 272), (242, 272), (9, 242, 272))"
      ]
     },
     "execution_count": 29,
     "metadata": {},
     "output_type": "execute_result"
    }
   ],
   "source": [
    "vosaline.shape, tmask.shape, vosaline_daily.shape"
   ]
  },
  {
   "cell_type": "code",
   "execution_count": null,
   "metadata": {
    "collapsed": true
   },
   "outputs": [],
   "source": [
    "depth_ind_daily = get_daily_depth_ind(vosaline_daily, vosaline_ref_profile)"
   ]
  },
  {
   "cell_type": "code",
   "execution_count": null,
   "metadata": {
    "collapsed": true
   },
   "outputs": [],
   "source": [
    "depth_m_daily = get_daily_depth_m(deptht, depth_ind_daily, tmask)"
   ]
  }
 ],
 "metadata": {
  "kernelspec": {
   "display_name": "Python 3",
   "language": "python",
   "name": "python3"
  },
  "language_info": {
   "codemirror_mode": {
    "name": "ipython",
    "version": 3
   },
   "file_extension": ".py",
   "mimetype": "text/x-python",
   "name": "python",
   "nbconvert_exporter": "python",
   "pygments_lexer": "ipython3",
   "version": "3.5.0rc4"
  }
 },
 "nbformat": 4,
 "nbformat_minor": 2
}
