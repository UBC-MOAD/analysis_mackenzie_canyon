{
 "cells": [
  {
   "cell_type": "markdown",
   "metadata": {},
   "source": [
    "May: **Research Questions 2.1** (Ideal and Real)"
   ]
  },
  {
   "cell_type": "markdown",
   "metadata": {},
   "source": [
    "# Which of the three upwelling mechanisms (time dependence, advection, convergence of isobaths, coastal trapped wave) provides the strongest contribution to upwelling in Mackenzie Canyon?\n",
    "\n",
    "Where does upwelling occur?"
   ]
  },
  {
   "cell_type": "code",
   "execution_count": 1,
   "metadata": {
    "collapsed": true
   },
   "outputs": [],
   "source": [
    "import netCDF4 as nc\n",
    "import matplotlib.pyplot as plt\n",
    "import matplotlib.cm as cm\n",
    "import cmocean as cmo\n",
    "import os,sys,fnmatch,time\n",
    "import numpy as np\n",
    "import matplotlib.gridspec as gridspec\n",
    "from matplotlib import animation\n",
    "from salishsea_tools.nc_tools import scDataset\n",
    "from matplotlib import colors\n",
    "from matplotlib import ticker\n",
    "from matplotlib.colors import LinearSegmentedColormap\n",
    "\n",
    "%matplotlib inline\n",
    "\n",
    "import sys\n",
    "sys.path.append('/ocean/imachuca/Canyons/analysis_mackenzie_canyon/notebooks/general_circulation/')\n",
    "import general_functions\n",
    "import quicklook\n",
    "\n",
    "import warnings\n",
    "warnings.filterwarnings(\"ignore\")"
   ]
  },
  {
   "cell_type": "markdown",
   "metadata": {},
   "source": [
    "# Functions"
   ]
  },
  {
   "cell_type": "code",
   "execution_count": 2,
   "metadata": {
    "collapsed": false
   },
   "outputs": [],
   "source": [
    "class MidpointNormalize(colors.Normalize):\n",
    "    def __init__(self, vmin=None, vmax=None, midpoint=None, clip=False):\n",
    "        self.midpoint = midpoint\n",
    "        colors.Normalize.__init__(self, vmin, vmax, clip)\n",
    "\n",
    "    def __call__(self, value, clip=None):\n",
    "        result, is_scalar = self.process_value(value)\n",
    "        (vmin,), _ = self.process_value(self.vmin)\n",
    "        (vmax,), _ = self.process_value(self.vmax)\n",
    "        resdat = np.asarray(result.data)\n",
    "        result = np.ma.array(resdat, mask=result.mask, copy=False)\n",
    "        x, y = [self.vmin, self.midpoint, self.vmax], [0, 0.5, 1]\n",
    "        res = np.interp(result, x, y)\n",
    "        result = np.ma.array(res, mask=result.mask, copy=False)\n",
    "        if is_scalar:\n",
    "            result = result[0]\n",
    "        return result"
   ]
  },
  {
   "cell_type": "code",
   "execution_count": 3,
   "metadata": {
    "collapsed": true
   },
   "outputs": [],
   "source": [
    "def get_salt_ud(dirname, fname, meshmaskname, dep_ind):\n",
    "    \n",
    "    y,x = slice(1,-1,None), slice(1,-1,None)\n",
    "    time_ind = 24*9\n",
    "    \n",
    "    filesT = general_functions.get_files(dirname, fname, 'grid_T')\n",
    "    filesU = general_functions.get_files(dirname, fname, 'grid_U')\n",
    "            \n",
    "    with scDataset(filesT) as dsT, scDataset(filesU) as dsU:\n",
    "        deptht = dsT.variables['deptht'][:]\n",
    "        vosaline0 = dsT.variables['vosaline'][:time_ind, dep_ind, y, x]\n",
    "        sozotaux = dsU.variables['sozotaux'][:time_ind, 0, 0] \n",
    "        \n",
    "    with nc.Dataset(os.path.join(dirname, meshmaskname), 'r') as dsM:\n",
    "        tmask0 = dsM.variables['tmask'][0, dep_ind, y, x]\n",
    "        \n",
    "    tmask = np.tile(tmask0, (len(sozotaux), 1, 1, 1))  \n",
    "    vosaline = np.ma.array(vosaline0, mask=1 - tmask)\n",
    "    \n",
    "    return vosaline, sozotaux, deptht, tmask[0, 0, ...]"
   ]
  },
  {
   "cell_type": "code",
   "execution_count": 4,
   "metadata": {
    "collapsed": true
   },
   "outputs": [],
   "source": [
    "def get_daily_vosaline(vosaline, tmask, days):\n",
    "    \n",
    "    # get daily salinity averages from hourly results\n",
    "    vosaline_daily0 = quicklook.get_1day_avg_of_speeds(vosaline, days)\n",
    "    tmask_new = np.tile(tmask, (vosaline_daily0.shape[0], 1, 1))\n",
    "    vosaline_daily = np.ma.array(vosaline_daily0, mask=1 - tmask_new)\n",
    "    \n",
    "    return vosaline_daily"
   ]
  },
  {
   "cell_type": "code",
   "execution_count": 5,
   "metadata": {
    "collapsed": false
   },
   "outputs": [],
   "source": [
    "def get_daily_depth_ind(vosaline_daily, vosaline_ref_profile):\n",
    "    \n",
    "    depth_ind_daily = np.full_like(vosaline_daily, np.nan, dtype=np.int)\n",
    "    \n",
    "    # trace back the deptht_ind where this_vosaline occured the vosaline_ref     \n",
    "    for d in range(depth_ind_daily.shape[-3]):\n",
    "        for y in range(depth_ind_daily.shape[-2]):\n",
    "            for x in range(depth_ind_daily.shape[-1]):\n",
    "                this_vosaline = vosaline_daily[d, y, x]\n",
    "                depth_ind_daily[d, y, x] = min(range(len(vosaline_ref_profile)), key=lambda i: abs(vosaline_ref_profile[i]-this_vosaline))\n",
    "        print(d)\n",
    "\n",
    "    return depth_ind_daily"
   ]
  },
  {
   "cell_type": "code",
   "execution_count": 6,
   "metadata": {
    "collapsed": true
   },
   "outputs": [],
   "source": [
    "def get_daily_depth_m(deptht, depth_ind_daily, tmask, days):\n",
    "\n",
    "    # get deptht for deptht_ind of origin\n",
    "    depth_m_daily0 = deptht[depth_ind_daily]\n",
    "    tmask_new = np.tile(tmask, (days, 1, 1))\n",
    "    depth_m_daily = np.ma.array(depth_m_daily0, mask=1 - tmask_new)\n",
    "    \n",
    "    return depth_m_daily"
   ]
  },
  {
   "cell_type": "code",
   "execution_count": 7,
   "metadata": {
    "collapsed": false
   },
   "outputs": [],
   "source": [
    "def plot_original_depth(depth_m_daily, tmask, deptht, dep_ind, levels, kind, case):\n",
    "    cmap, norm = cmo.cm.delta, MidpointNormalize(midpoint=deptht[dep_ind])\n",
    "    cmap.set_bad('silver')\n",
    "\n",
    "    vmin, vmax = int(np.min(depth_m_daily)), int(np.max(depth_m_daily))\n",
    "    xs = np.arange(tmask.shape[-1])\n",
    "    ys = np.arange(tmask.shape[-2])\n",
    "\n",
    "    fig, axes = plt.subplots(3, 3, figsize = (20, 21))\n",
    "    for ax, n in zip(axes.flatten(), np.arange(9)):\n",
    "        p = ax.pcolormesh(xs, ys, depth_m_daily[n, :, :], cmap=cmap, vmin=vmin, vmax=vmax, norm=norm)\n",
    "        cs = ax.contour(xs, ys, depth_m_daily[n, :, :], levels = levels, colors='k', alpha=0.5)\n",
    "        ax.clabel(cs, inline=1, fontsize=10, fmt ='%r')\n",
    "        plt.setp(ax.get_xticklabels(), visible=False)\n",
    "        plt.setp(ax.get_yticklabels(), visible=False)\n",
    "        ax.tick_params(axis='both', which='both', length=0)\n",
    "        ax.set_aspect(aspect='equal')\n",
    "        ax.set_xlim([0, xs[-1]])\n",
    "        ax.set_ylim([0, ys[-1]])\n",
    "        ax.set_title('Day ' + str(n+1), fontsize=20)\n",
    "        cbar = fig.colorbar(p, ax=ax, fraction=0.05, orientation='horizontal', pad=0.009)\n",
    "        cbar.ax.tick_params(labelsize=13)\n",
    "        tick_locator = ticker.MaxNLocator(nbins=6)\n",
    "        cbar.locator = tick_locator\n",
    "        cbar.update_ticks()\n",
    "\n",
    "    fig.tight_layout(w_pad=1.2, h_pad=0.01)\n",
    "    fig.suptitle(kind + ' - ' + case +': ' + 'original depth [m] for upwelling at depth = '+\n",
    "                 str(int(deptht[dep_ind]))+' m', fontsize=25)\n",
    "    plt.subplots_adjust(top=0.96)\n",
    "\n",
    "    return fig"
   ]
  },
  {
   "cell_type": "markdown",
   "metadata": {},
   "source": [
    "# Constants"
   ]
  },
  {
   "cell_type": "code",
   "execution_count": 8,
   "metadata": {
    "collapsed": true
   },
   "outputs": [],
   "source": [
    "vosaline_ref = nc.Dataset('/ocean/imachuca/Canyons/mackenzie_canyon/conditions/NEMO_files/salinity/salinity_for_agrif.nc')['vosaline'][:]\n",
    "vosaline_ref_profile = vosaline_ref[0, :, 0, 0]\n",
    "\n",
    "fname = '1_MCKNZ_1h_20170101_201701*'\n",
    "meshmaskname = '1_mesh_mask.nc'\n",
    "\n",
    "days = 9 \n",
    "dep_inds = [1, 9]"
   ]
  },
  {
   "cell_type": "markdown",
   "metadata": {},
   "source": [
    "# Ideal"
   ]
  },
  {
   "cell_type": "code",
   "execution_count": 9,
   "metadata": {
    "collapsed": true
   },
   "outputs": [],
   "source": [
    "kind = 'ideal'\n",
    "case = 'base'\n",
    "\n",
    "dirname = '/ocean/imachuca/Canyons/results_mackenzie/extended_domain/'+kind+'_'+case+'/'\n",
    "\n",
    "levels = [125, 150]"
   ]
  },
  {
   "cell_type": "code",
   "execution_count": 10,
   "metadata": {
    "collapsed": false
   },
   "outputs": [
    {
     "name": "stdout",
     "output_type": "stream",
     "text": [
      "0\n",
      "1\n",
      "2\n",
      "3\n",
      "4\n",
      "5\n",
      "6\n",
      "7\n",
      "8\n",
      "0\n",
      "1\n",
      "2\n",
      "3\n",
      "4\n",
      "5\n",
      "6\n",
      "7\n",
      "8\n"
     ]
    }
   ],
   "source": [
    "for dep_ind, n in zip(dep_inds, np.arange(3)):\n",
    "    vosaline, sozotaux, deptht, tmask = get_salt_ud(dirname, fname, meshmaskname, dep_ind)\n",
    "\n",
    "    vosaline_daily = get_daily_vosaline(vosaline, tmask, days)\n",
    "\n",
    "    depth_ind_daily = get_daily_depth_ind(vosaline_daily, vosaline_ref_profile)\n",
    "    depth_m_daily = get_daily_depth_m(deptht, depth_ind_daily, tmask, days)\n",
    "    \n",
    "    fig = plot_original_depth(depth_m_daily, tmask, deptht, dep_ind, levels, kind, case)\n",
    "    fig.savefig('../writing_images/depth_orig_'+kind+'_'+case+'_'+str(dep_ind)+'.png', dpi=100, bbox_inches='tight')\n",
    "    plt.close(fig) "
   ]
  },
  {
   "cell_type": "code",
   "execution_count": null,
   "metadata": {
    "collapsed": true
   },
   "outputs": [],
   "source": []
  }
 ],
 "metadata": {
  "kernelspec": {
   "display_name": "Python 3",
   "language": "python",
   "name": "python3"
  },
  "language_info": {
   "codemirror_mode": {
    "name": "ipython",
    "version": 3
   },
   "file_extension": ".py",
   "mimetype": "text/x-python",
   "name": "python",
   "nbconvert_exporter": "python",
   "pygments_lexer": "ipython3",
   "version": "3.5.0rc4"
  }
 },
 "nbformat": 4,
 "nbformat_minor": 2
}
