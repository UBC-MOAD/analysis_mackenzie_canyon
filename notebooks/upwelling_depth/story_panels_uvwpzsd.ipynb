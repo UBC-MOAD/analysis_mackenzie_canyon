{
 "cells": [
  {
   "cell_type": "code",
   "execution_count": 1,
   "metadata": {},
   "outputs": [
    {
     "name": "stderr",
     "output_type": "stream",
     "text": [
      "/home/imachuca/anaconda3/envs/gsw/lib/python3.6/site-packages/cmocean/tools.py:76: MatplotlibDeprecationWarning: The is_string_like function was deprecated in version 2.1.\n",
      "  if not mpl.cbook.is_string_like(rgbin[0]):\n"
     ]
    }
   ],
   "source": [
    "import netCDF4 as nc\n",
    "import matplotlib.pyplot as plt\n",
    "import matplotlib.cm as cm\n",
    "import cmocean as cmo\n",
    "import os,sys,fnmatch,time\n",
    "import numpy as np\n",
    "import matplotlib.gridspec as gridspec\n",
    "import matplotlib.patches as patches\n",
    "from matplotlib.ticker import MultipleLocator\n",
    "from matplotlib.colors import LinearSegmentedColormap\n",
    "from matplotlib import animation\n",
    "from salishsea_tools.nc_tools import scDataset\n",
    "from matplotlib import ticker\n",
    "from matplotlib import colors\n",
    "import matplotlib as mpl\n",
    "from matplotlib.colors import LinearSegmentedColormap\n",
    "import math\n",
    "from mpl_toolkits.axes_grid1.inset_locator import inset_axes\n",
    "import matplotlib.patches as patches\n",
    "import gsw\n",
    "from datetime import datetime\n",
    "\n",
    "%matplotlib inline\n",
    "\n",
    "import sys\n",
    "sys.path.append('/ocean/imachuca/Canyons/analysis_mackenzie_canyon/notebooks/general_circulation/')\n",
    "import general_functions\n",
    "import quicklook\n",
    "sys.path.append('/ocean/imachuca/Canyons/analysis_mackenzie_canyon/notebooks/upwelling_depth/')\n",
    "import upwelling_functions\n",
    "\n",
    "import warnings\n",
    "warnings.filterwarnings(\"ignore\")"
   ]
  },
  {
   "cell_type": "markdown",
   "metadata": {},
   "source": [
    "# Functions"
   ]
  },
  {
   "cell_type": "code",
   "execution_count": 2,
   "metadata": {},
   "outputs": [],
   "source": [
    "def get_vars(dirname, fname, meshmaskname, time_ind, dep_ind_slice):\n",
    "    y,x = slice(1,-1,None), slice(1,-1,None)\n",
    "    \n",
    "    filesT = general_functions.get_files(dirname, fname, 'grid_T')\n",
    "    filesU = general_functions.get_files(dirname, fname, 'grid_U') \n",
    "    filesV = general_functions.get_files(dirname, fname, 'grid_V')\n",
    "    filesW = general_functions.get_files(dirname, fname, 'grid_W')\n",
    "            \n",
    "    with scDataset(filesT) as dsT, scDataset(filesU) as dsU, scDataset(filesV) as dsV, scDataset(filesW) as dsW:\n",
    "        vosaline0 = dsT.variables['vosaline'][time_ind, :dep_ind_slice+1, y, x]\n",
    "        votemper0 = dsT.variables['votemper'][time_ind, :dep_ind_slice+1, y, x]\n",
    "        sossheig0 = dsT.variables['sossheig'][time_ind, y, x]\n",
    "        vozocrtx0 = dsU.variables['vozocrtx'][time_ind, dep_ind_slice, y, x]\n",
    "        vomecrty0 = dsV.variables['vomecrty'][time_ind, dep_ind_slice, y, x]\n",
    "        vovecrtz0 = dsW.variables['vovecrtz'][time_ind, dep_ind_slice, y, x]\n",
    "        deptht = dsT.variables['deptht'][:]\n",
    "        sozotaux = dsU.variables['sozotaux'][:, 0, 0]        \n",
    "        \n",
    "    with nc.Dataset(os.path.join(dirname, meshmaskname), 'r') as dsM:\n",
    "        tmask_all = dsM.variables['tmask'][0, :dep_ind_slice+1, y, x]\n",
    "        tmask_ss = dsM.variables['tmask'][0, 0, y, x]\n",
    "        tmask = dsM.variables['tmask'][0, dep_ind_slice, y, x]\n",
    "        umask = dsM.variables['umask'][0, dep_ind_slice, y, x]\n",
    "        vmask = dsM.variables['vmask'][0, dep_ind_slice, y, x]\n",
    "        e3t = dsM.variables['e3t_0'][0, :dep_ind_slice+1, 0, 0]\n",
    "        e1u = dsM.variables['e1u'][0, y, x]\n",
    "        e2u = dsM.variables['e2u'][0, y, x]\n",
    "        \n",
    "    vosaline = np.ma.array(vosaline0, mask=1 - tmask_all)\n",
    "    votemper = np.ma.array(votemper0, mask=1 - tmask_all)\n",
    "    sossheig = np.ma.array(sossheig0, mask=1 - tmask_ss)\n",
    "    vozocrtx = np.ma.array(vozocrtx0, mask=1 - umask)\n",
    "    vomecrty = np.ma.array(vomecrty0, mask=1 - vmask)\n",
    "    vovecrtz = np.ma.array(vovecrtz0, mask=1 - tmask)\n",
    "    \n",
    "    return vosaline, votemper, sossheig, vozocrtx, vomecrty, vovecrtz, deptht, sozotaux, tmask, umask, e3t, e1u, e2u"
   ]
  },
  {
   "cell_type": "code",
   "execution_count": 3,
   "metadata": {},
   "outputs": [],
   "source": [
    "class MidpointNormalize(colors.Normalize):\n",
    "    def __init__(self, vmin=None, vmax=None, midpoint=None, clip=False):\n",
    "        self.midpoint = midpoint\n",
    "        colors.Normalize.__init__(self, vmin, vmax, clip)\n",
    "\n",
    "    def __call__(self, value, clip=None):\n",
    "        result, is_scalar = self.process_value(value)\n",
    "        (vmin,), _ = self.process_value(self.vmin)\n",
    "        (vmax,), _ = self.process_value(self.vmax)\n",
    "        resdat = np.asarray(result.data)\n",
    "        result = np.ma.array(resdat, mask=result.mask, copy=False)\n",
    "        x, y = [self.vmin, self.midpoint, self.vmax], [0, 0.5, 1]\n",
    "        res = np.interp(result, x, y)\n",
    "        result = np.ma.array(res, mask=result.mask, copy=False)\n",
    "        if is_scalar:\n",
    "            result = result[0]\n",
    "        return result"
   ]
  },
  {
   "cell_type": "markdown",
   "metadata": {},
   "source": [
    "## Speeds"
   ]
  },
  {
   "cell_type": "code",
   "execution_count": 4,
   "metadata": {},
   "outputs": [],
   "source": [
    "def execute_speeds(vozocrtx, vomecrty, arrow, umask):\n",
    "    if arrow==1:\n",
    "        mask_slice = umask[:-1, :-1]\n",
    "    else:\n",
    "        mask_slice = umask[::arrow, ::arrow]\n",
    "    x_slice, y_slice, u_nstg, v_nstg, speeds = quicklook.get_speeds(vozocrtx, vomecrty, arrow)\n",
    "    u_nstg_ma = np.ma.array(u_nstg, mask=1 - mask_slice)\n",
    "    v_nstg_ma = np.ma.array(v_nstg, mask=1 - mask_slice)\n",
    "    speeds_ma = np.ma.array(speeds, mask=1 - mask_slice)\n",
    "    return x_slice, y_slice, u_nstg_ma, v_nstg_ma, speeds_ma, mask_slice"
   ]
  },
  {
   "cell_type": "markdown",
   "metadata": {},
   "source": [
    "## Pressure"
   ]
  },
  {
   "cell_type": "code",
   "execution_count": 5,
   "metadata": {},
   "outputs": [],
   "source": [
    "def calculate_pressure(vosaline, votemper, sossheig, e3t):\n",
    "    g = 9.81\n",
    "\n",
    "    rho = np.full([vosaline.shape[-3], vosaline.shape[-2], vosaline.shape[-1]], np.nan)\n",
    "    p_stat0 = np.full_like(rho, np.nan)\n",
    "    p_stat = np.full_like(rho, np.nan)\n",
    "    p_surf = np.full([vosaline.shape[-2], vosaline.shape[-1]], np.nan)\n",
    "    pressure = np.full_like(rho, np.nan)\n",
    "\n",
    "    for k in range(vosaline.shape[-3]):\n",
    "        gsw_vosaline = vosaline[k, :, :]\n",
    "        gsw_votemper = votemper[k, :, :]\n",
    "        rho[k, :, :] = gsw.rho(gsw_vosaline, gsw_votemper, 0)\n",
    "        p_stat0[k, :, :] = rho[k, :, :] * e3t[k]\n",
    "\n",
    "    for k in range(len(e3t)): \n",
    "        p_stat[k, :, :] = g * np.sum(p_stat0[:k, :, :], axis=0)\n",
    "\n",
    "    p_surf[:, :] = rho[0, :, :] * g * sossheig[:, :]\n",
    "\n",
    "    for k in range(vosaline.shape[-3]):\n",
    "        pressure[k, :, :] = p_stat[k, :, :] + p_surf[:, :]\n",
    "\n",
    "    pressure_db = pressure * 0.0001\n",
    "        \n",
    "    return rho, pressure_db"
   ]
  },
  {
   "cell_type": "markdown",
   "metadata": {},
   "source": [
    "## Vorticity"
   ]
  },
  {
   "cell_type": "code",
   "execution_count": 6,
   "metadata": {},
   "outputs": [],
   "source": [
    "def calculate_relative_vorticitity(time_ind, vomecrty, vozocrtx, e1v, e2u, umask):\n",
    "    if len(vomecrty.shape) > 2:\n",
    "        V = vomecrty[time_ind, :, :]\n",
    "        U = vozocrtx[time_ind, :, :]\n",
    "    else:\n",
    "        V = vomecrty\n",
    "        U = vozocrtx\n",
    "    \n",
    "    dV = np.diff(V, axis=-1)\n",
    "    dx = e1v[..., :-1]\n",
    "    dVdx = dV/dx\n",
    "    \n",
    "    dU = np.diff(U, axis=-2)\n",
    "    dy = e2u[:-1, ...]\n",
    "    dUdy = dU/dy\n",
    "\n",
    "    zeta0 = dVdx[:-1, ...] - dUdy[..., :-1]\n",
    "    zeta = np.ma.array(zeta0, mask = 1 - umask[:-1, :-1])\n",
    "    \n",
    "    return dV, dx, dU, dy, dVdx, dUdy, zeta"
   ]
  },
  {
   "cell_type": "markdown",
   "metadata": {},
   "source": [
    "## Shelf Velocities"
   ]
  },
  {
   "cell_type": "code",
   "execution_count": 7,
   "metadata": {},
   "outputs": [],
   "source": [
    "def get_shelf_velocities(dirname, fname, meshmaskname):\n",
    "    x_start = 200\n",
    "    x_end = 230\n",
    "    y_start = 45\n",
    "    y_end = 190\n",
    "    dep_start = 2\n",
    "    dep_end = 6\n",
    "    flag = 'U'\n",
    "    vozocrtx, umask, umask_all, depthu, e1u, e2u, sozotaux = quicklook.get_vars_for_box(dirname, fname, meshmaskname, x_start, x_end, y_start, y_end, flag)\n",
    "    avgU_all_ys, avgU_all_depths, avgU_box_depths, avgU_absolute = quicklook.calculate_avg_vel(vozocrtx, dep_start, dep_end)\n",
    "    avgU_absolute_smoothed = general_functions.smooth(avgU_absolute[:], 12)\n",
    "    \n",
    "    return avgU_absolute_smoothed "
   ]
  },
  {
   "cell_type": "markdown",
   "metadata": {},
   "source": [
    "## Values and Plots"
   ]
  },
  {
   "cell_type": "code",
   "execution_count": 8,
   "metadata": {},
   "outputs": [],
   "source": [
    "def execute_functions(dirname, fname, meshmaskname, dep_ind_slice, time_ind, vosaline_ref_profile):\n",
    "\n",
    "    vosaline, votemper, sossheig, vozocrtx, vomecrty, vovecrtz, deptht, sozotaux, tmask, umask, e3t, e1u, e2u = get_vars(dirname, fname, meshmaskname, time_ind, dep_ind_slice)\n",
    "    print(vosaline.shape, votemper.shape, sossheig.shape, vozocrtx.shape, vomecrty.shape, vovecrtz.shape, deptht.shape, sozotaux.shape, tmask.shape, e3t.shape)\n",
    "\n",
    "    x_slice, y_slice, u_nstg, v_nstg, speeds, mask_slice = execute_speeds(vozocrtx, vomecrty, 1, umask)\n",
    "\n",
    "    rho, pressure_db = calculate_pressure(vosaline, votemper, sossheig, e3t)\n",
    "    print(rho.shape, pressure_db.shape)\n",
    "\n",
    "    dV, dx, dU, dy, dVdx, dUdy, zeta = calculate_relative_vorticitity(None, vomecrty, vozocrtx, e1u, e2u, umask)\n",
    "    print(zeta.shape)\n",
    "\n",
    "    avgU_abs_sm = get_shelf_velocities(dirname, fname, meshmaskname)\n",
    "\n",
    "    depth_ind_daily = upwelling_functions.get_daily_depth_ind(vosaline[dep_ind_slice], vosaline_ref_profile)\n",
    "    depth_m_daily, depth_upwelled = upwelling_functions.get_daily_depth_m(deptht, dep_ind_slice, depth_ind_daily, tmask)\n",
    "    print(depth_ind_daily.shape, depth_upwelled.shape)\n",
    "    \n",
    "    return x_slice, y_slice, u_nstg, v_nstg, speeds, vovecrtz, zeta, pressure_db, rho, depth_upwelled, sozotaux, avgU_abs_sm, tmask, deptht"
   ]
  },
  {
   "cell_type": "code",
   "execution_count": 9,
   "metadata": {},
   "outputs": [],
   "source": [
    "def make_frame():\n",
    "    \n",
    "    fig = plt.figure(figsize=(20, 21))\n",
    "    ax1 = plt.subplot2grid((11, 12), (0, 0), colspan=4, rowspan=4)\n",
    "    ax2 = plt.subplot2grid((11, 12), (0, 4), colspan=4, rowspan=4)\n",
    "    ax3 = plt.subplot2grid((11, 12), (0, 8), colspan=4, rowspan=4)\n",
    "\n",
    "    ax4 = plt.subplot2grid((11, 12), (4, 0), colspan=4, rowspan=4)\n",
    "    ax5 = plt.subplot2grid((11, 12), (4, 4), colspan=4, rowspan=4)\n",
    "    ax6 = plt.subplot2grid((11, 12), (4, 8), colspan=4, rowspan=4)\n",
    "\n",
    "    axa = plt.subplot2grid((11, 12), (9, 0), colspan=12, rowspan=1)\n",
    "    axb = plt.subplot2grid((11, 12), (10, 0), colspan=12, rowspan=1)\n",
    "    \n",
    "    colour_list = [\"#c8274c\",\"#f25546\",\"#F06543\",\"#e96e33\",\"#f0b038\",\"#FFE74C\",\n",
    "                   \"#69b944\",\"#72b286\",\"#69b0bc\",\"#619ee4\",\"#4b5bbb\"][::-1]\n",
    "    \n",
    "    cmap_mask = LinearSegmentedColormap.from_list('mycmap', ['silver', 'white'])\n",
    "    cmap1 = LinearSegmentedColormap.from_list('mycmap', colour_list, N=500, gamma=1)\n",
    "    cmap2 = cmo.cm.balance\n",
    "    cmap3 = cmo.cm.balance\n",
    "    cmap4 = cmo.cm.deep\n",
    "    cmap5 = cmo.cm.matter\n",
    "    cmap6 = cmo.cm.delta\n",
    "    \n",
    "    return fig, ax1, ax2, ax3, ax4, ax5, ax6, axa, axb, cmap_mask, cmap1, cmap2, cmap3, cmap4, cmap5, cmap6"
   ]
  },
  {
   "cell_type": "code",
   "execution_count": 10,
   "metadata": {
    "scrolled": false
   },
   "outputs": [],
   "source": [
    "def plot_story(x_slice, y_slice, u_nstg, v_nstg, speeds, \n",
    "               vovecrtz, zeta, pressure_db, rho, depth_upwelled, sozotaux, avgU_abs_sm, tmask, deptht, \n",
    "               dep_ind_slice, kind, case):\n",
    "\n",
    "    fig, ax1, ax2, ax3, ax4, ax5, ax6, axa, axb, cmap_mask, cmap1, cmap2, cmap3, cmap4, cmap5, cmap6 = make_frame()\n",
    "\n",
    "    vm_w = max([abs(np.nanmin(vovecrtz)), abs(np.nanmax(vovecrtz))])*0.8\n",
    "    vm_r = max([abs(np.nanmin(zeta)), abs(np.nanmax(zeta))])*0.8\n",
    "    #vmin_s, vmax_s = np.nanmin(vosaline[dep_ind_slice]), np.nanmax(vosaline[dep_ind_slice])\n",
    "\n",
    "    # ------------------------------------------\n",
    "    ax=ax1\n",
    "    cmap=cmap1\n",
    "    cmap.set_bad('silver')\n",
    "    p1 = ax.pcolormesh(x_slice, y_slice, speeds, cmap=cmap)\n",
    "    strm = ax.streamplot(x_slice, y_slice, u_nstg, v_nstg, color='k', linewidth=1, density=5, zorder=2)\n",
    "\n",
    "    # ------------------------------------------\n",
    "    ax=ax2\n",
    "    cmap=cmap2\n",
    "    cmap.set_bad('silver')\n",
    "    p2 = ax.pcolormesh(vovecrtz, cmap=cmap, vmin=-1*vm_w, vmax=vm_w)\n",
    "    \n",
    "    # ------------------------------------------\n",
    "    ax=ax3\n",
    "    cmap=cmap3\n",
    "    cmap.set_bad('silver')\n",
    "    p3=ax.pcolormesh(zeta, cmap=cmap3, vmin=-1*vm_r, vmax=vm_r)\n",
    "\n",
    "    # ------------------------------------------\n",
    "    ax=ax4\n",
    "    cmap=cmap4\n",
    "    cmap.set_bad('silver')\n",
    "    p4 = ax.pcolormesh(pressure_db[dep_ind_slice], cmap=cmap)\n",
    "\n",
    "    # ------------------------------------------\n",
    "    ax=ax5\n",
    "    cmap=cmap5\n",
    "    cmap.set_bad('silver')\n",
    "    p5=ax.pcolormesh(rho[dep_ind_slice]-1000, cmap=cmap)#, vmin=vmin_s, vmax=vmax_s)\n",
    "\n",
    "    # ------------------------------------------\n",
    "    ax=ax6\n",
    "    cmap=cmap6\n",
    "    norm = upwelling_functions.MidpointNormalize(midpoint=0)\n",
    "    cmap.set_bad('silver')\n",
    "    p6=ax.pcolormesh(depth_upwelled, cmap=cmap, norm=norm)\n",
    "\n",
    "    # ------------------------------------------\n",
    "    ax=axa\n",
    "    ax.plot(sozotaux, c='dimgray', lw=2)\n",
    "    ax.axhline(0, linestyle='-', c='k', lw=1)\n",
    "    ax.scatter(time_ind, sozotaux[time_ind], s=90, c='orangered')\n",
    "    ax.set_title('Wind Stress', fontsize=23)\n",
    "    ax.set_ylabel('[Nm$^{-2}$]', fontsize=20)\n",
    "    ax.set_ylim([-2.0, 1.0])\n",
    "    ax.set_xlim([0, 10*24])\n",
    "    ax.xaxis.set_ticks(np.arange(0, 10*24, 24))\n",
    "    ax.grid()\n",
    "\n",
    "    # ------------------------------------------\n",
    "    ax=axb\n",
    "    ax.plot(avgU_abs_sm, c='dimgray', lw=2)\n",
    "    ax.axhline(0, linestyle='-', c='k', lw=1)\n",
    "    ax.scatter(time_ind, avgU_abs_sm[time_ind], s=90, c='orangered')\n",
    "    ax.set_title('Shelf Currents Velocity', fontsize=23)\n",
    "    ax.set_xlabel('Time [hours]', fontsize=15)\n",
    "    ax.set_ylabel('[ms$^{-1}$]', fontsize=20)\n",
    "    ax.set_ylim([-0.7, 0.3])\n",
    "    ax.set_xlim([0, 10*24])\n",
    "    ax.xaxis.set_ticks(np.arange(0, 10*24, 24))\n",
    "    ax.grid()\n",
    "\n",
    "    # ------------------------------------------\n",
    "    axes = [ax1, ax2, ax3, ax4, ax5, ax6]\n",
    "    ps = [p1,p2,p3,p4,p5,p6]\n",
    "    ttls = ['streamlines', 'w-velocity', 'vorticity', 'pressure', 'sigma', 'upwelling depth']\n",
    "    cblabs = ['[ms$^{-1}$]', '[ms$^{-1}$]', '[s$^{-1}$]', '[dbar]', '[$\\sigma$]', '[m]']\n",
    "    for ax, p, ttl, cblab in zip(axes, ps, ttls, cblabs):\n",
    "        plt.setp(ax.get_xticklabels(), visible=False)\n",
    "        plt.setp(ax.get_yticklabels(), visible=False)\n",
    "        ax.tick_params(axis='both', which='both', length=0)\n",
    "        ax.set_aspect(aspect='equal')\n",
    "        ax.set_xlim([0, tmask.shape[-1]])\n",
    "        ax.set_ylim([0, tmask.shape[-2]])\n",
    "        cbar = fig.colorbar(p, ax=ax, fraction=0.05, orientation='horizontal', pad=0.02)\n",
    "        cbar.ax.tick_params(labelsize=16)\n",
    "        tick_locator = ticker.MaxNLocator(nbins=6)\n",
    "        cbar.locator = tick_locator\n",
    "        cbar.update_ticks()\n",
    "        cbar.set_label(cblab, fontsize=20)\n",
    "        ax.set_title(ttl, fontsize=23)\n",
    "\n",
    "    # ------------------------------------------\n",
    "    fig.tight_layout(w_pad=0.05, h_pad=0.05)\n",
    "    fig.suptitle(kind + ' - ' + case +': depth [m] = '+str(int(deptht[dep_ind_slice]))+\n",
    "                 ', time [hrs] = '+str(time_ind), fontsize=26)\n",
    "    plt.subplots_adjust(top=0.96)\n",
    "    \n",
    "    return fig"
   ]
  },
  {
   "cell_type": "markdown",
   "metadata": {},
   "source": [
    "# Constants"
   ]
  },
  {
   "cell_type": "code",
   "execution_count": 11,
   "metadata": {},
   "outputs": [],
   "source": [
    "vosaline_ref = nc.Dataset('/ocean/imachuca/Canyons/mackenzie_canyon/conditions/NEMO_files/salinity/salinity_for_agrif.nc')['vosaline'][:]\n",
    "vosaline_ref_profile = vosaline_ref[0, :, 0, 0]\n",
    "\n",
    "fname = '1_MCKNZ_1h_20170101_201701*'\n",
    "meshmaskname = '1_mesh_mask.nc'\n",
    "\n",
    "# ------------------------------------------------------------\n",
    "\n",
    "dep_ind_slices = [7]\n",
    "time_inds = [12, 36]#, 48, 120]"
   ]
  },
  {
   "cell_type": "markdown",
   "metadata": {},
   "source": [
    "# Ideal"
   ]
  },
  {
   "cell_type": "code",
   "execution_count": 12,
   "metadata": {},
   "outputs": [],
   "source": [
    "kind = 'ideal'\n",
    "case = 'base' \n",
    "dirname = '/ocean/imachuca/Canyons/results_mackenzie/extended_domain/'+kind+'_'+case+'/'"
   ]
  },
  {
   "cell_type": "code",
   "execution_count": 13,
   "metadata": {},
   "outputs": [
    {
     "name": "stdout",
     "output_type": "stream",
     "text": [
      "time  12\n",
      "dep  7\n",
      "(8, 242, 272) (8, 242, 272) (242, 272) (242, 272) (242, 272) (242, 272) (80,) (240,) (242, 272) (8,)\n",
      "(8, 242, 272) (8, 242, 272)\n",
      "(241, 271)\n",
      "0\n",
      "50\n",
      "100\n",
      "150\n",
      "200\n",
      "(242, 272) (242, 272)\n",
      "Time elapsed (hh:mm:ss.ms) 0:09:03.660752\n",
      "time  36\n",
      "dep  7\n",
      "(8, 242, 272) (8, 242, 272) (242, 272) (242, 272) (242, 272) (242, 272) (80,) (240,) (242, 272) (8,)\n",
      "(8, 242, 272) (8, 242, 272)\n",
      "(241, 271)\n",
      "0\n",
      "50\n",
      "100\n",
      "150\n",
      "200\n",
      "(242, 272) (242, 272)\n",
      "Time elapsed (hh:mm:ss.ms) 0:09:00.511176\n"
     ]
    }
   ],
   "source": [
    "for time_ind in time_inds:\n",
    "    print('time ', time_ind)\n",
    "    for dep_ind_slice in dep_ind_slices:\n",
    "        print('dep ', dep_ind_slice)\n",
    "\n",
    "        start_time = datetime.now()\n",
    "        x_slice, y_slice, u_nstg, v_nstg, speeds, vovecrtz, zeta, pressure_db, rho, depth_upwelled, sozotaux, avgU_abs_sm, tmask, deptht = execute_functions(dirname, fname, meshmaskname, dep_ind_slice, time_ind, vosaline_ref_profile)\n",
    "        time_elapsed = datetime.now() - start_time\n",
    "        print('Time elapsed (hh:mm:ss.ms) {}'.format(time_elapsed))\n",
    "\n",
    "        # ------------------------------------------------------------\n",
    "\n",
    "        fig = plot_story(x_slice, y_slice, u_nstg, v_nstg, speeds, \n",
    "                         vovecrtz, zeta, pressure_db, rho, depth_upwelled, sozotaux, avgU_abs_sm, tmask, deptht, \n",
    "                         dep_ind_slice, kind, case)\n",
    "        fig.savefig('../writing_images/story_uvwpzsd_'+kind+'_'+case+'_'+str(dep_ind_slice)+'_'+str(time_ind)+'.png', dpi=100, bbox_inches='tight')\n",
    "        plt.close(fig)"
   ]
  },
  {
   "cell_type": "code",
   "execution_count": null,
   "metadata": {},
   "outputs": [],
   "source": []
  }
 ],
 "metadata": {
  "kernelspec": {
   "display_name": "Python 3",
   "language": "python",
   "name": "python3"
  },
  "language_info": {
   "codemirror_mode": {
    "name": "ipython",
    "version": 3
   },
   "file_extension": ".py",
   "mimetype": "text/x-python",
   "name": "python",
   "nbconvert_exporter": "python",
   "pygments_lexer": "ipython3",
   "version": "3.6.5"
  }
 },
 "nbformat": 4,
 "nbformat_minor": 2
}
