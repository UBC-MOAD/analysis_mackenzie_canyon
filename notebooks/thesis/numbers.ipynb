{
 "cells": [
  {
   "cell_type": "code",
   "execution_count": 1,
   "metadata": {},
   "outputs": [],
   "source": [
    "import numpy as np\n",
    "from decimal import Decimal"
   ]
  },
  {
   "cell_type": "code",
   "execution_count": 2,
   "metadata": {},
   "outputs": [],
   "source": [
    "from math import log10, floor\n",
    "def round_sig(x, sig=3):\n",
    "    return round(x, sig-int(floor(log10(abs(x))))-1)"
   ]
  },
  {
   "cell_type": "code",
   "execution_count": 3,
   "metadata": {},
   "outputs": [],
   "source": [
    "f = round_sig(1.37e-4)\n",
    "Hc = round_sig(372)\n",
    "Hs = round_sig(79.57)\n",
    "Hw = round_sig(39.59)\n",
    "L = round_sig(98737.02446397704)\n",
    "Lsw = round_sig(115377.64081484766)\n",
    "RRw = round_sig(46456.96933722647)\n",
    "U = round_sig(0.11317333862409246)\n",
    "W = round_sig(62681.73577685928)\n",
    "N =  round_sig(0.008758670470935828) #round_sig(0.01129261142278891) using correct canyon depth\n",
    "Ns = 0.026050966001804437"
   ]
  },
  {
   "cell_type": "code",
   "execution_count": 15,
   "metadata": {},
   "outputs": [
    {
     "data": {
      "text/plain": [
       "(0.000137,\n",
       " 372,\n",
       " 79.6,\n",
       " 39.6,\n",
       " '9.87E+04',\n",
       " '1.15E+05',\n",
       " '8.76E-03',\n",
       " '4.65E+04',\n",
       " 0.113,\n",
       " '6.27E+04',\n",
       " '2.61E-02')"
      ]
     },
     "execution_count": 15,
     "metadata": {},
     "output_type": "execute_result"
    }
   ],
   "source": [
    "f, Hc, Hs, Hw, '%.2E' % Decimal(str(L)), '%.2E' % Decimal(str(Lsw)), '%.2E' % Decimal(str(N)), '%.2E' % Decimal(str(RRw)), U, '%.2E' % Decimal(str(W)), '%.2E' % Decimal(str(Ns))\n"
   ]
  },
  {
   "cell_type": "code",
   "execution_count": 5,
   "metadata": {},
   "outputs": [
    {
     "name": "stdout",
     "output_type": "stream",
     "text": [
      "23786.277372262775\n",
      "2.38E+04\n"
     ]
    }
   ],
   "source": [
    "a = (N*Hc)/f\n",
    "print(a)\n",
    "print('%.2E' % Decimal(str(round_sig(a))))"
   ]
  },
  {
   "cell_type": "code",
   "execution_count": 6,
   "metadata": {},
   "outputs": [
    {
     "data": {
      "text/plain": [
       "2.6359736338194137"
      ]
     },
     "execution_count": 6,
     "metadata": {},
     "output_type": "execute_result"
    }
   ],
   "source": [
    "W/a"
   ]
  },
  {
   "cell_type": "code",
   "execution_count": 7,
   "metadata": {},
   "outputs": [
    {
     "name": "stdout",
     "output_type": "stream",
     "text": [
      "0.144\n"
     ]
    }
   ],
   "source": [
    "Bu = ((N*Hc)/(f*W))**2\n",
    "print(round_sig(Bu))"
   ]
  },
  {
   "cell_type": "code",
   "execution_count": 8,
   "metadata": {},
   "outputs": [
    {
     "name": "stdout",
     "output_type": "stream",
     "text": [
      "5.19E+02\n"
     ]
    }
   ],
   "source": [
    "Dh = (f*L)/Ns\n",
    "print('%.2E' % Decimal(str(round_sig(Dh))))"
   ]
  },
  {
   "cell_type": "code",
   "execution_count": 9,
   "metadata": {},
   "outputs": [
    {
     "name": "stdout",
     "output_type": "stream",
     "text": [
      "0.0177\n"
     ]
    }
   ],
   "source": [
    "Rw = U/(f*RRw)\n",
    "print(round_sig(Rw))"
   ]
  },
  {
   "cell_type": "code",
   "execution_count": 10,
   "metadata": {},
   "outputs": [
    {
     "name": "stdout",
     "output_type": "stream",
     "text": [
      "0.00836\n"
     ]
    }
   ],
   "source": [
    "RL = U/(f*L)\n",
    "print(round_sig(RL))"
   ]
  },
  {
   "cell_type": "code",
   "execution_count": 11,
   "metadata": {},
   "outputs": [
    {
     "name": "stdout",
     "output_type": "stream",
     "text": [
      "0.0193\n"
     ]
    }
   ],
   "source": [
    "Fw = Rw/(0.9+Rw)\n",
    "print(round_sig(Fw))"
   ]
  },
  {
   "cell_type": "code",
   "execution_count": 12,
   "metadata": {},
   "outputs": [
    {
     "name": "stdout",
     "output_type": "stream",
     "text": [
      "3.48E-04\n"
     ]
    }
   ],
   "source": [
    "s = (Hs-Hw)/Lsw\n",
    "print('%.2E' % Decimal(str(round_sig(s))))"
   ]
  },
  {
   "cell_type": "code",
   "execution_count": 13,
   "metadata": {},
   "outputs": [
    {
     "name": "stdout",
     "output_type": "stream",
     "text": [
      "0.101\n"
     ]
    }
   ],
   "source": [
    "SE = (s*Ns/f)*((Fw/RL)**0.5)\n",
    "print(round_sig(SE))"
   ]
  },
  {
   "cell_type": "code",
   "execution_count": 14,
   "metadata": {},
   "outputs": [
    {
     "name": "stdout",
     "output_type": "stream",
     "text": [
      "37.3\n"
     ]
    }
   ],
   "source": [
    "Z = Dh * (1.8 * (Fw*RL)**0.5 * (1-0.42*SE) + 0.05)\n",
    "print(round_sig(Z))"
   ]
  },
  {
   "cell_type": "code",
   "execution_count": null,
   "metadata": {},
   "outputs": [],
   "source": []
  }
 ],
 "metadata": {
  "kernelspec": {
   "display_name": "Python 3",
   "language": "python",
   "name": "python3"
  },
  "language_info": {
   "codemirror_mode": {
    "name": "ipython",
    "version": 3
   },
   "file_extension": ".py",
   "mimetype": "text/x-python",
   "name": "python",
   "nbconvert_exporter": "python",
   "pygments_lexer": "ipython3",
   "version": "3.6.7"
  }
 },
 "nbformat": 4,
 "nbformat_minor": 2
}
