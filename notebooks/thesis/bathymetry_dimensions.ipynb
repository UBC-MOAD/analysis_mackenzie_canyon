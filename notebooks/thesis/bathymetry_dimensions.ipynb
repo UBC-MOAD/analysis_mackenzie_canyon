{
 "cells": [
  {
   "cell_type": "code",
   "execution_count": 5,
   "metadata": {},
   "outputs": [],
   "source": [
    "import netCDF4 as nc\n",
    "import matplotlib.pyplot as plt\n",
    "import matplotlib.cm as cm\n",
    "import cmocean as cmo\n",
    "import os,sys,fnmatch,time\n",
    "import numpy as np\n",
    "import matplotlib.gridspec as gridspec\n",
    "from matplotlib import animation\n",
    "from salishsea_tools.nc_tools import scDataset\n",
    "from matplotlib.ticker import MultipleLocator\n",
    "from matplotlib.colors import LinearSegmentedColormap\n",
    "from mpl_toolkits.axes_grid1.inset_locator import inset_axes\n",
    "import matplotlib.patches as patches\n",
    "from mpl_toolkits.axes_grid1.inset_locator import InsetPosition\n",
    "\n",
    "%matplotlib inline\n",
    "\n",
    "import sys\n",
    "sys.path.append('/ocean/imachuca/Canyons/analysis_mackenzie_canyon/notebooks/general_circulation/')\n",
    "import general_functions\n",
    "\n",
    "import warnings\n",
    "warnings.filterwarnings(\"ignore\")"
   ]
  },
  {
   "cell_type": "code",
   "execution_count": 7,
   "metadata": {},
   "outputs": [],
   "source": [
    "idealf = nc.Dataset('/ocean/imachuca/Canyons/mackenzie_canyon/bathymetry/NEMO_files/idealized/ideal_bathy_for_agrif.nc')\n",
    "ideal = idealf['Bathymetry'][:]\n",
    "realf = nc.Dataset('/ocean/imachuca/Canyons/runs_mackenzie_canyon/prepare_real_bathy/real_bathy_for_agrif_fix.nc')\n",
    "real = realf['Bathymetry'][:]\n",
    "coordsf = nc.Dataset('/ocean/imachuca/Canyons/mackenzie_canyon/coordinates/NEMO_files/coords_for_agrif.nc')\n",
    "maskfi = nc.Dataset('/ocean/imachuca/Canyons/results_mackenzie/extended_domain/ideal_base/mesh_mask.nc')\n",
    "maskfr = nc.Dataset('/ocean/imachuca/Canyons/results_mackenzie/extended_domain/real_base/mesh_mask.nc')"
   ]
  },
  {
   "cell_type": "markdown",
   "metadata": {},
   "source": [
    "**What (u,v,f,t) is at the edges??**"
   ]
  },
  {
   "cell_type": "code",
   "execution_count": 8,
   "metadata": {},
   "outputs": [],
   "source": [
    "e1i_mean = np.mean(maskfi['e1t'][0, :, :], axis=0)\n",
    "e1r_mean = np.mean(maskfr['e1t'][0, :, :], axis=0)\n",
    "\n",
    "dist_xi = np.cumsum(e1i_mean) \n",
    "dist_xr = np.cumsum(e1r_mean) \n",
    "\n",
    "e2i_mean = np.mean(maskfi['e2t'][0, :, :], axis=1)\n",
    "e2r_mean = np.mean(maskfr['e2t'][0, :, :], axis=1)\n",
    "\n",
    "dist_yi = np.cumsum(e2i_mean) \n",
    "dist_yr = np.cumsum(e2r_mean) "
   ]
  },
  {
   "cell_type": "code",
   "execution_count": 9,
   "metadata": {},
   "outputs": [],
   "source": [
    "maski = maskfi['tmask'][0, 0, :, :]\n",
    "maskr = maskfr['tmask'][0, 0, :, :]\n",
    "\n",
    "ideal_masked = np.ma.array(ideal, mask=1 - maski)\n",
    "real_masked = np.ma.array(real, mask=1 - maskr)"
   ]
  },
  {
   "cell_type": "code",
   "execution_count": 10,
   "metadata": {},
   "outputs": [],
   "source": [
    "# http://colorbrewer2.org/#type=sequential&scheme=GnBu&n=6\n",
    "colour_list = ['#f7fcf0','#ccebc5','#a8ddb5','#7bccc4','#4eb3d3','#2b8cbe','#0868ac','#084081']#'#e0f3db'(2nd)\n",
    "cmap = LinearSegmentedColormap.from_list('mycmap', colour_list, N=500, gamma=1)\n",
    "\n",
    "# contour lines\n",
    "levels = [40.5, 80, 220, 500, 1200]\n",
    "clocxr, clocxi = 90, 100\n",
    "clocr=[(clocxr, 100), (clocxr, 220), (clocxr, 230), (clocxr, 250), (clocxr, 260)]\n",
    "cloci=[(clocxi, 50), (clocxi+80, 140), (clocxi+40, 145), (clocxi, 150), (clocxi, 200)]\n",
    "\n",
    "# AGRIF\n",
    "inds_i = [90, 180, 10, 90]\n",
    "inds_r = [130, 220, 10, 90]"
   ]
  },
  {
   "cell_type": "code",
   "execution_count": 11,
   "metadata": {},
   "outputs": [
    {
     "data": {
      "text/plain": [
       "<class 'netCDF4._netCDF4.Dataset'>\n",
       "root group (NETCDF4 data model, file format HDF5):\n",
       "    file_name: mesh_mask.nc\n",
       "    TimeStamp: 17/04/2018 16:17:44 -0700\n",
       "    dimensions(sizes): x(270), y(174), z(80), t(1)\n",
       "    variables(dimensions): float32 \u001b[4mnav_lon\u001b[0m(y,x), float32 \u001b[4mnav_lat\u001b[0m(y,x), float32 \u001b[4mnav_lev\u001b[0m(z), float64 \u001b[4mtime_counter\u001b[0m(t), int8 \u001b[4mtmask\u001b[0m(t,z,y,x), int8 \u001b[4mumask\u001b[0m(t,z,y,x), int8 \u001b[4mvmask\u001b[0m(t,z,y,x), int8 \u001b[4mfmask\u001b[0m(t,z,y,x), int8 \u001b[4mtmaskutil\u001b[0m(t,y,x), int8 \u001b[4mumaskutil\u001b[0m(t,y,x), int8 \u001b[4mvmaskutil\u001b[0m(t,y,x), int8 \u001b[4mfmaskutil\u001b[0m(t,y,x), float32 \u001b[4mglamt\u001b[0m(t,y,x), float32 \u001b[4mglamu\u001b[0m(t,y,x), float32 \u001b[4mglamv\u001b[0m(t,y,x), float32 \u001b[4mglamf\u001b[0m(t,y,x), float32 \u001b[4mgphit\u001b[0m(t,y,x), float32 \u001b[4mgphiu\u001b[0m(t,y,x), float32 \u001b[4mgphiv\u001b[0m(t,y,x), float32 \u001b[4mgphif\u001b[0m(t,y,x), float64 \u001b[4me1t\u001b[0m(t,y,x), float64 \u001b[4me1u\u001b[0m(t,y,x), float64 \u001b[4me1v\u001b[0m(t,y,x), float64 \u001b[4me1f\u001b[0m(t,y,x), float64 \u001b[4me2t\u001b[0m(t,y,x), float64 \u001b[4me2u\u001b[0m(t,y,x), float64 \u001b[4me2v\u001b[0m(t,y,x), float64 \u001b[4me2f\u001b[0m(t,y,x), float64 \u001b[4mff\u001b[0m(t,y,x), int16 \u001b[4mmbathy\u001b[0m(t,y,x), int16 \u001b[4mmisf\u001b[0m(t,y,x), float32 \u001b[4misfdraft\u001b[0m(t,y,x), float64 \u001b[4me3t_0\u001b[0m(t,z,y,x), float64 \u001b[4me3u_0\u001b[0m(t,z,y,x), float64 \u001b[4me3v_0\u001b[0m(t,z,y,x), float64 \u001b[4me3w_0\u001b[0m(t,z,y,x), float32 \u001b[4mgdept_0\u001b[0m(t,z,y,x), float32 \u001b[4mgdepu\u001b[0m(t,z,y,x), float32 \u001b[4mgdepv\u001b[0m(t,z,y,x), float32 \u001b[4mgdepw_0\u001b[0m(t,z,y,x), float64 \u001b[4mgdept_1d\u001b[0m(t,z), float64 \u001b[4mgdepw_1d\u001b[0m(t,z), float64 \u001b[4me3t_1d\u001b[0m(t,z), float64 \u001b[4me3w_1d\u001b[0m(t,z)\n",
       "    groups: "
      ]
     },
     "execution_count": 11,
     "metadata": {},
     "output_type": "execute_result"
    }
   ],
   "source": [
    "maskfi"
   ]
  },
  {
   "cell_type": "code",
   "execution_count": 12,
   "metadata": {},
   "outputs": [
    {
     "data": {
      "text/plain": [
       "<class 'netCDF4._netCDF4.Dataset'>\n",
       "root group (NETCDF4 data model, file format HDF5):\n",
       "    file_name: mesh_mask.nc\n",
       "    TimeStamp: 17/04/2018 16:53:16 -0700\n",
       "    dimensions(sizes): x(270), y(174), z(80), t(1)\n",
       "    variables(dimensions): float32 \u001b[4mnav_lon\u001b[0m(y,x), float32 \u001b[4mnav_lat\u001b[0m(y,x), float32 \u001b[4mnav_lev\u001b[0m(z), float64 \u001b[4mtime_counter\u001b[0m(t), int8 \u001b[4mtmask\u001b[0m(t,z,y,x), int8 \u001b[4mumask\u001b[0m(t,z,y,x), int8 \u001b[4mvmask\u001b[0m(t,z,y,x), int8 \u001b[4mfmask\u001b[0m(t,z,y,x), int8 \u001b[4mtmaskutil\u001b[0m(t,y,x), int8 \u001b[4mumaskutil\u001b[0m(t,y,x), int8 \u001b[4mvmaskutil\u001b[0m(t,y,x), int8 \u001b[4mfmaskutil\u001b[0m(t,y,x), float32 \u001b[4mglamt\u001b[0m(t,y,x), float32 \u001b[4mglamu\u001b[0m(t,y,x), float32 \u001b[4mglamv\u001b[0m(t,y,x), float32 \u001b[4mglamf\u001b[0m(t,y,x), float32 \u001b[4mgphit\u001b[0m(t,y,x), float32 \u001b[4mgphiu\u001b[0m(t,y,x), float32 \u001b[4mgphiv\u001b[0m(t,y,x), float32 \u001b[4mgphif\u001b[0m(t,y,x), float64 \u001b[4me1t\u001b[0m(t,y,x), float64 \u001b[4me1u\u001b[0m(t,y,x), float64 \u001b[4me1v\u001b[0m(t,y,x), float64 \u001b[4me1f\u001b[0m(t,y,x), float64 \u001b[4me2t\u001b[0m(t,y,x), float64 \u001b[4me2u\u001b[0m(t,y,x), float64 \u001b[4me2v\u001b[0m(t,y,x), float64 \u001b[4me2f\u001b[0m(t,y,x), float64 \u001b[4mff\u001b[0m(t,y,x), int16 \u001b[4mmbathy\u001b[0m(t,y,x), int16 \u001b[4mmisf\u001b[0m(t,y,x), float32 \u001b[4misfdraft\u001b[0m(t,y,x), float64 \u001b[4me3t_0\u001b[0m(t,z,y,x), float64 \u001b[4me3u_0\u001b[0m(t,z,y,x), float64 \u001b[4me3v_0\u001b[0m(t,z,y,x), float64 \u001b[4me3w_0\u001b[0m(t,z,y,x), float32 \u001b[4mgdept_0\u001b[0m(t,z,y,x), float32 \u001b[4mgdepu\u001b[0m(t,z,y,x), float32 \u001b[4mgdepv\u001b[0m(t,z,y,x), float32 \u001b[4mgdepw_0\u001b[0m(t,z,y,x), float64 \u001b[4mgdept_1d\u001b[0m(t,z), float64 \u001b[4mgdepw_1d\u001b[0m(t,z), float64 \u001b[4me3t_1d\u001b[0m(t,z), float64 \u001b[4me3w_1d\u001b[0m(t,z)\n",
       "    groups: "
      ]
     },
     "execution_count": 12,
     "metadata": {},
     "output_type": "execute_result"
    }
   ],
   "source": [
    "maskfr"
   ]
  },
  {
   "cell_type": "code",
   "execution_count": 13,
   "metadata": {
    "scrolled": false
   },
   "outputs": [
    {
     "name": "stdout",
     "output_type": "stream",
     "text": [
      "xr\n",
      "610.6742023610263\n",
      "xi\n",
      "610.6742023610263\n",
      "yr\n",
      "393.1062293544774\n",
      "yi\n",
      "393.1062293544774\n"
     ]
    }
   ],
   "source": [
    "for dist, name in zip([dist_xr, dist_xi, dist_yr, dist_yi], ['xr', 'xi', 'yr', 'yi']):\n",
    "    print(name)\n",
    "    print(dist[-1]/1000)"
   ]
  },
  {
   "cell_type": "code",
   "execution_count": 14,
   "metadata": {},
   "outputs": [
    {
     "name": "stdout",
     "output_type": "stream",
     "text": [
      "1i\n",
      "2.261756305040839\n",
      "1r\n",
      "2.261756305040839\n",
      "2i\n",
      "2.2592312031866517\n",
      "2r\n",
      "2.2592312031866517\n"
     ]
    }
   ],
   "source": [
    "for e, name in zip([e1i_mean, e1r_mean, e2i_mean, e2r_mean], ['1i', '1r', '2i', '2r']):\n",
    "    print(name)\n",
    "    print(np.mean(e)/1000)"
   ]
  },
  {
   "cell_type": "code",
   "execution_count": 18,
   "metadata": {},
   "outputs": [
    {
     "name": "stdout",
     "output_type": "stream",
     "text": [
      "ind 1 , e3 8.75 , gdep 0.0\n",
      "ind 2 , e3 8.75 , gdep 8.75\n",
      "ind 3 , e3 8.75 , gdep 17.5\n",
      "ind 4 , e3 8.75 , gdep 26.25\n",
      "ind 5 , e3 8.75 , gdep 35.0\n",
      "ind 6 , e3 8.75 , gdep 43.75\n",
      "ind 7 , e3 8.75 , gdep 52.5\n",
      "ind 8 , e3 8.75 , gdep 61.25\n",
      "ind 9 , e3 8.75 , gdep 70.0\n",
      "ind 10 , e3 8.75 , gdep 78.75\n",
      "ind 11 , e3 8.75 , gdep 87.5\n",
      "ind 12 , e3 8.75 , gdep 96.25\n",
      "ind 13 , e3 8.75 , gdep 105.0\n",
      "ind 14 , e3 8.75 , gdep 113.75\n",
      "ind 15 , e3 8.75 , gdep 122.5\n",
      "ind 16 , e3 8.75 , gdep 131.25\n",
      "ind 17 , e3 8.75 , gdep 140.0\n",
      "ind 18 , e3 8.75 , gdep 148.75\n",
      "ind 19 , e3 8.75 , gdep 157.5\n",
      "ind 20 , e3 8.75 , gdep 166.25\n",
      "ind 21 , e3 8.75 , gdep 175.0\n",
      "ind 22 , e3 8.75 , gdep 183.75\n",
      "ind 23 , e3 8.75 , gdep 192.5\n",
      "ind 24 , e3 8.75 , gdep 201.25\n",
      "ind 25 , e3 8.75 , gdep 210.0\n",
      "ind 26 , e3 8.75 , gdep 218.75\n",
      "ind 27 , e3 8.75 , gdep 227.5\n",
      "ind 28 , e3 8.75 , gdep 236.25\n",
      "ind 29 , e3 8.75 , gdep 245.0\n",
      "ind 30 , e3 8.75 , gdep 253.75\n",
      "ind 31 , e3 8.75 , gdep 262.5\n",
      "ind 32 , e3 8.75 , gdep 271.25\n",
      "ind 33 , e3 8.75 , gdep 280.0\n",
      "ind 34 , e3 8.75 , gdep 288.75\n",
      "ind 35 , e3 8.75 , gdep 297.5\n",
      "ind 36 , e3 8.75 , gdep 306.25\n",
      "ind 37 , e3 8.75 , gdep 315.0\n",
      "ind 38 , e3 8.75 , gdep 323.75\n",
      "ind 39 , e3 8.75 , gdep 332.5\n",
      "ind 40 , e3 8.75 , gdep 341.25\n",
      "ind 41 , e3 8.75 , gdep 350.0\n",
      "ind 42 , e3 8.75 , gdep 358.75\n",
      "ind 43 , e3 8.75 , gdep 367.5\n",
      "ind 44 , e3 8.75 , gdep 376.25\n",
      "ind 45 , e3 8.75 , gdep 385.0\n",
      "ind 46 , e3 8.75 , gdep 393.75\n",
      "ind 47 , e3 8.75 , gdep 402.5\n",
      "ind 48 , e3 8.75 , gdep 411.25\n",
      "ind 49 , e3 8.75 , gdep 420.0\n",
      "ind 50 , e3 8.75 , gdep 428.75\n",
      "ind 51 , e3 8.75 , gdep 437.5\n",
      "ind 52 , e3 8.75 , gdep 446.25\n",
      "ind 53 , e3 8.75 , gdep 455.0\n",
      "ind 54 , e3 8.75 , gdep 463.75\n",
      "ind 55 , e3 8.75 , gdep 472.5\n",
      "ind 56 , e3 8.75 , gdep 481.25\n",
      "ind 57 , e3 8.75 , gdep 490.0\n",
      "ind 58 , e3 8.76 , gdep 498.76\n",
      "ind 59 , e3 8.83 , gdep 507.54\n",
      "ind 60 , e3 9.36 , gdep 516.56\n",
      "ind 61 , e3 12.78 , gdep 527.15\n",
      "ind 62 , e3 25.66 , gdep 545.47\n",
      "ind 63 , e3 38.54 , gdep 578.47\n",
      "ind 64 , e3 41.96 , gdep 619.2\n",
      "ind 65 , e3 42.49 , gdep 661.5\n",
      "ind 66 , e3 42.56 , gdep 704.03\n",
      "ind 67 , e3 42.57 , gdep 746.6\n",
      "ind 68 , e3 42.57 , gdep 789.17\n",
      "ind 69 , e3 42.57 , gdep 831.74\n",
      "ind 70 , e3 42.57 , gdep 874.31\n",
      "ind 71 , e3 42.57 , gdep 916.88\n",
      "ind 72 , e3 42.57 , gdep 959.44\n",
      "ind 73 , e3 42.57 , gdep 1002.01\n",
      "ind 74 , e3 42.57 , gdep 1044.58\n",
      "ind 75 , e3 42.57 , gdep 1087.15\n",
      "ind 76 , e3 42.57 , gdep 1129.72\n",
      "ind 77 , e3 42.57 , gdep 1172.29\n",
      "ind 78 , e3 42.57 , gdep 1214.86\n",
      "ind 79 , e3 42.57 , gdep 1257.43\n",
      "ind 80 , e3 42.57 , gdep 1300.0\n"
     ]
    }
   ],
   "source": [
    "for i in range(80):\n",
    "    e3 = maskfi['e3w_1d'][0, :]\n",
    "    e3sum = np.cumsum(e3)\n",
    "    gdep = maskfi['gdepw_0'][0, :, 0, 0]\n",
    "    print('ind', i+1, ', e3', np.round(e3[i],2), ', gdep', np.round(gdep[i],2))"
   ]
  },
  {
   "cell_type": "markdown",
   "metadata": {},
   "source": [
    "# Figures"
   ]
  },
  {
   "cell_type": "code",
   "execution_count": null,
   "metadata": {
    "scrolled": false
   },
   "outputs": [],
   "source": [
    "fig, (ax1, ax2, cax) = plt.subplots(3,1,figsize=(20, 15), gridspec_kw={\"height_ratios\":[1,1, 0.08]})\n",
    "\n",
    "axs = [ax1, ax2]\n",
    "bathys = [real_masked, ideal_masked]\n",
    "dist_xs = [dist_xr, dist_xi]\n",
    "dist_ys = [dist_yr, dist_yi]\n",
    "clocs = [clocr, cloci]\n",
    "labs = ['a', 'b']\n",
    "\n",
    "for ax, bathy, dist_x, dist_y, cloc, lab in zip(axs, bathys, dist_xs, dist_ys, clocs, labs):\n",
    "    dist_x_km, dist_y_km = dist_x/1000, dist_y/1000\n",
    "    \n",
    "    ax.patch.set_color('#8b7765')\n",
    "    p = ax.contourf(dist_x_km, dist_y_km, bathy, cmap=cmap, vmin=100, vmax=1300, levels=np.arange(0, 1350, 50))\n",
    "    c = ax.contour(dist_x_km, dist_y_km, bathy, levels=levels, colors='k', linewidth=2.3)\n",
    "    plt.clabel(c, inline=1, fontsize=15, fmt='%1.f', manual=cloc, inline_spacing=16)\n",
    "    \n",
    "    lw=3\n",
    "    if ax == ax1:\n",
    "        x, y1, y2 = 460, 50, 150\n",
    "        ax.plot([x, x], [y1, y2], lw=lw, c='k')\n",
    "        y, x1, x2 = 130, 360, 428\n",
    "        ax.plot([x1, x2], [y, y], lw=lw, c='k')\n",
    "    if ax == ax2:\n",
    "        x, y1, y2 =375, 50, 150\n",
    "        ax.plot([x, x], [y1, y2], lw=lw, c='k')\n",
    "        y, x1, x2 = 130, 270, 340\n",
    "        ax.plot([x1, x2], [y, y], lw=lw, c='k')\n",
    "    \n",
    "    ax.set_xlim([0, dist_x_km[-1]])\n",
    "    ax.set_ylim([0, dist_y_km[-1]])\n",
    "    ax.xaxis.set_ticks(np.arange(0, 650, 50))\n",
    "    ax.yaxis.set_ticks(np.arange(0, 400, 50))\n",
    "    ax.tick_params(direction='in', length=4, color='k', labelsize=15)\n",
    "    ax.set_aspect(aspect='equal')\n",
    "    ax.set_xlabel('Alongshore Distance [km]', fontsize=20, labelpad=5)\n",
    "    ax.set_ylabel('Cross-shore Distance [km]', fontsize=20, labelpad=3)\n",
    "    ax.annotate(lab, xy=(9, 367), fontsize=30)\n",
    "    ax.add_patch(patches.Rectangle((0, 360),(dist_y_km[-1]-360),(dist_y_km[-1]-360), facecolor='w', alpha=1))\n",
    "    ax.text(20, 320, 'Periodic', rotation='vertical', fontsize=20, color='w', va='center')\n",
    "    ax.text((dist_x_km[-1]-30), 320, 'Periodic', rotation='vertical', fontsize=20, color='w', va='center')\n",
    "\n",
    "    #ax.grid(color='w')\n",
    "    #ax.minorticks_on()\n",
    "    #ax.grid(b=True, which='minor', color='gray', linestyle='-')\n",
    "              \n",
    "# AGRIF\n",
    "for ax, inds in zip([ax1, ax2], [inds_r, inds_i]):     \n",
    "    imin, imax, jmin, jmax = dist_x_km[inds[0]], dist_x_km[inds[1]], dist_y_km[inds[2]], dist_y_km[inds[3]]\n",
    "    ax.add_patch(patches.Rectangle((imin, jmin),(imax-imin),(jmax-jmin), facecolor='coral', alpha=0.2))\n",
    "    ax.add_patch(patches.Rectangle((imin, jmin),(imax-imin),(jmax-jmin), fill=None, edgecolor='k', linewidth=2.0)) \n",
    "\n",
    "# colorbar\n",
    "ip = InsetPosition(ax2, [0, -0.2, 1, 0.07]) \n",
    "cax.set_axes_locator(ip)\n",
    "cbar = fig.colorbar(p, cax=cax, ticks=np.arange(50, 1300, 150), orientation='horizontal')\n",
    "cbar.ax.tick_params(labelsize=15)\n",
    "cbar.set_label('Depth [m]', fontsize=20)\n",
    "cbar.set_ticks(np.arange(0, 1500, 200))\n",
    "    \n",
    "# overall\n",
    "fig.tight_layout(h_pad=2)\n",
    "fig.savefig('./bathymetry_dimensions.png', dpi=100, bbox_inches='tight')"
   ]
  },
  {
   "cell_type": "code",
   "execution_count": null,
   "metadata": {},
   "outputs": [],
   "source": [
    "fig = plt.figure(figsize=(20, 13))\n",
    "gs = gridspec.GridSpec(2, 11)\n",
    "ax0 = plt.subplot(gs[:-1, :])\n",
    "ax1 = plt.subplot(gs[-1, :5])\n",
    "ax2 = plt.subplot(gs[-1, 5:10])\n",
    "cax = plt.subplot(gs[-1, 10:11])\n",
    "\n",
    "axs = [ax1, ax2]\n",
    "bathys = [real_masked, ideal_masked]\n",
    "dist_xs = [dist_xr, dist_xi]\n",
    "dist_ys = [dist_yr, dist_yi]\n",
    "masks = [maskr, maski]\n",
    "clocs = [clocr, cloci]\n",
    "labs = ['b', 'b']\n",
    "\n",
    "for ax, bathy, dist_x, dist_y, mask, cloc, lab in zip(axs, bathys, dist_xs, dist_ys, masks, clocs, labs):\n",
    "    dist_x_km, dist_y_km = dist_x/1000, dist_y/1000\n",
    "    \n",
    "    ax.patch.set_color('#8b7765')\n",
    "    p = ax.contourf(dist_x_km, dist_y_km, bathy, cmap=cmap, vmin=100, vmax=1300, levels=np.arange(0, 1350, 50))\n",
    "    c = ax.contour(dist_x_km, dist_y_km, bathy, levels=levels, colors='#483C32', linewidth=2.3)\n",
    "    plt.clabel(c, inline=1, fontsize=15, fmt='%1.f', manual=cloc, inline_spacing=16)\n",
    "    \n",
    "    lw=2.5\n",
    "    if ax == ax1:\n",
    "        x, y1, y2 = 460, 50, 150\n",
    "        ax.plot([x, x], [y1, y2], lw=lw, c='k')\n",
    "        y, x1, x2 = 130, 360, 428\n",
    "        ax.plot([x1, x2], [y, y], lw=lw, c='k')\n",
    "    if ax == ax2:\n",
    "        x, y1, y2 =375, 50, 150\n",
    "        ax.plot([x, x], [y1, y2], lw=lw, c='k')\n",
    "        y, x1, x2 = 130, 270, 340\n",
    "        ax.plot([x1, x2], [y, y], lw=lw, c='k')\n",
    "    \n",
    "    ax.set_xlim([0, dist_x_km[-1]])\n",
    "    ax.set_ylim([0, dist_y_km[-1]])\n",
    "    ax.xaxis.set_ticks(np.arange(0, 650, 50))\n",
    "    ax.yaxis.set_ticks(np.arange(0, 400, 50))\n",
    "    ax.tick_params(direction='in', length=4, color='k', labelsize=15)\n",
    "    ax.set_aspect(aspect='equal')\n",
    "    ax.set_xlabel('Alongshore Distance [km]', fontsize=20, labelpad=5)\n",
    "    ax.set_ylabel('Cross-shore Distance [km]', fontsize=20, labelpad=3)\n",
    "    ax.annotate(lab, xy=(9, 367), fontsize=30)\n",
    "    ax.add_patch(patches.Rectangle((0, 360),(dist_y_km[-1]-360),(dist_y_km[-1]-360), facecolor='w', alpha=1))\n",
    "    ax.text(20, 320, 'Periodic', rotation='vertical', fontsize=20, color='w', va='center')\n",
    "    ax.text((dist_x_km[-1]-30), 320, 'Periodic', rotation='vertical', fontsize=20, color='w', va='center')\n",
    "\n",
    "    #ax.grid(color='w')\n",
    "    #ax.minorticks_on()\n",
    "    #ax.grid(b=True, which='minor', color='gray', linestyle='-')\n",
    "              \n",
    "# AGRIF\n",
    "for ax, inds in zip([ax1, ax2], [inds_r, inds_i]):     \n",
    "    imin, imax, jmin, jmax = dist_x_km[inds[0]], dist_x_km[inds[1]], dist_y_km[inds[2]], dist_y_km[inds[3]]\n",
    "    #ax.add_patch(patches.Rectangle((imin, jmin),(imax-imin),(jmax-jmin), facecolor='coral', alpha=0.2))\n",
    "    ax.add_patch(patches.Rectangle((imin, jmin),(imax-imin),(jmax-jmin), fill=None, edgecolor='k', linewidth=2.3)) \n",
    "\n",
    "# colorbar\n",
    "ip = InsetPosition(cax, [0, 0, 1, 1]) \n",
    "cax.set_axes_locator(ip)\n",
    "cbar = fig.colorbar(p, cax=cax, ticks=np.arange(50, 1300, 150), orientation='vertical')\n",
    "cbar.ax.tick_params(labelsize=15)\n",
    "cbar.set_label('Depth [m]', fontsize=20)\n",
    "cbar.set_ticks(np.arange(0, 1500, 200))\n",
    "    \n",
    "# overall\n",
    "gs.tight_layout(fig)\n",
    "gs.update(wspace=1.5, hspace=0.05)\n",
    "fig.savefig('./bathymetry_dimensions.png', dpi=100, bbox_inches='tight')"
   ]
  },
  {
   "cell_type": "code",
   "execution_count": null,
   "metadata": {},
   "outputs": [],
   "source": []
  }
 ],
 "metadata": {
  "kernelspec": {
   "display_name": "Python 3",
   "language": "python",
   "name": "python3"
  },
  "language_info": {
   "codemirror_mode": {
    "name": "ipython",
    "version": 3
   },
   "file_extension": ".py",
   "mimetype": "text/x-python",
   "name": "python",
   "nbconvert_exporter": "python",
   "pygments_lexer": "ipython3",
   "version": "3.6.4"
  }
 },
 "nbformat": 4,
 "nbformat_minor": 2
}
