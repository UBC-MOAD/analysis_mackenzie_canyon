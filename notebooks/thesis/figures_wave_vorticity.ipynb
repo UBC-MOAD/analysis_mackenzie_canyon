{
 "cells": [
  {
   "cell_type": "code",
   "execution_count": 1,
   "metadata": {},
   "outputs": [
    {
     "name": "stderr",
     "output_type": "stream",
     "text": [
      "/home/imachuca/anaconda3/envs/gsw/lib/python3.6/site-packages/cmocean/tools.py:76: MatplotlibDeprecationWarning: The is_string_like function was deprecated in version 2.1.\n",
      "  if not mpl.cbook.is_string_like(rgbin[0]):\n"
     ]
    }
   ],
   "source": [
    "import netCDF4 as nc\n",
    "from netCDF4 import Dataset\n",
    "import matplotlib.pyplot as plt\n",
    "import matplotlib.cm as cm\n",
    "import cmocean as cmo\n",
    "import os,sys,fnmatch,time\n",
    "import numpy as np\n",
    "import matplotlib.gridspec as gridspec\n",
    "from matplotlib import animation\n",
    "from salishsea_tools.nc_tools import scDataset\n",
    "from matplotlib import colors\n",
    "from matplotlib import ticker\n",
    "from matplotlib.colors import LinearSegmentedColormap\n",
    "from mpl_toolkits.axes_grid1.inset_locator import InsetPosition\n",
    "import matplotlib as mpl\n",
    "import numpy.ma as ma\n",
    "from scipy import interpolate\n",
    "import matplotlib.gridspec as gridspec\n",
    "\n",
    "%matplotlib inline\n",
    "\n",
    "import sys\n",
    "sys.path.append('/ocean/imachuca/Canyons/analysis_mackenzie_canyon/notebooks/upwelling_depth/')\n",
    "import upwelling_functions\n",
    "sys.path.append('/ocean/imachuca/Canyons/analysis_mackenzie_canyon/notebooks/general_circulation/')\n",
    "import general_functions\n",
    "import quicklook\n",
    "\n",
    "import warnings\n",
    "warnings.filterwarnings(\"ignore\")\n",
    "\n",
    "import time\n",
    "from datetime import datetime "
   ]
  },
  {
   "cell_type": "code",
   "execution_count": 2,
   "metadata": {},
   "outputs": [],
   "source": [
    "def get_varbs(dirname, fname, meshmaskname, time_s):\n",
    "    \n",
    "    filesU = general_functions.get_files(dirname, fname, 'grid_U') \n",
    "    filesV = general_functions.get_files(dirname, fname, 'grid_V')\n",
    "    filesW = general_functions.get_files(dirname, fname, 'grid_W')\n",
    "    filesT = general_functions.get_files(dirname, fname, 'grid_T')\n",
    "    print('files')\n",
    "    \n",
    "    y,x = slice(1,-1,None), slice(1,-1,None)\n",
    "\n",
    "    with scDataset(filesU) as dsU, scDataset(filesV) as dsV, scDataset(filesW) as dsW, scDataset(filesT) as dsT:\n",
    "        vozocrtx0 = dsU.variables['vozocrtx'][time_s,:,y,x]\n",
    "        vomecrty0 = dsV.variables['vomecrty'][time_s,:,y,x]\n",
    "        vovecrtz0 = dsW.variables['vovecrtz'][time_s,:,y,x]\n",
    "        vosaline0 = dsT.variables['vosaline'][time_s, :, y, x]\n",
    "        sozotaux = dsU.variables['sozotaux'][time_s,0,0]\n",
    "        deptht = dsT.variables['deptht'][:]\n",
    "\n",
    "    with nc.Dataset(os.path.join(dirname, meshmaskname), 'r') as dsM:\n",
    "        umask = dsM.variables['umask'][0,:,y,x]\n",
    "        vmask = dsM.variables['vmask'][0,:,y,x]\n",
    "        tmask = dsM.variables['tmask'][0,:,y,x]\n",
    "\n",
    "    vozocrtx = np.ma.array(vozocrtx0, mask=1 - umask)\n",
    "    vomecrty = np.ma.array(vomecrty0, mask=1 - vmask)\n",
    "    vovecrtz = np.ma.array(vovecrtz0, mask=1 - tmask)\n",
    "    vosaline = np.ma.array(vosaline0, mask=1 - tmask)\n",
    "    \n",
    "    return vozocrtx, vomecrty, vovecrtz, vosaline, tmask, umask, deptht, sozotaux"
   ]
  },
  {
   "cell_type": "code",
   "execution_count": 3,
   "metadata": {},
   "outputs": [],
   "source": [
    "def find_nearest(array, value):\n",
    "    array = np.asarray(array)\n",
    "    idx = (np.abs(array - value)).argmin()\n",
    "    return idx, array[idx]\n",
    "\n",
    "def get_varb_surf(vosaline_array, salt, varb):\n",
    "    \n",
    "    if len(vosaline_array.shape)==1:\n",
    "        f = interpolate.interp1d(vosaline_array, varb)\n",
    "        ynew = f(salt)\n",
    "        varb_array = ynew\n",
    "        \n",
    "    elif len(vosaline_array.shape)!=1:\n",
    "        varb_array = np.full([vosaline_array.shape[-2], vosaline_array.shape[-1]], np.nan)\n",
    "        for i in range(vosaline_array.shape[-1]):\n",
    "            for j in range(vosaline_array.shape[-2]):\n",
    "                vosaline_column = vosaline_array[:, j, i]\n",
    "                if len(varb.shape)==1:\n",
    "                    varb_column = varb\n",
    "                elif len(varb.shape)==3:\n",
    "                    varb_column = varb[:, j, i]\n",
    "\n",
    "                try:\n",
    "                    f = interpolate.interp1d(vosaline_column, varb_column)\n",
    "                    ynew = f(salt)\n",
    "                    varb_array[j, i] = ynew\n",
    "                except ValueError:\n",
    "                    varb_array[j, i] = np.nan  \n",
    "                \n",
    "    return varb_array"
   ]
  },
  {
   "cell_type": "code",
   "execution_count": 4,
   "metadata": {},
   "outputs": [],
   "source": [
    "salt_UHW_SA, salt_ATW_SA = 33.26258156425155, 34.99102991139694\n",
    "case = 'base'\n",
    "\n",
    "vosaline_ref = nc.Dataset('/ocean/imachuca/Canyons/mackenzie_canyon/conditions/NEMO_files/salinity/salinity_for_agrif.nc')['vosaline'][:]\n",
    "vosaline_ref_profile = vosaline_ref[0, :, 0, 0]\n",
    "\n",
    "time_s=36"
   ]
  },
  {
   "cell_type": "code",
   "execution_count": null,
   "metadata": {},
   "outputs": [
    {
     "name": "stdout",
     "output_type": "stream",
     "text": [
      "files\n"
     ]
    },
    {
     "ename": "KeyboardInterrupt",
     "evalue": "",
     "output_type": "error",
     "traceback": [
      "\u001b[0;31m---------------------------------------------------------------------------\u001b[0m",
      "\u001b[0;31mKeyboardInterrupt\u001b[0m                         Traceback (most recent call last)",
      "\u001b[0;32m<ipython-input-6-39df8670ed66>\u001b[0m in \u001b[0;36m<module>\u001b[0;34m()\u001b[0m\n\u001b[1;32m     20\u001b[0m \u001b[0;34m\u001b[0m\u001b[0m\n\u001b[1;32m     21\u001b[0m     \u001b[0mdepth_initial\u001b[0m \u001b[0;34m=\u001b[0m \u001b[0mget_varb_surf\u001b[0m\u001b[0;34m(\u001b[0m\u001b[0mvosaline_ref_profile\u001b[0m\u001b[0;34m,\u001b[0m \u001b[0msalt\u001b[0m\u001b[0;34m,\u001b[0m \u001b[0mdeptht\u001b[0m\u001b[0;34m)\u001b[0m\u001b[0;34m\u001b[0m\u001b[0m\n\u001b[0;32m---> 22\u001b[0;31m     \u001b[0mw_daily\u001b[0m \u001b[0;34m=\u001b[0m \u001b[0mget_varb_surf\u001b[0m\u001b[0;34m(\u001b[0m\u001b[0mvosaline\u001b[0m\u001b[0;34m,\u001b[0m \u001b[0msalt\u001b[0m\u001b[0;34m,\u001b[0m \u001b[0mvovecrtz\u001b[0m\u001b[0;34m)\u001b[0m\u001b[0;34m\u001b[0m\u001b[0m\n\u001b[0m\u001b[1;32m     23\u001b[0m     \u001b[0mprint\u001b[0m\u001b[0;34m(\u001b[0m\u001b[0mtime_s\u001b[0m\u001b[0;34m+\u001b[0m\u001b[0;36m1\u001b[0m\u001b[0;34m,\u001b[0m \u001b[0mnp\u001b[0m\u001b[0;34m.\u001b[0m\u001b[0mnanmin\u001b[0m\u001b[0;34m(\u001b[0m\u001b[0mw_daily\u001b[0m\u001b[0;34m)\u001b[0m\u001b[0;34m,\u001b[0m \u001b[0mnp\u001b[0m\u001b[0;34m.\u001b[0m\u001b[0mnanmax\u001b[0m\u001b[0;34m(\u001b[0m\u001b[0mw_daily\u001b[0m\u001b[0;34m)\u001b[0m\u001b[0;34m)\u001b[0m\u001b[0;34m\u001b[0m\u001b[0m\n\u001b[1;32m     24\u001b[0m \u001b[0;34m\u001b[0m\u001b[0m\n",
      "\u001b[0;32m<ipython-input-3-71b00346613e>\u001b[0m in \u001b[0;36mget_varb_surf\u001b[0;34m(vosaline_array, salt, varb)\u001b[0m\n\u001b[1;32m     22\u001b[0m \u001b[0;34m\u001b[0m\u001b[0m\n\u001b[1;32m     23\u001b[0m                 \u001b[0;32mtry\u001b[0m\u001b[0;34m:\u001b[0m\u001b[0;34m\u001b[0m\u001b[0m\n\u001b[0;32m---> 24\u001b[0;31m                     \u001b[0mf\u001b[0m \u001b[0;34m=\u001b[0m \u001b[0minterpolate\u001b[0m\u001b[0;34m.\u001b[0m\u001b[0minterp1d\u001b[0m\u001b[0;34m(\u001b[0m\u001b[0mvosaline_column\u001b[0m\u001b[0;34m,\u001b[0m \u001b[0mvarb_column\u001b[0m\u001b[0;34m)\u001b[0m\u001b[0;34m\u001b[0m\u001b[0m\n\u001b[0m\u001b[1;32m     25\u001b[0m                     \u001b[0mynew\u001b[0m \u001b[0;34m=\u001b[0m \u001b[0mf\u001b[0m\u001b[0;34m(\u001b[0m\u001b[0msalt\u001b[0m\u001b[0;34m)\u001b[0m\u001b[0;34m\u001b[0m\u001b[0m\n\u001b[1;32m     26\u001b[0m                     \u001b[0mvarb_array\u001b[0m\u001b[0;34m[\u001b[0m\u001b[0mj\u001b[0m\u001b[0;34m,\u001b[0m \u001b[0mi\u001b[0m\u001b[0;34m]\u001b[0m \u001b[0;34m=\u001b[0m \u001b[0mynew\u001b[0m\u001b[0;34m\u001b[0m\u001b[0m\n",
      "\u001b[0;32m~/anaconda3/envs/gsw/lib/python3.6/site-packages/scipy/interpolate/interpolate.py\u001b[0m in \u001b[0;36m__init__\u001b[0;34m(self, x, y, kind, axis, copy, bounds_error, fill_value, assume_sorted)\u001b[0m\n\u001b[1;32m    431\u001b[0m                  assume_sorted=False):\n\u001b[1;32m    432\u001b[0m         \u001b[0;34m\"\"\" Initialize a 1D linear interpolation class.\"\"\"\u001b[0m\u001b[0;34m\u001b[0m\u001b[0m\n\u001b[0;32m--> 433\u001b[0;31m         \u001b[0m_Interpolator1D\u001b[0m\u001b[0;34m.\u001b[0m\u001b[0m__init__\u001b[0m\u001b[0;34m(\u001b[0m\u001b[0mself\u001b[0m\u001b[0;34m,\u001b[0m \u001b[0mx\u001b[0m\u001b[0;34m,\u001b[0m \u001b[0my\u001b[0m\u001b[0;34m,\u001b[0m \u001b[0maxis\u001b[0m\u001b[0;34m=\u001b[0m\u001b[0maxis\u001b[0m\u001b[0;34m)\u001b[0m\u001b[0;34m\u001b[0m\u001b[0m\n\u001b[0m\u001b[1;32m    434\u001b[0m \u001b[0;34m\u001b[0m\u001b[0m\n\u001b[1;32m    435\u001b[0m         \u001b[0mself\u001b[0m\u001b[0;34m.\u001b[0m\u001b[0mbounds_error\u001b[0m \u001b[0;34m=\u001b[0m \u001b[0mbounds_error\u001b[0m  \u001b[0;31m# used by fill_value setter\u001b[0m\u001b[0;34m\u001b[0m\u001b[0m\n",
      "\u001b[0;32m~/anaconda3/envs/gsw/lib/python3.6/site-packages/scipy/interpolate/polyint.py\u001b[0m in \u001b[0;36m__init__\u001b[0;34m(self, xi, yi, axis)\u001b[0m\n\u001b[1;32m     58\u001b[0m         \u001b[0mself\u001b[0m\u001b[0;34m.\u001b[0m\u001b[0mdtype\u001b[0m \u001b[0;34m=\u001b[0m \u001b[0;32mNone\u001b[0m\u001b[0;34m\u001b[0m\u001b[0m\n\u001b[1;32m     59\u001b[0m         \u001b[0;32mif\u001b[0m \u001b[0myi\u001b[0m \u001b[0;32mis\u001b[0m \u001b[0;32mnot\u001b[0m \u001b[0;32mNone\u001b[0m\u001b[0;34m:\u001b[0m\u001b[0;34m\u001b[0m\u001b[0m\n\u001b[0;32m---> 60\u001b[0;31m             \u001b[0mself\u001b[0m\u001b[0;34m.\u001b[0m\u001b[0m_set_yi\u001b[0m\u001b[0;34m(\u001b[0m\u001b[0myi\u001b[0m\u001b[0;34m,\u001b[0m \u001b[0mxi\u001b[0m\u001b[0;34m=\u001b[0m\u001b[0mxi\u001b[0m\u001b[0;34m,\u001b[0m \u001b[0maxis\u001b[0m\u001b[0;34m=\u001b[0m\u001b[0maxis\u001b[0m\u001b[0;34m)\u001b[0m\u001b[0;34m\u001b[0m\u001b[0m\n\u001b[0m\u001b[1;32m     61\u001b[0m \u001b[0;34m\u001b[0m\u001b[0m\n\u001b[1;32m     62\u001b[0m     \u001b[0;32mdef\u001b[0m \u001b[0m__call__\u001b[0m\u001b[0;34m(\u001b[0m\u001b[0mself\u001b[0m\u001b[0;34m,\u001b[0m \u001b[0mx\u001b[0m\u001b[0;34m)\u001b[0m\u001b[0;34m:\u001b[0m\u001b[0;34m\u001b[0m\u001b[0m\n",
      "\u001b[0;32m~/anaconda3/envs/gsw/lib/python3.6/site-packages/scipy/interpolate/polyint.py\u001b[0m in \u001b[0;36m_set_yi\u001b[0;34m(self, yi, xi, axis)\u001b[0m\n\u001b[1;32m    117\u001b[0m             \u001b[0;32mraise\u001b[0m \u001b[0mValueError\u001b[0m\u001b[0;34m(\u001b[0m\u001b[0;34m\"no interpolation axis specified\"\u001b[0m\u001b[0;34m)\u001b[0m\u001b[0;34m\u001b[0m\u001b[0m\n\u001b[1;32m    118\u001b[0m \u001b[0;34m\u001b[0m\u001b[0m\n\u001b[0;32m--> 119\u001b[0;31m         \u001b[0myi\u001b[0m \u001b[0;34m=\u001b[0m \u001b[0mnp\u001b[0m\u001b[0;34m.\u001b[0m\u001b[0masarray\u001b[0m\u001b[0;34m(\u001b[0m\u001b[0myi\u001b[0m\u001b[0;34m)\u001b[0m\u001b[0;34m\u001b[0m\u001b[0m\n\u001b[0m\u001b[1;32m    120\u001b[0m \u001b[0;34m\u001b[0m\u001b[0m\n\u001b[1;32m    121\u001b[0m         \u001b[0mshape\u001b[0m \u001b[0;34m=\u001b[0m \u001b[0myi\u001b[0m\u001b[0;34m.\u001b[0m\u001b[0mshape\u001b[0m\u001b[0;34m\u001b[0m\u001b[0m\n",
      "\u001b[0;32m~/anaconda3/envs/gsw/lib/python3.6/site-packages/numpy/core/numeric.py\u001b[0m in \u001b[0;36masarray\u001b[0;34m(a, dtype, order)\u001b[0m\n\u001b[1;32m    499\u001b[0m \u001b[0;34m\u001b[0m\u001b[0m\n\u001b[1;32m    500\u001b[0m     \"\"\"\n\u001b[0;32m--> 501\u001b[0;31m     \u001b[0;32mreturn\u001b[0m \u001b[0marray\u001b[0m\u001b[0;34m(\u001b[0m\u001b[0ma\u001b[0m\u001b[0;34m,\u001b[0m \u001b[0mdtype\u001b[0m\u001b[0;34m,\u001b[0m \u001b[0mcopy\u001b[0m\u001b[0;34m=\u001b[0m\u001b[0;32mFalse\u001b[0m\u001b[0;34m,\u001b[0m \u001b[0morder\u001b[0m\u001b[0;34m=\u001b[0m\u001b[0morder\u001b[0m\u001b[0;34m)\u001b[0m\u001b[0;34m\u001b[0m\u001b[0m\n\u001b[0m\u001b[1;32m    502\u001b[0m \u001b[0;34m\u001b[0m\u001b[0m\n\u001b[1;32m    503\u001b[0m \u001b[0;34m\u001b[0m\u001b[0m\n",
      "\u001b[0;31mKeyboardInterrupt\u001b[0m: "
     ]
    }
   ],
   "source": [
    "fig, axes = plt.subplots(2, 2, sharex=True, sharey = True, figsize=(20, 18))\n",
    "\n",
    "kinds = ['ideal', 'ideal', 'real', 'real']\n",
    "salts = [salt_UHW_SA, salt_ATW_SA, salt_UHW_SA, salt_ATW_SA]\n",
    "for ax, kind, salt in zip(axes.flatten(), kinds, salts):\n",
    "    \n",
    "    dirname = '/ocean/imachuca/Canyons/results_mackenzie/extended_domain/'+kind+'_'+case+'/'\n",
    "    \n",
    "    fname = '1_MCKNZ*'\n",
    "    meshmaskname = '1_mesh_mask.nc'\n",
    "\n",
    "    vmin, vmax=-0.0008, 0.0008\n",
    "\n",
    "    \n",
    "    cmap = cmo.cm.balance\n",
    "    cmap.set_bad('silver')\n",
    "\n",
    "    vozocrtx, vomecrty, vovecrtz, vosaline, tmask, umask, deptht, sozotaux = get_varbs(dirname, fname, \n",
    "                                                                                   meshmaskname, time_s)\n",
    "\n",
    "    depth_initial = get_varb_surf(vosaline_ref_profile, salt, deptht)\n",
    "    w_daily = get_varb_surf(vosaline, salt, vovecrtz)\n",
    "    print(time_s+1, np.nanmin(w_daily), np.nanmax(w_daily))\n",
    "    \n",
    "    u_daily = get_varb_surf(vosaline, salt, vozocrtx)\n",
    "    v_daily = get_varb_surf(vosaline, salt, vomecrty)\n",
    "    x_slice, y_slice, u_nstg, v_nstg, speeds = quicklook.get_speeds(u_daily, v_daily, 1)\n",
    "    strm = ax.streamplot(x_slice, y_slice, u_nstg, v_nstg, color='k', density=2, linewidth=0.5)\n",
    "    \n",
    "    xs = np.arange(w_daily.shape[1])\n",
    "    ys = np.arange(w_daily.shape[0])\n",
    "    p = ax.pcolormesh(xs, ys, w_daily, cmap=cmap, vmin=vmin, vmax=vmax)\n",
    "    ax.set_xlim([0, xs[-1]])\n",
    "    ax.set_ylim([0, ys[-1]])"
   ]
  },
  {
   "cell_type": "code",
   "execution_count": null,
   "metadata": {},
   "outputs": [],
   "source": []
  }
 ],
 "metadata": {
  "kernelspec": {
   "display_name": "Python 3",
   "language": "python",
   "name": "python3"
  },
  "language_info": {
   "codemirror_mode": {
    "name": "ipython",
    "version": 3
   },
   "file_extension": ".py",
   "mimetype": "text/x-python",
   "name": "python",
   "nbconvert_exporter": "python",
   "pygments_lexer": "ipython3",
   "version": "3.6.5"
  }
 },
 "nbformat": 4,
 "nbformat_minor": 2
}
