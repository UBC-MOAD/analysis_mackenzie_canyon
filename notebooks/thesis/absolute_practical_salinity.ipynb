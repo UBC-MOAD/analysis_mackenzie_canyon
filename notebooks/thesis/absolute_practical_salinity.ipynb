{
 "cells": [
  {
   "cell_type": "code",
   "execution_count": 1,
   "metadata": {},
   "outputs": [],
   "source": [
    "# LANSARD ET AL.: WATER MASSES IN THE BEAUFORT SEA \n",
    "# https://agupubs.onlinelibrary.wiley.com/doi/pdf/10.1029/2011JC007299\n",
    "salt_UHW = 33.1; pm_UHW = 0.2\n",
    "salt_ATW = 34.82; pm_ATW = 0.02\n",
    "salt_CBDW = 34.95; pm_CBDW = 0.02"
   ]
  },
  {
   "cell_type": "code",
   "execution_count": 2,
   "metadata": {},
   "outputs": [],
   "source": [
    "import gsw\n",
    "from gsw import conversions\n",
    "\n",
    "%matplotlib inline"
   ]
  },
  {
   "cell_type": "code",
   "execution_count": 3,
   "metadata": {},
   "outputs": [],
   "source": [
    "p = 10\n",
    "lon = 141.845\n",
    "lat = 70.55\n",
    "\n",
    "\n",
    "salt_UHW_SA_min = conversions.SA_from_SP(salt_UHW-pm_UHW, p, lon, lat)\n",
    "salt_ATW_SA_min = conversions.SA_from_SP(salt_ATW-pm_ATW, p, lon, lat)\n",
    "salt_CBDW_SA_min = conversions.SA_from_SP(salt_CBDW-pm_CBDW, p, lon, lat)\n",
    "\n",
    "salt_UHW_SA_max = conversions.SA_from_SP(salt_UHW+pm_UHW, p, lon, lat)\n",
    "salt_ATW_SA_max = conversions.SA_from_SP(salt_ATW+pm_ATW, p, lon, lat)\n",
    "salt_CBDW_SA_max = conversions.SA_from_SP(salt_CBDW+pm_CBDW, p, lon, lat)\n",
    "\n",
    "salt_UHW_SA = conversions.SA_from_SP(salt_UHW, p, lon, lat)\n",
    "salt_ATW_SA = conversions.SA_from_SP(salt_ATW, p, lon, lat)\n",
    "salt_CBDW_SA = conversions.SA_from_SP(salt_CBDW, p, lon, lat)"
   ]
  },
  {
   "cell_type": "code",
   "execution_count": 4,
   "metadata": {},
   "outputs": [
    {
     "name": "stdout",
     "output_type": "stream",
     "text": [
      "33.06159919830441 34.97093167480222 35.101570212667866\n",
      "33.46356393019869 35.01112814799166 35.141766685857306\n",
      "33.26258156425155 34.99102991139694 35.121668449262586\n"
     ]
    }
   ],
   "source": [
    "print(salt_UHW_SA_min, salt_ATW_SA_min, salt_CBDW_SA_min)\n",
    "print(salt_UHW_SA_max, salt_ATW_SA_max, salt_CBDW_SA_max)\n",
    "print(salt_UHW_SA, salt_ATW_SA, salt_CBDW_SA)"
   ]
  },
  {
   "cell_type": "code",
   "execution_count": 15,
   "metadata": {},
   "outputs": [],
   "source": [
    "vosaline_ref = nc.Dataset('/ocean/imachuca/Canyons/mackenzie_canyon/conditions/NEMO_files/salinity/salinity_for_agrif.nc')['vosaline'][:]\n",
    "vosaline_ref_profile = vosaline_ref[0, :, 0, 0]"
   ]
  },
  {
   "cell_type": "code",
   "execution_count": 16,
   "metadata": {},
   "outputs": [
    {
     "data": {
      "text/plain": [
       "masked_array(data=[22.194252014160156, 27.424142837524414,\n",
       "                   28.71079444885254, 29.34423828125, 29.93310546875,\n",
       "                   30.252323150634766, 30.726943969726562,\n",
       "                   31.20975112915039, 31.60148811340332,\n",
       "                   31.992544174194336, 32.28652572631836,\n",
       "                   32.552852630615234, 32.85224914550781,\n",
       "                   33.23514938354492, 33.418060302734375,\n",
       "                   33.587921142578125, 33.74547576904297,\n",
       "                   33.88418197631836, 34.02747344970703,\n",
       "                   34.16885757446289, 34.25599670410156,\n",
       "                   34.34654998779297, 34.45515060424805,\n",
       "                   34.509159088134766, 34.56965637207031,\n",
       "                   34.62442398071289, 34.674278259277344,\n",
       "                   34.71537780761719, 34.754356384277344,\n",
       "                   34.79199981689453, 34.82886505126953,\n",
       "                   34.841182708740234, 34.86204147338867,\n",
       "                   34.88117980957031, 34.89607620239258,\n",
       "                   34.90884017944336, 34.91975784301758, 34.9309196472168,\n",
       "                   34.93035125732422, 34.9412956237793, 34.94955062866211,\n",
       "                   34.95639419555664, 34.96502685546875,\n",
       "                   34.965965270996094, 34.96592712402344,\n",
       "                   34.970863342285156, 34.97578430175781,\n",
       "                   34.97878646850586, 34.977760314941406,\n",
       "                   34.97871398925781, 34.98160171508789,\n",
       "                   34.985450744628906, 34.98871612548828,\n",
       "                   34.99046325683594, 34.99358367919922,\n",
       "                   34.99552536010742, 34.9964714050293,\n",
       "                   34.996437072753906, 34.997440338134766,\n",
       "                   34.999515533447266, 35.00040817260742,\n",
       "                   35.00334167480469, 35.00831985473633, 35.0132942199707,\n",
       "                   35.01628494262695, 35.019283294677734,\n",
       "                   35.02328872680664, 35.02629852294922,\n",
       "                   35.029415130615234, 35.0323371887207,\n",
       "                   35.03532028198242, 35.03835678100586,\n",
       "                   35.04141616821289, 35.044517517089844,\n",
       "                   35.0475959777832, 35.05061721801758, 35.05363845825195,\n",
       "                   35.05672836303711, 35.06093215942383,\n",
       "                   35.06288528442383],\n",
       "             mask=[False, False, False, False, False, False, False, False,\n",
       "                   False, False, False, False, False, False, False, False,\n",
       "                   False, False, False, False, False, False, False, False,\n",
       "                   False, False, False, False, False, False, False, False,\n",
       "                   False, False, False, False, False, False, False, False,\n",
       "                   False, False, False, False, False, False, False, False,\n",
       "                   False, False, False, False, False, False, False, False,\n",
       "                   False, False, False, False, False, False, False, False,\n",
       "                   False, False, False, False, False, False, False, False,\n",
       "                   False, False, False, False, False, False, False, False],\n",
       "       fill_value=9.96921e+36,\n",
       "            dtype=float32)"
      ]
     },
     "execution_count": 16,
     "metadata": {},
     "output_type": "execute_result"
    }
   ],
   "source": [
    "vosaline_ref_profile"
   ]
  },
  {
   "cell_type": "code",
   "execution_count": null,
   "metadata": {},
   "outputs": [],
   "source": []
  }
 ],
 "metadata": {
  "kernelspec": {
   "display_name": "Python 3",
   "language": "python",
   "name": "python3"
  },
  "language_info": {
   "codemirror_mode": {
    "name": "ipython",
    "version": 3
   },
   "file_extension": ".py",
   "mimetype": "text/x-python",
   "name": "python",
   "nbconvert_exporter": "python",
   "pygments_lexer": "ipython3",
   "version": "3.6.7"
  }
 },
 "nbformat": 4,
 "nbformat_minor": 2
}
