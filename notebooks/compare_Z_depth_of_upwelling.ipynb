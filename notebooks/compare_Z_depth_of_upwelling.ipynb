{
 "cells": [
  {
   "cell_type": "markdown",
   "metadata": {},
   "source": [
    "This notebook runs comparison between the scaling for Z and the model's depth of upwelling."
   ]
  },
  {
   "cell_type": "code",
   "execution_count": 1,
   "metadata": {
    "collapsed": true
   },
   "outputs": [],
   "source": [
    "import netCDF4 as nc\n",
    "import scipy.io as sio\n",
    "import matplotlib\n",
    "import cmocean as cmo\n",
    "import xarray as xr\n",
    "import numpy as np\n",
    "from scipy import interpolate\n",
    "from salishsea_tools import gsw_calls\n",
    "from salishsea_tools import nc_tools, viz_tools\n",
    "from operator import itemgetter\n",
    "import matplotlib.pyplot as plt\n",
    "import matplotlib.cm as cm\n",
    "import matplotlib as mpl\n",
    "%matplotlib inline\n",
    "\n",
    "import sys\n",
    "sys.path.append('/ocean/imachuca/Canyons/mackenzie_canyon/tools/')\n",
    "import functions_idealized\n",
    "import functions_plot\n",
    "import functions_profiles\n",
    "import functions_upwelling_depth"
   ]
  },
  {
   "cell_type": "markdown",
   "metadata": {},
   "source": [
    "# Z Scaling"
   ]
  },
  {
   "cell_type": "code",
   "execution_count": 2,
   "metadata": {
    "collapsed": false
   },
   "outputs": [],
   "source": [
    "def smooth(y, box_pts):\n",
    "    box = np.ones(box_pts)/box_pts\n",
    "    y_smooth = np.convolve(y, box, mode='same')\n",
    "    return y_smooth\n",
    "\n",
    "def get_scaling_vars(initial_sal, initial_tem, bathy, sal_ref, dep_ref, nav_lat, deptht, u_vel, tmask, depth_levels, sal):\n",
    "    \n",
    "    dep = -1 * deptht\n",
    "    #lat = np.ones(1) * np.mean(nav_lat)\n",
    "    #p = gsw_calls.generic_gsw_caller('gsw_p_from_z.m', [dep, lat], matlab_gsw_dir='/ocean/rich/home/matlab/gsw3')\n",
    "\n",
    "\n",
    "    #SA = initial_sal[0,:,0,0]\n",
    "    #CT = initial_tem[0,:,0,0]\n",
    "    #rho = gsw_calls.generic_gsw_caller('gsw_rho_CT_exact.m', [SA, CT, p], matlab_gsw_dir='/ocean/rich/home/matlab/gsw3')\n",
    "    \n",
    "    p = np.asarray([    5.0264,    15.252  ,   25.8   ,    36.828  ,   48.568  ,   61.365  ,   75.723,\n",
    "         92.379,    112.4   ,   137.29   ,  169.14   ,  210.75   ,  265.7    ,  338.2,\n",
    "         432.74,     553.39   ,  702.87  ,   881.92 ,   1089.    ,  1320.8   ])\n",
    "\n",
    "    rho = np.asarray([ 1017.7 , 1022.3,  1023.3 , 1024. ,  1024.4 , 1025.,   1025.7 , 1026.3,  1026.9,\n",
    "           1027.6 , 1028.1 , 1028.6 , 1029.1 , 1029.5,  1030. ,  1030.6 , 1031.3 , 1032.2,\n",
    "           1033.1 , 1034.3])\n",
    "\n",
    "\n",
    "    d_rho0 = np.diff(rho)\n",
    "    d_dep0 = np.diff(dep)\n",
    "    f_rho = interpolate.interp1d(np.arange(len(d_rho0)), d_rho0, fill_value='extrapolate')\n",
    "    f_dep = interpolate.interp1d(np.arange(len(d_dep0)), d_dep0, fill_value='extrapolate')\n",
    "    d_rho = f_rho(np.arange(len(d_rho0)+1))\n",
    "    d_dep = f_dep(np.arange(len(d_dep0)+1))\n",
    "    N = np.sqrt((-9.81 / rho)*(d_rho / d_dep))\n",
    "\n",
    "\n",
    "    y_ind = 67\n",
    "\n",
    "\n",
    "    u_in = u_vel[:, rim_ind, y_ind, x_ind]\n",
    "    u_in_smooth = smooth(u_in, 24)\n",
    "    vel_threshold = 1e-8\n",
    "    permanent_duration = 24\n",
    "    dt = 1 * 60 *60\n",
    "\n",
    "\n",
    "    du_in = np.diff(u_in) / dt\n",
    "    du_in_smooth = np.diff(u_in_smooth) / dt\n",
    "    du_in_smooth_abs = abs(du_in_smooth)\n",
    "    inds_below_threshold = np.where(du_in_smooth_abs < vel_threshold)[0]\n",
    "    spacing_inds = np.diff(inds_below_threshold)\n",
    "    subind_permanent_steady = np.where(spacing_inds > permanent_duration)[0][0] + 1\n",
    "    time_ind_adv_du = inds_below_threshold[subind_permanent_steady]\n",
    "    time_ind_adv = time_ind_adv_du + 1\n",
    "    U_incoming = np.mean(u_in[time_ind_adv:408])\n",
    "    \n",
    "    return p, rho, N, y_ind, U_incoming, time_ind_adv\n",
    "\n",
    "\n",
    "\n",
    "def get_Z_AH10(nav_lat, curv_rad_km, U_incoming, L, N):\n",
    "\n",
    "    lat = np.mean(nav_lat)\n",
    "    omega = (2 * np.pi) / (24 * 60 * 60)\n",
    "    f = 2 * omega * np.sin(np.deg2rad(lat))\n",
    "\n",
    "    curv_rad = curv_rad_km * 1000 \n",
    "\n",
    "    R0 = abs(U_incoming) / (f * curv_rad)\n",
    "\n",
    "    F_R0 = R0 / (0.9 + R0)\n",
    "\n",
    "    #x_wall, y_wall, w_break, w_mid, w_head, cR, L, p,\\\n",
    "    #y_coast, y_head, y_break, y_pointA, y_pointB, y_paral, y_base, fluid_depth,\\\n",
    "    #z_bottom, z_paral, z_pointA, z_pointB, z_break, z_coast = functions_idealized.Mackenzie_measurements(0, 0)\n",
    "\n",
    "    RL = abs(U_incoming) / (f * L)\n",
    "\n",
    "    DH = (f * L) / N[rim_ind]\n",
    "\n",
    "    Z_AH10 = DH * ((1.3 * (F_R0 * RL)**0.5) + 0.06)\n",
    "    \n",
    "    return f, R0, F_R0, RL, DH, Z_AH10\n",
    "\n",
    "\n",
    "\n",
    "\n",
    "def get_Z_HA13(U_incoming, f, L, N, RL, DH, w_mid, z_coast, z_break, y_coast, y_break):\n",
    "\n",
    "    RW = abs(U_incoming) / (f * w_mid)\n",
    "\n",
    "    F_RW = RW / (0.9 + RW)\n",
    "\n",
    "    s = (z_coast - z_break) / (y_coast - y_break)\n",
    "\n",
    "    SE = (s * N[rim_ind] / f) * ((F_RW / RL)**0.5)\n",
    "\n",
    "    Z_HA13 =  DH * (1.8 * ((F_RW * RL)**0.5) * (1 - (0.42 * SE)) + 0.05)\n",
    "    \n",
    "    return RW, F_RW, s, SE, Z_HA13"
   ]
  },
  {
   "cell_type": "markdown",
   "metadata": {},
   "source": [
    "# Model Z"
   ]
  },
  {
   "cell_type": "code",
   "execution_count": 3,
   "metadata": {
    "collapsed": false
   },
   "outputs": [],
   "source": [
    "def get_rim_upwelling_vars(bathy):\n",
    "    diffs_x = np.zeros([bathy.shape[0], bathy.shape[1]-1])\n",
    "    diffs_y = np.zeros([bathy.shape[0]-1, bathy.shape[1]])\n",
    "\n",
    "    for n in range(bathy.shape[0]):\n",
    "        diffs_x[n, :] = abs(np.diff(bathy[n, :]))\n",
    "\n",
    "    for n in range(bathy.shape[1]):\n",
    "        diffs_y[:, n] = np.diff(bathy[:, n])\n",
    "\n",
    "\n",
    "    possible_rim_points = np.where((abs(diffs_x) >= 2) & (abs(diffs_x) <= 4))\n",
    "    possible_rim_points_x = possible_rim_points[1]\n",
    "    possible_rim_points_y = possible_rim_points[0]\n",
    "\n",
    "\n",
    "    unique_ys = np.unique(possible_rim_points_y)\n",
    "    rim_inds_full = np.zeros([len(unique_ys), 3])\n",
    "    for n in range(len(unique_ys)):\n",
    "        individual_y = unique_ys[n]\n",
    "        inds_individual_y = np.where(possible_rim_points_y==individual_y)\n",
    "        inds_x_for_individual_y = itemgetter(*inds_individual_y)(possible_rim_points_x)\n",
    "        individual_x_min = inds_x_for_individual_y.min()\n",
    "        individual_x_max = inds_x_for_individual_y.max()\n",
    "        rim_inds_full[n,0] = individual_y\n",
    "        rim_inds_full[n,1] = individual_x_min\n",
    "        rim_inds_full[n,2] = individual_x_max\n",
    "\n",
    "\n",
    "    ind_for_shelf_break = (np.abs(bathy[:,0]-80)).argmin()\n",
    "    ind_end_rim = np.where(rim_inds_full[:,0] == ind_for_shelf_break)[0][0]\n",
    "    rim_inds = rim_inds_full[:ind_end_rim, :]\n",
    "    \n",
    "    return rim_inds\n",
    "\n",
    "\n",
    "\n",
    "def get_Z_model(sal, time_ind_adv):\n",
    "    sal_full = sal\n",
    "    time_shots_adv = np.arange(time_ind_adv, time_ind_adv+24)\n",
    "    ED_left = np.zeros([time_shots_adv.shape[0], rim_inds.shape[0]])\n",
    "    ED_right = np.zeros_like(ED_left)\n",
    "\n",
    "    for time_shot, n in zip(time_shots_adv, np.arange(len(time_shots_adv))):\n",
    "\n",
    "        ind_nanmax_full = functions_upwelling_depth.get_nanmax_ind_full(time_shot, sal_full)\n",
    "\n",
    "\n",
    "        sal_profiles_rim_left = functions_upwelling_depth.get_sal_profiles_rim(rim_inds[:,0], rim_inds[:,1], time_shot, sal_full)\n",
    "        sal_profiles_rim_right = functions_upwelling_depth.get_sal_profiles_rim(rim_inds[:,0], rim_inds[:,2], time_shot, sal_full)\n",
    "\n",
    "\n",
    "        depth_change_left, d_new_left = functions_upwelling_depth.calculate_ED_rim(sal_profiles_rim_left, sal_ref, dep_ref, depth_levels)\n",
    "        depth_change_right, d_new_right = functions_upwelling_depth.calculate_ED_rim(sal_profiles_rim_right, sal_ref, dep_ref, depth_levels)\n",
    "\n",
    "        ED_left[n, :] = depth_change_left\n",
    "        ED_right[n, :] = depth_change_right\n",
    "        \n",
    "    ED_left_mean = np.mean(ED_left, axis=0)\n",
    "    ED_right_mean = np.mean(ED_right, axis=0)\n",
    "    Z_model = np.max([ED_left_mean.max(), ED_right_mean.max()])\n",
    "    \n",
    "    return ED_left_mean, ED_right_mean, Z_model"
   ]
  },
  {
   "cell_type": "markdown",
   "metadata": {},
   "source": [
    "# Load Results"
   ]
  },
  {
   "cell_type": "code",
   "execution_count": 4,
   "metadata": {
    "collapsed": true
   },
   "outputs": [],
   "source": [
    "bathy_type = 'ideal_bathy_05.nc'\n",
    "bathy_file = nc.Dataset('/ocean/imachuca/Canyons/mackenzie_canyon/bathymetry/NEMO_files/idealized/' + bathy_type)\n",
    "\n",
    "\n",
    "initial_sal = nc.Dataset('../../mackenzie_canyon/conditions/NEMO_files/salinity/salinity_doubled_20.nc')['vosaline']\n",
    "initial_tem = nc.Dataset('../../mackenzie_canyon/conditions/NEMO_files/temperature/temperature_doubled_20.nc')['votemper']\n",
    "\n",
    "gridT = xr.open_dataset('../../results_mackenzie/idealized/upwelling_events/eventB_pulse10_bdy/GYRE_1h_20170101_20170120_grid_T.nc')\n",
    "\n",
    "nav_lat = np.asfarray(gridT['nav_lat'])\n",
    "deptht = np.asfarray(gridT['deptht'])\n",
    "\n",
    "ts_data = sio.loadmat('../../mackenzie_canyon/conditions/data/for_stratification/canyonTSdata2.mat')\n",
    "i_ref = 0\n",
    "sal_ref = ts_data['salcanyon2'][:, i_ref]\n",
    "dep_ref = ts_data['depthcanyon2'][:, i_ref]*-1\n",
    "\n",
    "path = '/ocean/imachuca/Canyons/results_mackenzie/idealized/' \n",
    "\n",
    "x_ind = 175\n",
    "rim_ind = 6\n",
    "curv_rad_km = 42.584509999999995"
   ]
  },
  {
   "cell_type": "markdown",
   "metadata": {},
   "source": [
    "# Mackenzie Canyon - Original Winds"
   ]
  },
  {
   "cell_type": "code",
   "execution_count": 5,
   "metadata": {
    "collapsed": false
   },
   "outputs": [],
   "source": [
    "def get_results(initial_sal, initial_tem, bathy, sal_ref, dep_ref, nav_lat, deptht, u_vel, tmask, depth_levels, sal, curv_rad_km):\n",
    "    p, rho, N, y_ind, U_incoming, time_ind_adv = get_scaling_vars(initial_sal, initial_tem, bathy, sal_ref, dep_ref, nav_lat, deptht, u_vel, tmask, depth_levels, sal)\n",
    "\n",
    "    x_wall, y_wall, w_break, w_mid, w_head, cR, L, p,\\\n",
    "    y_coast, y_head, y_break, y_pointA, y_pointB, y_paral, y_base, fluid_depth,\\\n",
    "    z_bottom, z_paral, z_pointA, z_pointB, z_break, z_coast = functions_idealized.Mackenzie_measurements(0, 0)\n",
    "\n",
    "    f, R0, F_R0, RL, DH, Z_AH10 = get_Z_AH10(nav_lat, curv_rad_km, U_incoming, L, N)\n",
    "\n",
    "    RW, F_RW, s, SE, Z_HA13 = get_Z_HA13(U_incoming, f, L, N, RL, DH, w_mid, z_coast, z_break, y_coast, y_break)\n",
    "    \n",
    "    # -----------------------------------------------------------------------------\n",
    "    \n",
    "    ED_left_mean, ED_right_mean, Z_model = get_Z_model(sal, time_ind_adv)\n",
    "    \n",
    "    return N, time_ind_adv, U_incoming, R0, F_R0, RL, DH, Z_AH10, RW, F_RW, s, SE, Z_HA13, ED_left_mean, ED_right_mean, Z_model"
   ]
  },
  {
   "cell_type": "code",
   "execution_count": 6,
   "metadata": {
    "collapsed": false
   },
   "outputs": [],
   "source": [
    "cfg1 = 'upwelling_events/eventB_pulse10_bdy'\n",
    "depth_levels = deptht\n",
    "sal = np.asfarray(xr.open_dataset(path+cfg1+'/GYRE_1h_20170101_20170120_grid_T.nc')['vosaline'])\n",
    "u_vel = np.asfarray(xr.open_dataset(path+cfg1+'/GYRE_1h_20170101_20170120_grid_U.nc')['vozocrtx'])\n",
    "tmask = np.asfarray(xr.open_dataset(path+cfg1+'/mesh_mask.nc')['tmask'])\n",
    "bathy = bathy_file['Bathymetry']\n",
    "rim_inds = get_rim_upwelling_vars(bathy)\n",
    "\n",
    "\n",
    "N1, time_ind_adv, U_incoming1, R0,\\\n",
    "F_R0, RL1, DH1, Z_AH1,\\\n",
    "RW1, F_RW1, s, SE1, Z_HA1,\\\n",
    "ED_left_mean1, ED_right_mean1, Z_model1 = get_results(initial_sal, initial_tem, \n",
    "                                                   bathy, sal_ref, dep_ref, nav_lat, deptht, u_vel, \n",
    "                                                   tmask, depth_levels, sal, curv_rad_km)"
   ]
  },
  {
   "cell_type": "code",
   "execution_count": 7,
   "metadata": {
    "collapsed": false
   },
   "outputs": [],
   "source": [
    "cfg2 = 'scaling_runs_cmos/higher_winds'\n",
    "depth_levels = deptht\n",
    "sal = np.asfarray(xr.open_dataset(path+cfg2+'/GYRE_1h_20170101_20170120_grid_T.nc')['vosaline'])\n",
    "u_vel = np.asfarray(xr.open_dataset(path+cfg2+'/GYRE_1h_20170101_20170120_grid_U.nc')['vozocrtx'])\n",
    "tmask = np.asfarray(xr.open_dataset(path+cfg2+'/mesh_mask.nc')['tmask'])\n",
    "bathy = bathy_file['Bathymetry']\n",
    "rim_inds = get_rim_upwelling_vars(bathy)\n",
    "\n",
    "\n",
    "N2, time_ind_adv, U_incoming2, R0,\\\n",
    "F_R0, RL2, DH2, Z_AH2,\\\n",
    "RW2, F_RW2, s, SE2, Z_HA2,\\\n",
    "ED_left_mean2, ED_right_mean2, Z_model2 = get_results(initial_sal, initial_tem, \n",
    "                                                   bathy, sal_ref, dep_ref, nav_lat, deptht, u_vel, \n",
    "                                                   tmask, depth_levels, sal, curv_rad_km)"
   ]
  },
  {
   "cell_type": "code",
   "execution_count": 8,
   "metadata": {
    "collapsed": false
   },
   "outputs": [],
   "source": [
    "cfg3 = 'scaling_runs_cmos/highest_winds'\n",
    "depth_levels = deptht\n",
    "sal = np.asfarray(xr.open_dataset(path+cfg3+'/GYRE_1h_20170101_20170120_grid_T.nc')['vosaline'])\n",
    "u_vel = np.asfarray(xr.open_dataset(path+cfg3+'/GYRE_1h_20170101_20170120_grid_U.nc')['vozocrtx'])\n",
    "tmask = np.asfarray(xr.open_dataset(path+cfg3+'/mesh_mask.nc')['tmask'])\n",
    "bathy = bathy_file['Bathymetry']\n",
    "rim_inds = get_rim_upwelling_vars(bathy)\n",
    "\n",
    "\n",
    "N3, time_ind_adv, U_incoming3, R0,\\\n",
    "F_R0, RL3, DH3, Z_AH3,\\\n",
    "RW3, F_RW3, s, SE3, Z_HA3,\\\n",
    "ED_left_mean3, ED_right_mean3, Z_model3 = get_results(initial_sal, initial_tem, \n",
    "                                                   bathy, sal_ref, dep_ref, nav_lat, deptht, u_vel, \n",
    "                                                   tmask, depth_levels, sal, curv_rad_km)"
   ]
  },
  {
   "cell_type": "raw",
   "metadata": {
    "collapsed": true
   },
   "source": [
    "cfg4 = 'scaling_runs_cmos/highest_winds'\n",
    "depth_levels = deptht\n",
    "sal = np.asfarray(xr.open_dataset(path+cfg4+'/GYRE_1h_20170101_20170120_grid_T.nc')['vosaline'])\n",
    "u_vel = np.asfarray(xr.open_dataset(path+cfg4+'/GYRE_1h_20170101_20170120_grid_U.nc')['vozocrtx'])\n",
    "tmask = np.asfarray(xr.open_dataset(path+cfg4+'/mesh_mask.nc')['tmask'])\n",
    "bathy = bathy_file['Bathymetry']\n",
    "rim_inds = get_rim_upwelling_vars(bathy)\n",
    "\n",
    "\n",
    "time_ind_adv, U_incoming4, R0,\\\n",
    "F_R0, RL4, DH4, Z_AH4,\\\n",
    "RW, F_RW4, s, SE4, Z_HA4,\\\n",
    "ED_left_mean4, ED_right_mean4, Z_model4 = get_results(initial_sal, initial_tem, \n",
    "                                                   bathy, sal_ref, dep_ref, nav_lat, deptht, u_vel, \n",
    "                                                   tmask, depth_levels, sal, curv_rad_km)"
   ]
  },
  {
   "cell_type": "raw",
   "metadata": {
    "collapsed": true
   },
   "source": [
    "cfg5 = 'scaling_runs_cmos/tiny_canyon'\n",
    "depth_levels = deptht\n",
    "sal = np.asfarray(xr.open_dataset(path+cfg5+'/GYRE_1h_20170101_20170120_grid_T.nc')['vosaline'])\n",
    "u_vel = np.asfarray(xr.open_dataset(path+cfg5+'/GYRE_1h_20170101_20170120_grid_U.nc')['vozocrtx'])\n",
    "tmask = np.asfarray(xr.open_dataset(path+cfg5+'/mesh_mask.nc')['tmask'])\n",
    "bathy = bathy_file['Bathymetry']\n",
    "rim_inds = get_rim_upwelling_vars(bathy)\n",
    "\n",
    "\n",
    "time_ind_adv, U_incoming5, R0,\\\n",
    "F_R0, RL5, DH5, Z_AH5,\\\n",
    "RW, F_RW5, s, SE5, Z_HA5,\\\n",
    "ED_left_mean5, ED_right_mean5, Z_model5 = get_results(initial_sal, initial_tem, \n",
    "                                                   bathy, sal_ref, dep_ref, nav_lat, deptht, u_vel, \n",
    "                                                   tmask, depth_levels, sal, curv_rad_km)"
   ]
  },
  {
   "cell_type": "raw",
   "metadata": {
    "collapsed": true
   },
   "source": [
    "cfg6 = 'scaling_runs_cmos/tiny_higher_winds'\n",
    "depth_levels = deptht\n",
    "sal = np.asfarray(xr.open_dataset(path+cfg6+'/GYRE_1h_20170101_20170120_grid_T.nc')['vosaline'])\n",
    "u_vel = np.asfarray(xr.open_dataset(path+cfg6+'/GYRE_1h_20170101_20170120_grid_U.nc')['vozocrtx'])\n",
    "tmask = np.asfarray(xr.open_dataset(path+cfg6+'/mesh_mask.nc')['tmask'])\n",
    "bathy = bathy_file['Bathymetry']\n",
    "rim_inds = get_rim_upwelling_vars(bathy)\n",
    "\n",
    "\n",
    "time_ind_adv, U_incoming6, R0,\\\n",
    "F_R0, RL6, DH6, Z_AH6,\\\n",
    "RW, F_RW6, s, SE6, Z_HA6,\\\n",
    "ED_left_mean6, ED_right_mean6, Z_model6 = get_results(initial_sal, initial_tem, \n",
    "                                                   bathy, sal_ref, dep_ref, nav_lat, deptht, u_vel, \n",
    "                                                   tmask, depth_levels, sal, curv_rad_km)"
   ]
  },
  {
   "cell_type": "raw",
   "metadata": {
    "collapsed": true
   },
   "source": [
    "cfg7 = 'scaling_runs_cmos/tiny_highest_winds'\n",
    "depth_levels = deptht\n",
    "sal = np.asfarray(xr.open_dataset(path+cfg7+'/GYRE_1h_20170101_20170120_grid_T.nc')['vosaline'])\n",
    "u_vel = np.asfarray(xr.open_dataset(path+cfg7+'/GYRE_1h_20170101_20170120_grid_U.nc')['vozocrtx'])\n",
    "tmask = np.asfarray(xr.open_dataset(path+cfg7+'/mesh_mask.nc')['tmask'])\n",
    "bathy = bathy_file['Bathymetry']\n",
    "rim_inds = get_rim_upwelling_vars(bathy)\n",
    "\n",
    "\n",
    "time_ind_adv, U_incoming7, R0,\\\n",
    "F_R0, RL7, DH7, Z_AH7,\\\n",
    "RW, F_RW7, s, SE7, Z_HA7,\\\n",
    "ED_left_mean7, ED_right_mean7, Z_model7 = get_results(initial_sal, initial_tem, \n",
    "                                                   bathy, sal_ref, dep_ref, nav_lat, deptht, u_vel, \n",
    "                                                   tmask, depth_levels, sal, curv_rad_km)"
   ]
  },
  {
   "cell_type": "raw",
   "metadata": {
    "collapsed": true
   },
   "source": [
    "cfg8 = 'scaling_runs_cmos/tiniest_canyon'\n",
    "depth_levels = deptht\n",
    "sal = np.asfarray(xr.open_dataset(path+cfg8+'/GYRE_1h_20170101_20170120_grid_T.nc')['vosaline'])\n",
    "u_vel = np.asfarray(xr.open_dataset(path+cfg8+'/GYRE_1h_20170101_20170120_grid_U.nc')['vozocrtx'])\n",
    "tmask = np.asfarray(xr.open_dataset(path+cfg8+'/mesh_mask.nc')['tmask'])\n",
    "bathy = bathy_file['Bathymetry']\n",
    "rim_inds = get_rim_upwelling_vars(bathy)\n",
    "\n",
    "\n",
    "time_ind_adv, U_incoming8, R0,\\\n",
    "F_R0, RL8, DH8, Z_AH8,\\\n",
    "RW, F_RW8, s, SE8, Z_HA8,\\\n",
    "ED_left_mean8, ED_right_mean8, Z_model8 = get_results(initial_sal, initial_tem, \n",
    "                                                   bathy, sal_ref, dep_ref, nav_lat, deptht, u_vel, \n",
    "                                                   tmask, depth_levels, sal, curv_rad_km)"
   ]
  },
  {
   "cell_type": "raw",
   "metadata": {
    "collapsed": true
   },
   "source": [
    "cfg9 = 'scaling_runs_cmos/tiniest_higher_winds'\n",
    "depth_levels = deptht\n",
    "sal = np.asfarray(xr.open_dataset(path+cfg9+'/GYRE_1h_20170101_20170120_grid_T.nc')['vosaline'])\n",
    "u_vel = np.asfarray(xr.open_dataset(path+cfg9+'/GYRE_1h_20170101_20170120_grid_U.nc')['vozocrtx'])\n",
    "tmask = np.asfarray(xr.open_dataset(path+cfg9+'/mesh_mask.nc')['tmask'])\n",
    "bathy = bathy_file['Bathymetry']\n",
    "rim_inds = get_rim_upwelling_vars(bathy)\n",
    "\n",
    "\n",
    "time_ind_adv, U_incoming9, R0,\\\n",
    "F_R0, RL9, DH9, Z_AH9,\\\n",
    "RW, F_RW9, s, SE9, Z_HA9,\\\n",
    "ED_left_mean9, ED_right_mean9, Z_model9 = get_results(initial_sal, initial_tem, \n",
    "                                                   bathy, sal_ref, dep_ref, nav_lat, deptht, u_vel, \n",
    "                                                   tmask, depth_levels, sal, curv_rad_km)"
   ]
  },
  {
   "cell_type": "raw",
   "metadata": {
    "collapsed": true
   },
   "source": [
    "cfg10 = 'scaling_runs_cmos/tiniest_highest_winds'\n",
    "depth_levels = deptht\n",
    "sal = np.asfarray(xr.open_dataset(path+cfg10+'/GYRE_1h_20170101_20170120_grid_T.nc')['vosaline'])\n",
    "u_vel = np.asfarray(xr.open_dataset(path+cfg10+'/GYRE_1h_20170101_20170120_grid_U.nc')['vozocrtx'])\n",
    "tmask = np.asfarray(xr.open_dataset(path+cfg10+'/mesh_mask.nc')['tmask'])\n",
    "bathy = bathy_file['Bathymetry']\n",
    "rim_inds = get_rim_upwelling_vars(bathy)\n",
    "\n",
    "\n",
    "time_ind_adv, U_incoming10, R0,\\\n",
    "F_R0, RL10, DH10, Z_AH10,\\\n",
    "RW, F_RW10, s, SE10, Z_HA10,\\\n",
    "ED_left_mean10, ED_right_mean10, Z_model10 = get_results(initial_sal, initial_tem, \n",
    "                                                   bathy, sal_ref, dep_ref, nav_lat, deptht, u_vel, \n",
    "                                                   tmask, depth_levels, sal, curv_rad_km)"
   ]
  },
  {
   "cell_type": "code",
   "execution_count": 9,
   "metadata": {
    "collapsed": false
   },
   "outputs": [
    {
     "data": {
      "text/plain": [
       "(-0.047301840044083665, -0.049752603916158857, -0.060217446052498666)"
      ]
     },
     "execution_count": 9,
     "metadata": {},
     "output_type": "execute_result"
    }
   ],
   "source": [
    "U_incoming1, U_incoming2, U_incoming3"
   ]
  },
  {
   "cell_type": "markdown",
   "metadata": {},
   "source": [
    "# Observation vs Scaled Plot"
   ]
  },
  {
   "cell_type": "raw",
   "metadata": {
    "collapsed": false
   },
   "source": [
    "Z_HAk = [80.2740821136,\n",
    " 80.2740821136,\n",
    " 80.2740821136,\n",
    " 68.3016658893,\n",
    " 56.0663418764,\n",
    " 101.225810506,\n",
    " 81.4522757333,\n",
    " 71.947416985,\n",
    " 76.1725087703,\n",
    " 64.5858788273,\n",
    " 35.4679960021,\n",
    " 44.428033761,\n",
    " 31.1483502491,\n",
    " 35.4679960021]\n",
    "\n",
    "Z_modelk = [96.473327986,\n",
    " 95.9454956548,\n",
    " 93.5091302878,\n",
    " 76.9175214995,\n",
    " 56.9063211702,\n",
    " 128.578306384,\n",
    " 98.3323883416,\n",
    " 79.5177515203,\n",
    " 89.2191688523,\n",
    " 65.649750638,\n",
    " 30.8722761752,\n",
    " 45.7885451168,\n",
    " 25.3478943945,\n",
    " 43.1073669553]\n",
    "\n",
    "DHk = [112.407272727\n",
    ",112.407272727\n",
    ",112.407272727\n",
    ",98.1333333333\n",
    ",83.5459459459\n",
    ",137.386666667\n",
    ",116.363636364\n",
    ",89.3672727273\n",
    ",100.072727273\n",
    ",74.4727272727\n",
    ",112.407272727\n",
    ",137.386666667\n",
    ",81.4545454545\n",
    ",112.407272727]\n",
    "\n",
    "colors = np.arange(len(Z_HAk))"
   ]
  },
  {
   "cell_type": "code",
   "execution_count": 10,
   "metadata": {
    "collapsed": true
   },
   "outputs": [],
   "source": [
    "Z_HAk = [68.3016658893,\n",
    " 56.0663418764,\n",
    " 101.225810506,\n",
    " 81.4522757333,\n",
    " 76.1725087703,\n",
    " 64.5858788273,\n",
    " 35.4679960021]\n",
    "\n",
    "Z_modelk = [76.9175214995,\n",
    " 56.9063211702,\n",
    " 128.578306384,\n",
    " 98.3323883416,\n",
    " 89.2191688523,\n",
    " 65.649750638,\n",
    " 30.8722761752]\n",
    "\n",
    "DHk = [98.1333333333\n",
    ",83.5459459459\n",
    ",137.386666667\n",
    ",116.363636364\n",
    ",100.072727273\n",
    ",74.4727272727\n",
    ",112.407272727]\n",
    "\n",
    "colors = np.arange(len(Z_HAk))"
   ]
  },
  {
   "cell_type": "code",
   "execution_count": 72,
   "metadata": {
    "collapsed": true
   },
   "outputs": [],
   "source": [
    "labs = ['high N', 'medium N', 'low N', 'high f', 'medium f', 'low f', \n",
    "        'low U', 'low N']"
   ]
  },
  {
   "cell_type": "code",
   "execution_count": 73,
   "metadata": {
    "collapsed": false
   },
   "outputs": [
    {
     "data": {
      "image/png": "[encoded data removed]",
      "text/plain": [
       "<matplotlib.figure.Figure at 0x7f181b4c9860>"
      ]
     },
     "metadata": {},
     "output_type": "display_data"
    }
   ],
   "source": [
    "fig, ax = plt.subplots(1,1,figsize=(10,10))\n",
    "maxlim = 140\n",
    "ax.set_xlim([10,maxlim]); ax.set_ylim([10,maxlim])\n",
    "\n",
    "ax.plot([0, maxlim],[0, maxlim], c='k', linewidth=3, zorder=1)\n",
    "\n",
    "s=400\n",
    "n = np.arange(len(Z_HAk))\n",
    "colors = cmo.cm.matter(np.linspace(0, 1, len(n)))\n",
    "\n",
    "ax.scatter(Z_HA1, Z_model1, s=s, c='dodgerblue', zorder=3, marker='o', label ='MC: low U')\n",
    "ax.scatter(Z_HA2, Z_model2, s=s, c='dodgerblue', zorder=3, marker='D', label ='MC: medium U')\n",
    "ax.scatter(Z_HA3, Z_model3, s=s, c='dodgerblue', zorder=3, marker='s', label ='MC: high U')\n",
    "\n",
    "for i in range(len(Z_HAk)):\n",
    "    ax.scatter(Z_HAk[i], Z_modelk[i], s=s, c=colors[i], marker='o', zorder=3, label='BC: '+labs[i])\n",
    "\n",
    "ax.set_xlabel('$Z_{scaled}$', fontsize=40)\n",
    "ax.set_ylabel('$Z_{modelled}$', fontsize=40)\n",
    "\n",
    "mpl.rcParams['legend.scatterpoints'] = 1\n",
    "ax.legend(loc=4, fontsize=18, labelspacing=0.4)\n",
    "\n",
    "plt.tick_params(labelsize=18)\n",
    "\n",
    "fig.savefig('scaling1.png', format='png', dpi=300)"
   ]
  },
  {
   "cell_type": "code",
   "execution_count": 74,
   "metadata": {
    "collapsed": true
   },
   "outputs": [],
   "source": [
    "xk = [x/y for x, y in zip(Z_HAk, DHk)]\n",
    "yk = [x/y for x, y in zip(Z_modelk, DHk)]"
   ]
  },
  {
   "cell_type": "code",
   "execution_count": 75,
   "metadata": {
    "collapsed": false
   },
   "outputs": [
    {
     "data": {
      "image/png": "[encoded data removed]",
      "text/plain": [
       "<matplotlib.figure.Figure at 0x7f181da9f048>"
      ]
     },
     "metadata": {},
     "output_type": "display_data"
    }
   ],
   "source": [
    "fig, ax = plt.subplots(1,1,figsize=(10,10))\n",
    "maxlim = 1.0\n",
    "ax.set_xlim([0,maxlim]); ax.set_ylim([0,maxlim])\n",
    "\n",
    "def calc_x(F_RW, RL, SE):\n",
    "    x = (1.8 * ((F_RW * RL)**0.5) * (1 - (0.42 * SE)) + 0.05)\n",
    "    return x\n",
    "\n",
    "y1 = Z_model1/DH1\n",
    "x1 = calc_x(F_RW1, RL1, SE1)\n",
    "\n",
    "y2 = Z_model2/DH2\n",
    "x2 = calc_x(F_RW2, RL2, SE2)\n",
    "\n",
    "y3 = Z_model3/DH3\n",
    "x3 = calc_x(F_RW3, RL3, SE3)\n",
    "\n",
    "ax.plot([0, maxlim],[0, maxlim], c='k', linewidth=3, zorder=1)\n",
    "ax.axvline(0.05, linestyle='--', c='k', linewidth=2, zorder=2)\n",
    "\n",
    "s=400\n",
    "n = np.arange(len(Z_HAk))\n",
    "colors = cmo.cm.matter(np.linspace(0, 1, len(n)))\n",
    "\n",
    "ax.scatter(x1, y1, s=s, c='dodgerblue', marker='o', zorder=3, label ='MC: low U')\n",
    "ax.scatter(x2, y2, s=s, c='dodgerblue', marker='D', zorder=3, label ='MC: medium U')\n",
    "ax.scatter(x3, y3, s=s, c='dodgerblue', marker='s', zorder=3, label ='MC: high U')\n",
    "\n",
    "for i in range(len(Z_HAk)):\n",
    "    ax.scatter(xk[i], yk[i], s=s, c=colors[i], marker='o', zorder=3, label='BC: '+labs[i])\n",
    "    \n",
    "ax.set_xlabel('$1.8 (\\mathcal{F}_W R_L)^{1/2} (1-0.42 S_E) + 0.05$', fontsize=40)\n",
    "ax.set_ylabel('$Z_{modelled}/D_H$', fontsize=40)\n",
    "\n",
    "mpl.rcParams['legend.scatterpoints'] = 1\n",
    "ax.legend(loc=4, fontsize=18, labelspacing=0.4)\n",
    "\n",
    "plt.tick_params(labelsize=18)\n",
    "\n",
    "fig.savefig('scaling2.png', format='png', dpi=300)"
   ]
  },
  {
   "cell_type": "markdown",
   "metadata": {},
   "source": [
    "# Depth of Upwelling Plot"
   ]
  },
  {
   "cell_type": "raw",
   "metadata": {
    "collapsed": false
   },
   "source": [
    "fig, ax = plt.subplots(1,1,figsize=(bathy.shape[1]/100*9, 9))\n",
    "\n",
    "(cmap, norm) = functions_plot.Colormap()\n",
    "from matplotlib.colors import ListedColormap\n",
    "cmap_r = ListedColormap(cmap.colors[::-1])\n",
    "c = ax.contourf(bathy[:,:], cmap = cmap_r, linewidths=2, levels = np.arange(0, 1400, 100), alpha=0.9)\n",
    "\n",
    "c1 = ax.contour(bathy[:,:], levels = np.arange(40,80,5), colors='k', linewidths=1.5, alpha=0.6)\n",
    "c2 = ax.contour(bathy[:,:], levels = np.arange(100,1300,100), colors='k', linewidths=1.5, alpha=0.6)\n",
    "ax.clabel(c1, inline=1, fontsize=20, fmt = '%1.0f')\n",
    "ax.clabel(c2, inline=1, fontsize=20, fmt = '%1.0f')\n",
    "\n",
    "s = ax.scatter(rim_inds[:,1], rim_inds[:,0], c=ED_left_mean1, cmap = cmo.cm.balance, vmin=-14, vmax=14, s=520)\n",
    "s = ax.scatter(rim_inds[:,2], rim_inds[:,0], c=ED_right_mean1, cmap = cmo.cm.balance, vmin=-14, vmax=14, s=520)\n",
    "\n",
    "cb=fig.colorbar(s, ax=ax)\n",
    "\n",
    "ax.set_xlim([0,bathy.shape[1]])\n",
    "ax.set_ylim([0,100])\n",
    "\n",
    "ax.tick_params(\n",
    "    axis='x',          # changes apply to the x-axis\n",
    "    which='both',      # both major and minor ticks are affected\n",
    "    bottom='off',      # ticks along the bottom edge are off\n",
    "    top='off',\n",
    "    left='off',\n",
    "    labelleft='off',\n",
    "    labelbottom='off')\n",
    "ax.tick_params(\n",
    "    axis='y',          # changes apply to the x-axis\n",
    "    which='both',      # both major and minor ticks are affected\n",
    "    bottom='off',      # ticks along the bottom edge are off\n",
    "    top='off',\n",
    "    left='off',\n",
    "    labelleft='off',\n",
    "    labelbottom='off')\n",
    "cb.set_label('Upwelling Depth [m]', fontsize=28)\n",
    "ax.set_ylabel('Cross-Shore Direction', fontsize=28)\n",
    "ax.set_xlabel('Alongshore Direction', fontsize=28)\n",
    "ax.set_title('Upwelling Depth Along Mackenzie Canyon Rim', fontsize=34)\n",
    "fig.tight_layout()\n",
    "cb.ax.tick_params(labelsize=24)\n",
    "plt.gcf().set_facecolor('#9bc1bc') \n",
    "#plt.savefig('upwellingdepth.png')\n",
    "fig.savefig('upwellingdepth.png', format='png', dpi=300, transparent=True)"
   ]
  },
  {
   "cell_type": "code",
   "execution_count": 26,
   "metadata": {
    "collapsed": false
   },
   "outputs": [
    {
     "name": "stdout",
     "output_type": "stream",
     "text": [
      "6.06183395288e-05 6.70340910659e-05 9.80222113595e-05\n"
     ]
    }
   ],
   "source": [
    "print(F_RW1*RW1, F_RW2*RW2, F_RW3*RW3)"
   ]
  },
  {
   "cell_type": "code",
   "execution_count": 42,
   "metadata": {
    "collapsed": false
   },
   "outputs": [
    {
     "data": {
      "text/plain": [
       "array([ 0.06618939,  0.03031779,  0.02479642,  0.01816097,  0.02130127])"
      ]
     },
     "execution_count": 42,
     "metadata": {},
     "output_type": "execute_result"
    }
   ],
   "source": [
    "N1[:5]#, print(N2[:5]), print(N3[:5])"
   ]
  },
  {
   "cell_type": "code",
   "execution_count": 46,
   "metadata": {
    "collapsed": false
   },
   "outputs": [
    {
     "data": {
      "text/plain": [
       "0.2743788694834625"
      ]
     },
     "execution_count": 46,
     "metadata": {},
     "output_type": "execute_result"
    }
   ],
   "source": [
    "0.01816097/0.06618939"
   ]
  },
  {
   "cell_type": "code",
   "execution_count": 47,
   "metadata": {
    "collapsed": false
   },
   "outputs": [
    {
     "data": {
      "text/plain": [
       "(0.18736651209368849, 0.18736651209368849, 0.18736651209368849)"
      ]
     },
     "execution_count": 47,
     "metadata": {},
     "output_type": "execute_result"
    }
   ],
   "source": [
    "f = 0.00013728458661861888\n",
    "L = 100000\n",
    "(np.mean(N1[:5])*80)/(f*L), (np.mean(N2[:5])*80)/(f*L), (np.mean(N3[:5])*80)/(f*L)"
   ]
  },
  {
   "cell_type": "code",
   "execution_count": 33,
   "metadata": {
    "collapsed": false
   },
   "outputs": [
    {
     "data": {
      "text/plain": [
       "(-145.11548228427736, -137.96723770474961, -113.99070835628905)"
      ]
     },
     "execution_count": 33,
     "metadata": {},
     "output_type": "execute_result"
    }
   ],
   "source": [
    "(40*f*L)/(80*U_incoming1), (40*f*L)/(80*U_incoming2), (40*f*L)/(80*U_incoming3)"
   ]
  },
  {
   "cell_type": "code",
   "execution_count": 34,
   "metadata": {
    "collapsed": true
   },
   "outputs": [],
   "source": [
    "    x_wall, y_wall, w_break, w_mid, w_head, cR, L, p,\\\n",
    "    y_coast, y_head, y_break, y_pointA, y_pointB, y_paral, y_base, fluid_depth,\\\n",
    "    z_bottom, z_paral, z_pointA, z_pointB, z_break, z_coast = functions_idealized.Mackenzie_measurements(0, 0)"
   ]
  },
  {
   "cell_type": "code",
   "execution_count": 48,
   "metadata": {
    "collapsed": false
   },
   "outputs": [
    {
     "data": {
      "text/plain": [
       "(-145.11548228427733, -137.96723770474958, -113.99070835628903)"
      ]
     },
     "execution_count": 48,
     "metadata": {},
     "output_type": "execute_result"
    }
   ],
   "source": [
    "0.5*(f*L)/U_incoming1, 0.5*(f*L)/U_incoming2, 0.5*(f*L)/U_incoming3"
   ]
  },
  {
   "cell_type": "code",
   "execution_count": 57,
   "metadata": {
    "collapsed": false
   },
   "outputs": [
    {
     "data": {
      "text/plain": [
       "(0.049637392163276672, -0.095670640468597412)"
      ]
     },
     "execution_count": 57,
     "metadata": {},
     "output_type": "execute_result"
    }
   ],
   "source": [
    "u_vel = np.asfarray(xr.open_dataset(path+cfg1+'/GYRE_1h_20170101_20170120_grid_U.nc')['vozocrtx'])\n",
    "u_vel[24*8, :7, 20:60, 90:130].max(), u_vel[24*8, :7, 20:60, 90:130].min()"
   ]
  },
  {
   "cell_type": "code",
   "execution_count": 58,
   "metadata": {
    "collapsed": false
   },
   "outputs": [
    {
     "data": {
      "text/plain": [
       "(0.097999490797519684, -0.10949528217315674)"
      ]
     },
     "execution_count": 58,
     "metadata": {},
     "output_type": "execute_result"
    }
   ],
   "source": [
    "u_vel = np.asfarray(xr.open_dataset(path+cfg2+'/GYRE_1h_20170101_20170120_grid_U.nc')['vozocrtx'])\n",
    "u_vel[24*8, :7, 20:60, 90:130].max(), u_vel[24*8, :7, 20:60, 90:130].min()"
   ]
  },
  {
   "cell_type": "code",
   "execution_count": 59,
   "metadata": {
    "collapsed": false
   },
   "outputs": [
    {
     "data": {
      "text/plain": [
       "(0.14860908687114716, -0.13388210535049438)"
      ]
     },
     "execution_count": 59,
     "metadata": {},
     "output_type": "execute_result"
    }
   ],
   "source": [
    "u_vel = np.asfarray(xr.open_dataset(path+cfg3+'/GYRE_1h_20170101_20170120_grid_U.nc')['vozocrtx'])\n",
    "u_vel[24*8, :7, 20:60, 90:130].max(), u_vel[24*8, :7, 20:60, 90:130].min()"
   ]
  },
  {
   "cell_type": "code",
   "execution_count": 61,
   "metadata": {
    "collapsed": false
   },
   "outputs": [
    {
     "data": {
      "text/plain": [
       "(0.13834280106617566, 0.13834280106617566, 0.13834280106617566)"
      ]
     },
     "execution_count": 61,
     "metadata": {},
     "output_type": "execute_result"
    }
   ],
   "source": [
    "(w_break*f)/2*np.mean(N1[:5]), (w_break*f)/2*np.mean(N2[:5]), (w_break*f)/2*np.mean(N3[:5])"
   ]
  },
  {
   "cell_type": "code",
   "execution_count": 67,
   "metadata": {
    "collapsed": false
   },
   "outputs": [
    {
     "data": {
      "text/plain": [
       "(62681.73577685928, 825.0, 100000)"
      ]
     },
     "execution_count": 67,
     "metadata": {},
     "output_type": "execute_result"
    }
   ],
   "source": [
    "w_break, 1300-z_paral, L"
   ]
  },
  {
   "cell_type": "code",
   "execution_count": null,
   "metadata": {
    "collapsed": true
   },
   "outputs": [],
   "source": []
  }
 ],
 "metadata": {
  "kernelspec": {
   "display_name": "Python 3",
   "language": "python",
   "name": "python3"
  },
  "language_info": {
   "codemirror_mode": {
    "name": "ipython",
    "version": 3
   },
   "file_extension": ".py",
   "mimetype": "text/x-python",
   "name": "python",
   "nbconvert_exporter": "python",
   "pygments_lexer": "ipython3",
   "version": "3.5.0rc4"
  }
 },
 "nbformat": 4,
 "nbformat_minor": 0
}
