{
 "cells": [
  {
   "cell_type": "markdown",
   "metadata": {},
   "source": [
    "This notebook runs comparison between the scaling for Z and the model's depth of upwelling."
   ]
  },
  {
   "cell_type": "code",
   "execution_count": 16,
   "metadata": {
    "collapsed": true
   },
   "outputs": [],
   "source": [
    "import netCDF4 as nc\n",
    "import scipy.io as sio\n",
    "import matplotlib\n",
    "import cmocean as cmo\n",
    "import xarray as xr\n",
    "import numpy as np\n",
    "from scipy import interpolate\n",
    "from salishsea_tools import gsw_calls\n",
    "from salishsea_tools import nc_tools, viz_tools\n",
    "from operator import itemgetter\n",
    "import matplotlib.pyplot as plt\n",
    "import matplotlib.cm as cm\n",
    "%matplotlib inline\n",
    "\n",
    "import sys\n",
    "sys.path.append('/ocean/imachuca/Canyons/mackenzie_canyon/tools/')\n",
    "import functions_idealized\n",
    "import functions_plot\n",
    "import functions_profiles\n",
    "import functions_upwelling_depth"
   ]
  },
  {
   "cell_type": "markdown",
   "metadata": {},
   "source": [
    "# Enter values below"
   ]
  },
  {
   "cell_type": "code",
   "execution_count": 17,
   "metadata": {
    "collapsed": true
   },
   "outputs": [],
   "source": [
    "cfg = 'eventB_pulse10_bdy'\n",
    "x_ind = 175\n",
    "rim_ind = 6"
   ]
  },
  {
   "cell_type": "markdown",
   "metadata": {},
   "source": [
    "# Files"
   ]
  },
  {
   "cell_type": "code",
   "execution_count": 18,
   "metadata": {
    "collapsed": false
   },
   "outputs": [],
   "source": [
    "path = '/ocean/imachuca/Canyons/results_mackenzie/idealized/upwelling_events/' \n",
    "gridT = xr.open_dataset(path+cfg+'/GYRE_1h_20170101_20170120_grid_T.nc')\n",
    "gridU = xr.open_dataset(path+cfg+'/GYRE_1h_20170101_20170120_grid_U.nc')\n",
    "gridV = xr.open_dataset(path+cfg+'/GYRE_1h_20170101_20170120_grid_V.nc')\n",
    "gridW = xr.open_dataset(path+cfg+'/GYRE_1h_20170101_20170120_grid_W.nc')\n",
    "mmask = xr.open_dataset(path+cfg+'/mesh_mask.nc')\n",
    "\n",
    "initial_sal = nc.Dataset('../../mackenzie_canyon/conditions/NEMO_files/salinity/salinity_doubled_20.nc')['vosaline']\n",
    "initial_tem = nc.Dataset('../../mackenzie_canyon/conditions/NEMO_files/temperature/temperature_doubled_20.nc')['votemper']\n",
    "\n",
    "bathy_file = nc.Dataset('/ocean/imachuca/Canyons/mackenzie_canyon/bathymetry/NEMO_files/idealized/ideal_bathy_05.nc')\n",
    "bathy = bathy_file['Bathymetry']\n",
    "\n",
    "ts_data = sio.loadmat('../../mackenzie_canyon/conditions/data/for_stratification/canyonTSdata2.mat')\n",
    "i_ref = 0\n",
    "sal_ref = ts_data['salcanyon2'][:, i_ref]\n",
    "dep_ref = ts_data['depthcanyon2'][:, i_ref]*-1\n",
    "\n",
    "nav_lat = np.asfarray(gridT['nav_lat'])\n",
    "deptht = np.asfarray(gridT['deptht'])\n",
    "u_vel = np.asfarray(gridU['vozocrtx'])\n",
    "tmask = np.asfarray(mmask['tmask'])\n",
    "\n",
    "depth_levels = deptht\n",
    "sal = np.asfarray(gridT['vosaline'])"
   ]
  },
  {
   "cell_type": "markdown",
   "metadata": {},
   "source": [
    "# Z Scaling"
   ]
  },
  {
   "cell_type": "code",
   "execution_count": 19,
   "metadata": {
    "collapsed": false
   },
   "outputs": [],
   "source": [
    "dep = -1 * deptht\n",
    "lat = np.ones(1) * np.mean(nav_lat)\n",
    "p = gsw_calls.generic_gsw_caller('gsw_p_from_z.m', [dep, lat], matlab_gsw_dir='/ocean/rich/home/matlab/gsw3')\n",
    "\n",
    "\n",
    "SA = initial_sal[0,:,0,0]\n",
    "CT = initial_tem[0,:,0,0]\n",
    "rho = gsw_calls.generic_gsw_caller('gsw_rho_CT_exact.m', [SA, CT, p], matlab_gsw_dir='/ocean/rich/home/matlab/gsw3')\n",
    "\n",
    "\n",
    "d_rho0 = np.diff(rho)\n",
    "d_dep0 = np.diff(dep)\n",
    "f_rho = interpolate.interp1d(np.arange(len(d_rho0)), d_rho0, fill_value='extrapolate')\n",
    "f_dep = interpolate.interp1d(np.arange(len(d_dep0)), d_dep0, fill_value='extrapolate')\n",
    "d_rho = f_rho(np.arange(len(d_rho0)+1))\n",
    "d_dep = f_dep(np.arange(len(d_dep0)+1))\n",
    "N = np.sqrt((-9.81 / rho)*(d_rho / d_dep))\n",
    "\n",
    "\n",
    "y_ind = np.where(tmask[0,rim_ind,:,x_ind]==1)[0][0] + 10\n",
    "\n",
    "def smooth(y, box_pts):\n",
    "    box = np.ones(box_pts)/box_pts\n",
    "    y_smooth = np.convolve(y, box, mode='same')\n",
    "    return y_smooth\n",
    "\n",
    "\n",
    "u_in = u_vel[:, rim_ind, y_ind, x_ind]\n",
    "u_in_smooth = smooth(u_in, 24)\n",
    "vel_threshold = 1e-8\n",
    "permanent_duration = 24\n",
    "dt = 1 * 60 *60\n",
    "\n",
    "\n",
    "du_in = np.diff(u_in) / dt\n",
    "du_in_smooth = np.diff(u_in_smooth) / dt\n",
    "du_in_smooth_abs = abs(du_in_smooth)\n",
    "inds_below_threshold = np.where(du_in_smooth_abs < vel_threshold)[0]\n",
    "spacing_inds = np.diff(inds_below_threshold)\n",
    "subind_permanent_steady = np.where(spacing_inds > permanent_duration)[0][0] + 1\n",
    "time_ind_adv_du = inds_below_threshold[subind_permanent_steady]\n",
    "time_ind_adv = time_ind_adv_du + 1\n",
    "U_incoming = np.mean(u_in[time_ind_adv:])"
   ]
  },
  {
   "cell_type": "code",
   "execution_count": 20,
   "metadata": {
    "collapsed": false
   },
   "outputs": [],
   "source": [
    "lat = np.mean(nav_lat)\n",
    "omega = (2 * np.pi) / (24 * 60 * 60)\n",
    "f = 2 * omega * np.sin(np.deg2rad(lat))\n",
    "\n",
    "curv_rad_km = 42.584509999999995\n",
    "curv_rad = curv_rad_km * 1000 \n",
    "\n",
    "R0 = abs(U_incoming) / (f * curv_rad)\n",
    "\n",
    "F_R0 = R0 / (0.9 + R0)\n",
    "\n",
    "x_wall, y_wall, w_break, w_mid, w_head, cR, L, p,\\\n",
    "y_coast, y_head, y_break, y_pointA, y_pointB, y_paral, y_base, fluid_depth,\\\n",
    "z_bottom, z_paral, z_pointA, z_pointB, z_break, z_coast = functions_idealized.Mackenzie_measurements(0, 0)\n",
    "\n",
    "RL = abs(U_incoming) / (f * L)\n",
    "\n",
    "DH = (f * L) / N[rim_ind]\n",
    "\n",
    "Z_AH10 = DH * ((1.3 * (F_R0 * RL)**0.5) + 0.06)"
   ]
  },
  {
   "cell_type": "code",
   "execution_count": 21,
   "metadata": {
    "collapsed": false
   },
   "outputs": [
    {
     "name": "stdout",
     "output_type": "stream",
     "text": [
      "-0.0243451753503 0.00416427567662 0.0046056626972 0.00180952693055 720.992379406 45.9653859038\n"
     ]
    }
   ],
   "source": [
    "print(U_incoming, R0, F_R0, RL, DH, Z_AH10)"
   ]
  },
  {
   "cell_type": "code",
   "execution_count": 22,
   "metadata": {
    "collapsed": true
   },
   "outputs": [],
   "source": [
    "RW = abs(U_incoming) / (f * w_mid)\n",
    "\n",
    "F_RW = RW / (0.9 + RW)\n",
    "\n",
    "s = (z_coast - z_break) / (y_coast - y_break)\n",
    "\n",
    "SE = (s * N[rim_ind] / f) * ((F_RW / RL)**0.5)\n",
    "\n",
    "Z_HA13 =  DH * (1.8 * ((F_RW * RL)**0.5) * (1 - (0.42 * SE)) + 0.05)\n"
   ]
  },
  {
   "cell_type": "code",
   "execution_count": 23,
   "metadata": {
    "collapsed": false
   },
   "outputs": [
    {
     "name": "stdout",
     "output_type": "stream",
     "text": [
      "0.00381715901239 0.00422337524169 0.0003343568550117787 0.0694309235565 39.5326934362\n"
     ]
    }
   ],
   "source": [
    "print(RW, F_RW, s, SE, Z_HA13)"
   ]
  },
  {
   "cell_type": "markdown",
   "metadata": {},
   "source": [
    "# Model Z"
   ]
  },
  {
   "cell_type": "code",
   "execution_count": 24,
   "metadata": {
    "collapsed": false
   },
   "outputs": [],
   "source": [
    "diffs_x = np.zeros([bathy.shape[0], bathy.shape[1]-1])\n",
    "diffs_y = np.zeros([bathy.shape[0]-1, bathy.shape[1]])\n",
    "\n",
    "for n in range(bathy.shape[0]):\n",
    "    diffs_x[n, :] = abs(np.diff(bathy[n, :]))\n",
    "\n",
    "for n in range(bathy.shape[1]):\n",
    "    diffs_y[:, n] = np.diff(bathy[:, n])\n",
    "\n",
    "    \n",
    "possible_rim_points = np.where((abs(diffs_x) >= 2) & (abs(diffs_x) <= 4))\n",
    "possible_rim_points_x = possible_rim_points[1]\n",
    "possible_rim_points_y = possible_rim_points[0]\n",
    "\n",
    "\n",
    "unique_ys = np.unique(possible_rim_points_y)\n",
    "rim_inds_full = np.zeros([len(unique_ys), 3])\n",
    "for n in range(len(unique_ys)):\n",
    "    individual_y = unique_ys[n]\n",
    "    inds_individual_y = np.where(possible_rim_points_y==individual_y)\n",
    "    inds_x_for_individual_y = itemgetter(*inds_individual_y)(possible_rim_points_x)\n",
    "    individual_x_min = inds_x_for_individual_y.min()\n",
    "    individual_x_max = inds_x_for_individual_y.max()\n",
    "    rim_inds_full[n,0] = individual_y\n",
    "    rim_inds_full[n,1] = individual_x_min\n",
    "    rim_inds_full[n,2] = individual_x_max\n",
    "\n",
    "    \n",
    "ind_for_shelf_break = (np.abs(bathy[:,0]-80)).argmin()\n",
    "ind_end_rim = np.where(rim_inds_full[:,0] == ind_for_shelf_break)[0][0]\n",
    "rim_inds = rim_inds_full[:ind_end_rim, :]"
   ]
  },
  {
   "cell_type": "code",
   "execution_count": 40,
   "metadata": {
    "collapsed": true
   },
   "outputs": [],
   "source": [
    "sal_full = sal\n",
    "time_shots_adv = np.arange(time_ind_adv, sal.shape[0])\n",
    "ED_left = np.zeros([time_shots_adv.shape[0], rim_inds.shape[0]])\n",
    "ED_right = np.zeros_like(ED_left)\n",
    "\n",
    "for time_shot, n in zip(time_shots_adv, np.arange(len(time_shots_adv))):\n",
    "\n",
    "    ind_nanmax_full = functions_upwelling_depth.get_nanmax_ind_full(time_shot, sal_full)\n",
    "\n",
    "\n",
    "    sal_profiles_rim_left = functions_upwelling_depth.get_sal_profiles_rim(rim_inds[:,0], rim_inds[:,1], time_shot, sal_full)\n",
    "    sal_profiles_rim_right = functions_upwelling_depth.get_sal_profiles_rim(rim_inds[:,0], rim_inds[:,2], time_shot, sal_full)\n",
    "\n",
    "\n",
    "    depth_change_left, d_new_left = functions_upwelling_depth.calculate_ED_rim(sal_profiles_rim_left, sal_ref, dep_ref, depth_levels)\n",
    "    depth_change_right, d_new_right = functions_upwelling_depth.calculate_ED_rim(sal_profiles_rim_right, sal_ref, dep_ref, depth_levels)\n",
    "    \n",
    "    ED_left[n, :] = depth_change_left\n",
    "    ED_right[n, :] = depth_change_right"
   ]
  },
  {
   "cell_type": "code",
   "execution_count": 52,
   "metadata": {
    "collapsed": true
   },
   "outputs": [],
   "source": [
    "ED_left_mean = np.mean(ED_left, axis=0)\n",
    "ED_right_mean = np.mean(ED_right, axis=0)\n",
    "Z_model = np.max([ED_left_mean.max(), ED_right_mean.max()])"
   ]
  },
  {
   "cell_type": "markdown",
   "metadata": {},
   "source": [
    "# Comparison"
   ]
  },
  {
   "cell_type": "code",
   "execution_count": 53,
   "metadata": {
    "collapsed": false
   },
   "outputs": [
    {
     "name": "stdout",
     "output_type": "stream",
     "text": [
      "45.9653859038 39.5326934362 12.1030262775\n"
     ]
    }
   ],
   "source": [
    "print(Z_AH10, Z_HA13, Z_model)"
   ]
  },
  {
   "cell_type": "code",
   "execution_count": null,
   "metadata": {
    "collapsed": true
   },
   "outputs": [],
   "source": []
  }
 ],
 "metadata": {
  "kernelspec": {
   "display_name": "Python 3",
   "language": "python",
   "name": "python3"
  },
  "language_info": {
   "codemirror_mode": {
    "name": "ipython",
    "version": 3
   },
   "file_extension": ".py",
   "mimetype": "text/x-python",
   "name": "python",
   "nbconvert_exporter": "python",
   "pygments_lexer": "ipython3",
   "version": "3.5.0rc4"
  }
 },
 "nbformat": 4,
 "nbformat_minor": 0
}
